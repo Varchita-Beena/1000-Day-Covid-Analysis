{
  "nbformat": 4,
  "nbformat_minor": 5,
  "metadata": {
    "kernelspec": {
      "display_name": "Python 3 (ipykernel)",
      "language": "python",
      "name": "python3"
    },
    "language_info": {
      "codemirror_mode": {
        "name": "ipython",
        "version": 3
      },
      "file_extension": ".py",
      "mimetype": "text/x-python",
      "name": "python",
      "nbconvert_exporter": "python",
      "pygments_lexer": "ipython3",
      "version": "3.9.7"
    },
    "colab": {
      "name": "PCA.ipynb",
      "provenance": [],
      "collapsed_sections": []
    }
  },
  "cells": [
    {
      "cell_type": "code",
      "metadata": {
        "colab": {
          "base_uri": "https://localhost:8080/"
        },
        "id": "7fb30070",
        "outputId": "a577d5a6-48d3-4091-b700-a8ae1d136d94"
      },
      "source": [
        "import pandas as pd\n",
        "pd.set_option('display.max_rows', 500)\n",
        "pd.options.mode.use_inf_as_na = True\n",
        "import numpy as np\n",
        "import os\n",
        "import math\n",
        "from scipy.stats import pearsonr as corr\n",
        "from matplotlib import pyplot as plt\n",
        "#import statsmodels.api as sm\n",
        "import statsmodels.formula.api as sm\n",
        "import datetime as dt\n",
        "from sklearn.decomposition import PCA\n",
        "from sklearn.preprocessing import StandardScaler, MinMaxScaler"
      ],
      "id": "7fb30070",
      "execution_count": 6,
      "outputs": [
        {
          "output_type": "stream",
          "name": "stderr",
          "text": [
            "/usr/local/lib/python3.7/dist-packages/statsmodels/tools/_testing.py:19: FutureWarning: pandas.util.testing is deprecated. Use the functions in the public API at pandas.testing instead.\n",
            "  import pandas.util.testing as tm\n"
          ]
        }
      ]
    },
    {
      "cell_type": "code",
      "metadata": {
        "id": "b9c4b830"
      },
      "source": [
        "DATA_PATH=\"dimensionalityreduction/\" #path where combined data is stored"
      ],
      "id": "b9c4b830",
      "execution_count": 9,
      "outputs": []
    },
    {
      "cell_type": "markdown",
      "metadata": {
        "id": "OT5j-aim8ob4"
      },
      "source": [
        "**total 20 metrics are taken in csv file**"
      ],
      "id": "OT5j-aim8ob4"
    },
    {
      "cell_type": "code",
      "metadata": {
        "colab": {
          "base_uri": "https://localhost:8080/"
        },
        "id": "013486e7",
        "outputId": "962fbdce-42e5-4fe6-87ef-3a5271df6757"
      },
      "source": [
        "df=pd.read_csv(DATA_PATH+\"combined_1degx1deg.csv\")\n",
        "metrics=df.columns.tolist()\n",
        "metrics.remove(\"location\")\n",
        "metrics.remove(\"week\")\n",
        "print(\"metrics =\",len(metrics))\n",
        "metrics"
      ],
      "id": "013486e7",
      "execution_count": 28,
      "outputs": [
        {
          "output_type": "stream",
          "name": "stdout",
          "text": [
            "metrics = 20\n"
          ]
        },
        {
          "output_type": "execute_result",
          "data": {
            "text/plain": [
              "['SurfSkinTemp_TqJ_A',\n",
              " 'SurfAirTemp_TqJ_A',\n",
              " 'TropPres_TqJ_A',\n",
              " 'TropTemp_TqJ_A',\n",
              " 'TotH2OVap_TqJ_A',\n",
              " 'H2O_MMR_Surf_TqJ_A',\n",
              " 'RelHumSurf_TqJ_A',\n",
              " 'RelHumSurf_liquid_TqJ_A',\n",
              " 'TropHeight_TqJ_A',\n",
              " 'CloudFrc_TqJ_A',\n",
              " 'CloudTopPres_TqJ_A',\n",
              " 'CloudTopTemp_TqJ_A',\n",
              " 'TotO3_TqJ_A',\n",
              " 'OLR_TqJ_A',\n",
              " 'CMG 0.05 Deg 16 days NDVI',\n",
              " 'CMG 0.05 Deg 16 days EVI',\n",
              " 'Eight_Day_CMG_Snow_Cover',\n",
              " 'Gap_Filled_DNB_BRDF-Corrected_NTL',\n",
              " 'ColumnAmountNO2',\n",
              " 'ColumnAmountNO2Trop']"
            ]
          },
          "metadata": {},
          "execution_count": 28
        }
      ]
    },
    {
      "cell_type": "code",
      "metadata": {
        "id": "7d13cbbf"
      },
      "source": [
        "data=df[metrics].values"
      ],
      "id": "7d13cbbf",
      "execution_count": 12,
      "outputs": []
    },
    {
      "cell_type": "markdown",
      "metadata": {
        "id": "wla_Lgnn8y71"
      },
      "source": [
        "**Min max scalar is applied**"
      ],
      "id": "wla_Lgnn8y71"
    },
    {
      "cell_type": "code",
      "metadata": {
        "id": "57707160"
      },
      "source": [
        "scaler = MinMaxScaler()\n",
        "scaled_data=scaler.fit_transform(data)"
      ],
      "id": "57707160",
      "execution_count": 13,
      "outputs": []
    },
    {
      "cell_type": "markdown",
      "metadata": {
        "id": "6n1NUzww8-8H"
      },
      "source": [
        "**We are trying to make 1 component from all the metrics**<br>\n",
        "We are reducing the dimensionality from 20 to 1.<br>\n",
        "The percentage of variance explained by each of the selected components is given by explained_variance_ratio_. Here in total 39% variance is explained by the component. \n"
      ],
      "id": "6n1NUzww8-8H"
    },
    {
      "cell_type": "code",
      "metadata": {
        "colab": {
          "base_uri": "https://localhost:8080/"
        },
        "id": "8fbcea41",
        "outputId": "848a4f20-ca5e-46af-a9ec-ae90f36629f2"
      },
      "source": [
        "pca=PCA(n_components=1)\n",
        "pca.fit(scaled_data)\n",
        "sum(pca.explained_variance_ratio_)"
      ],
      "id": "8fbcea41",
      "execution_count": 21,
      "outputs": [
        {
          "output_type": "execute_result",
          "data": {
            "text/plain": [
              "0.3914590874031704"
            ]
          },
          "metadata": {},
          "execution_count": 21
        }
      ]
    },
    {
      "cell_type": "markdown",
      "metadata": {
        "id": "DizfXDbZ-2EW"
      },
      "source": [
        "**components_ representing the directions of maximum variance in the data**"
      ],
      "id": "DizfXDbZ-2EW"
    },
    {
      "cell_type": "code",
      "metadata": {
        "colab": {
          "base_uri": "https://localhost:8080/"
        },
        "id": "7f408e88",
        "outputId": "d84bfe5f-8e16-4566-b994-4033ec7339b9"
      },
      "source": [
        "pca_components = pca.components_[0]\n",
        "pca_components"
      ],
      "id": "7f408e88",
      "execution_count": 24,
      "outputs": [
        {
          "output_type": "execute_result",
          "data": {
            "text/plain": [
              "array([ 0.12503448,  0.02078566,  0.01267409,  0.0850889 , -0.35051243,\n",
              "       -0.33725827, -0.40494939, -0.40562409, -0.02558731, -0.42235833,\n",
              "        0.01415622, -0.04373863, -0.005648  ,  0.2875684 , -0.28996243,\n",
              "       -0.24617768,  0.01224764,  0.00399126, -0.02767997, -0.0438243 ])"
            ]
          },
          "metadata": {},
          "execution_count": 24
        }
      ]
    },
    {
      "cell_type": "markdown",
      "metadata": {
        "id": "wYEQd5qI_bIw"
      },
      "source": [
        "**Metric with it's variance**<br>\n",
        "How much variance from every is captured in this component is shown. The max is captured for metric CloudFrc_TqJ_A, RelHumSurf_TqJ_A etc. Even good amount of varaince from surface skin temperature, NDVI, EVI etc is also captured."
      ],
      "id": "wYEQd5qI_bIw"
    },
    {
      "cell_type": "code",
      "metadata": {
        "colab": {
          "base_uri": "https://localhost:8080/"
        },
        "id": "8b96878d",
        "outputId": "60b9ef6e-e73a-4e84-f3e8-3b42a9aa7576"
      },
      "source": [
        "for index, each in enumerate(metrics):\n",
        "    print(each,'\\t\\t', pca_components[index])"
      ],
      "id": "8b96878d",
      "execution_count": 32,
      "outputs": [
        {
          "output_type": "stream",
          "name": "stdout",
          "text": [
            "SurfSkinTemp_TqJ_A \t\t 0.12503448294788133\n",
            "SurfAirTemp_TqJ_A \t\t 0.020785656189143114\n",
            "TropPres_TqJ_A \t\t 0.012674086164637076\n",
            "TropTemp_TqJ_A \t\t 0.08508890104095944\n",
            "TotH2OVap_TqJ_A \t\t -0.35051243161328244\n",
            "H2O_MMR_Surf_TqJ_A \t\t -0.3372582698667166\n",
            "RelHumSurf_TqJ_A \t\t -0.4049493918232049\n",
            "RelHumSurf_liquid_TqJ_A \t\t -0.4056240873645345\n",
            "TropHeight_TqJ_A \t\t -0.02558730975546593\n",
            "CloudFrc_TqJ_A \t\t -0.42235833368961445\n",
            "CloudTopPres_TqJ_A \t\t 0.014156215841863617\n",
            "CloudTopTemp_TqJ_A \t\t -0.04373863222271796\n",
            "TotO3_TqJ_A \t\t -0.0056479961083781135\n",
            "OLR_TqJ_A \t\t 0.2875683989682241\n",
            "CMG 0.05 Deg 16 days NDVI \t\t -0.2899624268051691\n",
            "CMG 0.05 Deg 16 days EVI \t\t -0.2461776775796787\n",
            "Eight_Day_CMG_Snow_Cover \t\t 0.012247640493867815\n",
            "Gap_Filled_DNB_BRDF-Corrected_NTL \t\t 0.003991261973697158\n",
            "ColumnAmountNO2 \t\t -0.02767997310629287\n",
            "ColumnAmountNO2Trop \t\t -0.0438242975566984\n"
          ]
        }
      ]
    },
    {
      "cell_type": "markdown",
      "metadata": {
        "id": "IUHfcw94AZyp"
      },
      "source": [
        "**How to use this and future work**<br>\n",
        "We have fit model on data. Next we have to transform every data point to this component and then do the analysis of this component as descibed in other analysis notebooks. The difference is all those are done in isolation, here the information from all metrics are taken. We can see how this component is behvaing in 2019 vs in 2020  or in pre and post period of covid-19 etc."
      ],
      "id": "IUHfcw94AZyp"
    },
    {
      "cell_type": "code",
      "metadata": {
        "id": "x5Zq6zEW_Ggs"
      },
      "source": [
        ""
      ],
      "id": "x5Zq6zEW_Ggs",
      "execution_count": null,
      "outputs": []
    }
  ]
}