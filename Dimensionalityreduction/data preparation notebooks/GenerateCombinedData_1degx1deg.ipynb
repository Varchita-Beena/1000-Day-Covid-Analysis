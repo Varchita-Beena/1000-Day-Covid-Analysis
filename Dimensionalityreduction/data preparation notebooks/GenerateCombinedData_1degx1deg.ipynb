{
  "nbformat": 4,
  "nbformat_minor": 5,
  "metadata": {
    "kernelspec": {
      "display_name": "Python 3 (ipykernel)",
      "language": "python",
      "name": "python3"
    },
    "language_info": {
      "codemirror_mode": {
        "name": "ipython",
        "version": 3
      },
      "file_extension": ".py",
      "mimetype": "text/x-python",
      "name": "python",
      "nbconvert_exporter": "python",
      "pygments_lexer": "ipython3",
      "version": "3.9.7"
    },
    "colab": {
      "name": "GenerateCombinedData_1degx1deg.ipynb",
      "provenance": []
    }
  },
  "cells": [
    {
      "cell_type": "markdown",
      "metadata": {
        "id": "YinPKhKo2Ji-"
      },
      "source": [
        "# Combine metrics from all datasets and prepare one csv file for 1x1 degree for India from 01-01-2019 to 30-09-2021"
      ],
      "id": "YinPKhKo2Ji-"
    },
    {
      "cell_type": "code",
      "metadata": {
        "id": "79fc9c0a"
      },
      "source": [
        "import pandas as pd\n",
        "pd.set_option('display.max_rows', 500)\n",
        "pd.options.mode.use_inf_as_na = True\n",
        "import numpy as np\n",
        "import os\n",
        "import math\n",
        "from scipy.stats import pearsonr as corr\n",
        "from matplotlib import pyplot as plt\n",
        "#import statsmodels.api as sm\n",
        "import statsmodels.formula.api as sm\n",
        "import datetime as dt"
      ],
      "id": "79fc9c0a",
      "execution_count": null,
      "outputs": []
    },
    {
      "cell_type": "code",
      "metadata": {
        "id": "97ffa0f6"
      },
      "source": [
        "AIRS_PATH=\"airs/data/\" #path for air dataset\n",
        "SNOWCOVER_PATH=\"snowcover/data/\" #path for snowcover dataset\n",
        "VEG_PATH=\"vegetation/data/\" #path for vegetation dataset\n",
        "NTL_PATH=\"ntl/data/\" #path for night time light data\n",
        "OMINO2_PATH=\"omino2/data/\" # path for nitrogen dioxide data\n",
        "COVID_PATH=\"covidoxford/data/\" #path for covid oxford data\n",
        "CITIES_PATH=\"cities/data/\" # path for cities data\n",
        "OUTPUT_PATH=\"data/\" #path to store the data"
      ],
      "id": "97ffa0f6",
      "execution_count": null,
      "outputs": []
    },
    {
      "cell_type": "code",
      "metadata": {
        "id": "e508a114"
      },
      "source": [
        "airs_df=pd.read_csv(AIRS_PATH+\"indian_cities_1degx1deg_airs.csv\")\n",
        "airs_df=airs_df[(airs_df[\"mean\"]>-9999)&(~airs_df[\"mean\"].isna())]"
      ],
      "id": "e508a114",
      "execution_count": null,
      "outputs": []
    },
    {
      "cell_type": "code",
      "metadata": {
        "id": "21a605a1",
        "outputId": "cbbf7843-6cad-4e1c-93e9-3fc20b82d17a"
      },
      "source": [
        "print(airs_df[~airs_df[\"metric\"].str.contains(\"#\")][\"metric\"].unique().tolist())"
      ],
      "id": "21a605a1",
      "execution_count": null,
      "outputs": [
        {
          "name": "stdout",
          "output_type": "stream",
          "text": [
            "['SurfPres_Forecast_TqJ_A', 'SurfSkinTemp_TqJ_A', 'SurfAirTemp_TqJ_A', 'TropPres_TqJ_A', 'TropTemp_TqJ_A', 'TotH2OVap_TqJ_A', 'H2O_MMR_Surf_TqJ_A', 'RelHumSurf_TqJ_A', 'RelHumSurf_liquid_TqJ_A', 'TropHeight_TqJ_A', 'CloudFrc_TqJ_A', 'CloudTopPres_TqJ_A', 'CloudTopTemp_TqJ_A', 'TotO3_TqJ_A', 'OLR_TqJ_A', 'ClrOLR_TqJ_A', 'SurfPres_Forecast_TqJ_D', 'SurfSkinTemp_TqJ_D', 'SurfAirTemp_TqJ_D', 'TropPres_TqJ_D', 'TropTemp_TqJ_D', 'TotH2OVap_TqJ_D', 'H2O_MMR_Surf_TqJ_D', 'RelHumSurf_TqJ_D', 'RelHumSurf_liquid_TqJ_D', 'TropHeight_TqJ_D', 'CloudFrc_TqJ_D', 'CloudTopPres_TqJ_D', 'CloudTopTemp_TqJ_D', 'TotO3_TqJ_D', 'OLR_TqJ_D', 'ClrOLR_TqJ_D']\n"
          ]
        }
      ]
    },
    {
      "cell_type": "markdown",
      "metadata": {
        "id": "rdmuwX5B24QD"
      },
      "source": [
        "**Following day time metrics are taken**"
      ],
      "id": "rdmuwX5B24QD"
    },
    {
      "cell_type": "code",
      "metadata": {
        "id": "bc3c1756"
      },
      "source": [
        "airs_metrics=['SurfSkinTemp_TqJ_A', 'SurfAirTemp_TqJ_A', 'TropPres_TqJ_A',\n",
        "              'TropTemp_TqJ_A', 'TotH2OVap_TqJ_A', 'H2O_MMR_Surf_TqJ_A', 'RelHumSurf_TqJ_A',\n",
        "              'RelHumSurf_liquid_TqJ_A', 'TropHeight_TqJ_A', 'CloudFrc_TqJ_A', 'CloudTopPres_TqJ_A',\n",
        "              'CloudTopTemp_TqJ_A', 'TotO3_TqJ_A', 'OLR_TqJ_A']"
      ],
      "id": "bc3c1756",
      "execution_count": null,
      "outputs": []
    },
    {
      "cell_type": "code",
      "metadata": {
        "id": "c7c13853"
      },
      "source": [
        "airs_df=airs_df[airs_df[\"metric\"].isin(airs_metrics)][[\"location\",\"week\",\"metric\",\"mean\"]]"
      ],
      "id": "c7c13853",
      "execution_count": null,
      "outputs": []
    },
    {
      "cell_type": "markdown",
      "metadata": {
        "id": "sTAwxVCU3CMj"
      },
      "source": [
        "**EVI and NDVI from vegetation data**"
      ],
      "id": "sTAwxVCU3CMj"
    },
    {
      "cell_type": "code",
      "metadata": {
        "id": "d0f43474",
        "outputId": "290432d3-c858-4525-8d3f-eaab375828a3"
      },
      "source": [
        "veg_df=pd.read_csv(VEG_PATH+\"indian_cities_1degx1deg_vegetation.csv\")\n",
        "veg_df[\"metric\"].unique()"
      ],
      "id": "d0f43474",
      "execution_count": null,
      "outputs": [
        {
          "data": {
            "text/plain": [
              "array(['CMG 0.05 Deg 16 days NDVI', 'CMG 0.05 Deg 16 days EVI'],\n",
              "      dtype=object)"
            ]
          },
          "execution_count": 7,
          "metadata": {},
          "output_type": "execute_result"
        }
      ]
    },
    {
      "cell_type": "code",
      "metadata": {
        "id": "919718fd"
      },
      "source": [
        "metrics=['CMG 0.05 Deg 16 days NDVI', 'CMG 0.05 Deg 16 days EVI']\n",
        "veg_df=veg_df[(veg_df[\"metric\"].isin(metrics))&(veg_df[\"mean\"]>-3000)&\n",
        "              (~veg_df[\"mean\"].isna())][[\"location\",\"week\",\"metric\",\"mean\"]]"
      ],
      "id": "919718fd",
      "execution_count": null,
      "outputs": []
    },
    {
      "cell_type": "markdown",
      "metadata": {
        "id": "yTHq1TVO3KdW"
      },
      "source": [
        "# 4 weeks a month\n",
        "Vegetation data is 16-day data. Rest all data are available at 8-day or mapped to 8-day from daily data. The process for those are available in their respective files in data preparation notebooks folder. <br><br>\n",
        "\n",
        "So, to map vegetation data to 4 weeks a month data is copied.<br> For week1 and week 2, vegetation data week1 is only used and for week3 and week4, week2 of vegetation is used. Hence both are used twice and made to 4 weeks a month."
      ],
      "id": "yTHq1TVO3KdW"
    },
    {
      "cell_type": "code",
      "metadata": {
        "id": "4749d958"
      },
      "source": [
        "veg_df['week'] = veg_df['week'].str.replace('week2','week3')\n",
        "veg_copy_df=veg_df.copy(deep=True)\n",
        "veg_copy_df['week'] = veg_copy_df['week'].str.replace('week1','week2')\n",
        "veg_copy_df['week'] = veg_copy_df['week'].str.replace('week3','week4')\n",
        "veg_df=veg_df.append(veg_copy_df,ignore_index=True)"
      ],
      "id": "4749d958",
      "execution_count": null,
      "outputs": []
    },
    {
      "cell_type": "markdown",
      "metadata": {
        "id": "-6f329p-4JBl"
      },
      "source": [
        "**metric snow level is used**"
      ],
      "id": "-6f329p-4JBl"
    },
    {
      "cell_type": "code",
      "metadata": {
        "id": "43d60810",
        "outputId": "27d6b9ad-2304-488f-916f-f8f22f6b4741"
      },
      "source": [
        "sc_df=pd.read_csv(SNOWCOVER_PATH+\"indian_cities_1degx1deg_snowcover.csv\")\n",
        "sc_df[\"metric\"].unique()"
      ],
      "id": "43d60810",
      "execution_count": null,
      "outputs": [
        {
          "data": {
            "text/plain": [
              "array(['Eight_Day_CMG_Snow_Cover'], dtype=object)"
            ]
          },
          "execution_count": 10,
          "metadata": {},
          "output_type": "execute_result"
        }
      ]
    },
    {
      "cell_type": "code",
      "metadata": {
        "id": "f1262004"
      },
      "source": [
        "sc_df=sc_df[(sc_df[\"metric\"]==\"Eight_Day_CMG_Snow_Cover\")&\n",
        "            (sc_df[\"mean\"]>=0)&(sc_df[\"mean\"]<=100)&(~sc_df[\"mean\"].isna())][[\"location\",\"week\",\"metric\",\"mean\"]]"
      ],
      "id": "f1262004",
      "execution_count": null,
      "outputs": []
    },
    {
      "cell_type": "markdown",
      "metadata": {
        "id": "_2p2v94R4PeG"
      },
      "source": [
        "**From Night Time Light Gap_Filled_DNB_BRDF-Corrected_NTL metric is used**"
      ],
      "id": "_2p2v94R4PeG"
    },
    {
      "cell_type": "code",
      "metadata": {
        "id": "fa0efd15"
      },
      "source": [
        "ntl_df=pd.read_csv(NTL_PATH+\"indian_cities_1degx1deg_ntl.csv\")\n",
        "metric=\"Gap_Filled_DNB_BRDF-Corrected_NTL\"\n",
        "ntl_df=ntl_df[(ntl_df[\"metric\"]==metric)&(ntl_df[\"mean\"]>=0)&\n",
        "              (ntl_df[\"mean\"]<65535)&(~ntl_df[\"mean\"].isna())][[\"location\",\"week\",\"metric\",\"mean\"]]"
      ],
      "id": "fa0efd15",
      "execution_count": null,
      "outputs": []
    },
    {
      "cell_type": "markdown",
      "metadata": {
        "id": "uARTDC9i4X9m"
      },
      "source": [
        "**ColumnAmountNO2, ColumnAmountNO2Trop metrics are used from Nitrogen Dioxide**"
      ],
      "id": "uARTDC9i4X9m"
    },
    {
      "cell_type": "code",
      "metadata": {
        "id": "3f201e34",
        "outputId": "17675f59-f5d5-4d9b-9286-edcf5ddb72e7"
      },
      "source": [
        "omino2_df=pd.read_csv(OMINO2_PATH+\"indian_cities_1degx1deg_omino2.csv\")\n",
        "omino2_df[\"metric\"].unique()"
      ],
      "id": "3f201e34",
      "execution_count": null,
      "outputs": [
        {
          "data": {
            "text/plain": [
              "array(['ColumnAmountNO2', 'ColumnAmountNO2CloudScreened',\n",
              "       'ColumnAmountNO2Trop', 'ColumnAmountNO2TropCloudScreened'],\n",
              "      dtype=object)"
            ]
          },
          "execution_count": 13,
          "metadata": {},
          "output_type": "execute_result"
        }
      ]
    },
    {
      "cell_type": "code",
      "metadata": {
        "id": "63d069a2"
      },
      "source": [
        "metrics=[\"ColumnAmountNO2\",\"ColumnAmountNO2Trop\"]\n",
        "omino2_df=omino2_df[(omino2_df[\"metric\"].isin(metrics))&(omino2_df[\"mean\"]>-9999)&(~omino2_df[\"mean\"].isna())]"
      ],
      "id": "63d069a2",
      "execution_count": null,
      "outputs": []
    },
    {
      "cell_type": "markdown",
      "metadata": {
        "id": "Lq4x1LAi4jtm"
      },
      "source": [
        "**All metrics are needed to be converted to features (i.e. columns). So the final file will be for every location there should be every metric present for all weeks. All nan values are removed. For every row the values are present for every column/metric.**"
      ],
      "id": "Lq4x1LAi4jtm"
    },
    {
      "cell_type": "code",
      "metadata": {
        "id": "ee40b2b0",
        "outputId": "3593dbdf-5549-442c-c4af-5f58803efb43"
      },
      "source": [
        "all_metrics=[]\n",
        "data={}\n",
        "for df in [airs_df,veg_df,sc_df,ntl_df,omino2_df]:\n",
        "    locations=df[\"location\"].unique().tolist()\n",
        "    weeks=df[\"week\"].unique().tolist()\n",
        "    metrics=df[\"metric\"].unique().tolist()\n",
        "    all_metrics+=metrics\n",
        "    print(metrics[0])\n",
        "    for location in locations:\n",
        "        if location not in data:\n",
        "            data[location]={}\n",
        "        location_df=df[df[\"location\"]==location]\n",
        "        for week in weeks:\n",
        "            if week not in data[location]:\n",
        "                data[location][week]={}\n",
        "            metric_data=location_df[location_df[\"week\"]==week].set_index(\"metric\")[\"mean\"].to_dict()\n",
        "            data[location][week].update(metric_data)\n",
        "                "
      ],
      "id": "ee40b2b0",
      "execution_count": null,
      "outputs": [
        {
          "name": "stdout",
          "output_type": "stream",
          "text": [
            "SurfSkinTemp_TqJ_A\n",
            "CMG 0.05 Deg 16 days NDVI\n",
            "Eight_Day_CMG_Snow_Cover\n",
            "Gap_Filled_DNB_BRDF-Corrected_NTL\n",
            "ColumnAmountNO2\n"
          ]
        }
      ]
    },
    {
      "cell_type": "code",
      "metadata": {
        "id": "75b3f40d"
      },
      "source": [
        "data_list=[]\n",
        "for location in data:\n",
        "    for week in data[location]:\n",
        "        vector=[location,week]+[data[location][week].get(metric,np.nan) for metric in all_metrics]\n",
        "        data_list.append(vector)\n",
        "df=pd.DataFrame(data_list,columns=[\"location\",\"week\"]+all_metrics)\n",
        "df.dropna(inplace=True)"
      ],
      "id": "75b3f40d",
      "execution_count": null,
      "outputs": []
    },
    {
      "cell_type": "code",
      "metadata": {
        "id": "d40229f5"
      },
      "source": [
        "df.to_csv(OUTPUT_PATH+\"combined_1degx1deg.csv\",index=False)"
      ],
      "id": "d40229f5",
      "execution_count": null,
      "outputs": []
    },
    {
      "cell_type": "code",
      "metadata": {
        "id": "8ba95448"
      },
      "source": [
        ""
      ],
      "id": "8ba95448",
      "execution_count": null,
      "outputs": []
    }
  ]
}