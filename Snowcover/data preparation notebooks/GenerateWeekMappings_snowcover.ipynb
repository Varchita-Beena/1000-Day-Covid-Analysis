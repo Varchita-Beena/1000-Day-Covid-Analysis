{
  "nbformat": 4,
  "nbformat_minor": 5,
  "metadata": {
    "kernelspec": {
      "display_name": "Python 3 (ipykernel)",
      "language": "python",
      "name": "python3"
    },
    "language_info": {
      "codemirror_mode": {
        "name": "ipython",
        "version": 3
      },
      "file_extension": ".py",
      "mimetype": "text/x-python",
      "name": "python",
      "nbconvert_exporter": "python",
      "pygments_lexer": "ipython3",
      "version": "3.9.7"
    },
    "colab": {
      "name": "GenerateWeekMappings_snowcover.ipynb",
      "provenance": [],
      "collapsed_sections": []
    }
  },
  "cells": [
    {
      "cell_type": "code",
      "metadata": {
        "id": "3d704c3e"
      },
      "source": [
        "import datetime as dt\n",
        "import os"
      ],
      "id": "3d704c3e",
      "execution_count": null,
      "outputs": []
    },
    {
      "cell_type": "code",
      "metadata": {
        "id": "22a4a921"
      },
      "source": [
        "DATA_PATH=\"snow cover/MOD10C2v061/\"\n",
        "OUTPUT_PATH=\"data/\""
      ],
      "id": "22a4a921",
      "execution_count": null,
      "outputs": []
    },
    {
      "cell_type": "code",
      "metadata": {
        "id": "8f8b0e5a",
        "outputId": "e44d9b84-d36c-4397-95fe-483a763a7576"
      },
      "source": [
        "granules=os.listdir(DATA_PATH)\n",
        "print(\"granules =\",len(granules))"
      ],
      "id": "8f8b0e5a",
      "execution_count": null,
      "outputs": [
        {
          "name": "stdout",
          "output_type": "stream",
          "text": [
            "granules = 127\n"
          ]
        }
      ]
    },
    {
      "cell_type": "code",
      "metadata": {
        "id": "a4c7d3bd"
      },
      "source": [
        "week_length=8\n",
        "n_weeks_per_month=4\n",
        "min_overlap=4"
      ],
      "id": "a4c7d3bd",
      "execution_count": null,
      "outputs": []
    },
    {
      "cell_type": "code",
      "metadata": {
        "id": "db992888"
      },
      "source": [
        "granule_dates={}\n",
        "for granule in granules:\n",
        "    values=granule.split(\".\")\n",
        "    year=int(values[1][1:5])\n",
        "    date=dt.date(year,1,1)+dt.timedelta(days=int(values[1][5:8])-1)\n",
        "    granule_dates[granule]=[date]\n",
        "    for i in range(7):\n",
        "        date=date+dt.timedelta(days=1)\n",
        "        granule_dates[granule].append(date)"
      ],
      "id": "db992888",
      "execution_count": null,
      "outputs": []
    },
    {
      "cell_type": "code",
      "metadata": {
        "id": "94a081a9"
      },
      "source": [
        "week_dates={}\n",
        "months=[i+1 for i in range(12)]\n",
        "years=[2019,2020,2021]\n",
        "for year in years:\n",
        "    for month in months:\n",
        "        for week in range(1,n_weeks_per_month+1,1):\n",
        "            date=dt.date(year,month,1)+dt.timedelta(days=week_length*(week-1))\n",
        "            dates=[date]\n",
        "            for i in range(week_length-1):\n",
        "                new_date=date+dt.timedelta(days=1)\n",
        "                if new_date.month==date.month:\n",
        "                    dates.append(new_date)\n",
        "                    date=new_date\n",
        "                else:\n",
        "                    break\n",
        "            week_dates[str(month)+\".\"+str(year)+\".\"+\"week\"+str(week)]=dates                "
      ],
      "id": "94a081a9",
      "execution_count": null,
      "outputs": []
    },
    {
      "cell_type": "code",
      "metadata": {
        "id": "8274627e"
      },
      "source": [
        "week_granule={}\n",
        "for week in week_dates:\n",
        "    intersection={}\n",
        "    for granule in set(granules).difference(set(week_granule.values())):\n",
        "        value=len(set(week_dates[week]).intersection(granule_dates[granule]))\n",
        "        if value>=min_overlap:\n",
        "            intersection[granule]=value\n",
        "    if len(intersection)>=1:\n",
        "        week_granule[week]=max(zip(intersection.values(), intersection.keys()))[1]"
      ],
      "id": "8274627e",
      "execution_count": null,
      "outputs": []
    },
    {
      "cell_type": "code",
      "metadata": {
        "id": "aeed30d7"
      },
      "source": [
        "fp=open(OUTPUT_PATH+\"week_mappings_snowcover.csv\",\"w\")\n",
        "fp.write(\",\".join([\"week\",\"granule\"])+\"\\n\")\n",
        "for week in week_granule:\n",
        "    fp.write(week+\",\"+week_granule[week]+\"\\n\")\n",
        "fp.close()"
      ],
      "id": "aeed30d7",
      "execution_count": null,
      "outputs": []
    },
    {
      "cell_type": "code",
      "metadata": {
        "id": "5f783b66"
      },
      "source": [
        ""
      ],
      "id": "5f783b66",
      "execution_count": null,
      "outputs": []
    }
  ]
}