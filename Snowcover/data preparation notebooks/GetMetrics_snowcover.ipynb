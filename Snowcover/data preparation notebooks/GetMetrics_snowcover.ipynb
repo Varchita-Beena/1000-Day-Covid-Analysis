{
  "nbformat": 4,
  "nbformat_minor": 5,
  "metadata": {
    "kernelspec": {
      "display_name": "Python 3 (ipykernel)",
      "language": "python",
      "name": "python3"
    },
    "language_info": {
      "codemirror_mode": {
        "name": "ipython",
        "version": 3
      },
      "file_extension": ".py",
      "mimetype": "text/x-python",
      "name": "python",
      "nbconvert_exporter": "python",
      "pygments_lexer": "ipython3",
      "version": "3.9.7"
    },
    "colab": {
      "name": "GetMetrics_snowcover.ipynb",
      "provenance": [],
      "collapsed_sections": []
    }
  },
  "cells": [
    {
      "cell_type": "code",
      "metadata": {
        "id": "bf50aac9"
      },
      "source": [
        "from pyhdf.SD import SD, SDC\n",
        "import os"
      ],
      "id": "bf50aac9",
      "execution_count": null,
      "outputs": []
    },
    {
      "cell_type": "code",
      "metadata": {
        "id": "7f8cc97e"
      },
      "source": [
        "GRANULES_PATH=\"snow cover/MOD10C2v061/\"\n",
        "OUTPUT_PATH=\"data/\""
      ],
      "id": "7f8cc97e",
      "execution_count": null,
      "outputs": []
    },
    {
      "cell_type": "code",
      "metadata": {
        "id": "d39ab70e"
      },
      "source": [
        "granules=os.listdir(GRANULES_PATH)"
      ],
      "id": "d39ab70e",
      "execution_count": null,
      "outputs": []
    },
    {
      "cell_type": "code",
      "metadata": {
        "id": "a6db8150"
      },
      "source": [
        "hdf = SD(GRANULES_PATH+granules[1], SDC.READ)\n",
        "datasets_dic = hdf.datasets()\n",
        "metrics=list(datasets_dic.keys())\n",
        "data=[]\n",
        "a=[]\n",
        "for metric in metrics:\n",
        "    metric_obj=hdf.select(metric)\n",
        "    metric_data=metric_obj.get()\n",
        "    metric_shape=metric_data.shape\n",
        "    data.append([metric,str(len(metric_shape)),\"#\".join([str(i) for i in metric_shape])])"
      ],
      "id": "a6db8150",
      "execution_count": null,
      "outputs": []
    },
    {
      "cell_type": "code",
      "metadata": {
        "id": "66146fd1"
      },
      "source": [
        "fp=open(OUTPUT_PATH+\"metrics_snowcover.csv\",\"w\")\n",
        "fp.write(\",\".join([\"metric\",\"dimensions\",\"shape\"])+\"\\n\")\n",
        "fp.write(\"\\n\".join([\",\".join(vector) for vector in data]))\n",
        "fp.close()"
      ],
      "id": "66146fd1",
      "execution_count": null,
      "outputs": []
    },
    {
      "cell_type": "code",
      "metadata": {
        "id": "7d7a48e2"
      },
      "source": [
        ""
      ],
      "id": "7d7a48e2",
      "execution_count": null,
      "outputs": []
    }
  ]
}