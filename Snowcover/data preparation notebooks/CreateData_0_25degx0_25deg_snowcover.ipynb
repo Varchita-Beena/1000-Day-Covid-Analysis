{
  "nbformat": 4,
  "nbformat_minor": 5,
  "metadata": {
    "kernelspec": {
      "display_name": "Python 3 (ipykernel)",
      "language": "python",
      "name": "python3"
    },
    "language_info": {
      "codemirror_mode": {
        "name": "ipython",
        "version": 3
      },
      "file_extension": ".py",
      "mimetype": "text/x-python",
      "name": "python",
      "nbconvert_exporter": "python",
      "pygments_lexer": "ipython3",
      "version": "3.9.7"
    },
    "colab": {
      "name": "CreateData_0.25degx0.25deg_snowcover.ipynb",
      "provenance": []
    }
  },
  "cells": [
    {
      "cell_type": "code",
      "metadata": {
        "id": "4a224aeb"
      },
      "source": [
        "import pandas as pd\n",
        "import numpy as np\n",
        "import math\n",
        "import pandas as pd\n",
        "from pyhdf.SD import SD, SDC\n",
        "import os\n",
        "import math"
      ],
      "id": "4a224aeb",
      "execution_count": null,
      "outputs": []
    },
    {
      "cell_type": "code",
      "metadata": {
        "id": "d306c4d5"
      },
      "source": [
        "GRANULES_PATH=\"snow cover/MOD10C2v061/\"\n",
        "LOCATION_FILE = 'geonames-all-cities-with-a-population-1000-3.csv'\n",
        "OUTPUT_PATH=\"data/\"\n",
        "WEEK_MAPPINGS = \"data/weeamark_mappings_snowcover.csv\"\n",
        "week_data = pd.read_csv(WEEK_MAPPINGS)\n",
        "week_data=week_data.set_index(\"week\")[\"granule\"].to_dict()"
      ],
      "id": "d306c4d5",
      "execution_count": null,
      "outputs": []
    },
    {
      "cell_type": "code",
      "metadata": {
        "id": "75fe2d13"
      },
      "source": [
        "metrics=[\"Eight_Day_CMG_Snow_Cover\"]"
      ],
      "id": "75fe2d13",
      "execution_count": null,
      "outputs": []
    },
    {
      "cell_type": "code",
      "metadata": {
        "id": "48384c97"
      },
      "source": [
        "fp=open(LOCATION_FILE,\"r\")\n",
        "evrythng=fp.readlines()\n",
        "fp.close()\n",
        "locations=set()\n",
        "for line in evrythng[1:]:\n",
        "    line=line.split(\"\\n\")[0].split(\";\")\n",
        "    [lat,long]=line[-1].split(\",\")\n",
        "    lat=round(90-(int((90-float(lat))/0.25)*0.25+0.125),3)\n",
        "    long=round(180-(int((180-float(long))/0.25)*0.25+0.125),3)\n",
        "    locations.add((lat,long))"
      ],
      "id": "48384c97",
      "execution_count": null,
      "outputs": []
    },
    {
      "cell_type": "code",
      "metadata": {
        "id": "1358c4b9"
      },
      "source": [
        "def get_indices(location):\n",
        "    (lat,long)=location\n",
        "    lat_start_index=round(((90-lat-0.125)/0.25)*5)\n",
        "    lat_end_index=lat_start_index+5-1\n",
        "    long_start_index=round(((long-0.125+180)/0.25)*5)\n",
        "    long_end_index=long_start_index+5-1\n",
        "    lat_range=(lat_start_index,lat_end_index)\n",
        "    long_range=(long_start_index,long_end_index)\n",
        "    return [lat_range,long_range]"
      ],
      "id": "1358c4b9",
      "execution_count": null,
      "outputs": []
    },
    {
      "cell_type": "code",
      "metadata": {
        "id": "a8e7a3bb",
        "outputId": "4674bb0c-835b-402a-f6dc-e73df4d88fc8"
      },
      "source": [
        "OUTPUT_FILENAME=OUTPUT_PATH+\"indian_cities_0.25degx0.25deg_snowcover.csv\"\n",
        "fp=open(OUTPUT_FILENAME,\"w\")\n",
        "fp.write(\",\".join([\"location\",\"week\",\"metric\",\"mean\",\"sdev\"])+\"\\n\")\n",
        "fp.close()\n",
        "for week in week_data:\n",
        "    print(week)\n",
        "    data=[]\n",
        "    granule=week_data[week]\n",
        "    hdf = SD(GRANULES_PATH+granule, SDC.READ)\n",
        "    \n",
        "    for metric in metrics:\n",
        "        metric_obj=hdf.select(metric)\n",
        "        metric_data=metric_obj.get()\n",
        "        \n",
        "        for location in locations:\n",
        "            [lat_range,long_range]=get_indices(location)\n",
        "            temp=metric_data[lat_range[0]:lat_range[1]+1,long_range[0]:long_range[1]+1]\n",
        "            temp=temp[np.where((temp>=0)&(temp<=100))]\n",
        "            if len(temp)<=0:\n",
        "                data.append([\"#\".join([str(i) for i in location]),week,metric,255,255])\n",
        "            else:\n",
        "                data.append([\"#\".join([str(i) for i in location]),week,metric,round(np.mean(temp)),round(np.std(temp))]) \n",
        "    fp=open(OUTPUT_FILENAME,\"a\")\n",
        "    for vector in data:\n",
        "        fp.write(\",\".join([str(i) for i in vector])+\"\\n\")\n",
        "    fp.close()"
      ],
      "id": "a8e7a3bb",
      "execution_count": null,
      "outputs": [
        {
          "name": "stdout",
          "output_type": "stream",
          "text": [
            "1.2019.week1\n",
            "1.2019.week2\n",
            "1.2019.week3\n",
            "1.2019.week4\n",
            "2.2019.week1\n",
            "2.2019.week2\n",
            "2.2019.week3\n",
            "3.2019.week1\n",
            "3.2019.week2\n",
            "3.2019.week3\n",
            "3.2019.week4\n",
            "4.2019.week1\n",
            "4.2019.week2\n",
            "4.2019.week3\n",
            "4.2019.week4\n",
            "5.2019.week1\n",
            "5.2019.week2\n",
            "5.2019.week3\n",
            "5.2019.week4\n",
            "6.2019.week1\n",
            "6.2019.week2\n",
            "6.2019.week3\n",
            "6.2019.week4\n",
            "7.2019.week1\n",
            "7.2019.week2\n",
            "7.2019.week3\n",
            "7.2019.week4\n",
            "8.2019.week1\n",
            "8.2019.week2\n",
            "8.2019.week3\n",
            "9.2019.week1\n",
            "9.2019.week2\n",
            "9.2019.week3\n",
            "9.2019.week4\n",
            "10.2019.week1\n",
            "10.2019.week2\n",
            "10.2019.week3\n",
            "10.2019.week4\n",
            "11.2019.week1\n",
            "11.2019.week2\n",
            "11.2019.week3\n",
            "11.2019.week4\n",
            "12.2019.week1\n",
            "12.2019.week2\n",
            "12.2019.week3\n",
            "12.2019.week4\n",
            "1.2020.week1\n",
            "1.2020.week2\n",
            "1.2020.week3\n",
            "1.2020.week4\n",
            "2.2020.week1\n",
            "2.2020.week2\n",
            "2.2020.week3\n",
            "2.2020.week4\n",
            "3.2020.week1\n",
            "3.2020.week2\n",
            "3.2020.week3\n",
            "4.2020.week1\n",
            "4.2020.week2\n",
            "4.2020.week3\n",
            "4.2020.week4\n",
            "5.2020.week1\n",
            "5.2020.week2\n",
            "5.2020.week3\n",
            "5.2020.week4\n",
            "6.2020.week1\n",
            "6.2020.week2\n",
            "6.2020.week3\n",
            "6.2020.week4\n",
            "7.2020.week1\n",
            "7.2020.week2\n",
            "7.2020.week3\n",
            "7.2020.week4\n",
            "8.2020.week1\n",
            "8.2020.week2\n",
            "8.2020.week3\n",
            "8.2020.week4\n",
            "9.2020.week1\n",
            "9.2020.week2\n",
            "9.2020.week3\n",
            "10.2020.week1\n",
            "10.2020.week2\n",
            "10.2020.week3\n",
            "10.2020.week4\n",
            "11.2020.week1\n",
            "11.2020.week2\n",
            "11.2020.week3\n",
            "11.2020.week4\n",
            "12.2020.week1\n",
            "12.2020.week2\n",
            "12.2020.week3\n",
            "12.2020.week4\n",
            "1.2021.week1\n",
            "1.2021.week2\n",
            "1.2021.week3\n",
            "1.2021.week4\n",
            "2.2021.week1\n",
            "2.2021.week2\n",
            "2.2021.week3\n",
            "3.2021.week1\n",
            "3.2021.week2\n",
            "3.2021.week3\n",
            "3.2021.week4\n",
            "4.2021.week1\n",
            "4.2021.week2\n",
            "4.2021.week3\n",
            "4.2021.week4\n",
            "5.2021.week1\n",
            "5.2021.week2\n",
            "5.2021.week3\n",
            "5.2021.week4\n",
            "6.2021.week1\n",
            "6.2021.week2\n",
            "6.2021.week3\n",
            "6.2021.week4\n",
            "7.2021.week1\n",
            "7.2021.week2\n",
            "7.2021.week3\n",
            "7.2021.week4\n",
            "8.2021.week1\n",
            "8.2021.week2\n",
            "8.2021.week3\n",
            "9.2021.week1\n",
            "9.2021.week2\n",
            "9.2021.week3\n",
            "9.2021.week4\n",
            "10.2021.week1\n"
          ]
        }
      ]
    }
  ]
}