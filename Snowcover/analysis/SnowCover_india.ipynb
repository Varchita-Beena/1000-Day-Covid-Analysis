{
  "nbformat": 4,
  "nbformat_minor": 5,
  "metadata": {
    "kernelspec": {
      "display_name": "Python 3 (ipykernel)",
      "language": "python",
      "name": "python3"
    },
    "language_info": {
      "codemirror_mode": {
        "name": "ipython",
        "version": 3
      },
      "file_extension": ".py",
      "mimetype": "text/x-python",
      "name": "python",
      "nbconvert_exporter": "python",
      "pygments_lexer": "ipython3",
      "version": "3.9.7"
    },
    "colab": {
      "name": "SnowCover_india.ipynb",
      "provenance": [],
      "collapsed_sections": []
    }
  },
  "cells": [
    {
      "cell_type": "markdown",
      "metadata": {
        "id": "Gk2-D9y8FysT"
      },
      "source": [
        "**Analysis for snow cover in India**<br>\n",
        "The data here is 8-day data and analysis is done for 1x1 degree"
      ],
      "id": "Gk2-D9y8FysT"
    },
    {
      "cell_type": "code",
      "metadata": {
        "colab": {
          "base_uri": "https://localhost:8080/"
        },
        "id": "05fe4853",
        "outputId": "e47ac166-a8ad-4c55-91a4-2eb84d174657"
      },
      "source": [
        "import pandas as pd\n",
        "pd.set_option('display.max_rows', 500)\n",
        "pd.options.mode.use_inf_as_na = True\n",
        "import numpy as np\n",
        "import os\n",
        "import math\n",
        "from scipy.stats import pearsonr as corr\n",
        "from matplotlib import pyplot as plt\n",
        "#import statsmodels.api as sm\n",
        "import statsmodels.formula.api as sm\n",
        "import scipy\n",
        "import datetime as dt"
      ],
      "id": "05fe4853",
      "execution_count": 7,
      "outputs": [
        {
          "output_type": "stream",
          "name": "stderr",
          "text": [
            "/usr/local/lib/python3.7/dist-packages/statsmodels/tools/_testing.py:19: FutureWarning: pandas.util.testing is deprecated. Use the functions in the public API at pandas.testing instead.\n",
            "  import pandas.util.testing as tm\n"
          ]
        }
      ]
    },
    {
      "cell_type": "code",
      "metadata": {
        "id": "345e7c6e"
      },
      "source": [
        "SNOWCOVER_PATH=\"snowcover/data/\" #path for snowcover data\n",
        "COVID_PATH=\"covidoxford/data/\" # path for covidoxford data\n",
        "CITIES_PATH=\"cities/data/\" # path for cities data"
      ],
      "id": "345e7c6e",
      "execution_count": 8,
      "outputs": []
    },
    {
      "cell_type": "code",
      "metadata": {
        "colab": {
          "base_uri": "https://localhost:8080/"
        },
        "id": "c587dafb",
        "outputId": "d83232cb-e24f-4614-ed52-90ee351912e2"
      },
      "source": [
        "cities_df=pd.read_csv(CITIES_PATH+\"cities_1degx1deg.csv\",error_bad_lines=False)"
      ],
      "id": "c587dafb",
      "execution_count": 9,
      "outputs": [
        {
          "output_type": "stream",
          "name": "stderr",
          "text": [
            "b'Skipping line 164: expected 5 fields, saw 6\\n'\n"
          ]
        }
      ]
    },
    {
      "cell_type": "code",
      "metadata": {
        "colab": {
          "base_uri": "https://localhost:8080/"
        },
        "id": "50f78396",
        "outputId": "04921bc0-8bf7-4f81-9e96-aeab4c58ecba"
      },
      "source": [
        "sc_df=pd.read_csv(SNOWCOVER_PATH+\"indian_cities_1degx1deg_snowcover.csv\")\n",
        "sc_df[\"metric\"].unique()"
      ],
      "id": "50f78396",
      "execution_count": 10,
      "outputs": [
        {
          "output_type": "execute_result",
          "data": {
            "text/plain": [
              "array(['Eight_Day_CMG_Snow_Cover'], dtype=object)"
            ]
          },
          "metadata": {},
          "execution_count": 10
        }
      ]
    },
    {
      "cell_type": "code",
      "metadata": {
        "id": "37a53cd8"
      },
      "source": [
        "metric_df=sc_df[(sc_df[\"metric\"]==\"Eight_Day_CMG_Snow_Cover\")&(sc_df[\"mean\"]>=0)&(sc_df[\"mean\"]<=100)&(~sc_df[\"mean\"].isna())]"
      ],
      "id": "37a53cd8",
      "execution_count": 11,
      "outputs": []
    },
    {
      "cell_type": "markdown",
      "metadata": {
        "id": "qHzcXvfLGENn"
      },
      "source": [
        "**Total 33 locations with snow in India**"
      ],
      "id": "qHzcXvfLGENn"
    },
    {
      "cell_type": "code",
      "metadata": {
        "colab": {
          "base_uri": "https://localhost:8080/"
        },
        "id": "aef78196",
        "outputId": "01298c2e-f5ea-464e-e661-e6bf80ed1973"
      },
      "source": [
        "valid_locations=metric_df[metric_df[\"mean\"]>=10][\"location\"].unique().tolist()\n",
        "print(\"locations with snow =\",len(valid_locations))\n",
        "metric_df=metric_df[metric_df[\"location\"].isin(valid_locations)]"
      ],
      "id": "aef78196",
      "execution_count": 12,
      "outputs": [
        {
          "output_type": "stream",
          "name": "stdout",
          "text": [
            "locations with snow = 33\n"
          ]
        }
      ]
    },
    {
      "cell_type": "markdown",
      "metadata": {
        "id": "6cu779l1GJGm"
      },
      "source": [
        "**Snow cover analysis for pre and post covid dates/week for 2019 and 2020.**<br>\n",
        "snow cover change analysed for march 1st and may 1st week for 2019 (non-covid year) and for 2020 (covid year). Differences for 2019 and for 2020 are taken and distributions are plotted."
      ],
      "id": "6cu779l1GJGm"
    },
    {
      "cell_type": "code",
      "metadata": {
        "scrolled": true,
        "colab": {
          "base_uri": "https://localhost:8080/",
          "height": 448
        },
        "id": "feb2edc9",
        "outputId": "57634685-4d59-4b44-b36e-a8c7832ac423"
      },
      "source": [
        "week1=\"3.2019.week1\"\n",
        "week2=\"5.2019.week1\"\n",
        "week1_df=metric_df[metric_df[\"week\"]==week1][[\"location\",\"week\",\"mean\"]]\n",
        "week2_df=metric_df[metric_df[\"week\"]==week2][[\"location\",\"week\",\"mean\"]]\n",
        "week_df_2019=week1_df.merge(week2_df,on=\"location\",how=\"inner\",suffixes=[\"_pre\",\"_post\"])\n",
        "week_df_2019[\"diff\"]=(week_df_2019[\"mean_post\"]-week_df_2019[\"mean_pre\"])#*100/week_df_2019[\"mean_pre\"]\n",
        "week_df_2019=week_df_2019[[\"location\",\"diff\"]]\n",
        "week1=\"3.2020.week1\"\n",
        "week2=\"5.2020.week1\"\n",
        "week1_df=metric_df[metric_df[\"week\"]==week1][[\"location\",\"week\",\"mean\",\"sdev\"]]\n",
        "week2_df=metric_df[metric_df[\"week\"]==week2][[\"location\",\"week\",\"mean\",\"sdev\"]]\n",
        "week_df_2020=week1_df.merge(week2_df,on=\"location\",how=\"inner\",suffixes=[\"_pre\",\"_post\"])\n",
        "week_df_2020[\"diff\"]=(week_df_2020[\"mean_post\"]-week_df_2020[\"mean_pre\"])#*100/week_df_2020[\"mean_pre\"]\n",
        "week_df_2020=week_df_2020[[\"location\",\"diff\"]]\n",
        "\n",
        "week_df=week_df_2019.merge(week_df_2020,on=\"location\",how=\"inner\",suffixes=[\"_2019\",\"_2020\"])\n",
        "week_df=week_df.merge(cities_df[[\"location\",\"city\",\"population\",\"elevation\"]],on=\"location\",how=\"inner\")\n",
        "\n",
        "print(week_df.describe())\n",
        "\n",
        "plt.hist(week_df[\"diff_2019\"].tolist(),bins=10,label=\"change in 2019\",color=\"red\",alpha=0.7)\n",
        "plt.hist(week_df[\"diff_2020\"].tolist(),bins=10,label=\"change in 2020\",color=\"green\",alpha=0.7)\n",
        "plt.legend()\n",
        "plt.xlabel('points change in snow cover')\n",
        "plt.title(\"Before vs first week of lockdown\")\n",
        "plt.show()"
      ],
      "id": "feb2edc9",
      "execution_count": 13,
      "outputs": [
        {
          "output_type": "stream",
          "name": "stdout",
          "text": [
            "       diff_2019  diff_2020    population    elevation\n",
            "count  32.000000  32.000000  3.200000e+01    32.000000\n",
            "mean  -12.593750  -1.125000  2.103418e+05  1186.687500\n",
            "std    15.156941  11.471564  3.052831e+05   990.126823\n",
            "min   -72.000000 -16.000000  1.834000e+03     9.000000\n",
            "25%   -19.000000  -8.250000  1.802275e+04   496.750000\n",
            "50%    -8.500000  -1.000000  7.633200e+04   835.000000\n",
            "75%    -1.750000   0.000000  2.516800e+05  1625.000000\n",
            "max     0.000000  41.000000  1.332033e+06  3560.000000\n"
          ]
        },
        {
          "output_type": "display_data",
          "data": {
            "image/png": "[encoded data removed]",
            "text/plain": [
              "<Figure size 432x288 with 1 Axes>"
            ]
          },
          "metadata": {
            "needs_background": "light"
          }
        }
      ]
    },
    {
      "cell_type": "markdown",
      "metadata": {
        "id": "8c65d812"
      },
      "source": [
        "Compared to first week of march, snow cover, on an average,\n",
        "- decreased 4.5 points (2019), increased 4 points(2020), in first week of april\n",
        "- decreased 12 points (2019), decreased 1.5 points(2020), in first week of may\n",
        "- decreased 15 points (2019), decreased 5 points(2020), in first week of june\n",
        "- decreased 21 points (2019), decreased 12 points(2020), in first week of august\n",
        "- decreased 21 points (2019), decreased 15 points(2020), in first week of october\n",
        "- decreased 5 points (2019), increased 5 points(2020), in first week of december"
      ],
      "id": "8c65d812"
    },
    {
      "cell_type": "markdown",
      "metadata": {
        "id": "Fk8P4KfBHEnV"
      },
      "source": [
        "**snow places where difference greater than 10 points are seen with its elevation and population**"
      ],
      "id": "Fk8P4KfBHEnV"
    },
    {
      "cell_type": "code",
      "metadata": {
        "colab": {
          "base_uri": "https://localhost:8080/",
          "height": 359
        },
        "id": "8285864e",
        "outputId": "206f26c1-3e3a-47a1-b974-1de36e8885bd"
      },
      "source": [
        "week_df[(week_df[\"diff_2020\"]-week_df[\"diff_2019\"]>=10)]"
      ],
      "id": "8285864e",
      "execution_count": 14,
      "outputs": [
        {
          "output_type": "execute_result",
          "data": {
            "text/html": [
              "<div>\n",
              "<style scoped>\n",
              "    .dataframe tbody tr th:only-of-type {\n",
              "        vertical-align: middle;\n",
              "    }\n",
              "\n",
              "    .dataframe tbody tr th {\n",
              "        vertical-align: top;\n",
              "    }\n",
              "\n",
              "    .dataframe thead th {\n",
              "        text-align: right;\n",
              "    }\n",
              "</style>\n",
              "<table border=\"1\" class=\"dataframe\">\n",
              "  <thead>\n",
              "    <tr style=\"text-align: right;\">\n",
              "      <th></th>\n",
              "      <th>location</th>\n",
              "      <th>diff_2019</th>\n",
              "      <th>diff_2020</th>\n",
              "      <th>city</th>\n",
              "      <th>population</th>\n",
              "      <th>elevation</th>\n",
              "    </tr>\n",
              "  </thead>\n",
              "  <tbody>\n",
              "    <tr>\n",
              "      <th>3</th>\n",
              "      <td>28.5#96.5</td>\n",
              "      <td>-72</td>\n",
              "      <td>-11</td>\n",
              "      <td>Hayuliang</td>\n",
              "      <td>1834</td>\n",
              "      <td>559</td>\n",
              "    </tr>\n",
              "    <tr>\n",
              "      <th>7</th>\n",
              "      <td>31.5#77.5</td>\n",
              "      <td>-35</td>\n",
              "      <td>-16</td>\n",
              "      <td>Shimla</td>\n",
              "      <td>225765</td>\n",
              "      <td>1564</td>\n",
              "    </tr>\n",
              "    <tr>\n",
              "      <th>10</th>\n",
              "      <td>33.5#76.5</td>\n",
              "      <td>-4</td>\n",
              "      <td>41</td>\n",
              "      <td>Padam</td>\n",
              "      <td>25000</td>\n",
              "      <td>3560</td>\n",
              "    </tr>\n",
              "    <tr>\n",
              "      <th>11</th>\n",
              "      <td>28.5#95.5</td>\n",
              "      <td>-25</td>\n",
              "      <td>-5</td>\n",
              "      <td>Pasighat</td>\n",
              "      <td>25581</td>\n",
              "      <td>179</td>\n",
              "    </tr>\n",
              "    <tr>\n",
              "      <th>12</th>\n",
              "      <td>33.5#75.5</td>\n",
              "      <td>-31</td>\n",
              "      <td>20</td>\n",
              "      <td>Anantnag</td>\n",
              "      <td>200642</td>\n",
              "      <td>1540</td>\n",
              "    </tr>\n",
              "    <tr>\n",
              "      <th>15</th>\n",
              "      <td>28.5#94.5</td>\n",
              "      <td>-19</td>\n",
              "      <td>0</td>\n",
              "      <td>Along</td>\n",
              "      <td>31735</td>\n",
              "      <td>704</td>\n",
              "    </tr>\n",
              "    <tr>\n",
              "      <th>26</th>\n",
              "      <td>27.5#91.5</td>\n",
              "      <td>-26</td>\n",
              "      <td>-10</td>\n",
              "      <td>Tawang</td>\n",
              "      <td>4831</td>\n",
              "      <td>2432</td>\n",
              "    </tr>\n",
              "    <tr>\n",
              "      <th>28</th>\n",
              "      <td>34.5#75.5</td>\n",
              "      <td>-7</td>\n",
              "      <td>11</td>\n",
              "      <td>Pahlgam</td>\n",
              "      <td>7750</td>\n",
              "      <td>2155</td>\n",
              "    </tr>\n",
              "    <tr>\n",
              "      <th>30</th>\n",
              "      <td>33.5#74.5</td>\n",
              "      <td>-21</td>\n",
              "      <td>-8</td>\n",
              "      <td>Punch</td>\n",
              "      <td>114564</td>\n",
              "      <td>1380</td>\n",
              "    </tr>\n",
              "    <tr>\n",
              "      <th>31</th>\n",
              "      <td>34.5#74.5</td>\n",
              "      <td>-31</td>\n",
              "      <td>20</td>\n",
              "      <td>Srinagar</td>\n",
              "      <td>1332033</td>\n",
              "      <td>1745</td>\n",
              "    </tr>\n",
              "  </tbody>\n",
              "</table>\n",
              "</div>"
            ],
            "text/plain": [
              "     location  diff_2019  diff_2020       city  population  elevation\n",
              "3   28.5#96.5        -72        -11  Hayuliang        1834        559\n",
              "7   31.5#77.5        -35        -16     Shimla      225765       1564\n",
              "10  33.5#76.5         -4         41      Padam       25000       3560\n",
              "11  28.5#95.5        -25         -5   Pasighat       25581        179\n",
              "12  33.5#75.5        -31         20   Anantnag      200642       1540\n",
              "15  28.5#94.5        -19          0      Along       31735        704\n",
              "26  27.5#91.5        -26        -10     Tawang        4831       2432\n",
              "28  34.5#75.5         -7         11    Pahlgam        7750       2155\n",
              "30  33.5#74.5        -21         -8      Punch      114564       1380\n",
              "31  34.5#74.5        -31         20   Srinagar     1332033       1745"
            ]
          },
          "metadata": {},
          "execution_count": 14
        }
      ]
    },
    {
      "cell_type": "markdown",
      "metadata": {
        "id": "513e4d1b"
      },
      "source": [
        "**Hayuliang, Shimla, Pasighat, Anantnag, Along, Tawang, Punch and Srinagar saw quite lesser (at least 10 points) melting of snow during the duration of lockdown compared to 2019**"
      ],
      "id": "513e4d1b"
    },
    {
      "cell_type": "code",
      "metadata": {
        "colab": {
          "base_uri": "https://localhost:8080/"
        },
        "id": "520e9daa",
        "outputId": "e0f8d56d-4212-41af-bd41-ef9116deccd0"
      },
      "source": [
        "week1=\"3.2019.week1\"\n",
        "week2=\"3.2020.week1\"\n",
        "week1_df=metric_df[metric_df[\"week\"]==week1][[\"location\",\"week\",\"mean\",\"sdev\"]]\n",
        "week2_df=metric_df[metric_df[\"week\"]==week2][[\"location\",\"week\",\"mean\",\"sdev\"]]\n",
        "week_df=week1_df.merge(week2_df,on=\"location\",how=\"inner\",suffixes=[\"_2019\",\"_2020\"])\n",
        "week_df=week_df.merge(cities_df[[\"location\",\"city\",\"population\",\"elevation\"]],on=\"location\",how=\"inner\")\n",
        "week_df[\"diff\"]=(week_df[\"mean_2020\"]-week_df[\"mean_2019\"])\n",
        "week_df[\"diff\"].describe()"
      ],
      "id": "520e9daa",
      "execution_count": 15,
      "outputs": [
        {
          "output_type": "execute_result",
          "data": {
            "text/plain": [
              "count    32.00000\n",
              "mean    -11.06250\n",
              "std      14.84965\n",
              "min     -50.00000\n",
              "25%     -15.50000\n",
              "50%      -4.00000\n",
              "75%      -1.00000\n",
              "max       3.00000\n",
              "Name: diff, dtype: float64"
            ]
          },
          "metadata": {},
          "execution_count": 15
        }
      ]
    },
    {
      "cell_type": "markdown",
      "metadata": {
        "id": "160c60b7"
      },
      "source": [
        "**The snow cover hasnt actually increased in 2020. So probably, the melting of snow is dynamic and is different in amount in different weeks. It looks like in lockdown months the decrease in snow cover is lesser in 2020 compared to 2019, but the snow cover in total hasnt changed much.**"
      ],
      "id": "160c60b7"
    },
    {
      "cell_type": "code",
      "metadata": {
        "colab": {
          "base_uri": "https://localhost:8080/"
        },
        "id": "2b93c772",
        "outputId": "5cf538e5-54ea-4eaa-bb2c-c3b96cd07099"
      },
      "source": [
        "metric_df[metric_df[\"mean\"]>=50][\"location\"].unique()"
      ],
      "id": "2b93c772",
      "execution_count": 16,
      "outputs": [
        {
          "output_type": "execute_result",
          "data": {
            "text/plain": [
              "array(['32.5#76.5', '28.5#96.5', '31.5#77.5', '34.5#77.5', '33.5#76.5',\n",
              "       '33.5#75.5', '32.5#77.5', '30.5#79.5', '34.5#76.5', '34.5#75.5',\n",
              "       '34.5#74.5', '27.5#88.5', '27.5#92.5', '33.5#74.5', '30.5#78.5',\n",
              "       '29.5#80.5', '27.5#91.5'], dtype=object)"
            ]
          },
          "metadata": {},
          "execution_count": 16
        }
      ]
    },
    {
      "cell_type": "markdown",
      "metadata": {
        "id": "FSrLmj6eHors"
      },
      "source": [
        "**locations with snow cover change by more than 50 points are displayed.**<br>\n",
        "Plot for one such location(shimla) is done. The data is 8-day hence mapped to 4 weeks a month. Here analysis if done for 4 months and each months has 4 weeks hence 24 datapoints for year 2019 and 2020."
      ],
      "id": "FSrLmj6eHors"
    },
    {
      "cell_type": "code",
      "metadata": {
        "colab": {
          "base_uri": "https://localhost:8080/",
          "height": 295
        },
        "id": "6de155d6",
        "outputId": "644d6ffb-4413-44ad-c756-cbc4b451a60e"
      },
      "source": [
        "location=\"31.5#77.5\"\n",
        "location_data=metric_df[metric_df[\"location\"]==location].set_index(\"week\")[\"mean\"].to_dict()\n",
        "x_2019=[]\n",
        "y_2019=[]\n",
        "x_2020=[]\n",
        "y_2020=[]\n",
        "for month in range(3,7):\n",
        "    for week in range(1,5):\n",
        "        week_str=str(month)+\".2019.week\"+str(week)\n",
        "        if week_str in location_data:\n",
        "            x_2019.append((month-1)*4+week)\n",
        "            y_2019.append(location_data[week_str])\n",
        "        week_str=str(month)+\".2020.week\"+str(week)\n",
        "        if week_str in location_data:\n",
        "            x_2020.append((month-1)*4+week)\n",
        "            y_2020.append(location_data[week_str])\n",
        "plt.plot(x_2019,y_2019,color=\"red\",marker=\".\",label=\"2019\")\n",
        "plt.plot(x_2020,y_2020,color=\"green\",marker=\".\",label=\"2020\")\n",
        "plt.title(cities_df[cities_df[\"location\"]==location][\"city\"].values[0])\n",
        "plt.xlabel(\"week\")\n",
        "plt.ylabel(\"snow cover\")\n",
        "plt.legend()\n",
        "plt.show()"
      ],
      "id": "6de155d6",
      "execution_count": 17,
      "outputs": [
        {
          "output_type": "display_data",
          "data": {
            "image/png": "[encoded data removed]",
            "text/plain": [
              "<Figure size 432x288 with 1 Axes>"
            ]
          },
          "metadata": {
            "needs_background": "light"
          }
        }
      ]
    },
    {
      "cell_type": "code",
      "metadata": {
        "id": "8949f56d"
      },
      "source": [
        ""
      ],
      "id": "8949f56d",
      "execution_count": null,
      "outputs": []
    }
  ]
}