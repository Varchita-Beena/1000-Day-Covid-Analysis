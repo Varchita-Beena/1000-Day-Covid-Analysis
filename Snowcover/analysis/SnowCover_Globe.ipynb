{
  "nbformat": 4,
  "nbformat_minor": 5,
  "metadata": {
    "kernelspec": {
      "display_name": "Python 3 (ipykernel)",
      "language": "python",
      "name": "python3"
    },
    "language_info": {
      "codemirror_mode": {
        "name": "ipython",
        "version": 3
      },
      "file_extension": ".py",
      "mimetype": "text/x-python",
      "name": "python",
      "nbconvert_exporter": "python",
      "pygments_lexer": "ipython3",
      "version": "3.9.7"
    },
    "colab": {
      "name": "SnowCover_Globe.ipynb",
      "provenance": [],
      "collapsed_sections": []
    }
  },
  "cells": [
    {
      "cell_type": "markdown",
      "metadata": {
        "id": "bB3Oub5SJNWf"
      },
      "source": [
        "**Analysis for snow cover all over the world**<br>\n",
        "The data here is 8-day data and analysis is done for 1x1 degree"
      ],
      "id": "bB3Oub5SJNWf"
    },
    {
      "cell_type": "code",
      "metadata": {
        "id": "3c37264b"
      },
      "source": [
        "import warnings\n",
        "warnings.filterwarnings(\"ignore\")\n",
        "import pandas as pd\n",
        "pd.set_option('display.max_rows', 500)\n",
        "pd.options.mode.use_inf_as_na = True\n",
        "import numpy as np\n",
        "import os\n",
        "import math\n",
        "from scipy.stats import pearsonr as corr\n",
        "from matplotlib import pyplot as plt\n",
        "#import statsmodels.api as sm\n",
        "import statsmodels.formula.api as sm\n",
        "import scipy\n",
        "import datetime as dt"
      ],
      "id": "3c37264b",
      "execution_count": null,
      "outputs": []
    },
    {
      "cell_type": "code",
      "metadata": {
        "id": "aa4a050c"
      },
      "source": [
        "SNOWCOVER_PATH=\"snowcover/data/\" # path for snow cover data\n",
        "COVID_PATH=\"covidoxford/data/\" # path for covidoxford data"
      ],
      "id": "aa4a050c",
      "execution_count": null,
      "outputs": []
    },
    {
      "cell_type": "code",
      "metadata": {
        "id": "aadf79b7",
        "outputId": "cfccffd7-4218-49e2-983c-5035338439eb"
      },
      "source": [
        "sc_df=pd.read_csv(SNOWCOVER_PATH+\"all_locations_1degx1deg_snowcover.csv\")\n",
        "sc_df[\"metric\"].unique()"
      ],
      "id": "aadf79b7",
      "execution_count": null,
      "outputs": [
        {
          "data": {
            "text/plain": [
              "array(['Eight_Day_CMG_Snow_Cover'], dtype=object)"
            ]
          },
          "execution_count": 3,
          "metadata": {},
          "output_type": "execute_result"
        }
      ]
    },
    {
      "cell_type": "code",
      "metadata": {
        "id": "c6259462"
      },
      "source": [
        "metric_df=sc_df[(sc_df[\"metric\"]==\"Eight_Day_CMG_Snow_Cover\")&(sc_df[\"mean\"]>=0)&(sc_df[\"mean\"]<=100)&(~sc_df[\"mean\"].isna())]"
      ],
      "id": "c6259462",
      "execution_count": null,
      "outputs": []
    },
    {
      "cell_type": "markdown",
      "metadata": {
        "id": "VpiZMu-uJcjG"
      },
      "source": [
        "**Locations with snow over the globe -> 18079**"
      ],
      "id": "VpiZMu-uJcjG"
    },
    {
      "cell_type": "code",
      "metadata": {
        "id": "f38e777f",
        "outputId": "81b0597f-1182-4d50-914e-9e46b0ca947e"
      },
      "source": [
        "valid_locations=metric_df[(metric_df[\"mean\"]>=5)][\"location\"].unique().tolist()\n",
        "print(\"locations with snow =\",len(valid_locations))\n",
        "metric_df=metric_df[metric_df[\"location\"].isin(valid_locations)]"
      ],
      "id": "f38e777f",
      "execution_count": null,
      "outputs": [
        {
          "name": "stdout",
          "output_type": "stream",
          "text": [
            "locations with snow = 18079\n"
          ]
        }
      ]
    },
    {
      "cell_type": "markdown",
      "metadata": {
        "id": "QruvxWdlJ0RS"
      },
      "source": [
        "**average change in snow cover across the year**<br>\n",
        "Analysis for 12 months and as data is at every 8-day hence mapped to 4 weeks a month for 2019 and 2020. Average change on snow cover across globe is analysed here. "
      ],
      "id": "QruvxWdlJ0RS"
    },
    {
      "cell_type": "code",
      "metadata": {
        "scrolled": true,
        "id": "46652743",
        "outputId": "0efb25a5-16ab-4a3e-e752-e3436f18b23c"
      },
      "source": [
        "x=[]\n",
        "values1=[]\n",
        "values2=[]\n",
        "for month in range(1,13):\n",
        "    for week in range(1,5):\n",
        "        week1=str(month)+\".2019.week\"+str(week)\n",
        "        week2=str(month)+\".2020.week\"+str(week)\n",
        "        week1_data=metric_df[metric_df[\"week\"]==week1].set_index(\"location\")[\"mean\"].to_dict()\n",
        "        week2_data=metric_df[metric_df[\"week\"]==week2].set_index(\"location\")[\"mean\"].to_dict()\n",
        "        temp1=[]\n",
        "        temp2=[]\n",
        "        for location in week1_data:\n",
        "            if location in week2_data:\n",
        "                temp1.append(week1_data[location])\n",
        "                temp2.append(week2_data[location])\n",
        "        if len(temp1)>=100:\n",
        "            x.append((month-1)*4+week)\n",
        "            values1.append(np.mean(temp1))\n",
        "            values2.append(np.mean(temp2))\n",
        "            print(\" month =\",month,\" week =\",week,\"2019 =\",values1[-1],\"2020 =\",values2[-1])"
      ],
      "id": "46652743",
      "execution_count": null,
      "outputs": [
        {
          "name": "stdout",
          "output_type": "stream",
          "text": [
            " month = 1  week = 1 2019 = 72.54182644510723 2020 = 70.6965629882119\n",
            " month = 1  week = 2 2019 = 71.55190383546415 2020 = 72.59894385769873\n",
            " month = 1  week = 3 2019 = 74.62597558535121 2020 = 72.77279701154026\n",
            " month = 1  week = 4 2019 = 74.06153057300347 2020 = 71.9649403922574\n",
            " month = 2  week = 1 2019 = 71.80652466642184 2020 = 74.51891296364305\n",
            " month = 2  week = 2 2019 = 73.75454274649985 2020 = 73.80262138814417\n",
            " month = 2  week = 3 2019 = 75.6956951141579 2020 = 73.8624295590542\n",
            " month = 3  week = 1 2019 = 74.62237603540224 2020 = 71.92891183478952\n",
            " month = 3  week = 2 2019 = 74.33113354037268 2020 = 72.51979813664596\n",
            " month = 3  week = 3 2019 = 73.7492671054815 2020 = 70.8619945793462\n",
            " month = 4  week = 1 2019 = 70.56662426019139 2020 = 71.39039769898777\n",
            " month = 4  week = 2 2019 = 69.272194258532 2020 = 70.08025886387522\n",
            " month = 4  week = 3 2019 = 66.50118922506776 2020 = 67.15039548647603\n",
            " month = 4  week = 4 2019 = 64.97892582554344 2020 = 65.05298965650755\n",
            " month = 5  week = 1 2019 = 62.57823994689972 2020 = 62.653741910503896\n",
            " month = 5  week = 2 2019 = 57.48597820675922 2020 = 60.56020797610487\n",
            " month = 5  week = 3 2019 = 55.29122185961613 2020 = 56.27108800265501\n",
            " month = 5  week = 4 2019 = 50.61419326290171 2020 = 49.99524309972897\n",
            " month = 6  week = 1 2019 = 48.28170805907406 2020 = 47.58731124509099\n",
            " month = 6  week = 2 2019 = 44.899712357561675 2020 = 46.63674078991039\n",
            " month = 6  week = 3 2019 = 43.20914020139427 2020 = 43.90179263029766\n",
            " month = 6  week = 4 2019 = 42.06622773044152 2020 = 41.78942126811995\n",
            " month = 7  week = 1 2019 = 41.29514906797942 2020 = 41.240831904419494\n",
            " month = 7  week = 2 2019 = 40.94601471320316 2020 = 40.71873444327673\n",
            " month = 7  week = 3 2019 = 40.801039880524364 2020 = 40.67094418939101\n",
            " month = 7  week = 4 2019 = 40.97643674982023 2020 = 40.63189335693346\n",
            " month = 8  week = 1 2019 = 40.99386027988274 2020 = 40.795397975551744\n",
            " month = 8  week = 2 2019 = 41.34487526964987 2020 = 41.140383870789314\n",
            " month = 8  week = 3 2019 = 41.848332319265445 2020 = 41.65446097682394\n",
            " month = 9  week = 1 2019 = 42.94540627247082 2020 = 43.24951601305382\n",
            " month = 9  week = 2 2019 = 44.32922174899054 2020 = 46.081586370927596\n",
            " month = 9  week = 3 2019 = 47.328004867525856 2020 = 47.21466895292881\n",
            " month = 10  week = 1 2019 = 53.86716194489106 2020 = 49.746354715307426\n",
            " month = 10  week = 2 2019 = 56.948089442400224 2020 = 52.315256156241155\n",
            " month = 10  week = 3 2019 = 58.776081273764255 2020 = 56.234731463878326\n",
            " month = 10  week = 4 2019 = 61.73627935723115 2020 = 61.18152039555006\n",
            " month = 11  week = 1 2019 = 63.54212193702722 2020 = 59.48807137777203\n",
            " month = 11  week = 2 2019 = 65.93794371196755 2020 = 60.121830628803245\n",
            " month = 11  week = 3 2019 = 66.45417109458023 2020 = 63.59856535600425\n",
            " month = 11  week = 4 2019 = 68.83304870551267 2020 = 64.76808525172484\n",
            " month = 12  week = 1 2019 = 70.46967760261326 2020 = 66.84327510296833\n",
            " month = 12  week = 2 2019 = 70.5367002391131 2020 = 66.60807187884936\n",
            " month = 12  week = 3 2019 = 70.65127573209627 2020 = 66.45049289649174\n",
            " month = 12  week = 4 2019 = 70.44815135759677 2020 = 68.2105719237435\n"
          ]
        }
      ]
    },
    {
      "cell_type": "markdown",
      "metadata": {
        "id": "4g7dkQJqKJtt"
      },
      "source": [
        "Not much change in snow cover is visible. Although chnage for weeks in Feb and march months is there (different places started lockdown at different time), but nothing strong can be said from this. "
      ],
      "id": "4g7dkQJqKJtt"
    },
    {
      "cell_type": "code",
      "metadata": {
        "id": "6da314c1",
        "outputId": "07afa7c5-f382-4e7a-a264-68916cdb9145"
      },
      "source": [
        "plt.plot(x,values1,label=\"2019\",color=\"red\")\n",
        "plt.plot(x,values2,label=\"2020\",color=\"green\")\n",
        "plt.legend()\n",
        "plt.xlabel(\"week number (4 weeks per month)\")\n",
        "plt.ylabel(\"Snow cover\")\n",
        "plt.show()"
      ],
      "id": "6da314c1",
      "execution_count": null,
      "outputs": [
        {
          "data": {
            "image/png": "[encoded data removed]",
            "text/plain": [
              "<Figure size 432x288 with 1 Axes>"
            ]
          },
          "metadata": {
            "needs_background": "light"
          },
          "output_type": "display_data"
        }
      ]
    },
    {
      "cell_type": "markdown",
      "metadata": {
        "id": "mX_4d9hBKInc"
      },
      "source": [
        "**For every month what is the average change in snow peak cover is shown.**"
      ],
      "id": "mX_4d9hBKInc"
    },
    {
      "cell_type": "code",
      "metadata": {
        "id": "90db347b"
      },
      "source": [
        "metric_df[\"prev_mean\"]=metric_df.groupby(\"location\")[\"mean\"].shift(1)\n",
        "metric_df[\"change\"]=metric_df[\"mean\"]-metric_df[\"prev_mean\"]\n",
        "metric_df[\"change\"]=metric_df[\"change\"].fillna(0.0)"
      ],
      "id": "90db347b",
      "execution_count": null,
      "outputs": []
    },
    {
      "cell_type": "code",
      "metadata": {
        "id": "621b3fc5"
      },
      "source": [
        "metric_df_2019=metric_df[metric_df[\"week\"].str.contains(\"2019\")]\n",
        "metric_df_2019[\"avg_change\"]=metric_df_2019.groupby(\"week\")[\"change\"].transform(\"mean\")\n",
        "metric_df_2020=metric_df[metric_df[\"week\"].str.contains(\"2020\")]\n",
        "metric_df_2020[\"avg_change\"]=metric_df_2020.groupby(\"week\")[\"change\"].transform(\"mean\")"
      ],
      "id": "621b3fc5",
      "execution_count": null,
      "outputs": []
    },
    {
      "cell_type": "code",
      "metadata": {
        "id": "109fef47",
        "outputId": "ad322f4b-146c-4c51-cbc3-74bf4e328600"
      },
      "source": [
        "change_2019=metric_df_2019.set_index(\"week\")[\"avg_change\"].to_dict()\n",
        "change_2020=metric_df_2020.set_index(\"week\")[\"avg_change\"].to_dict()\n",
        "x_2019=[]\n",
        "y_2019=[]\n",
        "x_2020=[]\n",
        "y_2020=[]\n",
        "for month in range(1,13):\n",
        "    for week in range(1,5):\n",
        "        week_2019=str(month)+\".2019.week\"+str(week)\n",
        "        week_2020=str(month)+\".2020.week\"+str(week)\n",
        "        week_no=(month-1)*4+week\n",
        "        if week_2019 in change_2019:\n",
        "            x_2019.append(week_no)\n",
        "            y_2019.append(change_2019[week_2019])\n",
        "        if week_2020 in change_2020:\n",
        "            x_2020.append(week_no)\n",
        "            y_2020.append(change_2020[week_2020])\n",
        "plt.plot(x_2019,y_2019,label=\"2019\",color=\"red\")\n",
        "plt.plot(x_2020,y_2020,label=\"2020\",color=\"green\")\n",
        "plt.legend()\n",
        "plt.title(\"Average change in snow cover per week\")\n",
        "plt.xlabel(\"week number (4 weeks per month)\")\n",
        "plt.ylabel(\"Average change\")\n",
        "plt.show()"
      ],
      "id": "109fef47",
      "execution_count": null,
      "outputs": [
        {
          "data": {
            "image/png": "[encoded data removed]",
            "text/plain": [
              "<Figure size 432x288 with 1 Axes>"
            ]
          },
          "metadata": {
            "needs_background": "light"
          },
          "output_type": "display_data"
        }
      ]
    },
    {
      "cell_type": "code",
      "metadata": {
        "id": "7b916ebf",
        "outputId": "060af800-10e0-477d-adee-dddebd22fec7"
      },
      "source": [
        "week1=\"3.2019.week1\"\n",
        "week2=\"5.2019.week1\"\n",
        "week1_df=metric_df[metric_df[\"week\"]==week1][[\"location\",\"week\",\"mean\"]]\n",
        "week2_df=metric_df[metric_df[\"week\"]==week2][[\"location\",\"week\",\"mean\"]]\n",
        "week_df_2019=week1_df.merge(week2_df,on=\"location\",how=\"inner\",suffixes=[\"_pre\",\"_post\"])\n",
        "week_df_2019=week_df_2019[[\"mean_pre\",\"mean_post\"]]\n",
        "week_df_2019[\"covid\"]=0\n",
        "week1=\"3.2020.week1\"\n",
        "week2=\"5.2020.week1\"\n",
        "week1_df=metric_df[metric_df[\"week\"]==week1][[\"location\",\"week\",\"mean\",\"sdev\"]]\n",
        "week2_df=metric_df[metric_df[\"week\"]==week2][[\"location\",\"week\",\"mean\",\"sdev\"]]\n",
        "week_df_2020=week1_df.merge(week2_df,on=\"location\",how=\"inner\",suffixes=[\"_pre\",\"_post\"])\n",
        "week_df_2020=week_df_2020[[\"mean_pre\",\"mean_post\"]]\n",
        "week_df_2020[\"covid\"]=1\n",
        "\n",
        "week_df=week_df_2019.append(week_df_2020)\n",
        "\n",
        "result = sm.ols(formula=\"mean_post ~ mean_pre + covid\", data=week_df).fit()\n",
        "print(result.summary())"
      ],
      "id": "7b916ebf",
      "execution_count": null,
      "outputs": [
        {
          "name": "stdout",
          "output_type": "stream",
          "text": [
            "                            OLS Regression Results                            \n",
            "==============================================================================\n",
            "Dep. Variable:              mean_post   R-squared:                       0.559\n",
            "Model:                            OLS   Adj. R-squared:                  0.559\n",
            "Method:                 Least Squares   F-statistic:                 2.256e+04\n",
            "Date:                Tue, 02 Nov 2021   Prob (F-statistic):               0.00\n",
            "Time:                        04:00:30   Log-Likelihood:            -1.7109e+05\n",
            "No. Observations:               35626   AIC:                         3.422e+05\n",
            "Df Residuals:                   35623   BIC:                         3.422e+05\n",
            "Df Model:                           2                                         \n",
            "Covariance Type:            nonrobust                                         \n",
            "==============================================================================\n",
            "                 coef    std err          t      P>|t|      [0.025      0.975]\n",
            "------------------------------------------------------------------------------\n",
            "Intercept     -2.5091      0.375     -6.684      0.000      -3.245      -1.773\n",
            "mean_pre       0.8617      0.004    212.422      0.000       0.854       0.870\n",
            "covid          3.1719      0.313     10.148      0.000       2.559       3.785\n",
            "==============================================================================\n",
            "Omnibus:                     7310.043   Durbin-Watson:                   0.169\n",
            "Prob(Omnibus):                  0.000   Jarque-Bera (JB):            13870.309\n",
            "Skew:                          -1.269   Prob(JB):                         0.00\n",
            "Kurtosis:                       4.703   Cond. No.                         222.\n",
            "==============================================================================\n",
            "\n",
            "Notes:\n",
            "[1] Standard Errors assume that the covariance matrix of the errors is correctly specified.\n"
          ]
        }
      ]
    },
    {
      "cell_type": "markdown",
      "metadata": {
        "id": "a1e8a3b3"
      },
      "source": [
        "**Regression does show probable increase of snow cover of 3 points during middle months of 2020 compared to 2019. However, it is very tough to conclude anything from this.**"
      ],
      "id": "a1e8a3b3"
    },
    {
      "cell_type": "code",
      "metadata": {
        "id": "6e418198"
      },
      "source": [
        ""
      ],
      "id": "6e418198",
      "execution_count": null,
      "outputs": []
    }
  ]
}