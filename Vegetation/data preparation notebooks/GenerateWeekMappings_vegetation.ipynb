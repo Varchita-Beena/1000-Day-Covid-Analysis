{
  "nbformat": 4,
  "nbformat_minor": 5,
  "metadata": {
    "kernelspec": {
      "display_name": "Python 3 (ipykernel)",
      "language": "python",
      "name": "python3"
    },
    "language_info": {
      "codemirror_mode": {
        "name": "ipython",
        "version": 3
      },
      "file_extension": ".py",
      "mimetype": "text/x-python",
      "name": "python",
      "nbconvert_exporter": "python",
      "pygments_lexer": "ipython3",
      "version": "3.9.7"
    },
    "colab": {
      "name": "GenerateWeekMappings_vegetation.ipynb",
      "provenance": [],
      "collapsed_sections": []
    }
  },
  "cells": [
    {
      "cell_type": "markdown",
      "metadata": {
        "id": "5GVXjAWM_U2k"
      },
      "source": [
        "**We have 16-day data for Vegetation.**"
      ],
      "id": "5GVXjAWM_U2k"
    },
    {
      "cell_type": "code",
      "metadata": {
        "id": "3d704c3e"
      },
      "source": [
        "import datetime as dt\n",
        "import os"
      ],
      "id": "3d704c3e",
      "execution_count": null,
      "outputs": []
    },
    {
      "cell_type": "code",
      "metadata": {
        "id": "38be2fdc"
      },
      "source": [
        "DATA_PATH=\" \" #directory where MOD13C1 has been downloaded/stored.\"\n",
        "OUTPUT_PATH=\"data/\""
      ],
      "id": "38be2fdc",
      "execution_count": null,
      "outputs": []
    },
    {
      "cell_type": "markdown",
      "metadata": {
        "id": "mDL_nZ0M_xC5"
      },
      "source": [
        "We have in total 64 granules. So each granules belongs to 8-day data from 01-01-2019 to 30-09-21. We have 64 granule names stored in granules."
      ],
      "id": "mDL_nZ0M_xC5"
    },
    {
      "cell_type": "code",
      "metadata": {
        "id": "8f8b0e5a",
        "outputId": "d5649471-bec5-4eca-dc5e-b6912ede2ab1"
      },
      "source": [
        "granules=os.listdir(DATA_PATH)\n",
        "print(\"granules =\",len(granules))"
      ],
      "id": "8f8b0e5a",
      "execution_count": null,
      "outputs": [
        {
          "name": "stdout",
          "output_type": "stream",
          "text": [
            "granules = 64\n"
          ]
        }
      ]
    },
    {
      "cell_type": "markdown",
      "metadata": {
        "id": "2vlOD5ZC__SH"
      },
      "source": [
        "Mapping criteria\n",
        "We have to map each granule to weeks. Mapped into 2 weeks for each month. Here week represents 15-days. Which granule will map to which week is decided on the basis of number of days overlap. Minimum 5 days should be overlapped to map to a week. Once a granule is used it can not be used again.<br>\n",
        "week-1: dates 1 to 15<br>\n",
        "week-2: dates 15 to end<br>"
      ],
      "id": "2vlOD5ZC__SH"
    },
    {
      "cell_type": "code",
      "metadata": {
        "id": "dd451a5c"
      },
      "source": [
        "week_length=15\n",
        "n_weeks_per_month=2\n",
        "min_overlap=5"
      ],
      "id": "dd451a5c",
      "execution_count": null,
      "outputs": []
    },
    {
      "cell_type": "markdown",
      "metadata": {
        "id": "RfVRDAWqBOvc"
      },
      "source": [
        "# Example File Names\n",
        "Name: MOD13C1.A2019001.061.20202861815103.hdf<br><br>\n",
        "## Making a dictionary with key as granule name and value as 8 dates that belong to that granule\n",
        "Year is extracted from above names as 2019.\n",
        "Using datetime.date(2019,1,1) we will a date as 2019-01-01. These dates are stored are in dictionary (named granules_dates) as values for their granule names as keys.<br><br>\n",
        "\n",
        "For each in key(granule) in dictionary only one value is present(date extracted from granule name). So, continously next 14 dates are added in the values. So, for 2019-01-01 next 14 dates will be (2019-01-01, 2019-01-02, 2019-01-03,....,2019-01-14). Hence, every key(granule name) will have list of 15 dates as value."
      ],
      "id": "RfVRDAWqBOvc"
    },
    {
      "cell_type": "code",
      "metadata": {
        "id": "db992888"
      },
      "source": [
        "granule_dates={}\n",
        "for granule in granules:\n",
        "    values=granule.split(\".\")\n",
        "    year=int(values[1][1:5])\n",
        "    date=dt.date(year,1,1)+dt.timedelta(days=int(values[1][5:8])-1)\n",
        "    granule_dates[granule]=[date]\n",
        "    for i in range(15):\n",
        "        date=date+dt.timedelta(days=1)\n",
        "        granule_dates[granule].append(date)"
      ],
      "id": "db992888",
      "execution_count": null,
      "outputs": []
    },
    {
      "cell_type": "markdown",
      "metadata": {
        "id": "gjCwqygVHSi9"
      },
      "source": [
        "# Making a dictionary with key as week and value as the dates falling that week\n",
        "For loop over 3 years namely 2019, 2020, 2021, over 12 months i.e. 1 to 12 and over 4 weeks (weeks starting from 1) and day starting from 1st. (i.e. starting from 2019-01-01).<br><br>\n",
        "Making a dictionary (named week_dates) with keys as start of week and values as the days falling in that week. Fetching date after every 15 days for 2 times(2 weeks in a month) (say 2019-01-01, 2019-01-15).<br><br>\n",
        "\n",
        "The innermost loop is running from 0 to 14 as we have found 1 date in the last date. So, for every date extracted in the above step we are appending consecutive 14 more dates. The only one more constraint is all the dates should be of same month, as soon as month changes the innermost loop breaks, giving dates of same month only.<br><br>\n",
        "\n",
        "Finally the dictionary is made as say: Key = 1.2019.week1 and its value is [2019-01-01, 2019-01-02, 2019-01-03, ..., 2019-01-14]"
      ],
      "id": "gjCwqygVHSi9"
    },
    {
      "cell_type": "code",
      "metadata": {
        "id": "94a081a9"
      },
      "source": [
        "week_dates={}\n",
        "months=[i+1 for i in range(12)]\n",
        "years=[2019,2020,2021]\n",
        "for year in years:\n",
        "    for month in months:\n",
        "        for week in range(1,n_weeks_per_month+1,1):\n",
        "            date=dt.date(year,month,1)+dt.timedelta(days=week_length*(week-1))\n",
        "            dates=[date]\n",
        "            for i in range(week_length-1):\n",
        "                new_date=date+dt.timedelta(days=1)\n",
        "                if new_date.month==date.month:\n",
        "                    dates.append(new_date)\n",
        "                    date=new_date\n",
        "                else:\n",
        "                    break\n",
        "            week_dates[str(month)+\".\"+str(year)+\".\"+\"week\"+str(week)]=dates                "
      ],
      "id": "94a081a9",
      "execution_count": null,
      "outputs": []
    },
    {
      "cell_type": "markdown",
      "metadata": {
        "id": "QK6zqLbBH3vX"
      },
      "source": [
        "# Making a dictionary\n",
        "Now we have week_dates dictionary with keys as name of week and values as the days falling in that week. Another dictionary granule_dates with key as granule name and value as 15 dates that belong to that granule.<br><br>\n",
        "\n",
        "Now, Take intersection of dates stored in week_dates for evey week with dates stored in granule_dates for every granule. If minimum over lap is equal or more than 5 then put the total number of intersected dates as value in intersection dictionary with key as granule name.<br><br>\n",
        "\n",
        "If the length of intersection dictionary is equal or greater than 1 then put week as key in week_granule dictionary with value as max of zip of intersection values and keys. By this we will get the key (granule name) which has max number of intersection.<br><br>\n",
        "\n",
        "We want every granule to be used as once only hence the for loop is over unused granules using set intersection."
      ],
      "id": "QK6zqLbBH3vX"
    },
    {
      "cell_type": "code",
      "metadata": {
        "id": "8274627e"
      },
      "source": [
        "week_granule={}\n",
        "for week in week_dates:\n",
        "    intersection={}\n",
        "    for granule in set(granules).difference(set(week_granule.values())):\n",
        "        value=len(set(week_dates[week]).intersection(granule_dates[granule]))\n",
        "        if value>=min_overlap:\n",
        "            intersection[granule]=value\n",
        "    if len(intersection)>=1:\n",
        "        week_granule[week]=max(zip(intersection.values(), intersection.keys()))[1]"
      ],
      "id": "8274627e",
      "execution_count": null,
      "outputs": []
    },
    {
      "cell_type": "markdown",
      "metadata": {
        "id": "sX6vvhpwIH8l"
      },
      "source": [
        "# Making a csv file of week mappings\n",
        "File name week_mappings_airs.csv with columns week and granule, showing the mapping of which granule falls in which week. Use week_granule dictionary from above step which has key as week, store it in week column and its value (i.e. name of granule) under granule column."
      ],
      "id": "sX6vvhpwIH8l"
    },
    {
      "cell_type": "code",
      "metadata": {
        "id": "aeed30d7"
      },
      "source": [
        "fp=open(OUTPUT_PATH+\"week_mappings_vegetation.csv\",\"w\")\n",
        "fp.write(\",\".join([\"week\",\"granule\"])+\"\\n\")\n",
        "for week in week_granule:\n",
        "    fp.write(week+\",\"+week_granule[week]+\"\\n\")\n",
        "fp.close()"
      ],
      "id": "aeed30d7",
      "execution_count": null,
      "outputs": []
    },
    {
      "cell_type": "code",
      "metadata": {
        "id": "5f783b66"
      },
      "source": [
        ""
      ],
      "id": "5f783b66",
      "execution_count": null,
      "outputs": []
    }
  ]
}