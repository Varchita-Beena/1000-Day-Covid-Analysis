{
  "nbformat": 4,
  "nbformat_minor": 5,
  "metadata": {
    "kernelspec": {
      "display_name": "Python 3 (ipykernel)",
      "language": "python",
      "name": "python3"
    },
    "language_info": {
      "codemirror_mode": {
        "name": "ipython",
        "version": 3
      },
      "file_extension": ".py",
      "mimetype": "text/x-python",
      "name": "python",
      "nbconvert_exporter": "python",
      "pygments_lexer": "ipython3",
      "version": "3.9.7"
    },
    "colab": {
      "name": "Vegetation_Globe.ipynb",
      "provenance": []
    }
  },
  "cells": [
    {
      "cell_type": "code",
      "metadata": {
        "id": "dbc0b496"
      },
      "source": [
        "import pandas as pd\n",
        "pd.set_option('display.max_rows', 500)\n",
        "pd.options.mode.use_inf_as_na = True\n",
        "import numpy as np\n",
        "import os\n",
        "import math\n",
        "from scipy.stats import pearsonr as corr\n",
        "from matplotlib import pyplot as plt\n",
        "#import statsmodels.api as sm\n",
        "import statsmodels.formula.api as sm\n",
        "import scipy\n",
        "import datetime as dt"
      ],
      "id": "dbc0b496",
      "execution_count": null,
      "outputs": []
    },
    {
      "cell_type": "code",
      "metadata": {
        "id": "de822273"
      },
      "source": [
        "VEG_PATH=\"vegetation/data/\"\n",
        "COVID_PATH=\"covidoxford/data/\""
      ],
      "id": "de822273",
      "execution_count": null,
      "outputs": []
    },
    {
      "cell_type": "markdown",
      "metadata": {
        "id": "_Nwo3YFZIPfG"
      },
      "source": [
        "# Analysis of NVDI across globe\n",
        "The almost same pattern is observed in EVI "
      ],
      "id": "_Nwo3YFZIPfG"
    },
    {
      "cell_type": "code",
      "metadata": {
        "id": "8617a8ca",
        "outputId": "c8e0ccdc-b5be-43b3-e063-b3b040358cda"
      },
      "source": [
        "sc_df=pd.read_csv(VEG_PATH+\"all_locations_1degx1deg_vegetation.csv\")\n",
        "sc_df[\"metric\"].unique()"
      ],
      "id": "8617a8ca",
      "execution_count": null,
      "outputs": [
        {
          "data": {
            "text/plain": [
              "array(['CMG 0.05 Deg 16 days NDVI', 'CMG 0.05 Deg 16 days EVI'],\n",
              "      dtype=object)"
            ]
          },
          "execution_count": 3,
          "metadata": {},
          "output_type": "execute_result"
        }
      ]
    },
    {
      "cell_type": "markdown",
      "metadata": {
        "id": "axqhSruVIkVk"
      },
      "source": [
        "Select the rows for required metric"
      ],
      "id": "axqhSruVIkVk"
    },
    {
      "cell_type": "code",
      "metadata": {
        "id": "28d59847"
      },
      "source": [
        "metric_df=sc_df[(sc_df[\"metric\"]==\"CMG 0.05 Deg 16 days NDVI\")&(sc_df[\"mean\"]>-3000)&(~sc_df[\"mean\"].isna())]"
      ],
      "id": "28d59847",
      "execution_count": null,
      "outputs": []
    },
    {
      "cell_type": "markdown",
      "metadata": {
        "id": "TdXC5gxPJg2s"
      },
      "source": [
        "Analysis for for 1st and 2nd week of all months (12) for  year 2019 and 2020. Select mean for metric for those weeks with location as index. So week1_data and week2_data dictionaries are made with key as location and value as mean of metric. We are taking data from week1_data and week2_data for locations which are present in both dictionaries across the globe. <br><br>\n",
        "There will be 24 points as we are taking the mean over all locations. So each point represents NDVI for that week over all locations across globe. And 2 weeks per month for vegetaion data hence 24 points. List x stores week numbers, list values1 store 24 mean values of 2019 and list values2 store mean values of 2020."
      ],
      "id": "TdXC5gxPJg2s"
    },
    {
      "cell_type": "code",
      "metadata": {
        "scrolled": true,
        "id": "00bb5922",
        "outputId": "ec032db0-badf-4189-97e0-85ac01371352"
      },
      "source": [
        "x=[]\n",
        "values1=[]\n",
        "values2=[]\n",
        "for month in range(1,13):\n",
        "    for week in range(1,3):\n",
        "        week1=str(month)+\".2019.week\"+str(week)\n",
        "        week2=str(month)+\".2020.week\"+str(week)\n",
        "        week1_data=metric_df[metric_df[\"week\"]==week1].set_index(\"location\")[\"mean\"].to_dict()\n",
        "        week2_data=metric_df[metric_df[\"week\"]==week2].set_index(\"location\")[\"mean\"].to_dict()\n",
        "        temp1=[]\n",
        "        temp2=[]\n",
        "        for location in week1_data:\n",
        "            if location in week2_data:\n",
        "                temp1.append(week1_data[location])\n",
        "                temp2.append(week2_data[location])\n",
        "        if len(temp1)>=100:\n",
        "            x.append((month-1)*2+week)\n",
        "            values1.append(np.mean(temp1))\n",
        "            values2.append(np.mean(temp2))\n",
        "            print(\" month =\",month,\" week =\",week,\"2019 =\",values1[-1],\"2020 =\",values2[-1])"
      ],
      "id": "00bb5922",
      "execution_count": null,
      "outputs": [
        {
          "name": "stdout",
          "output_type": "stream",
          "text": [
            " month = 1  week = 1 2019 = 3051.2960754766427 2020 = 3106.2962720304004\n",
            " month = 1  week = 2 2019 = 2812.7750431778927 2020 = 2899.036022699235\n",
            " month = 2  week = 1 2019 = 2644.949161305147 2020 = 2730.735523897059\n",
            " month = 2  week = 2 2019 = 2578.888706320517 2020 = 2685.3621973929235\n",
            " month = 3  week = 1 2019 = 2572.421100330526 2020 = 2681.2283825567756\n",
            " month = 3  week = 2 2019 = 2691.9478339638727 2020 = 2777.520701230884\n",
            " month = 4  week = 1 2019 = 2883.150892143808 2020 = 2898.3541411451397\n",
            " month = 4  week = 2 2019 = 3112.456807887024 2020 = 3141.6410871302955\n",
            " month = 5  week = 1 2019 = 3501.24586842947 2020 = 3512.3058961509755\n",
            " month = 5  week = 2 2019 = 3997.3660680982575 2020 = 4005.4850535514465\n",
            " month = 6  week = 1 2019 = 4459.78921281245 2020 = 4454.791984224271\n",
            " month = 6  week = 2 2019 = 4776.574979994665 2020 = 4827.0570818885035\n",
            " month = 8  week = 1 2019 = 4928.874019529374 2020 = 5003.530761432154\n",
            " month = 8  week = 2 2019 = 4847.943425402581 2020 = 4931.487362695958\n",
            " month = 9  week = 1 2019 = 4622.171611526147 2020 = 4682.905869797225\n",
            " month = 9  week = 2 2019 = 4262.864899461305 2020 = 4331.315270147741\n",
            " month = 10  week = 1 2019 = 3764.957268157022 2020 = 3902.5953043106215\n",
            " month = 10  week = 2 2019 = 3518.679347826087 2020 = 3501.118724787091\n",
            " month = 11  week = 1 2019 = 3260.853536835926 2020 = 3352.1371294393894\n",
            " month = 11  week = 2 2019 = 3317.262911700628 2020 = 3360.328335255671\n",
            " month = 12  week = 1 2019 = 3331.7875485321165 2020 = 3427.713098562768\n",
            " month = 12  week = 2 2019 = 3268.3043774717034 2020 = 3304.919541797354\n"
          ]
        }
      ]
    },
    {
      "cell_type": "markdown",
      "metadata": {
        "id": "tAnZpGpQLxmm"
      },
      "source": [
        "Plot the curve of NDVI. We can see there is not much difference between 2019 and 2020. Vegetation metric depends on a lot of factor. We should not study this isolation. Example, man-made forest fires or agricultural things tale place at different time all over the world. Additionally rainfall over the previous years. or particularly for 2019 and 2020 were different. There is a little different in 2020 vegetation for week 5 and for week 15 but this difference can be due to other things too not only the lockdown thing. Obivously, lockdown had helped but it should be studied with additional parameters. We should not expect change in vegetation rapidly. It takes time."
      ],
      "id": "tAnZpGpQLxmm"
    },
    {
      "cell_type": "code",
      "metadata": {
        "id": "ee10c882",
        "outputId": "a94d0a40-9fe0-48f2-de23-a2989b42dc6c"
      },
      "source": [
        "plt.plot(x,values1,label=\"2019\",color=\"red\")\n",
        "plt.plot(x,values2,label=\"2020\",color=\"green\")\n",
        "plt.legend()\n",
        "plt.xlabel(\"week number (2 weeks per month)\")\n",
        "plt.ylabel(\"NDVI\")\n",
        "plt.show()"
      ],
      "id": "ee10c882",
      "execution_count": null,
      "outputs": [
        {
          "data": {
            "image/png": "[encoded data removed]",
            "text/plain": [
              "<Figure size 432x288 with 1 Axes>"
            ]
          },
          "metadata": {
            "needs_background": "light"
          },
          "output_type": "display_data"
        }
      ]
    },
    {
      "cell_type": "code",
      "metadata": {
        "id": "4f1ffc96"
      },
      "source": [
        ""
      ],
      "id": "4f1ffc96",
      "execution_count": null,
      "outputs": []
    }
  ]
}