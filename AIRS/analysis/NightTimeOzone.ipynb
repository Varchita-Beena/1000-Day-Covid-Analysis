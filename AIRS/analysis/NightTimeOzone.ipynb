{
  "nbformat": 4,
  "nbformat_minor": 5,
  "metadata": {
    "kernelspec": {
      "display_name": "Python 3 (ipykernel)",
      "language": "python",
      "name": "python3"
    },
    "language_info": {
      "codemirror_mode": {
        "name": "ipython",
        "version": 3
      },
      "file_extension": ".py",
      "mimetype": "text/x-python",
      "name": "python",
      "nbconvert_exporter": "python",
      "pygments_lexer": "ipython3",
      "version": "3.9.7"
    },
    "colab": {
      "name": "NightTimeOzone.ipynb",
      "provenance": []
    }
  },
  "cells": [
    {
      "cell_type": "markdown",
      "metadata": {
        "id": "9KJa6JwDrekI"
      },
      "source": [
        "# Analysis of Ozone at night at 1x1 degree"
      ],
      "id": "9KJa6JwDrekI"
    },
    {
      "cell_type": "code",
      "metadata": {
        "id": "e5bf3bc4",
        "colab": {
          "base_uri": "https://localhost:8080/"
        },
        "outputId": "d8f7b382-ac59-4cb7-eac0-7d540bd1adad"
      },
      "source": [
        "import pandas as pd\n",
        "pd.set_option('display.max_rows', 500)\n",
        "pd.options.mode.use_inf_as_na = True\n",
        "import numpy as np\n",
        "import os\n",
        "import math\n",
        "from scipy.stats import pearsonr as corr\n",
        "from matplotlib import pyplot as plt\n",
        "import statsmodels.formula.api as sm"
      ],
      "id": "e5bf3bc4",
      "execution_count": null,
      "outputs": [
        {
          "output_type": "stream",
          "name": "stderr",
          "text": [
            "/usr/local/lib/python3.7/dist-packages/statsmodels/tools/_testing.py:19: FutureWarning: pandas.util.testing is deprecated. Use the functions in the public API at pandas.testing instead.\n",
            "  import pandas.util.testing as tm\n"
          ]
        }
      ]
    },
    {
      "cell_type": "code",
      "metadata": {
        "id": "0ad3932f"
      },
      "source": [
        "AIRS_PATH=\"airs/data/\" #path where the data made is stored\n",
        "COVID_PATH=\"covidoxford/data/\"#path for data regarding covid\n",
        "CITIES_PATH=\"cities/data/\"#city information path"
      ],
      "id": "0ad3932f",
      "execution_count": null,
      "outputs": []
    },
    {
      "cell_type": "code",
      "metadata": {
        "id": "80b7946a"
      },
      "source": [
        "cities_df=pd.read_csv(CITIES_PATH+\"cities_1degx1deg.csv\",delimiter=\"~\")"
      ],
      "id": "80b7946a",
      "execution_count": null,
      "outputs": []
    },
    {
      "cell_type": "code",
      "metadata": {
        "id": "ea026ea8"
      },
      "source": [
        "airs_df=pd.read_csv(AIRS_PATH+\"indian_cities_1degx1deg_airs.csv\")"
      ],
      "id": "ea026ea8",
      "execution_count": null,
      "outputs": []
    },
    {
      "cell_type": "code",
      "metadata": {
        "id": "3c666b71",
        "outputId": "e1f95d53-703e-423b-8422-5011478daea8"
      },
      "source": [
        "airs_df[\"metric\"].unique()"
      ],
      "id": "3c666b71",
      "execution_count": null,
      "outputs": [
        {
          "data": {
            "text/plain": [
              "array(['SurfPres_Forecast_TqJ_A', 'SurfSkinTemp_TqJ_A', 'EmisIR_TqJ_A#1',\n",
              "       'EmisIR_TqJ_A#2', 'EmisIR_TqJ_A#3', 'EmisIR_TqJ_A#4',\n",
              "       'Temperature_TqJ_A#1', 'Temperature_TqJ_A#2',\n",
              "       'Temperature_TqJ_A#3', 'Temperature_TqJ_A#4',\n",
              "       'Temperature_TqJ_A#5', 'Temperature_TqJ_A#6',\n",
              "       'Temperature_TqJ_A#7', 'Temperature_TqJ_A#8',\n",
              "       'Temperature_TqJ_A#9', 'Temperature_TqJ_A#10',\n",
              "       'Temperature_TqJ_A#11', 'Temperature_TqJ_A#12',\n",
              "       'Temperature_TqJ_A#13', 'Temperature_TqJ_A#14',\n",
              "       'Temperature_TqJ_A#15', 'Temperature_TqJ_A#16',\n",
              "       'Temperature_TqJ_A#17', 'Temperature_TqJ_A#18',\n",
              "       'Temperature_TqJ_A#19', 'Temperature_TqJ_A#20',\n",
              "       'Temperature_TqJ_A#21', 'Temperature_TqJ_A#22',\n",
              "       'Temperature_TqJ_A#23', 'Temperature_TqJ_A#24',\n",
              "       'SurfAirTemp_TqJ_A', 'TropPres_TqJ_A', 'TropTemp_TqJ_A',\n",
              "       'TotH2OVap_TqJ_A', 'H2O_MMR_Lyr_TqJ_A#1', 'H2O_MMR_Lyr_TqJ_A#2',\n",
              "       'H2O_MMR_Lyr_TqJ_A#3', 'H2O_MMR_Lyr_TqJ_A#4',\n",
              "       'H2O_MMR_Lyr_TqJ_A#5', 'H2O_MMR_Lyr_TqJ_A#6',\n",
              "       'H2O_MMR_Lyr_TqJ_A#7', 'H2O_MMR_Lyr_TqJ_A#8',\n",
              "       'H2O_MMR_Lyr_TqJ_A#9', 'H2O_MMR_Lyr_TqJ_A#10',\n",
              "       'H2O_MMR_Lyr_TqJ_A#11', 'H2O_MMR_Lyr_TqJ_A#12', 'H2O_MMR_TqJ_A#1',\n",
              "       'H2O_MMR_TqJ_A#2', 'H2O_MMR_TqJ_A#3', 'H2O_MMR_TqJ_A#4',\n",
              "       'H2O_MMR_TqJ_A#5', 'H2O_MMR_TqJ_A#6', 'H2O_MMR_TqJ_A#7',\n",
              "       'H2O_MMR_TqJ_A#8', 'H2O_MMR_TqJ_A#9', 'H2O_MMR_TqJ_A#10',\n",
              "       'H2O_MMR_TqJ_A#11', 'H2O_MMR_TqJ_A#12', 'H2O_MMR_Surf_TqJ_A',\n",
              "       'RelHum_TqJ_A#1', 'RelHum_TqJ_A#2', 'RelHum_TqJ_A#3',\n",
              "       'RelHum_TqJ_A#4', 'RelHum_TqJ_A#5', 'RelHum_TqJ_A#6',\n",
              "       'RelHum_TqJ_A#7', 'RelHum_TqJ_A#8', 'RelHum_TqJ_A#9',\n",
              "       'RelHum_TqJ_A#10', 'RelHum_TqJ_A#11', 'RelHum_TqJ_A#12',\n",
              "       'RelHumSurf_TqJ_A', 'RelHum_liquid_TqJ_A#1',\n",
              "       'RelHum_liquid_TqJ_A#2', 'RelHum_liquid_TqJ_A#3',\n",
              "       'RelHum_liquid_TqJ_A#4', 'RelHum_liquid_TqJ_A#5',\n",
              "       'RelHum_liquid_TqJ_A#6', 'RelHum_liquid_TqJ_A#7',\n",
              "       'RelHum_liquid_TqJ_A#8', 'RelHum_liquid_TqJ_A#9',\n",
              "       'RelHum_liquid_TqJ_A#10', 'RelHum_liquid_TqJ_A#11',\n",
              "       'RelHum_liquid_TqJ_A#12', 'RelHumSurf_liquid_TqJ_A',\n",
              "       'TropHeight_TqJ_A', 'GPHeight_TqJ_A#1', 'GPHeight_TqJ_A#2',\n",
              "       'GPHeight_TqJ_A#3', 'GPHeight_TqJ_A#4', 'GPHeight_TqJ_A#5',\n",
              "       'GPHeight_TqJ_A#6', 'GPHeight_TqJ_A#7', 'GPHeight_TqJ_A#8',\n",
              "       'GPHeight_TqJ_A#9', 'GPHeight_TqJ_A#10', 'GPHeight_TqJ_A#11',\n",
              "       'GPHeight_TqJ_A#12', 'GPHeight_TqJ_A#13', 'GPHeight_TqJ_A#14',\n",
              "       'GPHeight_TqJ_A#15', 'GPHeight_TqJ_A#16', 'GPHeight_TqJ_A#17',\n",
              "       'GPHeight_TqJ_A#18', 'GPHeight_TqJ_A#19', 'GPHeight_TqJ_A#20',\n",
              "       'GPHeight_TqJ_A#21', 'GPHeight_TqJ_A#22', 'GPHeight_TqJ_A#23',\n",
              "       'GPHeight_TqJ_A#24', 'CloudFrc_TqJ_A', 'CloudTopPres_TqJ_A',\n",
              "       'CloudTopTemp_TqJ_A', 'FineCloudFrc_TqJ_A#1',\n",
              "       'FineCloudFrc_TqJ_A#2', 'FineCloudFrc_TqJ_A#3',\n",
              "       'FineCloudFrc_TqJ_A#4', 'FineCloudFrc_TqJ_A#5',\n",
              "       'FineCloudFrc_TqJ_A#6', 'FineCloudFrc_TqJ_A#7',\n",
              "       'FineCloudFrc_TqJ_A#8', 'FineCloudFrc_TqJ_A#9',\n",
              "       'FineCloudFrc_TqJ_A#10', 'FineCloudFrc_TqJ_A#11',\n",
              "       'FineCloudFrc_TqJ_A#12', 'CoarseCloudFrc_TqJ_A#1',\n",
              "       'CoarseCloudFrc_TqJ_A#2', 'CoarseCloudFrc_TqJ_A#3',\n",
              "       'CoarseCloudPres_TqJ_A#1', 'CoarseCloudPres_TqJ_A#2',\n",
              "       'CoarseCloudPres_TqJ_A#3', 'CoarseCloudTemp_TqJ_A#1',\n",
              "       'CoarseCloudTemp_TqJ_A#2', 'CoarseCloudTemp_TqJ_A#3',\n",
              "       'TotO3_TqJ_A', 'O3_VMR_TqJ_A#1', 'O3_VMR_TqJ_A#2',\n",
              "       'O3_VMR_TqJ_A#3', 'O3_VMR_TqJ_A#4', 'O3_VMR_TqJ_A#5',\n",
              "       'O3_VMR_TqJ_A#6', 'O3_VMR_TqJ_A#7', 'O3_VMR_TqJ_A#8',\n",
              "       'O3_VMR_TqJ_A#9', 'O3_VMR_TqJ_A#10', 'O3_VMR_TqJ_A#11',\n",
              "       'O3_VMR_TqJ_A#12', 'O3_VMR_TqJ_A#13', 'O3_VMR_TqJ_A#14',\n",
              "       'O3_VMR_TqJ_A#15', 'O3_VMR_TqJ_A#16', 'O3_VMR_TqJ_A#17',\n",
              "       'O3_VMR_TqJ_A#18', 'O3_VMR_TqJ_A#19', 'O3_VMR_TqJ_A#20',\n",
              "       'O3_VMR_TqJ_A#21', 'O3_VMR_TqJ_A#22', 'O3_VMR_TqJ_A#23',\n",
              "       'O3_VMR_TqJ_A#24', 'CO_VMR_TqJ_A#1', 'CO_VMR_TqJ_A#2',\n",
              "       'CO_VMR_TqJ_A#3', 'CO_VMR_TqJ_A#4', 'CO_VMR_TqJ_A#5',\n",
              "       'CO_VMR_TqJ_A#6', 'CO_VMR_TqJ_A#7', 'CO_VMR_TqJ_A#8',\n",
              "       'CO_VMR_TqJ_A#9', 'CO_VMR_TqJ_A#10', 'CO_VMR_TqJ_A#11',\n",
              "       'CO_VMR_TqJ_A#12', 'CO_VMR_TqJ_A#13', 'CO_VMR_TqJ_A#14',\n",
              "       'CO_VMR_TqJ_A#15', 'CO_VMR_TqJ_A#16', 'CO_VMR_TqJ_A#17',\n",
              "       'CO_VMR_TqJ_A#18', 'CO_VMR_TqJ_A#19', 'CO_VMR_TqJ_A#20',\n",
              "       'CO_VMR_TqJ_A#21', 'CO_VMR_TqJ_A#22', 'CO_VMR_TqJ_A#23',\n",
              "       'CO_VMR_TqJ_A#24', 'CH4_VMR_TqJ_A#1', 'CH4_VMR_TqJ_A#2',\n",
              "       'CH4_VMR_TqJ_A#3', 'CH4_VMR_TqJ_A#4', 'CH4_VMR_TqJ_A#5',\n",
              "       'CH4_VMR_TqJ_A#6', 'CH4_VMR_TqJ_A#7', 'CH4_VMR_TqJ_A#8',\n",
              "       'CH4_VMR_TqJ_A#9', 'CH4_VMR_TqJ_A#10', 'CH4_VMR_TqJ_A#11',\n",
              "       'CH4_VMR_TqJ_A#12', 'CH4_VMR_TqJ_A#13', 'CH4_VMR_TqJ_A#14',\n",
              "       'CH4_VMR_TqJ_A#15', 'CH4_VMR_TqJ_A#16', 'CH4_VMR_TqJ_A#17',\n",
              "       'CH4_VMR_TqJ_A#18', 'CH4_VMR_TqJ_A#19', 'CH4_VMR_TqJ_A#20',\n",
              "       'CH4_VMR_TqJ_A#21', 'CH4_VMR_TqJ_A#22', 'CH4_VMR_TqJ_A#23',\n",
              "       'CH4_VMR_TqJ_A#24', 'OLR_TqJ_A', 'ClrOLR_TqJ_A',\n",
              "       'SurfPres_Forecast_TqJ_D', 'SurfSkinTemp_TqJ_D', 'EmisIR_TqJ_D#1',\n",
              "       'EmisIR_TqJ_D#2', 'EmisIR_TqJ_D#3', 'EmisIR_TqJ_D#4',\n",
              "       'Temperature_TqJ_D#1', 'Temperature_TqJ_D#2',\n",
              "       'Temperature_TqJ_D#3', 'Temperature_TqJ_D#4',\n",
              "       'Temperature_TqJ_D#5', 'Temperature_TqJ_D#6',\n",
              "       'Temperature_TqJ_D#7', 'Temperature_TqJ_D#8',\n",
              "       'Temperature_TqJ_D#9', 'Temperature_TqJ_D#10',\n",
              "       'Temperature_TqJ_D#11', 'Temperature_TqJ_D#12',\n",
              "       'Temperature_TqJ_D#13', 'Temperature_TqJ_D#14',\n",
              "       'Temperature_TqJ_D#15', 'Temperature_TqJ_D#16',\n",
              "       'Temperature_TqJ_D#17', 'Temperature_TqJ_D#18',\n",
              "       'Temperature_TqJ_D#19', 'Temperature_TqJ_D#20',\n",
              "       'Temperature_TqJ_D#21', 'Temperature_TqJ_D#22',\n",
              "       'Temperature_TqJ_D#23', 'Temperature_TqJ_D#24',\n",
              "       'SurfAirTemp_TqJ_D', 'TropPres_TqJ_D', 'TropTemp_TqJ_D',\n",
              "       'TotH2OVap_TqJ_D', 'H2O_MMR_Lyr_TqJ_D#1', 'H2O_MMR_Lyr_TqJ_D#2',\n",
              "       'H2O_MMR_Lyr_TqJ_D#3', 'H2O_MMR_Lyr_TqJ_D#4',\n",
              "       'H2O_MMR_Lyr_TqJ_D#5', 'H2O_MMR_Lyr_TqJ_D#6',\n",
              "       'H2O_MMR_Lyr_TqJ_D#7', 'H2O_MMR_Lyr_TqJ_D#8',\n",
              "       'H2O_MMR_Lyr_TqJ_D#9', 'H2O_MMR_Lyr_TqJ_D#10',\n",
              "       'H2O_MMR_Lyr_TqJ_D#11', 'H2O_MMR_Lyr_TqJ_D#12', 'H2O_MMR_TqJ_D#1',\n",
              "       'H2O_MMR_TqJ_D#2', 'H2O_MMR_TqJ_D#3', 'H2O_MMR_TqJ_D#4',\n",
              "       'H2O_MMR_TqJ_D#5', 'H2O_MMR_TqJ_D#6', 'H2O_MMR_TqJ_D#7',\n",
              "       'H2O_MMR_TqJ_D#8', 'H2O_MMR_TqJ_D#9', 'H2O_MMR_TqJ_D#10',\n",
              "       'H2O_MMR_TqJ_D#11', 'H2O_MMR_TqJ_D#12', 'H2O_MMR_Surf_TqJ_D',\n",
              "       'RelHum_TqJ_D#1', 'RelHum_TqJ_D#2', 'RelHum_TqJ_D#3',\n",
              "       'RelHum_TqJ_D#4', 'RelHum_TqJ_D#5', 'RelHum_TqJ_D#6',\n",
              "       'RelHum_TqJ_D#7', 'RelHum_TqJ_D#8', 'RelHum_TqJ_D#9',\n",
              "       'RelHum_TqJ_D#10', 'RelHum_TqJ_D#11', 'RelHum_TqJ_D#12',\n",
              "       'RelHumSurf_TqJ_D', 'RelHum_liquid_TqJ_D#1',\n",
              "       'RelHum_liquid_TqJ_D#2', 'RelHum_liquid_TqJ_D#3',\n",
              "       'RelHum_liquid_TqJ_D#4', 'RelHum_liquid_TqJ_D#5',\n",
              "       'RelHum_liquid_TqJ_D#6', 'RelHum_liquid_TqJ_D#7',\n",
              "       'RelHum_liquid_TqJ_D#8', 'RelHum_liquid_TqJ_D#9',\n",
              "       'RelHum_liquid_TqJ_D#10', 'RelHum_liquid_TqJ_D#11',\n",
              "       'RelHum_liquid_TqJ_D#12', 'RelHumSurf_liquid_TqJ_D',\n",
              "       'TropHeight_TqJ_D', 'GPHeight_TqJ_D#1', 'GPHeight_TqJ_D#2',\n",
              "       'GPHeight_TqJ_D#3', 'GPHeight_TqJ_D#4', 'GPHeight_TqJ_D#5',\n",
              "       'GPHeight_TqJ_D#6', 'GPHeight_TqJ_D#7', 'GPHeight_TqJ_D#8',\n",
              "       'GPHeight_TqJ_D#9', 'GPHeight_TqJ_D#10', 'GPHeight_TqJ_D#11',\n",
              "       'GPHeight_TqJ_D#12', 'GPHeight_TqJ_D#13', 'GPHeight_TqJ_D#14',\n",
              "       'GPHeight_TqJ_D#15', 'GPHeight_TqJ_D#16', 'GPHeight_TqJ_D#17',\n",
              "       'GPHeight_TqJ_D#18', 'GPHeight_TqJ_D#19', 'GPHeight_TqJ_D#20',\n",
              "       'GPHeight_TqJ_D#21', 'GPHeight_TqJ_D#22', 'GPHeight_TqJ_D#23',\n",
              "       'GPHeight_TqJ_D#24', 'CloudFrc_TqJ_D', 'CloudTopPres_TqJ_D',\n",
              "       'CloudTopTemp_TqJ_D', 'FineCloudFrc_TqJ_D#1',\n",
              "       'FineCloudFrc_TqJ_D#2', 'FineCloudFrc_TqJ_D#3',\n",
              "       'FineCloudFrc_TqJ_D#4', 'FineCloudFrc_TqJ_D#5',\n",
              "       'FineCloudFrc_TqJ_D#6', 'FineCloudFrc_TqJ_D#7',\n",
              "       'FineCloudFrc_TqJ_D#8', 'FineCloudFrc_TqJ_D#9',\n",
              "       'FineCloudFrc_TqJ_D#10', 'FineCloudFrc_TqJ_D#11',\n",
              "       'FineCloudFrc_TqJ_D#12', 'CoarseCloudFrc_TqJ_D#1',\n",
              "       'CoarseCloudFrc_TqJ_D#2', 'CoarseCloudFrc_TqJ_D#3',\n",
              "       'CoarseCloudPres_TqJ_D#1', 'CoarseCloudPres_TqJ_D#2',\n",
              "       'CoarseCloudPres_TqJ_D#3', 'CoarseCloudTemp_TqJ_D#1',\n",
              "       'CoarseCloudTemp_TqJ_D#2', 'CoarseCloudTemp_TqJ_D#3',\n",
              "       'TotO3_TqJ_D', 'O3_VMR_TqJ_D#1', 'O3_VMR_TqJ_D#2',\n",
              "       'O3_VMR_TqJ_D#3', 'O3_VMR_TqJ_D#4', 'O3_VMR_TqJ_D#5',\n",
              "       'O3_VMR_TqJ_D#6', 'O3_VMR_TqJ_D#7', 'O3_VMR_TqJ_D#8',\n",
              "       'O3_VMR_TqJ_D#9', 'O3_VMR_TqJ_D#10', 'O3_VMR_TqJ_D#11',\n",
              "       'O3_VMR_TqJ_D#12', 'O3_VMR_TqJ_D#13', 'O3_VMR_TqJ_D#14',\n",
              "       'O3_VMR_TqJ_D#15', 'O3_VMR_TqJ_D#16', 'O3_VMR_TqJ_D#17',\n",
              "       'O3_VMR_TqJ_D#18', 'O3_VMR_TqJ_D#19', 'O3_VMR_TqJ_D#20',\n",
              "       'O3_VMR_TqJ_D#21', 'O3_VMR_TqJ_D#22', 'O3_VMR_TqJ_D#23',\n",
              "       'O3_VMR_TqJ_D#24', 'CO_VMR_TqJ_D#1', 'CO_VMR_TqJ_D#2',\n",
              "       'CO_VMR_TqJ_D#3', 'CO_VMR_TqJ_D#4', 'CO_VMR_TqJ_D#5',\n",
              "       'CO_VMR_TqJ_D#6', 'CO_VMR_TqJ_D#7', 'CO_VMR_TqJ_D#8',\n",
              "       'CO_VMR_TqJ_D#9', 'CO_VMR_TqJ_D#10', 'CO_VMR_TqJ_D#11',\n",
              "       'CO_VMR_TqJ_D#12', 'CO_VMR_TqJ_D#13', 'CO_VMR_TqJ_D#14',\n",
              "       'CO_VMR_TqJ_D#15', 'CO_VMR_TqJ_D#16', 'CO_VMR_TqJ_D#17',\n",
              "       'CO_VMR_TqJ_D#18', 'CO_VMR_TqJ_D#19', 'CO_VMR_TqJ_D#20',\n",
              "       'CO_VMR_TqJ_D#21', 'CO_VMR_TqJ_D#22', 'CO_VMR_TqJ_D#23',\n",
              "       'CO_VMR_TqJ_D#24', 'CH4_VMR_TqJ_D#1', 'CH4_VMR_TqJ_D#2',\n",
              "       'CH4_VMR_TqJ_D#3', 'CH4_VMR_TqJ_D#4', 'CH4_VMR_TqJ_D#5',\n",
              "       'CH4_VMR_TqJ_D#6', 'CH4_VMR_TqJ_D#7', 'CH4_VMR_TqJ_D#8',\n",
              "       'CH4_VMR_TqJ_D#9', 'CH4_VMR_TqJ_D#10', 'CH4_VMR_TqJ_D#11',\n",
              "       'CH4_VMR_TqJ_D#12', 'CH4_VMR_TqJ_D#13', 'CH4_VMR_TqJ_D#14',\n",
              "       'CH4_VMR_TqJ_D#15', 'CH4_VMR_TqJ_D#16', 'CH4_VMR_TqJ_D#17',\n",
              "       'CH4_VMR_TqJ_D#18', 'CH4_VMR_TqJ_D#19', 'CH4_VMR_TqJ_D#20',\n",
              "       'CH4_VMR_TqJ_D#21', 'CH4_VMR_TqJ_D#22', 'CH4_VMR_TqJ_D#23',\n",
              "       'CH4_VMR_TqJ_D#24', 'OLR_TqJ_D', 'ClrOLR_TqJ_D'], dtype=object)"
            ]
          },
          "execution_count": 379,
          "metadata": {},
          "output_type": "execute_result"
        }
      ]
    },
    {
      "cell_type": "code",
      "metadata": {
        "id": "7be0db9e"
      },
      "source": [
        "metric=\"TotO3_TqJ_D\""
      ],
      "id": "7be0db9e",
      "execution_count": null,
      "outputs": []
    },
    {
      "cell_type": "code",
      "metadata": {
        "id": "d5d6b935"
      },
      "source": [
        "metric_df=airs_df[(airs_df[\"metric\"]==metric)&(airs_df[\"mean\"]>-9999)&(~airs_df[\"mean\"].isna())]"
      ],
      "id": "d5d6b935",
      "execution_count": null,
      "outputs": []
    },
    {
      "cell_type": "markdown",
      "metadata": {
        "id": "17803160"
      },
      "source": [
        "# Weekwise O3 average of all cities of 2019 and 2020"
      ],
      "id": "17803160"
    },
    {
      "cell_type": "code",
      "metadata": {
        "scrolled": true,
        "id": "279b4613",
        "outputId": "15e56467-aba9-4e7a-9f13-76eb5f25bf3d"
      },
      "source": [
        "x=[]\n",
        "values1=[]\n",
        "values2=[]\n",
        "for month in range(1,13):\n",
        "    for week in range(1,5):\n",
        "        week1=str(month)+\".2019.week\"+str(week)\n",
        "        week2=str(month)+\".2020.week\"+str(week)\n",
        "        week1_data=metric_df[metric_df[\"week\"]==week1].set_index(\"location\")[\"mean\"].to_dict()\n",
        "        week2_data=metric_df[metric_df[\"week\"]==week2].set_index(\"location\")[\"mean\"].to_dict()\n",
        "        temp1=[]\n",
        "        temp2=[]\n",
        "        for location in week1_data:\n",
        "            if location in week2_data:\n",
        "                temp1.append(week1_data[location])\n",
        "                temp2.append(week2_data[location])\n",
        "        if len(temp1)>=100:\n",
        "            x.append((month-1)*4+week)\n",
        "            values1.append(np.mean(temp1))\n",
        "            values2.append(np.mean(temp2))\n",
        "            print(\" month =\",month,\" week =\",week,\"2019 =\",temp1[-1],\"2020 =\",temp2[-1])"
      ],
      "id": "279b4613",
      "execution_count": null,
      "outputs": [
        {
          "name": "stdout",
          "output_type": "stream",
          "text": [
            " month = 1  week = 1 2019 = 256.375 2020 = 225.03125\n",
            " month = 1  week = 2 2019 = 247.35938 2020 = 242.20312\n",
            " month = 1  week = 3 2019 = 251.9375 2020 = 236.8125\n",
            " month = 1  week = 4 2019 = 258.40625 2020 = 241.82812\n",
            " month = 2  week = 1 2019 = 242.35938 2020 = 239.79688\n",
            " month = 2  week = 2 2019 = 254.5 2020 = 239.40625\n",
            " month = 2  week = 3 2019 = 259.3125 2020 = 260.1875\n",
            " month = 3  week = 1 2019 = 251.51562 2020 = 250.79688\n",
            " month = 3  week = 2 2019 = 248.46875 2020 = 248.32812\n",
            " month = 3  week = 3 2019 = 266.21875 2020 = 261.34375\n",
            " month = 3  week = 4 2019 = 275.09375 2020 = 259.21875\n",
            " month = 4  week = 1 2019 = 270.5625 2020 = 243.70312\n",
            " month = 4  week = 2 2019 = 272.09375 2020 = 266.9375\n",
            " month = 4  week = 3 2019 = 229.59375 2020 = 261.28125\n",
            " month = 4  week = 4 2019 = 242.51562 2020 = 269.9375\n",
            " month = 5  week = 1 2019 = 268.53125 2020 = 214.35938\n",
            " month = 5  week = 2 2019 = 286.34375 2020 = 235.67188\n",
            " month = 5  week = 3 2019 = 276.6875 2020 = 254.17188\n",
            " month = 6  week = 1 2019 = 279.46875 2020 = 235.98438\n",
            " month = 6  week = 2 2019 = 272.15625 2020 = 251.10938\n",
            " month = 6  week = 3 2019 = 273.125 2020 = 243.15625\n",
            " month = 7  week = 1 2019 = 278.0 2020 = 241.32812\n",
            " month = 7  week = 2 2019 = 274.28125 2020 = 244.07812\n",
            " month = 7  week = 3 2019 = 256.21875 2020 = 244.32812\n",
            " month = 7  week = 4 2019 = 257.65625 2020 = 255.71875\n",
            " month = 8  week = 1 2019 = 262.46875 2020 = 249.28125\n",
            " month = 8  week = 2 2019 = 250.9375 2020 = 261.0625\n",
            " month = 9  week = 1 2019 = 249.23438 2020 = 244.15625\n",
            " month = 9  week = 2 2019 = 237.59375 2020 = 245.75\n",
            " month = 9  week = 3 2019 = 223.25 2020 = 235.54688\n",
            " month = 9  week = 4 2019 = 239.90625 2020 = 245.8125\n",
            " month = 10  week = 1 2019 = 244.67188 2020 = 250.14062\n",
            " month = 10  week = 2 2019 = 238.54688 2020 = 239.98438\n",
            " month = 10  week = 3 2019 = 232.875 2020 = 246.59375\n",
            " month = 10  week = 4 2019 = 250.4375 2020 = 242.89062\n",
            " month = 11  week = 1 2019 = 251.48438 2020 = 238.48438\n",
            " month = 11  week = 2 2019 = 250.14062 2020 = 214.125\n",
            " month = 11  week = 3 2019 = 239.90625 2020 = 244.0\n",
            " month = 12  week = 1 2019 = 238.71875 2020 = 238.23438\n",
            " month = 12  week = 2 2019 = 234.98438 2020 = 240.89062\n",
            " month = 12  week = 3 2019 = 233.70312 2020 = 221.78125\n"
          ]
        }
      ]
    },
    {
      "cell_type": "code",
      "metadata": {
        "id": "766888e4",
        "outputId": "b2e93e88-83dd-4eac-e136-cad5c3745c62"
      },
      "source": [
        "plt.plot(x,values1,label=\"2019\",color=\"red\")\n",
        "plt.plot(x,values2,label=\"2020\",color=\"green\")\n",
        "plt.legend()\n",
        "plt.xlabel(\"week number (4 weeks per month)\")\n",
        "plt.ylabel(\"Total O3 during night\")\n",
        "plt.show()"
      ],
      "id": "766888e4",
      "execution_count": null,
      "outputs": [
        {
          "data": {
            "image/png": "[encoded data removed]",
            "text/plain": [
              "<Figure size 432x288 with 1 Axes>"
            ]
          },
          "metadata": {
            "needs_background": "light"
          },
          "output_type": "display_data"
        }
      ]
    },
    {
      "cell_type": "markdown",
      "metadata": {
        "id": "f2a339f7"
      },
      "source": [
        "Takeaway: In 2020, O3 was increasing from beginning of the year. It stayed high during lockdown in April. It started decreasing in May, when lockdown started to ease. During the months of post lockdown phase (May-June-July), O3 was lower and followed different pattern than 2019."
      ],
      "id": "f2a339f7"
    },
    {
      "cell_type": "markdown",
      "metadata": {
        "id": "2737f551"
      },
      "source": [
        "# Difference in O3 values between the same week of 2020 and 2019"
      ],
      "id": "2737f551"
    },
    {
      "cell_type": "code",
      "metadata": {
        "id": "62f19af1",
        "outputId": "dcab724d-0eaa-49f3-b5a4-1a6b4ea6b20c"
      },
      "source": [
        "week1=\"4.2019.week4\"\n",
        "week2=\"4.2020.week4\"\n",
        "week1_df=metric_df[metric_df[\"week\"]==week1][[\"location\",\"week\",\"mean\",\"sdev\"]]\n",
        "week2_df=metric_df[metric_df[\"week\"]==week2][[\"location\",\"week\",\"mean\",\"sdev\"]]\n",
        "week_df=week1_df.merge(week2_df,on=\"location\",how=\"inner\",suffixes=[\"_2019\",\"_2020\"])\n",
        "week_df=week_df.merge(cities_df[[\"location\",\"city\",\"population\",\"elevation\"]],on=\"location\",how=\"inner\")\n",
        "week_df[\"diff\"]=(week_df[\"mean_2020\"]-week_df[\"mean_2019\"])*100/week_df[\"mean_2019\"]\n",
        "week_df[\"diff\"].describe()"
      ],
      "id": "62f19af1",
      "execution_count": null,
      "outputs": [
        {
          "data": {
            "text/plain": [
              "count    311.000000\n",
              "mean       7.089875\n",
              "std        4.800990\n",
              "min       -5.585682\n",
              "25%        3.984846\n",
              "50%        5.687878\n",
              "75%        9.307563\n",
              "max       23.972421\n",
              "Name: diff, dtype: float64"
            ]
          },
          "execution_count": 454,
          "metadata": {},
          "output_type": "execute_result"
        }
      ]
    },
    {
      "cell_type": "code",
      "metadata": {
        "scrolled": true,
        "id": "c7603bef",
        "outputId": "08741510-5e11-4d40-9b6e-9db2d6335f97"
      },
      "source": [
        "print(\"cities with high increase\")\n",
        "temp=week_df[week_df[\"diff\"]>=12][\"city\"].tolist()\n",
        "print(temp)"
      ],
      "id": "c7603bef",
      "execution_count": null,
      "outputs": [
        {
          "name": "stdout",
          "output_type": "stream",
          "text": [
            "cities with high increase\n",
            "['Padam', 'Joshimath', 'Pithoragarh', 'Along', 'Pasighat', 'Hayuliang', 'Sitapur', 'Bagaha', 'Darjiling', 'Tawang', 'Bomdila', 'Itanagar', 'Dibrugarh', 'Tinsukia', 'Tezu', 'Kanpur', 'Madhubani', 'Kishanganj', 'Siliguri', 'Jaigaon', 'Bongaigaon', 'Guwahati', 'Tezpur', 'Golaghat', 'Jorhat', 'Mon', 'Sarupathar', 'Bhagalpur', 'Raiganj', 'Mankachar', 'Tura', 'Shillong', 'Khliehriat', 'Dimapur', 'Kohima', 'Imphal']\n"
          ]
        }
      ]
    },
    {
      "cell_type": "code",
      "metadata": {
        "id": "9c2b27d4",
        "outputId": "49730cab-5f12-406e-cfe9-71ea61ff6b9b"
      },
      "source": [
        "print(\"cities with low increase\")\n",
        "temp=week_df[week_df[\"diff\"]<=3][\"city\"].tolist()\n",
        "print(temp)"
      ],
      "id": "9c2b27d4",
      "execution_count": null,
      "outputs": [
        {
          "name": "stdout",
          "output_type": "stream",
          "text": [
            "cities with low increase\n",
            "['Ludhiana', 'Jaisalmer', 'Pali', 'Bhilwara', 'Kota', 'Dayapar', 'Gandhidham', 'Mandvi', 'Rajkot', 'Junagadh', 'Jalgaon', 'Nagpur', 'Contai', 'Kakdwip', 'Chalisgaon', 'Paradip Garh', 'Brahmapur', 'Konarka', 'Samalkot', 'Visakhapatnam', 'Vijayawada', 'Kakinada', 'Davangere', 'Udupi', 'Shimoga', 'Hassan', 'Mangalore', 'Payyannur', 'Mysore', 'Kozhikode', 'Port Blair', 'Kavaratti', 'Ponnani']\n"
          ]
        }
      ]
    },
    {
      "cell_type": "code",
      "metadata": {
        "id": "90acc942",
        "outputId": "69b8b9d2-7154-41fd-b54b-e4d5bbbec1c0"
      },
      "source": [
        "week_df[week_df[\"diff\"]>=7][\"elevation\"].describe()"
      ],
      "id": "90acc942",
      "execution_count": null,
      "outputs": [
        {
          "data": {
            "text/plain": [
              "count     126.000000\n",
              "mean      480.579365\n",
              "std       651.863057\n",
              "min         7.000000\n",
              "25%       100.750000\n",
              "50%       227.000000\n",
              "75%       536.500000\n",
              "max      3560.000000\n",
              "Name: elevation, dtype: float64"
            ]
          },
          "execution_count": 457,
          "metadata": {},
          "output_type": "execute_result"
        }
      ]
    },
    {
      "cell_type": "code",
      "metadata": {
        "id": "1137e8b2",
        "outputId": "df4e31d6-3228-4717-9dd3-b28de6010a4e"
      },
      "source": [
        "week_df[week_df[\"population\"]>=5000000][\"diff\"].describe()"
      ],
      "id": "1137e8b2",
      "execution_count": null,
      "outputs": [
        {
          "data": {
            "text/plain": [
              "count    11.000000\n",
              "mean      5.850605\n",
              "std       2.784462\n",
              "min       3.250094\n",
              "25%       3.899856\n",
              "50%       5.098533\n",
              "75%       6.277885\n",
              "max      12.053410\n",
              "Name: diff, dtype: float64"
            ]
          },
          "execution_count": 458,
          "metadata": {},
          "output_type": "execute_result"
        }
      ]
    },
    {
      "cell_type": "code",
      "metadata": {
        "id": "ec3fa327",
        "outputId": "9dc69b0d-377a-4c1a-e2ea-dc715566a562"
      },
      "source": [
        "week1=\"6.2019.week1\"\n",
        "week2=\"6.2020.week1\"\n",
        "week1_df=metric_df[metric_df[\"week\"]==week1][[\"location\",\"week\",\"mean\",\"sdev\"]]\n",
        "week2_df=metric_df[metric_df[\"week\"]==week2][[\"location\",\"week\",\"mean\",\"sdev\"]]\n",
        "week_df=week1_df.merge(week2_df,on=\"location\",how=\"inner\",suffixes=[\"_2019\",\"_2020\"])\n",
        "week_df=week_df.merge(cities_df[[\"location\",\"city\",\"population\",\"elevation\"]],on=\"location\",how=\"inner\")\n",
        "week_df[\"diff\"]=(week_df[\"mean_2020\"]-week_df[\"mean_2019\"])*100/week_df[\"mean_2019\"]\n",
        "week_df[\"diff\"].describe()"
      ],
      "id": "ec3fa327",
      "execution_count": null,
      "outputs": [
        {
          "data": {
            "text/plain": [
              "count    311.000000\n",
              "mean      -8.344616\n",
              "std        4.577990\n",
              "min      -20.123794\n",
              "25%      -11.550175\n",
              "50%       -8.100529\n",
              "75%       -4.776653\n",
              "max        2.130020\n",
              "Name: diff, dtype: float64"
            ]
          },
          "execution_count": 459,
          "metadata": {},
          "output_type": "execute_result"
        }
      ]
    },
    {
      "cell_type": "markdown",
      "metadata": {
        "id": "1eefbaf4"
      },
      "source": [
        "Takeaway: On an average there was 4.5% increase in O3 in first week of lockdown (4th week of March) in 2020 compared to 2019. In 4th week of April, this increase became 7%. Cities with high increase appear to be more towards north and noth-east. Cities with low increase seem to be towards south and west. Also the cities with high increase have higher elevation compared to the cities with low increase. Another interesting point is that the cities with very high populations are not particularly the ones which have higher increase in O3.\n",
        "\n",
        "Post lockdown, 7-8% decrease is also seen in O3 values in 2020 compared to the values in 2019"
      ],
      "id": "1eefbaf4"
    },
    {
      "cell_type": "markdown",
      "metadata": {
        "id": "5e57179c"
      },
      "source": [
        "# Pre and Post lockdown in 2020"
      ],
      "id": "5e57179c"
    },
    {
      "cell_type": "code",
      "metadata": {
        "id": "a39287a6",
        "outputId": "eb35877f-eba0-4969-8591-fedd09455ef2"
      },
      "source": [
        "week1=\"3.2020.week1\"\n",
        "week2=\"4.2020.week4\"\n",
        "week1_df=metric_df[metric_df[\"week\"]==week1][[\"location\",\"week\",\"mean\",\"sdev\"]]\n",
        "week2_df=metric_df[metric_df[\"week\"]==week2][[\"location\",\"week\",\"mean\",\"sdev\"]]\n",
        "week_df=week1_df.merge(week2_df,on=\"location\",how=\"inner\",suffixes=[\"_pre\",\"_post\"])\n",
        "week_df=week_df.merge(cities_df[[\"location\",\"city\",\"population\",\"elevation\"]],on=\"location\",how=\"inner\")\n",
        "week_df[\"diff\"]=(week_df[\"mean_post\"]-week_df[\"mean_pre\"])*100/week_df[\"mean_pre\"]\n",
        "week_df[\"diff\"].describe()"
      ],
      "id": "a39287a6",
      "execution_count": null,
      "outputs": [
        {
          "data": {
            "text/plain": [
              "count    311.000000\n",
              "mean       6.701331\n",
              "std        4.836987\n",
              "min      -17.306914\n",
              "25%        4.914168\n",
              "50%        7.239981\n",
              "75%        9.855121\n",
              "max       16.076861\n",
              "Name: diff, dtype: float64"
            ]
          },
          "execution_count": 460,
          "metadata": {},
          "output_type": "execute_result"
        }
      ]
    },
    {
      "cell_type": "code",
      "metadata": {
        "id": "6c34a0f6",
        "outputId": "4caf418b-cf40-4415-bd4b-66ae5befa63f"
      },
      "source": [
        "print(\"cities with high increase\")\n",
        "temp=week_df[week_df[\"diff\"]>=12][\"city\"].tolist()\n",
        "print(temp)"
      ],
      "id": "6c34a0f6",
      "execution_count": null,
      "outputs": [
        {
          "name": "stdout",
          "output_type": "stream",
          "text": [
            "cities with high increase\n",
            "['Nanded', 'Adilabad', 'Uran', 'Baramati', 'Latur', 'Udgir', 'Nizamabad', 'Ramgundam', 'Vizianagaram', 'Palasa', 'Karad', 'Solapur', 'Gulbarga', 'Bidar', 'Hyderabad', 'Warangal', 'Visakhapatnam', 'Bijapur', 'Shorapur', 'Raichur', 'Wanparti', 'Mirialguda', 'Machilipatnam', 'Adoni', 'Ongole']\n"
          ]
        }
      ]
    },
    {
      "cell_type": "code",
      "metadata": {
        "id": "b3b8ff3c",
        "outputId": "6457fa23-fab6-4346-ca9d-0d362059241b"
      },
      "source": [
        "week_df[week_df[\"population\"]>=4000000]"
      ],
      "id": "b3b8ff3c",
      "execution_count": null,
      "outputs": [
        {
          "data": {
            "text/html": [
              "<div>\n",
              "<style scoped>\n",
              "    .dataframe tbody tr th:only-of-type {\n",
              "        vertical-align: middle;\n",
              "    }\n",
              "\n",
              "    .dataframe tbody tr th {\n",
              "        vertical-align: top;\n",
              "    }\n",
              "\n",
              "    .dataframe thead th {\n",
              "        text-align: right;\n",
              "    }\n",
              "</style>\n",
              "<table border=\"1\" class=\"dataframe\">\n",
              "  <thead>\n",
              "    <tr style=\"text-align: right;\">\n",
              "      <th></th>\n",
              "      <th>location</th>\n",
              "      <th>week_pre</th>\n",
              "      <th>mean_pre</th>\n",
              "      <th>sdev_pre</th>\n",
              "      <th>week_post</th>\n",
              "      <th>mean_post</th>\n",
              "      <th>sdev_post</th>\n",
              "      <th>city</th>\n",
              "      <th>population</th>\n",
              "      <th>elevation</th>\n",
              "      <th>diff</th>\n",
              "    </tr>\n",
              "  </thead>\n",
              "  <tbody>\n",
              "    <tr>\n",
              "      <th>33</th>\n",
              "      <td>28.5#77.5</td>\n",
              "      <td>3.2020.week1</td>\n",
              "      <td>274.12500</td>\n",
              "      <td>6.218750</td>\n",
              "      <td>4.2020.week4</td>\n",
              "      <td>287.03125</td>\n",
              "      <td>10.00000</td>\n",
              "      <td>Delhi</td>\n",
              "      <td>19975171</td>\n",
              "      <td>216</td>\n",
              "      <td>4.708162</td>\n",
              "    </tr>\n",
              "    <tr>\n",
              "      <th>70</th>\n",
              "      <td>26.5#80.5</td>\n",
              "      <td>3.2020.week1</td>\n",
              "      <td>267.46875</td>\n",
              "      <td>6.656250</td>\n",
              "      <td>4.2020.week4</td>\n",
              "      <td>291.09375</td>\n",
              "      <td>9.12500</td>\n",
              "      <td>Kanpur</td>\n",
              "      <td>5804013</td>\n",
              "      <td>130</td>\n",
              "      <td>8.832808</td>\n",
              "    </tr>\n",
              "    <tr>\n",
              "      <th>137</th>\n",
              "      <td>23.5#72.5</td>\n",
              "      <td>3.2020.week1</td>\n",
              "      <td>263.46875</td>\n",
              "      <td>16.625000</td>\n",
              "      <td>4.2020.week4</td>\n",
              "      <td>280.78125</td>\n",
              "      <td>6.43750</td>\n",
              "      <td>Ahmedabad</td>\n",
              "      <td>7164583</td>\n",
              "      <td>101</td>\n",
              "      <td>6.570988</td>\n",
              "    </tr>\n",
              "    <tr>\n",
              "      <th>177</th>\n",
              "      <td>22.5#88.5</td>\n",
              "      <td>3.2020.week1</td>\n",
              "      <td>259.96875</td>\n",
              "      <td>8.562500</td>\n",
              "      <td>4.2020.week4</td>\n",
              "      <td>286.65625</td>\n",
              "      <td>11.31250</td>\n",
              "      <td>Kolkata</td>\n",
              "      <td>13043739</td>\n",
              "      <td>10</td>\n",
              "      <td>10.265657</td>\n",
              "    </tr>\n",
              "    <tr>\n",
              "      <th>182</th>\n",
              "      <td>21.5#72.5</td>\n",
              "      <td>3.2020.week1</td>\n",
              "      <td>255.35938</td>\n",
              "      <td>10.687500</td>\n",
              "      <td>4.2020.week4</td>\n",
              "      <td>277.50000</td>\n",
              "      <td>5.15625</td>\n",
              "      <td>Surat</td>\n",
              "      <td>5615467</td>\n",
              "      <td>19</td>\n",
              "      <td>8.670377</td>\n",
              "    </tr>\n",
              "    <tr>\n",
              "      <th>216</th>\n",
              "      <td>19.5#72.5</td>\n",
              "      <td>3.2020.week1</td>\n",
              "      <td>250.89062</td>\n",
              "      <td>6.718750</td>\n",
              "      <td>4.2020.week4</td>\n",
              "      <td>278.15625</td>\n",
              "      <td>4.90625</td>\n",
              "      <td>Mumbai</td>\n",
              "      <td>15527315</td>\n",
              "      <td>15</td>\n",
              "      <td>10.867537</td>\n",
              "    </tr>\n",
              "    <tr>\n",
              "      <th>217</th>\n",
              "      <td>19.5#73.5</td>\n",
              "      <td>3.2020.week1</td>\n",
              "      <td>246.28125</td>\n",
              "      <td>5.750000</td>\n",
              "      <td>4.2020.week4</td>\n",
              "      <td>275.46875</td>\n",
              "      <td>5.31250</td>\n",
              "      <td>Navi Mumbai</td>\n",
              "      <td>8209055</td>\n",
              "      <td>286</td>\n",
              "      <td>11.851288</td>\n",
              "    </tr>\n",
              "    <tr>\n",
              "      <th>232</th>\n",
              "      <td>18.5#73.5</td>\n",
              "      <td>3.2020.week1</td>\n",
              "      <td>245.57812</td>\n",
              "      <td>3.546875</td>\n",
              "      <td>4.2020.week4</td>\n",
              "      <td>274.40625</td>\n",
              "      <td>5.18750</td>\n",
              "      <td>Pune</td>\n",
              "      <td>6020226</td>\n",
              "      <td>369</td>\n",
              "      <td>11.738884</td>\n",
              "    </tr>\n",
              "    <tr>\n",
              "      <th>248</th>\n",
              "      <td>17.5#78.5</td>\n",
              "      <td>3.2020.week1</td>\n",
              "      <td>240.73438</td>\n",
              "      <td>9.375000</td>\n",
              "      <td>4.2020.week4</td>\n",
              "      <td>277.84375</td>\n",
              "      <td>5.53125</td>\n",
              "      <td>Hyderabad</td>\n",
              "      <td>5412838</td>\n",
              "      <td>532</td>\n",
              "      <td>15.415069</td>\n",
              "    </tr>\n",
              "    <tr>\n",
              "      <th>284</th>\n",
              "      <td>13.5#80.5</td>\n",
              "      <td>3.2020.week1</td>\n",
              "      <td>249.06250</td>\n",
              "      <td>4.968750</td>\n",
              "      <td>4.2020.week4</td>\n",
              "      <td>266.56250</td>\n",
              "      <td>19.25000</td>\n",
              "      <td>Chennai</td>\n",
              "      <td>5720838</td>\n",
              "      <td>15</td>\n",
              "      <td>7.026349</td>\n",
              "    </tr>\n",
              "    <tr>\n",
              "      <th>288</th>\n",
              "      <td>12.5#77.5</td>\n",
              "      <td>3.2020.week1</td>\n",
              "      <td>245.65625</td>\n",
              "      <td>7.593750</td>\n",
              "      <td>4.2020.week4</td>\n",
              "      <td>257.12500</td>\n",
              "      <td>20.75000</td>\n",
              "      <td>Bengaluru</td>\n",
              "      <td>5660716</td>\n",
              "      <td>740</td>\n",
              "      <td>4.668617</td>\n",
              "    </tr>\n",
              "  </tbody>\n",
              "</table>\n",
              "</div>"
            ],
            "text/plain": [
              "      location      week_pre   mean_pre   sdev_pre     week_post  mean_post  \\\n",
              "33   28.5#77.5  3.2020.week1  274.12500   6.218750  4.2020.week4  287.03125   \n",
              "70   26.5#80.5  3.2020.week1  267.46875   6.656250  4.2020.week4  291.09375   \n",
              "137  23.5#72.5  3.2020.week1  263.46875  16.625000  4.2020.week4  280.78125   \n",
              "177  22.5#88.5  3.2020.week1  259.96875   8.562500  4.2020.week4  286.65625   \n",
              "182  21.5#72.5  3.2020.week1  255.35938  10.687500  4.2020.week4  277.50000   \n",
              "216  19.5#72.5  3.2020.week1  250.89062   6.718750  4.2020.week4  278.15625   \n",
              "217  19.5#73.5  3.2020.week1  246.28125   5.750000  4.2020.week4  275.46875   \n",
              "232  18.5#73.5  3.2020.week1  245.57812   3.546875  4.2020.week4  274.40625   \n",
              "248  17.5#78.5  3.2020.week1  240.73438   9.375000  4.2020.week4  277.84375   \n",
              "284  13.5#80.5  3.2020.week1  249.06250   4.968750  4.2020.week4  266.56250   \n",
              "288  12.5#77.5  3.2020.week1  245.65625   7.593750  4.2020.week4  257.12500   \n",
              "\n",
              "     sdev_post         city  population  elevation       diff  \n",
              "33    10.00000        Delhi    19975171        216   4.708162  \n",
              "70     9.12500       Kanpur     5804013        130   8.832808  \n",
              "137    6.43750    Ahmedabad     7164583        101   6.570988  \n",
              "177   11.31250      Kolkata    13043739         10  10.265657  \n",
              "182    5.15625        Surat     5615467         19   8.670377  \n",
              "216    4.90625       Mumbai    15527315         15  10.867537  \n",
              "217    5.31250  Navi Mumbai     8209055        286  11.851288  \n",
              "232    5.18750         Pune     6020226        369  11.738884  \n",
              "248    5.53125    Hyderabad     5412838        532  15.415069  \n",
              "284   19.25000      Chennai     5720838         15   7.026349  \n",
              "288   20.75000    Bengaluru     5660716        740   4.668617  "
            ]
          },
          "execution_count": 462,
          "metadata": {},
          "output_type": "execute_result"
        }
      ]
    },
    {
      "cell_type": "code",
      "metadata": {
        "id": "a47b7fe4",
        "outputId": "3feb4eb6-6871-4ed5-9733-ed23dfbebef0"
      },
      "source": [
        "week1=\"3.2020.week1\"\n",
        "week2=\"6.2020.week3\"\n",
        "week1_df=metric_df[metric_df[\"week\"]==week1][[\"location\",\"week\",\"mean\",\"sdev\"]]\n",
        "week2_df=metric_df[metric_df[\"week\"]==week2][[\"location\",\"week\",\"mean\",\"sdev\"]]\n",
        "week_df=week1_df.merge(week2_df,on=\"location\",how=\"inner\",suffixes=[\"_pre\",\"_post\"])\n",
        "week_df=week_df.merge(cities_df[[\"location\",\"city\",\"population\",\"elevation\"]],on=\"location\",how=\"inner\")\n",
        "week_df[\"diff\"]=(week_df[\"mean_post\"]-week_df[\"mean_pre\"])*100/week_df[\"mean_pre\"]\n",
        "week_df[\"diff\"].describe()"
      ],
      "id": "a47b7fe4",
      "execution_count": null,
      "outputs": [
        {
          "data": {
            "text/plain": [
              "count    311.000000\n",
              "mean      -2.759323\n",
              "std        5.968746\n",
              "min      -23.226233\n",
              "25%       -6.385291\n",
              "50%       -2.991213\n",
              "75%        1.397070\n",
              "max       15.087087\n",
              "Name: diff, dtype: float64"
            ]
          },
          "execution_count": 463,
          "metadata": {},
          "output_type": "execute_result"
        }
      ]
    },
    {
      "cell_type": "markdown",
      "metadata": {
        "id": "24eb4f08"
      },
      "source": [
        "Takeaway: There is around 7% increase in O3 in 2020 during lockdown in compared to before lockdown. Post lockdown, O3 decreases and no difference is observed. Infact a decrease of -2 to -3% is observed. So clearly, Ozone went up during lockdown and came down to pre-lockdown levels post lockdown."
      ],
      "id": "24eb4f08"
    },
    {
      "cell_type": "markdown",
      "metadata": {
        "id": "e3c3361b"
      },
      "source": [
        "# Comparison of percentage change between pre and post lockdown dates of 2019 and 2020"
      ],
      "id": "e3c3361b"
    },
    {
      "cell_type": "code",
      "metadata": {
        "id": "b095b003",
        "outputId": "6ca02ff4-07ce-48f5-a24e-c7f23ad1959a"
      },
      "source": [
        "week1=\"3.2019.week1\"\n",
        "week2=\"3.2019.week4\"\n",
        "week1_df=metric_df[metric_df[\"week\"]==week1][[\"location\",\"week\",\"mean\"]]\n",
        "week2_df=metric_df[metric_df[\"week\"]==week2][[\"location\",\"week\",\"mean\"]]\n",
        "week_df_2019=week1_df.merge(week2_df,on=\"location\",how=\"inner\",suffixes=[\"_pre\",\"_post\"])\n",
        "week_df_2019[\"diff\"]=(week_df_2019[\"mean_post\"]-week_df_2019[\"mean_pre\"])*100/week_df_2019[\"mean_pre\"]\n",
        "week_df_2019=week_df_2019[[\"location\",\"diff\"]]\n",
        "week1=\"3.2020.week1\"\n",
        "week2=\"3.2020.week4\"\n",
        "week1_df=metric_df[metric_df[\"week\"]==week1][[\"location\",\"week\",\"mean\",\"sdev\"]]\n",
        "week2_df=metric_df[metric_df[\"week\"]==week2][[\"location\",\"week\",\"mean\",\"sdev\"]]\n",
        "week_df_2020=week1_df.merge(week2_df,on=\"location\",how=\"inner\",suffixes=[\"_pre\",\"_post\"])\n",
        "week_df_2020[\"diff\"]=(week_df_2020[\"mean_post\"]-week_df_2020[\"mean_pre\"])*100/week_df_2020[\"mean_pre\"]\n",
        "week_df_2020=week_df_2020[[\"location\",\"diff\"]]\n",
        "\n",
        "week_df=week_df_2019.merge(week_df_2020,on=\"location\",how=\"inner\",suffixes=[\"_2019\",\"_2020\"])\n",
        "week_df=week_df.merge(cities_df[[\"location\",\"city\",\"population\",\"elevation\"]],on=\"location\",how=\"inner\")\n",
        "\n",
        "print(week_df.describe())\n",
        "\n",
        "plt.hist(week_df[\"diff_2019\"].tolist(),bins=100,label=\"%change in 2019\",color=\"red\",alpha=0.7)\n",
        "plt.hist(week_df[\"diff_2020\"].tolist(),bins=100,label=\"%change in 2020\",color=\"green\",alpha=0.7)\n",
        "plt.legend()\n",
        "plt.title(\"Before vs first week of lockdown\")\n",
        "plt.show()"
      ],
      "id": "b095b003",
      "execution_count": null,
      "outputs": [
        {
          "name": "stdout",
          "output_type": "stream",
          "text": [
            "        diff_2019   diff_2020    population    elevation\n",
            "count  311.000000  311.000000  3.110000e+02   311.000000\n",
            "mean     7.252204    3.885680  9.414453e+05   370.488746\n",
            "std      6.367362    3.625066  1.886862e+06   485.665396\n",
            "min    -21.448453   -8.633455  0.000000e+00 -1226.000000\n",
            "25%      5.957365    1.850000  2.002160e+05    93.000000\n",
            "50%      8.053074    4.733427  4.497920e+05   249.000000\n",
            "75%     10.767017    6.395594  9.992885e+05   459.500000\n",
            "max     18.029953   11.193398  1.997517e+07  3560.000000\n"
          ]
        },
        {
          "data": {
            "image/png": "[encoded data removed]",
            "text/plain": [
              "<Figure size 432x288 with 1 Axes>"
            ]
          },
          "metadata": {
            "needs_background": "light"
          },
          "output_type": "display_data"
        }
      ]
    },
    {
      "cell_type": "code",
      "metadata": {
        "id": "5dc2f359",
        "outputId": "707f8a92-fa42-45c2-8d6f-f1ad758454a8"
      },
      "source": [
        "week1=\"3.2019.week1\"\n",
        "week2=\"4.2019.week4\"\n",
        "week1_df=metric_df[metric_df[\"week\"]==week1][[\"location\",\"week\",\"mean\"]]\n",
        "week2_df=metric_df[metric_df[\"week\"]==week2][[\"location\",\"week\",\"mean\"]]\n",
        "week_df_2019=week1_df.merge(week2_df,on=\"location\",how=\"inner\",suffixes=[\"_pre\",\"_post\"])\n",
        "week_df_2019[\"diff\"]=(week_df_2019[\"mean_post\"]-week_df_2019[\"mean_pre\"])*100/week_df_2019[\"mean_pre\"]\n",
        "week_df_2019=week_df_2019[[\"location\",\"diff\"]]\n",
        "week1=\"3.2020.week1\"\n",
        "week2=\"4.2020.week4\"\n",
        "week1_df=metric_df[metric_df[\"week\"]==week1][[\"location\",\"week\",\"mean\",\"sdev\"]]\n",
        "week2_df=metric_df[metric_df[\"week\"]==week2][[\"location\",\"week\",\"mean\",\"sdev\"]]\n",
        "week_df_2020=week1_df.merge(week2_df,on=\"location\",how=\"inner\",suffixes=[\"_pre\",\"_post\"])\n",
        "week_df_2020[\"diff\"]=(week_df_2020[\"mean_post\"]-week_df_2020[\"mean_pre\"])*100/week_df_2020[\"mean_pre\"]\n",
        "week_df_2020=week_df_2020[[\"location\",\"diff\"]]\n",
        "\n",
        "week_df=week_df_2019.merge(week_df_2020,on=\"location\",how=\"inner\",suffixes=[\"_2019\",\"_2020\"])\n",
        "week_df=week_df.merge(cities_df[[\"location\",\"city\",\"population\",\"elevation\"]],on=\"location\",how=\"inner\")\n",
        "\n",
        "print(week_df.describe())\n",
        "\n",
        "plt.hist(week_df[\"diff_2019\"].tolist(),bins=100,label=\"%change in 2019\",color=\"red\",alpha=0.7)\n",
        "plt.hist(week_df[\"diff_2020\"].tolist(),bins=100,label=\"%change in 2020\",color=\"green\",alpha=0.7)\n",
        "plt.legend()\n",
        "plt.title(\"Before vs fifth week of lockdown\")\n",
        "plt.show()"
      ],
      "id": "5dc2f359",
      "execution_count": null,
      "outputs": [
        {
          "name": "stdout",
          "output_type": "stream",
          "text": [
            "        diff_2019   diff_2020    population    elevation\n",
            "count  311.000000  311.000000  3.110000e+02   311.000000\n",
            "mean     7.624627    6.701331  9.414453e+05   370.488746\n",
            "std      8.114638    4.836987  1.886862e+06   485.665396\n",
            "min    -26.963711  -17.306914  0.000000e+00 -1226.000000\n",
            "25%      4.946230    4.914168  2.002160e+05    93.000000\n",
            "50%     10.398432    7.239981  4.497920e+05   249.000000\n",
            "75%     12.393317    9.855121  9.992885e+05   459.500000\n",
            "max     19.983499   16.076861  1.997517e+07  3560.000000\n"
          ]
        },
        {
          "data": {
            "image/png": "[encoded data removed]",
            "text/plain": [
              "<Figure size 432x288 with 1 Axes>"
            ]
          },
          "metadata": {
            "needs_background": "light"
          },
          "output_type": "display_data"
        }
      ]
    },
    {
      "cell_type": "code",
      "metadata": {
        "id": "e7db19b5",
        "outputId": "c5e71803-5188-4569-8222-b1a2fb8d9aa0"
      },
      "source": [
        "week1=\"3.2019.week1\"\n",
        "week2=\"6.2019.week3\"\n",
        "week1_df=metric_df[metric_df[\"week\"]==week1][[\"location\",\"week\",\"mean\"]]\n",
        "week2_df=metric_df[metric_df[\"week\"]==week2][[\"location\",\"week\",\"mean\"]]\n",
        "week_df_2019=week1_df.merge(week2_df,on=\"location\",how=\"inner\",suffixes=[\"_pre\",\"_post\"])\n",
        "week_df_2019[\"diff\"]=(week_df_2019[\"mean_post\"]-week_df_2019[\"mean_pre\"])*100/week_df_2019[\"mean_pre\"]\n",
        "week_df_2019=week_df_2019[[\"location\",\"diff\"]]\n",
        "week1=\"3.2020.week1\"\n",
        "week2=\"6.2020.week3\"\n",
        "week1_df=metric_df[metric_df[\"week\"]==week1][[\"location\",\"week\",\"mean\",\"sdev\"]]\n",
        "week2_df=metric_df[metric_df[\"week\"]==week2][[\"location\",\"week\",\"mean\",\"sdev\"]]\n",
        "week_df_2020=week1_df.merge(week2_df,on=\"location\",how=\"inner\",suffixes=[\"_pre\",\"_post\"])\n",
        "week_df_2020[\"diff\"]=(week_df_2020[\"mean_post\"]-week_df_2020[\"mean_pre\"])*100/week_df_2020[\"mean_pre\"]\n",
        "week_df_2020=week_df_2020[[\"location\",\"diff\"]]\n",
        "\n",
        "week_df=week_df_2019.merge(week_df_2020,on=\"location\",how=\"inner\",suffixes=[\"_2019\",\"_2020\"])\n",
        "week_df=week_df.merge(cities_df[[\"location\",\"city\",\"population\",\"elevation\"]],on=\"location\",how=\"inner\")\n",
        "\n",
        "print(week_df.describe())\n",
        "\n",
        "plt.hist(week_df[\"diff_2019\"].tolist(),bins=100,label=\"%change in 2019\",color=\"red\",alpha=0.7)\n",
        "plt.hist(week_df[\"diff_2020\"].tolist(),bins=100,label=\"%change in 2020\",color=\"green\",alpha=0.7)\n",
        "plt.legend()\n",
        "plt.title(\"Before vs after lockdown\")\n",
        "plt.show()"
      ],
      "id": "e7db19b5",
      "execution_count": null,
      "outputs": [
        {
          "name": "stdout",
          "output_type": "stream",
          "text": [
            "        diff_2019   diff_2020    population    elevation\n",
            "count  311.000000  311.000000  3.110000e+02   311.000000\n",
            "mean    11.561233   -2.759323  9.414453e+05   370.488746\n",
            "std      6.591734    5.968746  1.886862e+06   485.665396\n",
            "min    -17.930157  -23.226233  0.000000e+00 -1226.000000\n",
            "25%      9.611796   -6.385291  2.002160e+05    93.000000\n",
            "50%     12.656394   -2.991213  4.497920e+05   249.000000\n",
            "75%     15.425826    1.397070  9.992885e+05   459.500000\n",
            "max     23.638796   15.087087  1.997517e+07  3560.000000\n"
          ]
        },
        {
          "data": {
            "image/png": "[encoded data removed]",
            "text/plain": [
              "<Figure size 432x288 with 1 Axes>"
            ]
          },
          "metadata": {
            "needs_background": "light"
          },
          "output_type": "display_data"
        }
      ]
    },
    {
      "cell_type": "markdown",
      "metadata": {
        "id": "bd9b584d"
      },
      "source": [
        "Takeaway: In 2019, the percentage changes are higher than the percentage changes in 2020. But the gap between them reduces when we are deep in lockdown. During 5th week of lockdown, the gap between them is much lower, with both being positive. Post lockdown, the difference in the percentage changes is much higher with 2020 being negative. This gives a good evidence of increase in O3 during lockdown and significant decrease in O3 post lockdown."
      ],
      "id": "bd9b584d"
    },
    {
      "cell_type": "markdown",
      "metadata": {
        "id": "a2393ebc"
      },
      "source": [
        "# Impact of covid-19 on O3 compared to pre-lockdown dates' values "
      ],
      "id": "a2393ebc"
    },
    {
      "cell_type": "code",
      "metadata": {
        "scrolled": true,
        "id": "c74b6cf2",
        "outputId": "5a21f87e-b6a7-401e-db72-9e07f27ebff3"
      },
      "source": [
        "week1=\"3.2019.week1\"\n",
        "week2=\"4.2019.week4\"\n",
        "week1_df=metric_df[metric_df[\"week\"]==week1][[\"location\",\"week\",\"mean\"]]\n",
        "week2_df=metric_df[metric_df[\"week\"]==week2][[\"location\",\"week\",\"mean\"]]\n",
        "week_df_2019=week1_df.merge(week2_df,on=\"location\",how=\"inner\",suffixes=[\"_pre\",\"_post\"])\n",
        "week_df_2019=week_df_2019[[\"mean_pre\",\"mean_post\"]]\n",
        "week_df_2019[\"covid\"]=0\n",
        "week1=\"3.2020.week1\"\n",
        "week2=\"4.2020.week4\"\n",
        "week1_df=metric_df[metric_df[\"week\"]==week1][[\"location\",\"week\",\"mean\",\"sdev\"]]\n",
        "week2_df=metric_df[metric_df[\"week\"]==week2][[\"location\",\"week\",\"mean\",\"sdev\"]]\n",
        "week_df_2020=week1_df.merge(week2_df,on=\"location\",how=\"inner\",suffixes=[\"_pre\",\"_post\"])\n",
        "week_df_2020=week_df_2020[[\"mean_pre\",\"mean_post\"]]\n",
        "week_df_2020[\"covid\"]=1\n",
        "\n",
        "week_df=week_df_2019.append(week_df_2020)\n",
        "\n",
        "result = sm.ols(formula=\"mean_post ~ mean_pre + covid\", data=week_df).fit()\n",
        "print(result.summary())"
      ],
      "id": "c74b6cf2",
      "execution_count": null,
      "outputs": [
        {
          "name": "stdout",
          "output_type": "stream",
          "text": [
            "                            OLS Regression Results                            \n",
            "==============================================================================\n",
            "Dep. Variable:              mean_post   R-squared:                       0.497\n",
            "Model:                            OLS   Adj. R-squared:                  0.496\n",
            "Method:                 Least Squares   F-statistic:                     306.3\n",
            "Date:                Sun, 31 Oct 2021   Prob (F-statistic):           3.39e-93\n",
            "Time:                        17:58:06   Log-Likelihood:                -2265.6\n",
            "No. Observations:                 622   AIC:                             4537.\n",
            "Df Residuals:                     619   BIC:                             4550.\n",
            "Df Model:                           2                                         \n",
            "Covariance Type:            nonrobust                                         \n",
            "==============================================================================\n",
            "                 coef    std err          t      P>|t|      [0.025      0.975]\n",
            "------------------------------------------------------------------------------\n",
            "Intercept    241.8761      5.487     44.081      0.000     231.100     252.652\n",
            "mean_pre       0.0738      0.023      3.279      0.001       0.030       0.118\n",
            "covid         16.8688      0.849     19.860      0.000      15.201      18.537\n",
            "==============================================================================\n",
            "Omnibus:                      107.691   Durbin-Watson:                   0.498\n",
            "Prob(Omnibus):                  0.000   Jarque-Bera (JB):              251.204\n",
            "Skew:                          -0.917   Prob(JB):                     2.83e-55\n",
            "Kurtosis:                       5.516   Cond. No.                     3.74e+03\n",
            "==============================================================================\n",
            "\n",
            "Notes:\n",
            "[1] Standard Errors assume that the covariance matrix of the errors is correctly specified.\n",
            "[2] The condition number is large, 3.74e+03. This might indicate that there are\n",
            "strong multicollinearity or other numerical problems.\n"
          ]
        }
      ]
    },
    {
      "cell_type": "markdown",
      "metadata": {
        "id": "492641a5"
      },
      "source": [
        "Takeaway: If controlled for pre-lockdown (march first-week) values, covid leads to increase in O3 values"
      ],
      "id": "492641a5"
    },
    {
      "cell_type": "code",
      "metadata": {
        "scrolled": true,
        "id": "d965b8e8",
        "outputId": "e0d6f5a2-726b-4cdb-f839-715cff195a9c"
      },
      "source": [
        "week1=\"3.2019.week1\"\n",
        "week2=\"7.2019.week1\"\n",
        "week1_df=metric_df[metric_df[\"week\"]==week1][[\"location\",\"week\",\"mean\"]]\n",
        "week2_df=metric_df[metric_df[\"week\"]==week2][[\"location\",\"week\",\"mean\"]]\n",
        "week_df_2019=week1_df.merge(week2_df,on=\"location\",how=\"inner\",suffixes=[\"_pre\",\"_post\"])\n",
        "week_df_2019=week_df_2019[[\"mean_pre\",\"mean_post\"]]\n",
        "week_df_2019[\"covid\"]=0\n",
        "week1=\"3.2020.week1\"\n",
        "week2=\"7.2020.week1\"\n",
        "week1_df=metric_df[metric_df[\"week\"]==week1][[\"location\",\"week\",\"mean\",\"sdev\"]]\n",
        "week2_df=metric_df[metric_df[\"week\"]==week2][[\"location\",\"week\",\"mean\",\"sdev\"]]\n",
        "week_df_2020=week1_df.merge(week2_df,on=\"location\",how=\"inner\",suffixes=[\"_pre\",\"_post\"])\n",
        "week_df_2020=week_df_2020[[\"mean_pre\",\"mean_post\"]]\n",
        "week_df_2020[\"covid\"]=1\n",
        "\n",
        "week_df=week_df_2019.append(week_df_2020)\n",
        "\n",
        "result = sm.ols(formula=\"mean_post ~ mean_pre + covid\", data=week_df).fit()\n",
        "print(result.summary())"
      ],
      "id": "d965b8e8",
      "execution_count": null,
      "outputs": [
        {
          "name": "stdout",
          "output_type": "stream",
          "text": [
            "                            OLS Regression Results                            \n",
            "==============================================================================\n",
            "Dep. Variable:              mean_post   R-squared:                       0.458\n",
            "Model:                            OLS   Adj. R-squared:                  0.456\n",
            "Method:                 Least Squares   F-statistic:                     260.7\n",
            "Date:                Sun, 31 Oct 2021   Prob (F-statistic):           7.78e-83\n",
            "Time:                        17:58:10   Log-Likelihood:                -2401.9\n",
            "No. Observations:                 621   AIC:                             4810.\n",
            "Df Residuals:                     618   BIC:                             4823.\n",
            "Df Model:                           2                                         \n",
            "Covariance Type:            nonrobust                                         \n",
            "==============================================================================\n",
            "                 coef    std err          t      P>|t|      [0.025      0.975]\n",
            "------------------------------------------------------------------------------\n",
            "Intercept    192.9055      6.876     28.055      0.000     179.402     206.409\n",
            "mean_pre       0.3262      0.028     11.565      0.000       0.271       0.382\n",
            "covid        -24.3056      1.065    -22.829      0.000     -26.396     -22.215\n",
            "==============================================================================\n",
            "Omnibus:                       19.906   Durbin-Watson:                   0.610\n",
            "Prob(Omnibus):                  0.000   Jarque-Bera (JB):               22.467\n",
            "Skew:                           0.378   Prob(JB):                     1.32e-05\n",
            "Kurtosis:                       3.546   Cond. No.                     3.74e+03\n",
            "==============================================================================\n",
            "\n",
            "Notes:\n",
            "[1] Standard Errors assume that the covariance matrix of the errors is correctly specified.\n",
            "[2] The condition number is large, 3.74e+03. This might indicate that there are\n",
            "strong multicollinearity or other numerical problems.\n"
          ]
        }
      ]
    },
    {
      "cell_type": "markdown",
      "metadata": {
        "id": "72c01dd9"
      },
      "source": [
        "Takeaway: Covid leads to decrease in O3 after lockdown compared to pre-lockdown values"
      ],
      "id": "72c01dd9"
    },
    {
      "cell_type": "markdown",
      "metadata": {
        "id": "b4b53ce9"
      },
      "source": [
        "# Impact of elevation on O3"
      ],
      "id": "b4b53ce9"
    },
    {
      "cell_type": "code",
      "metadata": {
        "id": "da2a46ac",
        "outputId": "44a643b5-eafe-4406-e84e-6e68394cc8fe"
      },
      "source": [
        "week1=\"3.2019.week1\"\n",
        "week2=\"4.2019.week4\"\n",
        "week1_df=metric_df[metric_df[\"week\"]==week1][[\"location\",\"week\",\"mean\"]]\n",
        "week2_df=metric_df[metric_df[\"week\"]==week2][[\"location\",\"week\",\"mean\"]]\n",
        "week_df_2019=week1_df.merge(week2_df,on=\"location\",how=\"inner\",suffixes=[\"_pre\",\"_post\"])\n",
        "week_df_2019[\"covid\"]=0\n",
        "week1=\"3.2020.week1\"\n",
        "week2=\"4.2020.week4\"\n",
        "week1_df=metric_df[metric_df[\"week\"]==week1][[\"location\",\"week\",\"mean\",\"sdev\"]]\n",
        "week2_df=metric_df[metric_df[\"week\"]==week2][[\"location\",\"week\",\"mean\",\"sdev\"]]\n",
        "week_df_2020=week1_df.merge(week2_df,on=\"location\",how=\"inner\",suffixes=[\"_pre\",\"_post\"])\n",
        "week_df_2020[\"covid\"]=1\n",
        "week_df=week_df_2019.append(week_df_2020)\n",
        "week_df=week_df.merge(cities_df[[\"location\",\"city\",\"population\",\"elevation\"]],on=\"location\",how=\"inner\")\n",
        "week_df['elevated'] = np.where(week_df['elevation']>=249,1,0)\n",
        "week_df['dense'] = np.where(week_df['population']>=500000,1,0)\n",
        "\n",
        "result = sm.ols(formula=\"mean_post ~ mean_pre + covid + elevation\", data=week_df).fit()\n",
        "print(result.summary())"
      ],
      "id": "da2a46ac",
      "execution_count": null,
      "outputs": [
        {
          "name": "stdout",
          "output_type": "stream",
          "text": [
            "                            OLS Regression Results                            \n",
            "==============================================================================\n",
            "Dep. Variable:              mean_post   R-squared:                       0.558\n",
            "Model:                            OLS   Adj. R-squared:                  0.556\n",
            "Method:                 Least Squares   F-statistic:                     260.5\n",
            "Date:                Sun, 31 Oct 2021   Prob (F-statistic):          3.02e-109\n",
            "Time:                        18:03:13   Log-Likelihood:                -2225.3\n",
            "No. Observations:                 622   AIC:                             4459.\n",
            "Df Residuals:                     618   BIC:                             4476.\n",
            "Df Model:                           3                                         \n",
            "Covariance Type:            nonrobust                                         \n",
            "==============================================================================\n",
            "                 coef    std err          t      P>|t|      [0.025      0.975]\n",
            "------------------------------------------------------------------------------\n",
            "Intercept    222.5846      5.555     40.072      0.000     211.677     233.493\n",
            "mean_pre       0.1645      0.023      7.064      0.000       0.119       0.210\n",
            "covid         15.2084      0.817     18.619      0.000      13.604      16.812\n",
            "elevation     -0.0073      0.001     -9.242      0.000      -0.009      -0.006\n",
            "==============================================================================\n",
            "Omnibus:                       97.270   Durbin-Watson:                   1.629\n",
            "Prob(Omnibus):                  0.000   Jarque-Bera (JB):              274.266\n",
            "Skew:                          -0.771   Prob(JB):                     2.78e-60\n",
            "Kurtosis:                       5.864   Cond. No.                     1.01e+04\n",
            "==============================================================================\n",
            "\n",
            "Notes:\n",
            "[1] Standard Errors assume that the covariance matrix of the errors is correctly specified.\n",
            "[2] The condition number is large, 1.01e+04. This might indicate that there are\n",
            "strong multicollinearity or other numerical problems.\n"
          ]
        }
      ]
    },
    {
      "cell_type": "code",
      "metadata": {
        "id": "01112ee2"
      },
      "source": [
        "week_df[\"predicted\"]=result.params[\"Intercept\"]+result.params[\"mean_pre\"]*week_df[\"mean_pre\"]+result.params[\"covid\"]*week_df[\"covid\"]+result.params[\"elevation\"]*week_df[\"elevation\"]"
      ],
      "id": "01112ee2",
      "execution_count": null,
      "outputs": []
    },
    {
      "cell_type": "code",
      "metadata": {
        "id": "be73dbe1",
        "outputId": "cf74a891-3ac5-440c-abf0-dac22e78bda0"
      },
      "source": [
        "plt.scatter(x=week_df[week_df[\"covid\"]==1][\"mean_post\"],y=week_df[week_df[\"covid\"]==1][\"predicted\"],color=\"red\", marker=\"x\",label=\"2020\")\n",
        "plt.scatter(x=week_df[week_df[\"covid\"]==0][\"mean_post\"],y=week_df[week_df[\"covid\"]==0][\"predicted\"],color=\"green\", marker=\"x\",label=\"2019\")\n",
        "plt.legend()\n",
        "plt.xlabel(\"actual O3\")\n",
        "plt.ylabel(\"predicted O3\")\n",
        "plt.show()"
      ],
      "id": "be73dbe1",
      "execution_count": null,
      "outputs": [
        {
          "data": {
            "image/png": "[encoded data removed]",
            "text/plain": [
              "<Figure size 432x288 with 1 Axes>"
            ]
          },
          "metadata": {
            "needs_background": "light"
          },
          "output_type": "display_data"
        }
      ]
    },
    {
      "cell_type": "code",
      "metadata": {
        "id": "b0344873"
      },
      "source": [
        ""
      ],
      "id": "b0344873",
      "execution_count": null,
      "outputs": []
    }
  ]
}