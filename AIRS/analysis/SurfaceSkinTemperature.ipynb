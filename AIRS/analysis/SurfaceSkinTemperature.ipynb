{
  "nbformat": 4,
  "nbformat_minor": 5,
  "metadata": {
    "kernelspec": {
      "display_name": "Python 3 (ipykernel)",
      "language": "python",
      "name": "python3"
    },
    "language_info": {
      "codemirror_mode": {
        "name": "ipython",
        "version": 3
      },
      "file_extension": ".py",
      "mimetype": "text/x-python",
      "name": "python",
      "nbconvert_exporter": "python",
      "pygments_lexer": "ipython3",
      "version": "3.9.7"
    },
    "colab": {
      "name": "SurfaceSkinTemperature.ipynb",
      "provenance": [],
      "collapsed_sections": []
    }
  },
  "cells": [
    {
      "cell_type": "markdown",
      "metadata": {
        "id": "tbEOWpphq3ln"
      },
      "source": [
        "# Analysis of daytime surface skin temperature at 1x1 degree"
      ],
      "id": "tbEOWpphq3ln"
    },
    {
      "cell_type": "code",
      "metadata": {
        "id": "e5bf3bc4",
        "colab": {
          "base_uri": "https://localhost:8080/"
        },
        "outputId": "d43a6b40-d026-4553-d692-196aaedd2bc9"
      },
      "source": [
        "\n",
        "import pandas as pd\n",
        "pd.set_option('display.max_rows', 500)\n",
        "pd.options.mode.use_inf_as_na = True\n",
        "import numpy as np\n",
        "import os\n",
        "import math\n",
        "from scipy.stats import pearsonr as corr\n",
        "from matplotlib import pyplot as plt\n",
        "#import statsmodels.api as sm\n",
        "import statsmodels.formula.api as sm\n",
        "import scipy"
      ],
      "id": "e5bf3bc4",
      "execution_count": 6,
      "outputs": [
        {
          "output_type": "stream",
          "name": "stderr",
          "text": [
            "/usr/local/lib/python3.7/dist-packages/statsmodels/tools/_testing.py:19: FutureWarning: pandas.util.testing is deprecated. Use the functions in the public API at pandas.testing instead.\n",
            "  import pandas.util.testing as tm\n"
          ]
        }
      ]
    },
    {
      "cell_type": "code",
      "metadata": {
        "id": "0ad3932f"
      },
      "source": [
        "AIRS_PATH=\"airs/data/\" # path for airs csv data\n",
        "COVID_PATH=\"covidoxford/data/\"  # path for covid oxford csv files\n",
        "CITIES_PATH=\"cities/data/\" # path for indian cities csv files"
      ],
      "id": "0ad3932f",
      "execution_count": 7,
      "outputs": []
    },
    {
      "cell_type": "code",
      "metadata": {
        "id": "80b7946a",
        "colab": {
          "base_uri": "https://localhost:8080/"
        },
        "outputId": "df71047c-339a-4be5-f7ec-d8bc76a82d36"
      },
      "source": [
        "cities_df=pd.read_csv(CITIES_PATH+\"cities_1degx1deg.csv\",error_bad_lines=False)#delimiter=\"~\")"
      ],
      "id": "80b7946a",
      "execution_count": 8,
      "outputs": [
        {
          "output_type": "stream",
          "name": "stderr",
          "text": [
            "b'Skipping line 164: expected 5 fields, saw 6\\n'\n"
          ]
        }
      ]
    },
    {
      "cell_type": "code",
      "metadata": {
        "id": "ea026ea8"
      },
      "source": [
        "airs_df=pd.read_csv(AIRS_PATH+\"indian_cities_1degx1deg_airs.csv\")"
      ],
      "id": "ea026ea8",
      "execution_count": 9,
      "outputs": []
    },
    {
      "cell_type": "code",
      "metadata": {
        "id": "3c666b71",
        "colab": {
          "base_uri": "https://localhost:8080/"
        },
        "outputId": "29142f5b-1bf7-4305-c176-79344b60781f"
      },
      "source": [
        "airs_df[\"metric\"].unique()"
      ],
      "id": "3c666b71",
      "execution_count": 10,
      "outputs": [
        {
          "output_type": "execute_result",
          "data": {
            "text/plain": [
              "array(['SurfPres_Forecast_TqJ_A', 'SurfSkinTemp_TqJ_A', 'EmisIR_TqJ_A#1',\n",
              "       'EmisIR_TqJ_A#2', 'EmisIR_TqJ_A#3', 'EmisIR_TqJ_A#4',\n",
              "       'Temperature_TqJ_A#1', 'Temperature_TqJ_A#2',\n",
              "       'Temperature_TqJ_A#3', 'Temperature_TqJ_A#4',\n",
              "       'Temperature_TqJ_A#5', 'Temperature_TqJ_A#6',\n",
              "       'Temperature_TqJ_A#7', 'Temperature_TqJ_A#8',\n",
              "       'Temperature_TqJ_A#9', 'Temperature_TqJ_A#10',\n",
              "       'Temperature_TqJ_A#11', 'Temperature_TqJ_A#12',\n",
              "       'Temperature_TqJ_A#13', 'Temperature_TqJ_A#14',\n",
              "       'Temperature_TqJ_A#15', 'Temperature_TqJ_A#16',\n",
              "       'Temperature_TqJ_A#17', 'Temperature_TqJ_A#18',\n",
              "       'Temperature_TqJ_A#19', 'Temperature_TqJ_A#20',\n",
              "       'Temperature_TqJ_A#21', 'Temperature_TqJ_A#22',\n",
              "       'Temperature_TqJ_A#23', 'Temperature_TqJ_A#24',\n",
              "       'SurfAirTemp_TqJ_A', 'TropPres_TqJ_A', 'TropTemp_TqJ_A',\n",
              "       'TotH2OVap_TqJ_A', 'H2O_MMR_Lyr_TqJ_A#1', 'H2O_MMR_Lyr_TqJ_A#2',\n",
              "       'H2O_MMR_Lyr_TqJ_A#3', 'H2O_MMR_Lyr_TqJ_A#4',\n",
              "       'H2O_MMR_Lyr_TqJ_A#5', 'H2O_MMR_Lyr_TqJ_A#6',\n",
              "       'H2O_MMR_Lyr_TqJ_A#7', 'H2O_MMR_Lyr_TqJ_A#8',\n",
              "       'H2O_MMR_Lyr_TqJ_A#9', 'H2O_MMR_Lyr_TqJ_A#10',\n",
              "       'H2O_MMR_Lyr_TqJ_A#11', 'H2O_MMR_Lyr_TqJ_A#12', 'H2O_MMR_TqJ_A#1',\n",
              "       'H2O_MMR_TqJ_A#2', 'H2O_MMR_TqJ_A#3', 'H2O_MMR_TqJ_A#4',\n",
              "       'H2O_MMR_TqJ_A#5', 'H2O_MMR_TqJ_A#6', 'H2O_MMR_TqJ_A#7',\n",
              "       'H2O_MMR_TqJ_A#8', 'H2O_MMR_TqJ_A#9', 'H2O_MMR_TqJ_A#10',\n",
              "       'H2O_MMR_TqJ_A#11', 'H2O_MMR_TqJ_A#12', 'H2O_MMR_Surf_TqJ_A',\n",
              "       'RelHum_TqJ_A#1', 'RelHum_TqJ_A#2', 'RelHum_TqJ_A#3',\n",
              "       'RelHum_TqJ_A#4', 'RelHum_TqJ_A#5', 'RelHum_TqJ_A#6',\n",
              "       'RelHum_TqJ_A#7', 'RelHum_TqJ_A#8', 'RelHum_TqJ_A#9',\n",
              "       'RelHum_TqJ_A#10', 'RelHum_TqJ_A#11', 'RelHum_TqJ_A#12',\n",
              "       'RelHumSurf_TqJ_A', 'RelHum_liquid_TqJ_A#1',\n",
              "       'RelHum_liquid_TqJ_A#2', 'RelHum_liquid_TqJ_A#3',\n",
              "       'RelHum_liquid_TqJ_A#4', 'RelHum_liquid_TqJ_A#5',\n",
              "       'RelHum_liquid_TqJ_A#6', 'RelHum_liquid_TqJ_A#7',\n",
              "       'RelHum_liquid_TqJ_A#8', 'RelHum_liquid_TqJ_A#9',\n",
              "       'RelHum_liquid_TqJ_A#10', 'RelHum_liquid_TqJ_A#11',\n",
              "       'RelHum_liquid_TqJ_A#12', 'RelHumSurf_liquid_TqJ_A',\n",
              "       'TropHeight_TqJ_A', 'GPHeight_TqJ_A#1', 'GPHeight_TqJ_A#2',\n",
              "       'GPHeight_TqJ_A#3', 'GPHeight_TqJ_A#4', 'GPHeight_TqJ_A#5',\n",
              "       'GPHeight_TqJ_A#6', 'GPHeight_TqJ_A#7', 'GPHeight_TqJ_A#8',\n",
              "       'GPHeight_TqJ_A#9', 'GPHeight_TqJ_A#10', 'GPHeight_TqJ_A#11',\n",
              "       'GPHeight_TqJ_A#12', 'GPHeight_TqJ_A#13', 'GPHeight_TqJ_A#14',\n",
              "       'GPHeight_TqJ_A#15', 'GPHeight_TqJ_A#16', 'GPHeight_TqJ_A#17',\n",
              "       'GPHeight_TqJ_A#18', 'GPHeight_TqJ_A#19', 'GPHeight_TqJ_A#20',\n",
              "       'GPHeight_TqJ_A#21', 'GPHeight_TqJ_A#22', 'GPHeight_TqJ_A#23',\n",
              "       'GPHeight_TqJ_A#24', 'CloudFrc_TqJ_A', 'CloudTopPres_TqJ_A',\n",
              "       'CloudTopTemp_TqJ_A', 'FineCloudFrc_TqJ_A#1',\n",
              "       'FineCloudFrc_TqJ_A#2', 'FineCloudFrc_TqJ_A#3',\n",
              "       'FineCloudFrc_TqJ_A#4', 'FineCloudFrc_TqJ_A#5',\n",
              "       'FineCloudFrc_TqJ_A#6', 'FineCloudFrc_TqJ_A#7',\n",
              "       'FineCloudFrc_TqJ_A#8', 'FineCloudFrc_TqJ_A#9',\n",
              "       'FineCloudFrc_TqJ_A#10', 'FineCloudFrc_TqJ_A#11',\n",
              "       'FineCloudFrc_TqJ_A#12', 'CoarseCloudFrc_TqJ_A#1',\n",
              "       'CoarseCloudFrc_TqJ_A#2', 'CoarseCloudFrc_TqJ_A#3',\n",
              "       'CoarseCloudPres_TqJ_A#1', 'CoarseCloudPres_TqJ_A#2',\n",
              "       'CoarseCloudPres_TqJ_A#3', 'CoarseCloudTemp_TqJ_A#1',\n",
              "       'CoarseCloudTemp_TqJ_A#2', 'CoarseCloudTemp_TqJ_A#3',\n",
              "       'TotO3_TqJ_A', 'O3_VMR_TqJ_A#1', 'O3_VMR_TqJ_A#2',\n",
              "       'O3_VMR_TqJ_A#3', 'O3_VMR_TqJ_A#4', 'O3_VMR_TqJ_A#5',\n",
              "       'O3_VMR_TqJ_A#6', 'O3_VMR_TqJ_A#7', 'O3_VMR_TqJ_A#8',\n",
              "       'O3_VMR_TqJ_A#9', 'O3_VMR_TqJ_A#10', 'O3_VMR_TqJ_A#11',\n",
              "       'O3_VMR_TqJ_A#12', 'O3_VMR_TqJ_A#13', 'O3_VMR_TqJ_A#14',\n",
              "       'O3_VMR_TqJ_A#15', 'O3_VMR_TqJ_A#16', 'O3_VMR_TqJ_A#17',\n",
              "       'O3_VMR_TqJ_A#18', 'O3_VMR_TqJ_A#19', 'O3_VMR_TqJ_A#20',\n",
              "       'O3_VMR_TqJ_A#21', 'O3_VMR_TqJ_A#22', 'O3_VMR_TqJ_A#23',\n",
              "       'O3_VMR_TqJ_A#24', 'CO_VMR_TqJ_A#1', 'CO_VMR_TqJ_A#2',\n",
              "       'CO_VMR_TqJ_A#3', 'CO_VMR_TqJ_A#4', 'CO_VMR_TqJ_A#5',\n",
              "       'CO_VMR_TqJ_A#6', 'CO_VMR_TqJ_A#7', 'CO_VMR_TqJ_A#8',\n",
              "       'CO_VMR_TqJ_A#9', 'CO_VMR_TqJ_A#10', 'CO_VMR_TqJ_A#11',\n",
              "       'CO_VMR_TqJ_A#12', 'CO_VMR_TqJ_A#13', 'CO_VMR_TqJ_A#14',\n",
              "       'CO_VMR_TqJ_A#15', 'CO_VMR_TqJ_A#16', 'CO_VMR_TqJ_A#17',\n",
              "       'CO_VMR_TqJ_A#18', 'CO_VMR_TqJ_A#19', 'CO_VMR_TqJ_A#20',\n",
              "       'CO_VMR_TqJ_A#21', 'CO_VMR_TqJ_A#22', 'CO_VMR_TqJ_A#23',\n",
              "       'CO_VMR_TqJ_A#24', 'CH4_VMR_TqJ_A#1', 'CH4_VMR_TqJ_A#2',\n",
              "       'CH4_VMR_TqJ_A#3', 'CH4_VMR_TqJ_A#4', 'CH4_VMR_TqJ_A#5',\n",
              "       'CH4_VMR_TqJ_A#6', 'CH4_VMR_TqJ_A#7', 'CH4_VMR_TqJ_A#8',\n",
              "       'CH4_VMR_TqJ_A#9', 'CH4_VMR_TqJ_A#10', 'CH4_VMR_TqJ_A#11',\n",
              "       'CH4_VMR_TqJ_A#12', 'CH4_VMR_TqJ_A#13', 'CH4_VMR_TqJ_A#14',\n",
              "       'CH4_VMR_TqJ_A#15', 'CH4_VMR_TqJ_A#16', 'CH4_VMR_TqJ_A#17',\n",
              "       'CH4_VMR_TqJ_A#18', 'CH4_VMR_TqJ_A#19', 'CH4_VMR_TqJ_A#20',\n",
              "       'CH4_VMR_TqJ_A#21', 'CH4_VMR_TqJ_A#22', 'CH4_VMR_TqJ_A#23',\n",
              "       'CH4_VMR_TqJ_A#24', 'OLR_TqJ_A', 'ClrOLR_TqJ_A',\n",
              "       'SurfPres_Forecast_TqJ_D', 'SurfSkinTemp_TqJ_D', 'EmisIR_TqJ_D#1',\n",
              "       'EmisIR_TqJ_D#2', 'EmisIR_TqJ_D#3', 'EmisIR_TqJ_D#4',\n",
              "       'Temperature_TqJ_D#1', 'Temperature_TqJ_D#2',\n",
              "       'Temperature_TqJ_D#3', 'Temperature_TqJ_D#4',\n",
              "       'Temperature_TqJ_D#5', 'Temperature_TqJ_D#6',\n",
              "       'Temperature_TqJ_D#7', 'Temperature_TqJ_D#8',\n",
              "       'Temperature_TqJ_D#9', 'Temperature_TqJ_D#10',\n",
              "       'Temperature_TqJ_D#11', 'Temperature_TqJ_D#12',\n",
              "       'Temperature_TqJ_D#13', 'Temperature_TqJ_D#14',\n",
              "       'Temperature_TqJ_D#15', 'Temperature_TqJ_D#16',\n",
              "       'Temperature_TqJ_D#17', 'Temperature_TqJ_D#18',\n",
              "       'Temperature_TqJ_D#19', 'Temperature_TqJ_D#20',\n",
              "       'Temperature_TqJ_D#21', 'Temperature_TqJ_D#22',\n",
              "       'Temperature_TqJ_D#23', 'Temperature_TqJ_D#24',\n",
              "       'SurfAirTemp_TqJ_D', 'TropPres_TqJ_D', 'TropTemp_TqJ_D',\n",
              "       'TotH2OVap_TqJ_D', 'H2O_MMR_Lyr_TqJ_D#1', 'H2O_MMR_Lyr_TqJ_D#2',\n",
              "       'H2O_MMR_Lyr_TqJ_D#3', 'H2O_MMR_Lyr_TqJ_D#4',\n",
              "       'H2O_MMR_Lyr_TqJ_D#5', 'H2O_MMR_Lyr_TqJ_D#6',\n",
              "       'H2O_MMR_Lyr_TqJ_D#7', 'H2O_MMR_Lyr_TqJ_D#8',\n",
              "       'H2O_MMR_Lyr_TqJ_D#9', 'H2O_MMR_Lyr_TqJ_D#10',\n",
              "       'H2O_MMR_Lyr_TqJ_D#11', 'H2O_MMR_Lyr_TqJ_D#12', 'H2O_MMR_TqJ_D#1',\n",
              "       'H2O_MMR_TqJ_D#2', 'H2O_MMR_TqJ_D#3', 'H2O_MMR_TqJ_D#4',\n",
              "       'H2O_MMR_TqJ_D#5', 'H2O_MMR_TqJ_D#6', 'H2O_MMR_TqJ_D#7',\n",
              "       'H2O_MMR_TqJ_D#8', 'H2O_MMR_TqJ_D#9', 'H2O_MMR_TqJ_D#10',\n",
              "       'H2O_MMR_TqJ_D#11', 'H2O_MMR_TqJ_D#12', 'H2O_MMR_Surf_TqJ_D',\n",
              "       'RelHum_TqJ_D#1', 'RelHum_TqJ_D#2', 'RelHum_TqJ_D#3',\n",
              "       'RelHum_TqJ_D#4', 'RelHum_TqJ_D#5', 'RelHum_TqJ_D#6',\n",
              "       'RelHum_TqJ_D#7', 'RelHum_TqJ_D#8', 'RelHum_TqJ_D#9',\n",
              "       'RelHum_TqJ_D#10', 'RelHum_TqJ_D#11', 'RelHum_TqJ_D#12',\n",
              "       'RelHumSurf_TqJ_D', 'RelHum_liquid_TqJ_D#1',\n",
              "       'RelHum_liquid_TqJ_D#2', 'RelHum_liquid_TqJ_D#3',\n",
              "       'RelHum_liquid_TqJ_D#4', 'RelHum_liquid_TqJ_D#5',\n",
              "       'RelHum_liquid_TqJ_D#6', 'RelHum_liquid_TqJ_D#7',\n",
              "       'RelHum_liquid_TqJ_D#8', 'RelHum_liquid_TqJ_D#9',\n",
              "       'RelHum_liquid_TqJ_D#10', 'RelHum_liquid_TqJ_D#11',\n",
              "       'RelHum_liquid_TqJ_D#12', 'RelHumSurf_liquid_TqJ_D',\n",
              "       'TropHeight_TqJ_D', 'GPHeight_TqJ_D#1', 'GPHeight_TqJ_D#2',\n",
              "       'GPHeight_TqJ_D#3', 'GPHeight_TqJ_D#4', 'GPHeight_TqJ_D#5',\n",
              "       'GPHeight_TqJ_D#6', 'GPHeight_TqJ_D#7', 'GPHeight_TqJ_D#8',\n",
              "       'GPHeight_TqJ_D#9', 'GPHeight_TqJ_D#10', 'GPHeight_TqJ_D#11',\n",
              "       'GPHeight_TqJ_D#12', 'GPHeight_TqJ_D#13', 'GPHeight_TqJ_D#14',\n",
              "       'GPHeight_TqJ_D#15', 'GPHeight_TqJ_D#16', 'GPHeight_TqJ_D#17',\n",
              "       'GPHeight_TqJ_D#18', 'GPHeight_TqJ_D#19', 'GPHeight_TqJ_D#20',\n",
              "       'GPHeight_TqJ_D#21', 'GPHeight_TqJ_D#22', 'GPHeight_TqJ_D#23',\n",
              "       'GPHeight_TqJ_D#24', 'CloudFrc_TqJ_D', 'CloudTopPres_TqJ_D',\n",
              "       'CloudTopTemp_TqJ_D', 'FineCloudFrc_TqJ_D#1',\n",
              "       'FineCloudFrc_TqJ_D#2', 'FineCloudFrc_TqJ_D#3',\n",
              "       'FineCloudFrc_TqJ_D#4', 'FineCloudFrc_TqJ_D#5',\n",
              "       'FineCloudFrc_TqJ_D#6', 'FineCloudFrc_TqJ_D#7',\n",
              "       'FineCloudFrc_TqJ_D#8', 'FineCloudFrc_TqJ_D#9',\n",
              "       'FineCloudFrc_TqJ_D#10', 'FineCloudFrc_TqJ_D#11',\n",
              "       'FineCloudFrc_TqJ_D#12', 'CoarseCloudFrc_TqJ_D#1',\n",
              "       'CoarseCloudFrc_TqJ_D#2', 'CoarseCloudFrc_TqJ_D#3',\n",
              "       'CoarseCloudPres_TqJ_D#1', 'CoarseCloudPres_TqJ_D#2',\n",
              "       'CoarseCloudPres_TqJ_D#3', 'CoarseCloudTemp_TqJ_D#1',\n",
              "       'CoarseCloudTemp_TqJ_D#2', 'CoarseCloudTemp_TqJ_D#3',\n",
              "       'TotO3_TqJ_D', 'O3_VMR_TqJ_D#1', 'O3_VMR_TqJ_D#2',\n",
              "       'O3_VMR_TqJ_D#3', 'O3_VMR_TqJ_D#4', 'O3_VMR_TqJ_D#5',\n",
              "       'O3_VMR_TqJ_D#6', 'O3_VMR_TqJ_D#7', 'O3_VMR_TqJ_D#8',\n",
              "       'O3_VMR_TqJ_D#9', 'O3_VMR_TqJ_D#10', 'O3_VMR_TqJ_D#11',\n",
              "       'O3_VMR_TqJ_D#12', 'O3_VMR_TqJ_D#13', 'O3_VMR_TqJ_D#14',\n",
              "       'O3_VMR_TqJ_D#15', 'O3_VMR_TqJ_D#16', 'O3_VMR_TqJ_D#17',\n",
              "       'O3_VMR_TqJ_D#18', 'O3_VMR_TqJ_D#19', 'O3_VMR_TqJ_D#20',\n",
              "       'O3_VMR_TqJ_D#21', 'O3_VMR_TqJ_D#22', 'O3_VMR_TqJ_D#23',\n",
              "       'O3_VMR_TqJ_D#24', 'CO_VMR_TqJ_D#1', 'CO_VMR_TqJ_D#2',\n",
              "       'CO_VMR_TqJ_D#3', 'CO_VMR_TqJ_D#4', 'CO_VMR_TqJ_D#5',\n",
              "       'CO_VMR_TqJ_D#6', 'CO_VMR_TqJ_D#7', 'CO_VMR_TqJ_D#8',\n",
              "       'CO_VMR_TqJ_D#9', 'CO_VMR_TqJ_D#10', 'CO_VMR_TqJ_D#11',\n",
              "       'CO_VMR_TqJ_D#12', 'CO_VMR_TqJ_D#13', 'CO_VMR_TqJ_D#14',\n",
              "       'CO_VMR_TqJ_D#15', 'CO_VMR_TqJ_D#16', 'CO_VMR_TqJ_D#17',\n",
              "       'CO_VMR_TqJ_D#18', 'CO_VMR_TqJ_D#19', 'CO_VMR_TqJ_D#20',\n",
              "       'CO_VMR_TqJ_D#21', 'CO_VMR_TqJ_D#22', 'CO_VMR_TqJ_D#23',\n",
              "       'CO_VMR_TqJ_D#24', 'CH4_VMR_TqJ_D#1', 'CH4_VMR_TqJ_D#2',\n",
              "       'CH4_VMR_TqJ_D#3', 'CH4_VMR_TqJ_D#4', 'CH4_VMR_TqJ_D#5',\n",
              "       'CH4_VMR_TqJ_D#6', 'CH4_VMR_TqJ_D#7', 'CH4_VMR_TqJ_D#8',\n",
              "       'CH4_VMR_TqJ_D#9', 'CH4_VMR_TqJ_D#10', 'CH4_VMR_TqJ_D#11',\n",
              "       'CH4_VMR_TqJ_D#12', 'CH4_VMR_TqJ_D#13', 'CH4_VMR_TqJ_D#14',\n",
              "       'CH4_VMR_TqJ_D#15', 'CH4_VMR_TqJ_D#16', 'CH4_VMR_TqJ_D#17',\n",
              "       'CH4_VMR_TqJ_D#18', 'CH4_VMR_TqJ_D#19', 'CH4_VMR_TqJ_D#20',\n",
              "       'CH4_VMR_TqJ_D#21', 'CH4_VMR_TqJ_D#22', 'CH4_VMR_TqJ_D#23',\n",
              "       'CH4_VMR_TqJ_D#24', 'OLR_TqJ_D', 'ClrOLR_TqJ_D'], dtype=object)"
            ]
          },
          "metadata": {},
          "execution_count": 10
        }
      ]
    },
    {
      "cell_type": "code",
      "metadata": {
        "id": "7be0db9e"
      },
      "source": [
        "metric=\"SurfSkinTemp_TqJ_A\"\n",
        "metric_df=airs_df[(airs_df[\"metric\"]==metric)&(airs_df[\"mean\"]>-9999)&(~airs_df[\"mean\"].isna())]"
      ],
      "id": "7be0db9e",
      "execution_count": 11,
      "outputs": []
    },
    {
      "cell_type": "markdown",
      "metadata": {
        "id": "17803160"
      },
      "source": [
        "# Weekwise Surface Skin Temperature average of all cities of 2019 and 2020\n",
        "\n",
        "Taking difference across all weeks.\n",
        "\n",
        "For every week we will get 310 points as there are unique 310 cities as per 1 degree. Subtract values of every week of 2020 (310 points) from every week of 2019 (310 points) and have it's mean. "
      ],
      "id": "17803160"
    },
    {
      "cell_type": "code",
      "metadata": {
        "scrolled": true,
        "id": "279b4613",
        "colab": {
          "base_uri": "https://localhost:8080/"
        },
        "outputId": "4bc3ec43-f4dd-4ec7-e604-e479e46982d6"
      },
      "source": [
        "x=[]\n",
        "values1=[]\n",
        "values2=[]\n",
        "for month in range(1,13):\n",
        "    for week in range(1,5):\n",
        "        week1=str(month)+\".2019.week\"+str(week)\n",
        "        week2=str(month)+\".2020.week\"+str(week)\n",
        "        week1_data=metric_df[metric_df[\"week\"]==week1].set_index(\"location\")[\"mean\"].to_dict()\n",
        "        week2_data=metric_df[metric_df[\"week\"]==week2].set_index(\"location\")[\"mean\"].to_dict()\n",
        "        temp1=[]\n",
        "        temp2=[]\n",
        "        for location in week1_data:\n",
        "            if location in week2_data:\n",
        "                temp1.append(week1_data[location])\n",
        "                temp2.append(week2_data[location])\n",
        "        if len(temp1)>=100:\n",
        "            x.append((month-1)*4+week)\n",
        "            values1.append(np.mean(temp1))\n",
        "            values2.append(np.mean(temp2))\n",
        "            print(\" month =\",month,\" week =\",week,\"2019 =\",values1[-1],\"2020 =\",values2[-1])"
      ],
      "id": "279b4613",
      "execution_count": 12,
      "outputs": [
        {
          "output_type": "stream",
          "name": "stdout",
          "text": [
            " month = 1  week = 1 2019 = 300.55338115755626 2020 = 297.71553491961413\n",
            " month = 1  week = 2 2019 = 301.52396498392284 2020 = 298.6226890353698\n",
            " month = 1  week = 3 2019 = 301.67006717041806 2020 = 299.4360935369775\n",
            " month = 1  week = 4 2019 = 301.218799903537 2020 = 300.92433655948554\n",
            " month = 2  week = 1 2019 = 303.07774877813506 2020 = 301.17948639871383\n",
            " month = 2  week = 2 2019 = 304.8578181672026 2020 = 302.47158893890673\n",
            " month = 2  week = 3 2019 = 306.37047832797424 2020 = 305.5763418006431\n",
            " month = 3  week = 1 2019 = 306.4136107395498 2020 = 305.8209914790997\n",
            " month = 3  week = 2 2019 = 309.22696463022504 2020 = 307.44614135048226\n",
            " month = 3  week = 3 2019 = 311.10070800643086 2020 = 310.18998745980707\n",
            " month = 3  week = 4 2019 = 313.7804708681672 2020 = 311.74620655948553\n",
            " month = 4  week = 1 2019 = 314.9106211254019 2020 = 314.04222729903535\n",
            " month = 4  week = 2 2019 = 316.27416549839234 2020 = 315.4956792604501\n",
            " month = 4  week = 3 2019 = 314.84000723472667 2020 = 313.8707550482315\n",
            " month = 4  week = 4 2019 = 317.9838223472669 2020 = 313.93441038585206\n",
            " month = 5  week = 1 2019 = 317.3175148709677 2020 = 315.11711238709677\n",
            " month = 5  week = 2 2019 = 316.46483112540193 2020 = 315.6115851125402\n",
            " month = 5  week = 3 2019 = 317.62278942122185 2020 = 316.8835916720258\n",
            " month = 6  week = 1 2019 = 317.18207469453375 2020 = 310.7644697427653\n",
            " month = 6  week = 2 2019 = 313.17735160771707 2020 = 310.9203934405145\n",
            " month = 6  week = 3 2019 = 310.740805755627 2020 = 308.6858422508039\n",
            " month = 7  week = 1 2019 = 308.06506215434086 2020 = 306.8552049839228\n",
            " month = 7  week = 2 2019 = 304.8922326688103 2020 = 305.61975003215434\n",
            " month = 7  week = 3 2019 = 307.9566663987138 2020 = 305.49959829581996\n",
            " month = 7  week = 4 2019 = 304.953351125402 2020 = 306.0753863987138\n",
            " month = 8  week = 1 2019 = 301.94379553398056 2020 = 304.8052440453074\n",
            " month = 8  week = 2 2019 = 302.78534520900325 2020 = 301.3157407395498\n",
            " month = 9  week = 1 2019 = 303.1650701612904 2020 = 305.36759077419356\n",
            " month = 9  week = 2 2019 = 303.23394790996787 2020 = 304.7860225401929\n",
            " month = 9  week = 3 2019 = 304.4103951125402 2020 = 304.7226687459807\n",
            " month = 9  week = 4 2019 = 302.47966241935484 2020 = 306.08661703225806\n",
            " month = 10  week = 1 2019 = 304.3892935691318 2020 = 306.8664846623795\n",
            " month = 10  week = 2 2019 = 305.503291125402 2020 = 306.0414489389068\n",
            " month = 10  week = 3 2019 = 303.2730355305466 2020 = 305.82038839228295\n",
            " month = 10  week = 4 2019 = 303.69862790996785 2020 = 305.72590987138267\n",
            " month = 11  week = 1 2019 = 303.88999736334404 2020 = 304.6378108360129\n",
            " month = 11  week = 2 2019 = 303.4622441479099 2020 = 303.59683945337616\n",
            " month = 11  week = 3 2019 = 302.90856025723474 2020 = 302.0120067524116\n",
            " month = 12  week = 1 2019 = 300.8303608681672 2020 = 302.84779392282957\n",
            " month = 12  week = 2 2019 = 298.28338475884243 2020 = 299.8125754662379\n",
            " month = 12  week = 3 2019 = 298.1853890996785 2020 = 299.9735990032155\n"
          ]
        }
      ]
    },
    {
      "cell_type": "code",
      "metadata": {
        "id": "766888e4",
        "colab": {
          "base_uri": "https://localhost:8080/",
          "height": 295
        },
        "outputId": "1cdf2ca7-afd6-4aac-c23f-0e666a387226"
      },
      "source": [
        "plt.plot(x,values1,label=\"2019\",color=\"red\")\n",
        "plt.plot(x,values2,label=\"2020\",color=\"green\")\n",
        "plt.legend()\n",
        "plt.title('average of all cities of 2019 and 2020')\n",
        "plt.xlabel(\"week number (4 weeks per month)\")\n",
        "plt.ylabel(\"Total Surface Skin Temperature during day\")\n",
        "plt.show()"
      ],
      "id": "766888e4",
      "execution_count": 15,
      "outputs": [
        {
          "output_type": "display_data",
          "data": {
            "image/png": "[encoded data removed]",
            "text/plain": [
              "<Figure size 432x288 with 1 Axes>"
            ]
          },
          "metadata": {
            "needs_background": "light"
          }
        }
      ]
    },
    {
      "cell_type": "markdown",
      "metadata": {
        "id": "f2a339f7"
      },
      "source": [
        "Takeaway: In general, the surface skin temperature for both the years follow the similar curve. But if we look closely, there might be a hint of some small change. During lockdown, 2020 has seen little lesser temperature and during the end of the year, particularly in the months of september and october, there seems to be a bit higher temperature in 2020."
      ],
      "id": "f2a339f7"
    },
    {
      "cell_type": "markdown",
      "metadata": {
        "id": "2737f551"
      },
      "source": [
        "# Difference in Surface Skin Temperature values between the same week of 2020 and 2019"
      ],
      "id": "2737f551"
    },
    {
      "cell_type": "code",
      "metadata": {
        "id": "2fe35aae",
        "outputId": "fd69a3d1-b2a3-427b-8eaf-ffda93f7c64b"
      },
      "source": [
        "week1=\"3.2019.week1\"\n",
        "week2=\"3.2020.week1\"\n",
        "week1_df=metric_df[metric_df[\"week\"]==week1][[\"location\",\"week\",\"mean\",\"sdev\"]]\n",
        "week2_df=metric_df[metric_df[\"week\"]==week2][[\"location\",\"week\",\"mean\",\"sdev\"]]\n",
        "week_df=week1_df.merge(week2_df,on=\"location\",how=\"inner\",suffixes=[\"_2019\",\"_2020\"])\n",
        "week_df=week_df.merge(cities_df[[\"location\",\"city\",\"population\",\"elevation\"]],on=\"location\",how=\"inner\")\n",
        "week_df[\"diff\"]=(week_df[\"mean_2020\"]-week_df[\"mean_2019\"])*100/week_df[\"mean_2019\"]\n",
        "week_df[\"diff\"].describe()"
      ],
      "id": "2fe35aae",
      "execution_count": null,
      "outputs": [
        {
          "data": {
            "text/plain": [
              "count    311.000000\n",
              "mean      -0.170684\n",
              "std        0.791966\n",
              "min       -2.385196\n",
              "25%       -0.753169\n",
              "50%       -0.133865\n",
              "75%        0.340849\n",
              "max        2.894624\n",
              "Name: diff, dtype: float64"
            ]
          },
          "execution_count": 155,
          "metadata": {},
          "output_type": "execute_result"
        }
      ]
    },
    {
      "cell_type": "code",
      "metadata": {
        "id": "62f19af1",
        "outputId": "cdc42df7-d5cb-44ed-c643-d684ffeb08ef"
      },
      "source": [
        "week1=\"4.2019.week4\"\n",
        "week2=\"4.2020.week4\"\n",
        "week1_df=metric_df[metric_df[\"week\"]==week1][[\"location\",\"week\",\"mean\",\"sdev\"]]\n",
        "week2_df=metric_df[metric_df[\"week\"]==week2][[\"location\",\"week\",\"mean\",\"sdev\"]]\n",
        "week_df=week1_df.merge(week2_df,on=\"location\",how=\"inner\",suffixes=[\"_2019\",\"_2020\"])\n",
        "week_df=week_df.merge(cities_df[[\"location\",\"city\",\"population\",\"elevation\"]],on=\"location\",how=\"inner\")\n",
        "week_df[\"diff\"]=(week_df[\"mean_2020\"]-week_df[\"mean_2019\"])*100/week_df[\"mean_2019\"]\n",
        "week_df[\"diff\"].describe()"
      ],
      "id": "62f19af1",
      "execution_count": null,
      "outputs": [
        {
          "data": {
            "text/plain": [
              "count    311.000000\n",
              "mean      -1.259560\n",
              "std        1.073839\n",
              "min       -4.452009\n",
              "25%       -1.908376\n",
              "50%       -1.193839\n",
              "75%       -0.554837\n",
              "max        1.089222\n",
              "Name: diff, dtype: float64"
            ]
          },
          "execution_count": 156,
          "metadata": {},
          "output_type": "execute_result"
        }
      ]
    },
    {
      "cell_type": "code",
      "metadata": {
        "scrolled": true,
        "id": "c7603bef",
        "outputId": "9fb5f963-ed99-4723-fa3a-5acf1d7a3ea2"
      },
      "source": [
        "print(\"cities with high decrease\")\n",
        "temp=week_df[week_df[\"diff\"]<=-3][\"city\"].tolist()\n",
        "print(temp)"
      ],
      "id": "c7603bef",
      "execution_count": null,
      "outputs": [
        {
          "name": "stdout",
          "output_type": "stream",
          "text": [
            "cities with high decrease\n",
            "['Fyzabad', 'Gorakhpur', 'Bettiah', 'Mirzapur', 'Arrah', 'Patna', 'Singrauli', 'Renukut', 'Dehri', 'Gaya', 'Jamui', 'Dhulian', 'Ambikapur', 'Lohardaga', 'Ranchi', 'Asansol', 'Durgapur', 'Pathalgaon', 'Raurkela', 'Chaibasa', 'Jamshedpur']\n"
          ]
        }
      ]
    },
    {
      "cell_type": "code",
      "metadata": {
        "id": "9c2b27d4",
        "outputId": "35373444-c007-483c-8b90-12c35ef1d3b3"
      },
      "source": [
        "print(\"cities with low decrease\")\n",
        "temp=week_df[week_df[\"diff\"]>=-0][\"city\"].tolist()\n",
        "print(temp)"
      ],
      "id": "9c2b27d4",
      "execution_count": null,
      "outputs": [
        {
          "name": "stdout",
          "output_type": "stream",
          "text": [
            "cities with low decrease\n",
            "['Srinagar', 'Pahlgam', 'Kargil', 'Anantnag', 'Kyelang', 'Along', 'Dibrugarh', 'Tinsukia', 'Tezu', 'Jaigaon', 'Bongaigaon', 'Guwahati', 'Tezpur', 'Golaghat', 'Jorhat', 'Bhuj', 'Dwarka', 'Nadiad', 'Porbandar', 'Surat', 'Veraval', 'Una', 'Ozar', 'Mormugao', 'Karwar', 'Udupi', 'Shimoga', 'Chennai', 'Mangalore', 'Payyannur', 'Kozhikode', 'Tiruppur', 'Kavaratti', 'Ponnani', 'Teni', 'Cochin', 'Thiruvananthapuram']\n"
          ]
        }
      ]
    },
    {
      "cell_type": "code",
      "metadata": {
        "id": "1137e8b2",
        "outputId": "2d4756b7-12f7-4330-fa6e-be4dd3328166"
      },
      "source": [
        "week_df[week_df[\"population\"]>=5000000]"
      ],
      "id": "1137e8b2",
      "execution_count": null,
      "outputs": [
        {
          "data": {
            "text/html": [
              "<div>\n",
              "<style scoped>\n",
              "    .dataframe tbody tr th:only-of-type {\n",
              "        vertical-align: middle;\n",
              "    }\n",
              "\n",
              "    .dataframe tbody tr th {\n",
              "        vertical-align: top;\n",
              "    }\n",
              "\n",
              "    .dataframe thead th {\n",
              "        text-align: right;\n",
              "    }\n",
              "</style>\n",
              "<table border=\"1\" class=\"dataframe\">\n",
              "  <thead>\n",
              "    <tr style=\"text-align: right;\">\n",
              "      <th></th>\n",
              "      <th>location</th>\n",
              "      <th>week_2019</th>\n",
              "      <th>mean_2019</th>\n",
              "      <th>sdev_2019</th>\n",
              "      <th>week_2020</th>\n",
              "      <th>mean_2020</th>\n",
              "      <th>sdev_2020</th>\n",
              "      <th>city</th>\n",
              "      <th>population</th>\n",
              "      <th>elevation</th>\n",
              "      <th>diff</th>\n",
              "    </tr>\n",
              "  </thead>\n",
              "  <tbody>\n",
              "    <tr>\n",
              "      <th>33</th>\n",
              "      <td>28.5#77.5</td>\n",
              "      <td>4.2019.week4</td>\n",
              "      <td>320.10156</td>\n",
              "      <td>2.968750</td>\n",
              "      <td>4.2020.week4</td>\n",
              "      <td>314.59375</td>\n",
              "      <td>3.281250</td>\n",
              "      <td>Delhi</td>\n",
              "      <td>19975171</td>\n",
              "      <td>216</td>\n",
              "      <td>-1.720645</td>\n",
              "    </tr>\n",
              "    <tr>\n",
              "      <th>70</th>\n",
              "      <td>26.5#80.5</td>\n",
              "      <td>4.2019.week4</td>\n",
              "      <td>321.82030</td>\n",
              "      <td>2.625000</td>\n",
              "      <td>4.2020.week4</td>\n",
              "      <td>312.85938</td>\n",
              "      <td>3.734375</td>\n",
              "      <td>Kanpur</td>\n",
              "      <td>5804013</td>\n",
              "      <td>130</td>\n",
              "      <td>-2.784448</td>\n",
              "    </tr>\n",
              "    <tr>\n",
              "      <th>137</th>\n",
              "      <td>23.5#72.5</td>\n",
              "      <td>4.2019.week4</td>\n",
              "      <td>327.17970</td>\n",
              "      <td>2.437500</td>\n",
              "      <td>4.2020.week4</td>\n",
              "      <td>326.55470</td>\n",
              "      <td>2.359375</td>\n",
              "      <td>Ahmedabad</td>\n",
              "      <td>7164583</td>\n",
              "      <td>101</td>\n",
              "      <td>-0.191027</td>\n",
              "    </tr>\n",
              "    <tr>\n",
              "      <th>177</th>\n",
              "      <td>22.5#88.5</td>\n",
              "      <td>4.2019.week4</td>\n",
              "      <td>310.90625</td>\n",
              "      <td>1.851562</td>\n",
              "      <td>4.2020.week4</td>\n",
              "      <td>306.37500</td>\n",
              "      <td>1.554688</td>\n",
              "      <td>Kolkata</td>\n",
              "      <td>13043739</td>\n",
              "      <td>10</td>\n",
              "      <td>-1.457433</td>\n",
              "    </tr>\n",
              "    <tr>\n",
              "      <th>182</th>\n",
              "      <td>21.5#72.5</td>\n",
              "      <td>4.2019.week4</td>\n",
              "      <td>315.04688</td>\n",
              "      <td>9.312500</td>\n",
              "      <td>4.2020.week4</td>\n",
              "      <td>315.10156</td>\n",
              "      <td>9.187500</td>\n",
              "      <td>Surat</td>\n",
              "      <td>5615467</td>\n",
              "      <td>19</td>\n",
              "      <td>0.017356</td>\n",
              "    </tr>\n",
              "    <tr>\n",
              "      <th>216</th>\n",
              "      <td>19.5#72.5</td>\n",
              "      <td>4.2019.week4</td>\n",
              "      <td>306.55470</td>\n",
              "      <td>7.468750</td>\n",
              "      <td>4.2020.week4</td>\n",
              "      <td>305.84375</td>\n",
              "      <td>5.781250</td>\n",
              "      <td>Mumbai</td>\n",
              "      <td>15527315</td>\n",
              "      <td>15</td>\n",
              "      <td>-0.231916</td>\n",
              "    </tr>\n",
              "    <tr>\n",
              "      <th>217</th>\n",
              "      <td>19.5#73.5</td>\n",
              "      <td>4.2019.week4</td>\n",
              "      <td>325.25780</td>\n",
              "      <td>3.281250</td>\n",
              "      <td>4.2020.week4</td>\n",
              "      <td>322.90625</td>\n",
              "      <td>2.671875</td>\n",
              "      <td>Navi Mumbai</td>\n",
              "      <td>8209055</td>\n",
              "      <td>286</td>\n",
              "      <td>-0.722980</td>\n",
              "    </tr>\n",
              "    <tr>\n",
              "      <th>232</th>\n",
              "      <td>18.5#73.5</td>\n",
              "      <td>4.2019.week4</td>\n",
              "      <td>322.46875</td>\n",
              "      <td>4.062500</td>\n",
              "      <td>4.2020.week4</td>\n",
              "      <td>320.14844</td>\n",
              "      <td>3.343750</td>\n",
              "      <td>Pune</td>\n",
              "      <td>6020226</td>\n",
              "      <td>369</td>\n",
              "      <td>-0.719546</td>\n",
              "    </tr>\n",
              "    <tr>\n",
              "      <th>248</th>\n",
              "      <td>17.5#78.5</td>\n",
              "      <td>4.2019.week4</td>\n",
              "      <td>326.49220</td>\n",
              "      <td>2.718750</td>\n",
              "      <td>4.2020.week4</td>\n",
              "      <td>321.56250</td>\n",
              "      <td>2.546875</td>\n",
              "      <td>Hyderabad</td>\n",
              "      <td>5412838</td>\n",
              "      <td>532</td>\n",
              "      <td>-1.509898</td>\n",
              "    </tr>\n",
              "    <tr>\n",
              "      <th>284</th>\n",
              "      <td>13.5#80.5</td>\n",
              "      <td>4.2019.week4</td>\n",
              "      <td>303.42970</td>\n",
              "      <td>0.906250</td>\n",
              "      <td>4.2020.week4</td>\n",
              "      <td>305.05470</td>\n",
              "      <td>3.140625</td>\n",
              "      <td>Chennai</td>\n",
              "      <td>5720838</td>\n",
              "      <td>15</td>\n",
              "      <td>0.535544</td>\n",
              "    </tr>\n",
              "    <tr>\n",
              "      <th>288</th>\n",
              "      <td>12.5#77.5</td>\n",
              "      <td>4.2019.week4</td>\n",
              "      <td>316.60156</td>\n",
              "      <td>2.562500</td>\n",
              "      <td>4.2020.week4</td>\n",
              "      <td>313.44530</td>\n",
              "      <td>3.062500</td>\n",
              "      <td>Bengaluru</td>\n",
              "      <td>5660716</td>\n",
              "      <td>740</td>\n",
              "      <td>-0.996919</td>\n",
              "    </tr>\n",
              "  </tbody>\n",
              "</table>\n",
              "</div>"
            ],
            "text/plain": [
              "      location     week_2019  mean_2019  sdev_2019     week_2020  mean_2020  \\\n",
              "33   28.5#77.5  4.2019.week4  320.10156   2.968750  4.2020.week4  314.59375   \n",
              "70   26.5#80.5  4.2019.week4  321.82030   2.625000  4.2020.week4  312.85938   \n",
              "137  23.5#72.5  4.2019.week4  327.17970   2.437500  4.2020.week4  326.55470   \n",
              "177  22.5#88.5  4.2019.week4  310.90625   1.851562  4.2020.week4  306.37500   \n",
              "182  21.5#72.5  4.2019.week4  315.04688   9.312500  4.2020.week4  315.10156   \n",
              "216  19.5#72.5  4.2019.week4  306.55470   7.468750  4.2020.week4  305.84375   \n",
              "217  19.5#73.5  4.2019.week4  325.25780   3.281250  4.2020.week4  322.90625   \n",
              "232  18.5#73.5  4.2019.week4  322.46875   4.062500  4.2020.week4  320.14844   \n",
              "248  17.5#78.5  4.2019.week4  326.49220   2.718750  4.2020.week4  321.56250   \n",
              "284  13.5#80.5  4.2019.week4  303.42970   0.906250  4.2020.week4  305.05470   \n",
              "288  12.5#77.5  4.2019.week4  316.60156   2.562500  4.2020.week4  313.44530   \n",
              "\n",
              "     sdev_2020         city  population  elevation      diff  \n",
              "33    3.281250        Delhi    19975171        216 -1.720645  \n",
              "70    3.734375       Kanpur     5804013        130 -2.784448  \n",
              "137   2.359375    Ahmedabad     7164583        101 -0.191027  \n",
              "177   1.554688      Kolkata    13043739         10 -1.457433  \n",
              "182   9.187500        Surat     5615467         19  0.017356  \n",
              "216   5.781250       Mumbai    15527315         15 -0.231916  \n",
              "217   2.671875  Navi Mumbai     8209055        286 -0.722980  \n",
              "232   3.343750         Pune     6020226        369 -0.719546  \n",
              "248   2.546875    Hyderabad     5412838        532 -1.509898  \n",
              "284   3.140625      Chennai     5720838         15  0.535544  \n",
              "288   3.062500    Bengaluru     5660716        740 -0.996919  "
            ]
          },
          "execution_count": 159,
          "metadata": {},
          "output_type": "execute_result"
        }
      ]
    },
    {
      "cell_type": "markdown",
      "metadata": {
        "id": "1eefbaf4"
      },
      "source": [
        "Takeaway: In the first week of march, there wasnt much difference among the two years 2019 and 2020. It seems that during the lockdown period, the temperature decreased in 2020, compared to 2019. That would be upto 3-4 degrees Kelvin"
      ],
      "id": "1eefbaf4"
    },
    {
      "cell_type": "markdown",
      "metadata": {
        "id": "e3c3361b"
      },
      "source": [
        "# Comparison of percentage change between pre and post lockdown dates of 2019 and 2020"
      ],
      "id": "e3c3361b"
    },
    {
      "cell_type": "code",
      "metadata": {
        "id": "b095b003",
        "colab": {
          "base_uri": "https://localhost:8080/",
          "height": 448
        },
        "outputId": "b5f06494-9938-4236-ad49-5c65423a23dd"
      },
      "source": [
        "week1=\"3.2019.week1\"\n",
        "week2=\"3.2019.week4\"\n",
        "week1_df=metric_df[metric_df[\"week\"]==week1][[\"location\",\"week\",\"mean\"]]\n",
        "week2_df=metric_df[metric_df[\"week\"]==week2][[\"location\",\"week\",\"mean\"]]\n",
        "week_df_2019=week1_df.merge(week2_df,on=\"location\",how=\"inner\",suffixes=[\"_pre\",\"_post\"])\n",
        "week_df_2019[\"diff\"]=(week_df_2019[\"mean_post\"]-week_df_2019[\"mean_pre\"])*100/week_df_2019[\"mean_pre\"]\n",
        "week_df_2019=week_df_2019[[\"location\",\"diff\"]]\n",
        "week1=\"3.2020.week1\"\n",
        "week2=\"3.2020.week4\"\n",
        "week1_df=metric_df[metric_df[\"week\"]==week1][[\"location\",\"week\",\"mean\",\"sdev\"]]\n",
        "week2_df=metric_df[metric_df[\"week\"]==week2][[\"location\",\"week\",\"mean\",\"sdev\"]]\n",
        "week_df_2020=week1_df.merge(week2_df,on=\"location\",how=\"inner\",suffixes=[\"_pre\",\"_post\"])\n",
        "week_df_2020[\"diff\"]=(week_df_2020[\"mean_post\"]-week_df_2020[\"mean_pre\"])*100/week_df_2020[\"mean_pre\"]\n",
        "week_df_2020=week_df_2020[[\"location\",\"diff\"]]\n",
        "\n",
        "week_df=week_df_2019.merge(week_df_2020,on=\"location\",how=\"inner\",suffixes=[\"_2019\",\"_2020\"])\n",
        "week_df=week_df.merge(cities_df[[\"location\",\"city\",\"population\",\"elevation\"]],on=\"location\",how=\"inner\")\n",
        "\n",
        "print(week_df.describe())\n",
        "\n",
        "plt.hist(week_df[\"diff_2019\"].tolist(),bins=100,label=\"%change in 2019\",color=\"red\",alpha=0.7)\n",
        "plt.hist(week_df[\"diff_2020\"].tolist(),bins=100,label=\"%change in 2020\",color=\"green\",alpha=0.7)\n",
        "plt.legend()\n",
        "plt.xlabel('% change')\n",
        "plt.title(\"Before vs first week of lockdown\")\n",
        "plt.show()"
      ],
      "id": "b095b003",
      "execution_count": 17,
      "outputs": [
        {
          "output_type": "stream",
          "name": "stdout",
          "text": [
            "        diff_2019   diff_2020    population    elevation\n",
            "count  310.000000  310.000000  3.100000e+02   310.000000\n",
            "mean     2.414329    1.934729  9.437761e+05   368.116129\n",
            "std      1.185974    0.851032  1.889464e+06   484.641962\n",
            "min     -0.246274   -1.395695  0.000000e+00 -1226.000000\n",
            "25%      1.474335    1.394513  2.000580e+05    92.000000\n",
            "50%      2.516363    2.020658  4.516755e+05   246.500000\n",
            "75%      3.347971    2.535640  1.002666e+06   456.000000\n",
            "max      5.059510    4.045890  1.997517e+07  3560.000000\n"
          ]
        },
        {
          "output_type": "display_data",
          "data": {
            "image/png": "[encoded data removed]",
            "text/plain": [
              "<Figure size 432x288 with 1 Axes>"
            ]
          },
          "metadata": {
            "needs_background": "light"
          }
        }
      ]
    },
    {
      "cell_type": "code",
      "metadata": {
        "id": "5dc2f359",
        "colab": {
          "base_uri": "https://localhost:8080/",
          "height": 465
        },
        "outputId": "e8b580ea-d555-4f0c-9ef8-42d7fb5d3ad6"
      },
      "source": [
        "week1=\"3.2019.week1\"\n",
        "week2=\"4.2019.week4\"\n",
        "week1_df=metric_df[metric_df[\"week\"]==week1][[\"location\",\"week\",\"mean\"]]\n",
        "week2_df=metric_df[metric_df[\"week\"]==week2][[\"location\",\"week\",\"mean\"]]\n",
        "week_df_2019=week1_df.merge(week2_df,on=\"location\",how=\"inner\",suffixes=[\"_pre\",\"_post\"])\n",
        "week_df_2019[\"diff\"]=(week_df_2019[\"mean_post\"]-week_df_2019[\"mean_pre\"])*100/week_df_2019[\"mean_pre\"]\n",
        "week_df_2019=week_df_2019[[\"location\",\"diff\"]]\n",
        "week1=\"3.2020.week1\"\n",
        "week2=\"4.2020.week4\"\n",
        "week1_df=metric_df[metric_df[\"week\"]==week1][[\"location\",\"week\",\"mean\",\"sdev\"]]\n",
        "week2_df=metric_df[metric_df[\"week\"]==week2][[\"location\",\"week\",\"mean\",\"sdev\"]]\n",
        "week_df_2020=week1_df.merge(week2_df,on=\"location\",how=\"inner\",suffixes=[\"_pre\",\"_post\"])\n",
        "week_df_2020[\"diff\"]=(week_df_2020[\"mean_post\"]-week_df_2020[\"mean_pre\"])*100/week_df_2020[\"mean_pre\"]\n",
        "week_df_2020=week_df_2020[[\"location\",\"diff\"]]\n",
        "\n",
        "week_df=week_df_2019.merge(week_df_2020,on=\"location\",how=\"inner\",suffixes=[\"_2019\",\"_2020\"])\n",
        "week_df=week_df.merge(cities_df[[\"location\",\"city\",\"population\",\"elevation\"]],on=\"location\",how=\"inner\")\n",
        "\n",
        "print(scipy.stats.ttest_ind(week_df[\"diff_2019\"],week_df[\"diff_2020\"]))\n",
        "print(week_df.describe())\n",
        "\n",
        "plt.hist(week_df[\"diff_2019\"].tolist(),bins=100,label=\"%change in 2019\",color=\"red\",alpha=0.7)\n",
        "plt.hist(week_df[\"diff_2020\"].tolist(),bins=100,label=\"%change in 2020\",color=\"green\",alpha=0.7)\n",
        "plt.legend()\n",
        "plt.xlabel('% change')\n",
        "plt.title(\"Before vs fifth week of lockdown\")\n",
        "plt.show()"
      ],
      "id": "5dc2f359",
      "execution_count": 18,
      "outputs": [
        {
          "output_type": "stream",
          "name": "stdout",
          "text": [
            "Ttest_indResult(statistic=6.635866906188884, pvalue=7.059324219668253e-11)\n",
            "        diff_2019   diff_2020    population    elevation\n",
            "count  310.000000  310.000000  3.100000e+02   310.000000\n",
            "mean     3.795554    2.662975  9.437761e+05   368.116129\n",
            "std      2.304411    1.928735  1.889464e+06   484.641962\n",
            "min     -1.982154   -0.776999  0.000000e+00 -1226.000000\n",
            "25%      1.958605    1.022423  2.000580e+05    92.000000\n",
            "50%      3.866402    2.350042  4.516755e+05   246.500000\n",
            "75%      5.684537    4.181598  1.002666e+06   456.000000\n",
            "max      8.331571    7.322340  1.997517e+07  3560.000000\n"
          ]
        },
        {
          "output_type": "display_data",
          "data": {
            "image/png": "[encoded data removed]",
            "text/plain": [
              "<Figure size 432x288 with 1 Axes>"
            ]
          },
          "metadata": {
            "needs_background": "light"
          }
        }
      ]
    },
    {
      "cell_type": "code",
      "metadata": {
        "id": "e7db19b5",
        "colab": {
          "base_uri": "https://localhost:8080/",
          "height": 448
        },
        "outputId": "faee2f8a-5fe1-4136-a4e3-120adc7ca919"
      },
      "source": [
        "week1=\"3.2019.week1\"\n",
        "week2=\"6.2019.week3\"\n",
        "week1_df=metric_df[metric_df[\"week\"]==week1][[\"location\",\"week\",\"mean\"]]\n",
        "week2_df=metric_df[metric_df[\"week\"]==week2][[\"location\",\"week\",\"mean\"]]\n",
        "week_df_2019=week1_df.merge(week2_df,on=\"location\",how=\"inner\",suffixes=[\"_pre\",\"_post\"])\n",
        "week_df_2019[\"diff\"]=(week_df_2019[\"mean_post\"]-week_df_2019[\"mean_pre\"])*100/week_df_2019[\"mean_pre\"]\n",
        "week_df_2019=week_df_2019[[\"location\",\"diff\"]]\n",
        "week1=\"3.2020.week1\"\n",
        "week2=\"6.2020.week3\"\n",
        "week1_df=metric_df[metric_df[\"week\"]==week1][[\"location\",\"week\",\"mean\",\"sdev\"]]\n",
        "week2_df=metric_df[metric_df[\"week\"]==week2][[\"location\",\"week\",\"mean\",\"sdev\"]]\n",
        "week_df_2020=week1_df.merge(week2_df,on=\"location\",how=\"inner\",suffixes=[\"_pre\",\"_post\"])\n",
        "week_df_2020[\"diff\"]=(week_df_2020[\"mean_post\"]-week_df_2020[\"mean_pre\"])*100/week_df_2020[\"mean_pre\"]\n",
        "week_df_2020=week_df_2020[[\"location\",\"diff\"]]\n",
        "\n",
        "week_df=week_df_2019.merge(week_df_2020,on=\"location\",how=\"inner\",suffixes=[\"_2019\",\"_2020\"])\n",
        "week_df=week_df.merge(cities_df[[\"location\",\"city\",\"population\",\"elevation\"]],on=\"location\",how=\"inner\")\n",
        "\n",
        "print(week_df.describe())\n",
        "\n",
        "plt.hist(week_df[\"diff_2019\"].tolist(),bins=100,label=\"%change in 2019\",color=\"red\",alpha=0.7)\n",
        "plt.hist(week_df[\"diff_2020\"].tolist(),bins=100,label=\"%change in 2020\",color=\"green\",alpha=0.7)\n",
        "plt.legend()\n",
        "plt.xlabel('% change')\n",
        "plt.title(\"Before vs after lockdown\")\n",
        "plt.show()"
      ],
      "id": "e7db19b5",
      "execution_count": 19,
      "outputs": [
        {
          "output_type": "stream",
          "name": "stdout",
          "text": [
            "        diff_2019   diff_2020    population    elevation\n",
            "count  310.000000  310.000000  3.100000e+02   310.000000\n",
            "mean     1.478836    0.995273  9.437761e+05   368.116129\n",
            "std      2.849587    3.085191  1.889464e+06   484.641962\n",
            "min     -5.746875   -5.893755  0.000000e+00 -1226.000000\n",
            "25%     -0.171083   -0.867355  2.000580e+05    92.000000\n",
            "50%      1.099661    0.350873  4.516755e+05   246.500000\n",
            "75%      3.330209    2.094359  1.002666e+06   456.000000\n",
            "max     11.252479   10.476384  1.997517e+07  3560.000000\n"
          ]
        },
        {
          "output_type": "display_data",
          "data": {
            "image/png": "[encoded data removed]",
            "text/plain": [
              "<Figure size 432x288 with 1 Axes>"
            ]
          },
          "metadata": {
            "needs_background": "light"
          }
        }
      ]
    },
    {
      "cell_type": "markdown",
      "metadata": {
        "id": "bd9b584d"
      },
      "source": [
        "Takeaway: At the peak of the lockdown (4th and 5th week), the difference between the percentage change between in 2019 and 2020 was the most. This implies that cities in generall demonstarted lesser temperature increase (1% = 3 degrees) during those weeks in 2020."
      ],
      "id": "bd9b584d"
    },
    {
      "cell_type": "markdown",
      "metadata": {
        "id": "a2393ebc"
      },
      "source": [
        "# Impact of covid-19 on Surface Skin Temperature compared to pre-lockdown dates' values "
      ],
      "id": "a2393ebc"
    },
    {
      "cell_type": "code",
      "metadata": {
        "scrolled": false,
        "id": "c74b6cf2",
        "outputId": "6c8c564c-4780-4189-eab1-ca10f282c3f1"
      },
      "source": [
        "week1=\"3.2019.week1\"\n",
        "week2=\"3.2019.week4\"\n",
        "week1_df=metric_df[metric_df[\"week\"]==week1][[\"location\",\"week\",\"mean\"]]\n",
        "week2_df=metric_df[metric_df[\"week\"]==week2][[\"location\",\"week\",\"mean\"]]\n",
        "week_df_2019=week1_df.merge(week2_df,on=\"location\",how=\"inner\",suffixes=[\"_pre\",\"_post\"])\n",
        "week_df_2019=week_df_2019[[\"mean_pre\",\"mean_post\"]]\n",
        "week_df_2019[\"covid\"]=0\n",
        "week1=\"3.2020.week1\"\n",
        "week2=\"3.2020.week4\"\n",
        "week1_df=metric_df[metric_df[\"week\"]==week1][[\"location\",\"week\",\"mean\",\"sdev\"]]\n",
        "week2_df=metric_df[metric_df[\"week\"]==week2][[\"location\",\"week\",\"mean\",\"sdev\"]]\n",
        "week_df_2020=week1_df.merge(week2_df,on=\"location\",how=\"inner\",suffixes=[\"_pre\",\"_post\"])\n",
        "week_df_2020=week_df_2020[[\"mean_pre\",\"mean_post\"]]\n",
        "week_df_2020[\"covid\"]=1\n",
        "\n",
        "week_df=week_df_2019.append(week_df_2020)\n",
        "\n",
        "result = sm.ols(formula=\"mean_post ~ mean_pre + covid\", data=week_df).fit()\n",
        "print(result.summary())"
      ],
      "id": "c74b6cf2",
      "execution_count": null,
      "outputs": [
        {
          "name": "stdout",
          "output_type": "stream",
          "text": [
            "                            OLS Regression Results                            \n",
            "==============================================================================\n",
            "Dep. Variable:              mean_post   R-squared:                       0.903\n",
            "Model:                            OLS   Adj. R-squared:                  0.903\n",
            "Method:                 Least Squares   F-statistic:                     2891.\n",
            "Date:                Sun, 31 Oct 2021   Prob (F-statistic):          1.00e-314\n",
            "Time:                        19:42:14   Log-Likelihood:                -1591.8\n",
            "No. Observations:                 622   AIC:                             3190.\n",
            "Df Residuals:                     619   BIC:                             3203.\n",
            "Df Model:                           2                                         \n",
            "Covariance Type:            nonrobust                                         \n",
            "==============================================================================\n",
            "                 coef    std err          t      P>|t|      [0.025      0.975]\n",
            "------------------------------------------------------------------------------\n",
            "Intercept      9.6572      4.026      2.398      0.017       1.750      17.564\n",
            "mean_pre       0.9925      0.013     75.606      0.000       0.967       1.018\n",
            "covid         -1.4461      0.252     -5.749      0.000      -1.940      -0.952\n",
            "==============================================================================\n",
            "Omnibus:                        9.401   Durbin-Watson:                   0.389\n",
            "Prob(Omnibus):                  0.009   Jarque-Bera (JB):                7.823\n",
            "Skew:                          -0.196   Prob(JB):                       0.0200\n",
            "Kurtosis:                       2.614   Cond. No.                     9.81e+03\n",
            "==============================================================================\n",
            "\n",
            "Notes:\n",
            "[1] Standard Errors assume that the covariance matrix of the errors is correctly specified.\n",
            "[2] The condition number is large, 9.81e+03. This might indicate that there are\n",
            "strong multicollinearity or other numerical problems.\n"
          ]
        }
      ]
    },
    {
      "cell_type": "markdown",
      "metadata": {
        "id": "492641a5"
      },
      "source": [
        "Takeaway: If controlled for pre-lockdown (march first-week) temperature, covid year witnessed 1.45 degree decrease in march 4th week (first week of lockdown)"
      ],
      "id": "492641a5"
    },
    {
      "cell_type": "code",
      "metadata": {
        "scrolled": false,
        "id": "d965b8e8",
        "outputId": "dd611977-eb97-4d6f-a9fa-09905ccf5126"
      },
      "source": [
        "week1=\"3.2019.week4\"\n",
        "week2=\"4.2019.week4\"\n",
        "week1_df=metric_df[metric_df[\"week\"]==week1][[\"location\",\"week\",\"mean\"]]\n",
        "week2_df=metric_df[metric_df[\"week\"]==week2][[\"location\",\"week\",\"mean\"]]\n",
        "week_df_2019=week1_df.merge(week2_df,on=\"location\",how=\"inner\",suffixes=[\"_pre\",\"_post\"])\n",
        "week_df_2019=week_df_2019[[\"mean_pre\",\"mean_post\"]]\n",
        "week_df_2019[\"covid\"]=0\n",
        "week1=\"3.2020.week4\"\n",
        "week2=\"4.2020.week4\"\n",
        "week1_df=metric_df[metric_df[\"week\"]==week1][[\"location\",\"week\",\"mean\",\"sdev\"]]\n",
        "week2_df=metric_df[metric_df[\"week\"]==week2][[\"location\",\"week\",\"mean\",\"sdev\"]]\n",
        "week_df_2020=week1_df.merge(week2_df,on=\"location\",how=\"inner\",suffixes=[\"_pre\",\"_post\"])\n",
        "week_df_2020=week_df_2020[[\"mean_pre\",\"mean_post\"]]\n",
        "week_df_2020[\"covid\"]=1\n",
        "\n",
        "week_df=week_df_2019.append(week_df_2020)\n",
        "\n",
        "result = sm.ols(formula=\"mean_post ~ mean_pre + covid\", data=week_df).fit()\n",
        "print(result.summary())"
      ],
      "id": "d965b8e8",
      "execution_count": null,
      "outputs": [
        {
          "name": "stdout",
          "output_type": "stream",
          "text": [
            "                            OLS Regression Results                            \n",
            "==============================================================================\n",
            "Dep. Variable:              mean_post   R-squared:                       0.798\n",
            "Model:                            OLS   Adj. R-squared:                  0.797\n",
            "Method:                 Least Squares   F-statistic:                     1223.\n",
            "Date:                Sun, 31 Oct 2021   Prob (F-statistic):          1.04e-215\n",
            "Time:                        19:42:16   Log-Likelihood:                -1873.3\n",
            "No. Observations:                 622   AIC:                             3753.\n",
            "Df Residuals:                     619   BIC:                             3766.\n",
            "Df Model:                           2                                         \n",
            "Covariance Type:            nonrobust                                         \n",
            "==============================================================================\n",
            "                 coef    std err          t      P>|t|      [0.025      0.975]\n",
            "------------------------------------------------------------------------------\n",
            "Intercept     18.1477      6.204      2.925      0.004       5.963      30.332\n",
            "mean_pre       0.9556      0.020     48.376      0.000       0.917       0.994\n",
            "covid         -2.1055      0.397     -5.299      0.000      -2.886      -1.325\n",
            "==============================================================================\n",
            "Omnibus:                       14.762   Durbin-Watson:                   0.310\n",
            "Prob(Omnibus):                  0.001   Jarque-Bera (JB):               12.700\n",
            "Skew:                           0.281   Prob(JB):                      0.00175\n",
            "Kurtosis:                       2.583   Cond. No.                     9.82e+03\n",
            "==============================================================================\n",
            "\n",
            "Notes:\n",
            "[1] Standard Errors assume that the covariance matrix of the errors is correctly specified.\n",
            "[2] The condition number is large, 9.82e+03. This might indicate that there are\n",
            "strong multicollinearity or other numerical problems.\n"
          ]
        }
      ]
    },
    {
      "cell_type": "markdown",
      "metadata": {
        "id": "72c01dd9"
      },
      "source": [
        "Takeaway: Covid leads to decrease in Surface skin temperature of 1.5 to 2 degrees"
      ],
      "id": "72c01dd9"
    },
    {
      "cell_type": "markdown",
      "metadata": {
        "id": "9a656828"
      },
      "source": [
        "# Surface Skin Temperature at Night"
      ],
      "id": "9a656828"
    },
    {
      "cell_type": "code",
      "metadata": {
        "id": "395e1fb1"
      },
      "source": [
        "metric=\"SurfSkinTemp_TqJ_D\"\n",
        "metric_df=airs_df[(airs_df[\"metric\"]==metric)&(airs_df[\"mean\"]>-9999)&(~airs_df[\"mean\"].isna())]"
      ],
      "id": "395e1fb1",
      "execution_count": null,
      "outputs": []
    },
    {
      "cell_type": "code",
      "metadata": {
        "scrolled": false,
        "id": "b0169363",
        "outputId": "97e2c558-9a20-4d8c-f310-49ac972b34c5"
      },
      "source": [
        "week1=\"3.2019.week1\"\n",
        "week2=\"4.2019.week1\"\n",
        "week1_df=metric_df[metric_df[\"week\"]==week1][[\"location\",\"week\",\"mean\"]]\n",
        "week2_df=metric_df[metric_df[\"week\"]==week2][[\"location\",\"week\",\"mean\"]]\n",
        "week_df_2019=week1_df.merge(week2_df,on=\"location\",how=\"inner\",suffixes=[\"_pre\",\"_post\"])\n",
        "week_df_2019=week_df_2019[[\"mean_pre\",\"mean_post\"]]\n",
        "week_df_2019[\"covid\"]=0\n",
        "week1=\"3.2020.week1\"\n",
        "week2=\"4.2020.week1\"\n",
        "week1_df=metric_df[metric_df[\"week\"]==week1][[\"location\",\"week\",\"mean\",\"sdev\"]]\n",
        "week2_df=metric_df[metric_df[\"week\"]==week2][[\"location\",\"week\",\"mean\",\"sdev\"]]\n",
        "week_df_2020=week1_df.merge(week2_df,on=\"location\",how=\"inner\",suffixes=[\"_pre\",\"_post\"])\n",
        "week_df_2020=week_df_2020[[\"mean_pre\",\"mean_post\"]]\n",
        "week_df_2020[\"covid\"]=1\n",
        "\n",
        "week_df=week_df_2019.append(week_df_2020)\n",
        "\n",
        "result = sm.ols(formula=\"mean_post ~ mean_pre + covid\", data=week_df).fit()\n",
        "print(result.summary())"
      ],
      "id": "b0169363",
      "execution_count": null,
      "outputs": [
        {
          "name": "stdout",
          "output_type": "stream",
          "text": [
            "                            OLS Regression Results                            \n",
            "==============================================================================\n",
            "Dep. Variable:              mean_post   R-squared:                       0.909\n",
            "Model:                            OLS   Adj. R-squared:                  0.908\n",
            "Method:                 Least Squares   F-statistic:                     3083.\n",
            "Date:                Sun, 31 Oct 2021   Prob (F-statistic):          1.53e-322\n",
            "Time:                        19:43:51   Log-Likelihood:                -1323.1\n",
            "No. Observations:                 622   AIC:                             2652.\n",
            "Df Residuals:                     619   BIC:                             2666.\n",
            "Df Model:                           2                                         \n",
            "Covariance Type:            nonrobust                                         \n",
            "==============================================================================\n",
            "                 coef    std err          t      P>|t|      [0.025      0.975]\n",
            "------------------------------------------------------------------------------\n",
            "Intercept     42.3856      3.215     13.183      0.000      36.071      48.700\n",
            "mean_pre       0.8714      0.011     78.352      0.000       0.850       0.893\n",
            "covid         -1.8645      0.164    -11.386      0.000      -2.186      -1.543\n",
            "==============================================================================\n",
            "Omnibus:                       12.811   Durbin-Watson:                   0.470\n",
            "Prob(Omnibus):                  0.002   Jarque-Bera (JB):               16.687\n",
            "Skew:                          -0.219   Prob(JB):                     0.000238\n",
            "Kurtosis:                       3.672   Cond. No.                     1.14e+04\n",
            "==============================================================================\n",
            "\n",
            "Notes:\n",
            "[1] Standard Errors assume that the covariance matrix of the errors is correctly specified.\n",
            "[2] The condition number is large, 1.14e+04. This might indicate that there are\n",
            "strong multicollinearity or other numerical problems.\n"
          ]
        }
      ]
    },
    {
      "cell_type": "markdown",
      "metadata": {
        "id": "13a890cb"
      },
      "source": [
        "Takeaway: Surface Skin Temperature decreased due to covid by 1.86 degrees at night between first week of march and first week of april (second week of lockdown)"
      ],
      "id": "13a890cb"
    },
    {
      "cell_type": "code",
      "metadata": {
        "id": "5fa2f677"
      },
      "source": [
        ""
      ],
      "id": "5fa2f677",
      "execution_count": null,
      "outputs": []
    }
  ]
}