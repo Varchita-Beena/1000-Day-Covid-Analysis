{
  "nbformat": 4,
  "nbformat_minor": 5,
  "metadata": {
    "kernelspec": {
      "display_name": "Python 3 (ipykernel)",
      "language": "python",
      "name": "python3"
    },
    "language_info": {
      "codemirror_mode": {
        "name": "ipython",
        "version": 3
      },
      "file_extension": ".py",
      "mimetype": "text/x-python",
      "name": "python",
      "nbconvert_exporter": "python",
      "pygments_lexer": "ipython3",
      "version": "3.9.7"
    },
    "colab": {
      "name": "GetMetrics_airs.ipynb",
      "provenance": []
    }
  },
  "cells": [
    {
      "cell_type": "markdown",
      "metadata": {
        "id": "v6lIwWfKHfgp"
      },
      "source": [
        "### Preparing a csv for all the metric names, their shape and their dimensions of AIRS dataset"
      ],
      "id": "v6lIwWfKHfgp"
    },
    {
      "cell_type": "code",
      "metadata": {
        "id": "bf50aac9"
      },
      "source": [
        "from pyhdf.SD import SD, SDC\n",
        "import os"
      ],
      "id": "bf50aac9",
      "execution_count": null,
      "outputs": []
    },
    {
      "cell_type": "code",
      "metadata": {
        "id": "7f8cc97e"
      },
      "source": [
        "GRANULES_PATH=\"AIRS3ST8/\"\n",
        "OUTPUT_PATH=\"data/\""
      ],
      "id": "7f8cc97e",
      "execution_count": null,
      "outputs": []
    },
    {
      "cell_type": "code",
      "metadata": {
        "id": "d39ab70e"
      },
      "source": [
        "granules=os.listdir(GRANULES_PATH)"
      ],
      "id": "d39ab70e",
      "execution_count": null,
      "outputs": []
    },
    {
      "cell_type": "code",
      "metadata": {
        "id": "a6db8150"
      },
      "source": [
        "hdf = SD(GRANULES_PATH+granules[0], SDC.READ)\n",
        "datasets_dic = hdf.datasets()\n",
        "metrics=list(datasets_dic.keys())\n",
        "data=[]\n",
        "a=[]\n",
        "for metric in metrics:\n",
        "    metric_obj=hdf.select(metric)\n",
        "    metric_data=metric_obj.get()\n",
        "    metric_shape=metric_data.shape\n",
        "    data.append([metric,str(len(metric_shape)),\"#\".join([str(i) for i in metric_shape])])\n",
        "    if len(metric_shape)<2:\n",
        "        continue\n",
        "    if metric in [\"Latitude\",\"Longitude\"]:\n",
        "        continue\n",
        "    if \"_TqJ_\" not in metric:\n",
        "        continue\n",
        "    if metric.startswith(\"TotalCounts\"):\n",
        "        continue\n",
        "    if metric.startswith(\"TotCO\") or metric.startswith(\"TotCH4\"):\n",
        "        continue\n",
        "    if metric.endswith(\"_ct\") or metric.endswith(\"_err\") or metric.endswith(\"_min\") or metric.endswith(\"_max\") or metric.endswith(\"_sdev\"):\n",
        "        continue\n",
        "    a.append(metric)"
      ],
      "id": "a6db8150",
      "execution_count": null,
      "outputs": []
    },
    {
      "cell_type": "code",
      "metadata": {
        "id": "66146fd1"
      },
      "source": [
        "fp=open(OUTPUT_PATH+\"metrics_airs.csv\",\"w\")\n",
        "fp.write(\",\".join([\"metric\",\"dimensions\",\"shape\"])+\"\\n\")\n",
        "fp.write(\"\\n\".join([\",\".join(vector) for vector in data]))\n",
        "fp.close()"
      ],
      "id": "66146fd1",
      "execution_count": null,
      "outputs": []
    },
    {
      "cell_type": "code",
      "metadata": {
        "id": "d33aa6c6",
        "outputId": "a36c64e0-7566-4332-eb73-0daf72ab7f9f"
      },
      "source": [
        "print(a)"
      ],
      "id": "d33aa6c6",
      "execution_count": null,
      "outputs": [
        {
          "name": "stdout",
          "output_type": "stream",
          "text": [
            "['SurfPres_Forecast_TqJ_A', 'SurfSkinTemp_TqJ_A', 'EmisIR_TqJ_A', 'Temperature_TqJ_A', 'SurfAirTemp_TqJ_A', 'TropPres_TqJ_A', 'TropTemp_TqJ_A', 'TotH2OVap_TqJ_A', 'H2O_MMR_Lyr_TqJ_A', 'H2O_MMR_TqJ_A', 'H2O_MMR_Surf_TqJ_A', 'RelHum_TqJ_A', 'RelHumSurf_TqJ_A', 'RelHum_liquid_TqJ_A', 'RelHumSurf_liquid_TqJ_A', 'TropHeight_TqJ_A', 'GPHeight_TqJ_A', 'CloudFrc_TqJ_A', 'CloudTopPres_TqJ_A', 'CloudTopTemp_TqJ_A', 'FineCloudFrc_TqJ_A', 'CoarseCloudFrc_TqJ_A', 'CoarseCloudPres_TqJ_A', 'CoarseCloudTemp_TqJ_A', 'TotO3_TqJ_A', 'O3_VMR_TqJ_A', 'CO_VMR_TqJ_A', 'CH4_VMR_TqJ_A', 'OLR_TqJ_A', 'ClrOLR_TqJ_A', 'SurfPres_Forecast_TqJ_D', 'SurfSkinTemp_TqJ_D', 'EmisIR_TqJ_D', 'Temperature_TqJ_D', 'SurfAirTemp_TqJ_D', 'TropPres_TqJ_D', 'TropTemp_TqJ_D', 'TotH2OVap_TqJ_D', 'H2O_MMR_Lyr_TqJ_D', 'H2O_MMR_TqJ_D', 'H2O_MMR_Surf_TqJ_D', 'RelHum_TqJ_D', 'RelHumSurf_TqJ_D', 'RelHum_liquid_TqJ_D', 'RelHumSurf_liquid_TqJ_D', 'TropHeight_TqJ_D', 'GPHeight_TqJ_D', 'CloudFrc_TqJ_D', 'CloudTopPres_TqJ_D', 'CloudTopTemp_TqJ_D', 'FineCloudFrc_TqJ_D', 'CoarseCloudFrc_TqJ_D', 'CoarseCloudPres_TqJ_D', 'CoarseCloudTemp_TqJ_D', 'TotO3_TqJ_D', 'O3_VMR_TqJ_D', 'CO_VMR_TqJ_D', 'CH4_VMR_TqJ_D', 'OLR_TqJ_D', 'ClrOLR_TqJ_D']\n"
          ]
        }
      ]
    }
  ]
}
