{
  "nbformat": 4,
  "nbformat_minor": 5,
  "metadata": {
    "kernelspec": {
      "display_name": "Python 3 (ipykernel)",
      "language": "python",
      "name": "python3"
    },
    "language_info": {
      "codemirror_mode": {
        "name": "ipython",
        "version": 3
      },
      "file_extension": ".py",
      "mimetype": "text/x-python",
      "name": "python",
      "nbconvert_exporter": "python",
      "pygments_lexer": "ipython3",
      "version": "3.9.7"
    },
    "colab": {
      "name": "GenerateGridData.ipynb",
      "provenance": []
    }
  },
  "cells": [
    {
      "cell_type": "code",
      "metadata": {
        "id": "ef596043"
      },
      "source": [
        "import math\n",
        "import numpy as np"
      ],
      "id": "ef596043",
      "execution_count": null,
      "outputs": []
    },
    {
      "cell_type": "code",
      "metadata": {
        "id": "e7530bf4"
      },
      "source": [
        "FILE_NAME=\"data/indian_cities_geonames.csv\"\n",
        "OUTPUT_PATH=\"data/\""
      ],
      "id": "e7530bf4",
      "execution_count": null,
      "outputs": []
    },
    {
      "cell_type": "code",
      "metadata": {
        "id": "a03ed999"
      },
      "source": [
        "fp=open(FILE_NAME,\"r\")\n",
        "evrythng=fp.readlines()\n",
        "fp.close()"
      ],
      "id": "a03ed999",
      "execution_count": null,
      "outputs": []
    },
    {
      "cell_type": "code",
      "metadata": {
        "id": "7dc36108"
      },
      "source": [
        "degrees=[0.05,0.25,1]"
      ],
      "id": "7dc36108",
      "execution_count": null,
      "outputs": []
    },
    {
      "cell_type": "code",
      "metadata": {
        "id": "16022ed2",
        "outputId": "f8cea056-a09e-4558-a4c0-3a7d72be3d26"
      },
      "source": [
        "for degree in degrees:\n",
        "    print(\"degree =\",degree)\n",
        "    data={}\n",
        "    for line in evrythng[1:]:\n",
        "        line=line.split(\"\\n\")[0].split(\";\")\n",
        "        [lat,long]=line[-1].split(\",\")\n",
        "        if degree==1:\n",
        "            lat=min(math.ceil(float(lat)),90.0)-0.5\n",
        "            long=min(math.ceil(float(long)),180.0)-0.5\n",
        "        elif degree==0.05:\n",
        "            lat=round(90-(int((90-float(lat))/0.05)*0.05+0.025),3)\n",
        "            long=round(180-(int((180-float(long))/0.05)*0.05+0.025),3)\n",
        "        elif degree==0.25:\n",
        "            lat=round(90-(int((90-float(lat))/0.25)*0.25+0.125),3)\n",
        "            long=round(180-(int((180-float(long))/0.25)*0.25+0.125),3)\n",
        "        else:\n",
        "            print(\"wrong degree resolution provided!\")\n",
        "        location=(lat,long)\n",
        "        name=line[2]\n",
        "        population=int(line[13])\n",
        "        elevation=int(line[15])\n",
        "        if location not in data:\n",
        "            data[location]={\"population\":{},\"elevation\":{}}\n",
        "        data[location][\"population\"][name]=population\n",
        "        data[location][\"elevation\"][name]=elevation\n",
        "    fp=open(OUTPUT_PATH+\"cities_\"+str(degree)+\"degx\"+str(degree)+\"deg.csv\",\"w\")\n",
        "    fp.write(\",\".join([\"location\",\"city\",\"population\",\"elevation\",\"cities\"])+\"\\n\")\n",
        "    for location in data:\n",
        "        population=sum(list(data[location][\"population\"].values()))\n",
        "        city=max(zip(data[location][\"population\"].values(), data[location][\"population\"].keys()))[1]\n",
        "        cities=list(data[location][\"population\"].keys())\n",
        "        elevation=int(np.mean(list(data[location][\"elevation\"].values())))\n",
        "        fp.write(\"#\".join([str(i) for i in location])+\",\"+city+\",\"+str(population)+\",\"+str(elevation)+\",\"+\"#\".join([str(i) for i in cities])+\"\\n\")\n",
        "    fp.close()"
      ],
      "id": "16022ed2",
      "execution_count": null,
      "outputs": [
        {
          "name": "stdout",
          "output_type": "stream",
          "text": [
            "degree = 0.05\n",
            "degree = 0.25\n",
            "degree = 1\n"
          ]
        }
      ]
    }
  ]
}