{
  "nbformat": 4,
  "nbformat_minor": 5,
  "metadata": {
    "kernelspec": {
      "display_name": "Python 3 (ipykernel)",
      "language": "python",
      "name": "python3"
    },
    "language_info": {
      "codemirror_mode": {
        "name": "ipython",
        "version": 3
      },
      "file_extension": ".py",
      "mimetype": "text/x-python",
      "name": "python",
      "nbconvert_exporter": "python",
      "pygments_lexer": "ipython3",
      "version": "3.9.7"
    },
    "colab": {
      "name": "NightTimeLights.ipynb",
      "provenance": [],
      "collapsed_sections": []
    }
  },
  "cells": [
    {
      "cell_type": "markdown",
      "metadata": {
        "id": "pn4417aPXAGW"
      },
      "source": [
        "# **Night Time Light analysis at 0.05x0.05 degree for India**"
      ],
      "id": "pn4417aPXAGW"
    },
    {
      "cell_type": "code",
      "metadata": {
        "colab": {
          "base_uri": "https://localhost:8080/"
        },
        "id": "1b872557",
        "outputId": "6bbc2381-fd4b-4de3-acf0-0533f657d71f"
      },
      "source": [
        "import pandas as pd\n",
        "pd.set_option('display.max_rows', 500)\n",
        "pd.options.mode.use_inf_as_na = True\n",
        "import numpy as np\n",
        "import os\n",
        "import math\n",
        "from scipy.stats import pearsonr as corr\n",
        "from matplotlib import pyplot as plt\n",
        "#import statsmodels.api as sm\n",
        "import statsmodels.formula.api as sm"
      ],
      "id": "1b872557",
      "execution_count": 6,
      "outputs": [
        {
          "output_type": "stream",
          "name": "stderr",
          "text": [
            "/usr/local/lib/python3.7/dist-packages/statsmodels/tools/_testing.py:19: FutureWarning: pandas.util.testing is deprecated. Use the functions in the public API at pandas.testing instead.\n",
            "  import pandas.util.testing as tm\n"
          ]
        }
      ]
    },
    {
      "cell_type": "code",
      "metadata": {
        "id": "096d0459"
      },
      "source": [
        "NTL_PATH=\"ntl/data/\" #path for NTL data\n",
        "COVID_PATH=\"covidoxford/data/\" # path for covidoxford data\n",
        "CITIES_PATH=\"cities/data/\" # path for cities data"
      ],
      "id": "096d0459",
      "execution_count": 8,
      "outputs": []
    },
    {
      "cell_type": "markdown",
      "metadata": {
        "id": "gsAXr-dgXJi_"
      },
      "source": [
        "**Total 3418 cities**"
      ],
      "id": "gsAXr-dgXJi_"
    },
    {
      "cell_type": "code",
      "metadata": {
        "id": "98c60425"
      },
      "source": [
        "cities_df=pd.read_csv(CITIES_PATH+\"cities_0.05degx0.05deg.csv\",error_bad_lines=False)\n",
        "cities_df['population'] = np.where(cities_df['population']==0,10000,cities_df['population'])\n",
        "print(\"cities =\",len(cities_df))"
      ],
      "id": "98c60425",
      "execution_count": null,
      "outputs": []
    },
    {
      "cell_type": "code",
      "metadata": {
        "id": "8374e10c"
      },
      "source": [
        "ntl_df=pd.read_csv(NTL_PATH+\"indian_cities_0.05degx0.05deg_ntl.csv\")"
      ],
      "id": "8374e10c",
      "execution_count": 12,
      "outputs": []
    },
    {
      "cell_type": "markdown",
      "metadata": {
        "id": "jxUOUdg1XM4K"
      },
      "source": [
        "**Metric use: Gap_Filled_DNB_BRDF-Corrected_NTL**"
      ],
      "id": "jxUOUdg1XM4K"
    },
    {
      "cell_type": "code",
      "metadata": {
        "id": "edcc54e3"
      },
      "source": [
        "metric=\"Gap_Filled_DNB_BRDF-Corrected_NTL\"\n",
        "metric_df=ntl_df[(ntl_df[\"metric\"]==metric)&(ntl_df[\"mean\"]>=0)&(ntl_df[\"mean\"]<65535)&(~ntl_df[\"mean\"].isna())]"
      ],
      "id": "edcc54e3",
      "execution_count": 13,
      "outputs": []
    },
    {
      "cell_type": "code",
      "metadata": {
        "id": "edd41830",
        "outputId": "7c589c02-7e16-4067-809c-22ed96a7b971"
      },
      "source": [
        "metric_df"
      ],
      "id": "edd41830",
      "execution_count": null,
      "outputs": [
        {
          "data": {
            "text/html": [
              "<div>\n",
              "<style scoped>\n",
              "    .dataframe tbody tr th:only-of-type {\n",
              "        vertical-align: middle;\n",
              "    }\n",
              "\n",
              "    .dataframe tbody tr th {\n",
              "        vertical-align: top;\n",
              "    }\n",
              "\n",
              "    .dataframe thead th {\n",
              "        text-align: right;\n",
              "    }\n",
              "</style>\n",
              "<table border=\"1\" class=\"dataframe\">\n",
              "  <thead>\n",
              "    <tr style=\"text-align: right;\">\n",
              "      <th></th>\n",
              "      <th>location</th>\n",
              "      <th>week</th>\n",
              "      <th>metric</th>\n",
              "      <th>mean</th>\n",
              "      <th>sdev</th>\n",
              "      <th>min</th>\n",
              "      <th>10p</th>\n",
              "      <th>25p</th>\n",
              "      <th>median</th>\n",
              "      <th>75p</th>\n",
              "      <th>90p</th>\n",
              "      <th>max</th>\n",
              "    </tr>\n",
              "  </thead>\n",
              "  <tbody>\n",
              "    <tr>\n",
              "      <th>0</th>\n",
              "      <td>23.475#74.925</td>\n",
              "      <td>1.2019.week1</td>\n",
              "      <td>Gap_Filled_DNB_BRDF-Corrected_NTL</td>\n",
              "      <td>17</td>\n",
              "      <td>16</td>\n",
              "      <td>1</td>\n",
              "      <td>4</td>\n",
              "      <td>6</td>\n",
              "      <td>11</td>\n",
              "      <td>22</td>\n",
              "      <td>38</td>\n",
              "      <td>94</td>\n",
              "    </tr>\n",
              "    <tr>\n",
              "      <th>1</th>\n",
              "      <td>26.175#78.925</td>\n",
              "      <td>1.2019.week1</td>\n",
              "      <td>Gap_Filled_DNB_BRDF-Corrected_NTL</td>\n",
              "      <td>47</td>\n",
              "      <td>66</td>\n",
              "      <td>3</td>\n",
              "      <td>8</td>\n",
              "      <td>13</td>\n",
              "      <td>22</td>\n",
              "      <td>46</td>\n",
              "      <td>117</td>\n",
              "      <td>433</td>\n",
              "    </tr>\n",
              "    <tr>\n",
              "      <th>2</th>\n",
              "      <td>22.425#72.875</td>\n",
              "      <td>1.2019.week1</td>\n",
              "      <td>Gap_Filled_DNB_BRDF-Corrected_NTL</td>\n",
              "      <td>27</td>\n",
              "      <td>43</td>\n",
              "      <td>2</td>\n",
              "      <td>5</td>\n",
              "      <td>8</td>\n",
              "      <td>14</td>\n",
              "      <td>25</td>\n",
              "      <td>62</td>\n",
              "      <td>413</td>\n",
              "    </tr>\n",
              "    <tr>\n",
              "      <th>3</th>\n",
              "      <td>27.875#78.725</td>\n",
              "      <td>1.2019.week1</td>\n",
              "      <td>Gap_Filled_DNB_BRDF-Corrected_NTL</td>\n",
              "      <td>25</td>\n",
              "      <td>34</td>\n",
              "      <td>3</td>\n",
              "      <td>5</td>\n",
              "      <td>8</td>\n",
              "      <td>15</td>\n",
              "      <td>25</td>\n",
              "      <td>49</td>\n",
              "      <td>284</td>\n",
              "    </tr>\n",
              "    <tr>\n",
              "      <th>4</th>\n",
              "      <td>27.725#77.375</td>\n",
              "      <td>1.2019.week1</td>\n",
              "      <td>Gap_Filled_DNB_BRDF-Corrected_NTL</td>\n",
              "      <td>13</td>\n",
              "      <td>16</td>\n",
              "      <td>3</td>\n",
              "      <td>4</td>\n",
              "      <td>5</td>\n",
              "      <td>8</td>\n",
              "      <td>14</td>\n",
              "      <td>33</td>\n",
              "      <td>125</td>\n",
              "    </tr>\n",
              "    <tr>\n",
              "      <th>...</th>\n",
              "      <td>...</td>\n",
              "      <td>...</td>\n",
              "      <td>...</td>\n",
              "      <td>...</td>\n",
              "      <td>...</td>\n",
              "      <td>...</td>\n",
              "      <td>...</td>\n",
              "      <td>...</td>\n",
              "      <td>...</td>\n",
              "      <td>...</td>\n",
              "      <td>...</td>\n",
              "      <td>...</td>\n",
              "    </tr>\n",
              "    <tr>\n",
              "      <th>451303</th>\n",
              "      <td>23.375#79.025</td>\n",
              "      <td>9.2021.week4</td>\n",
              "      <td>Gap_Filled_DNB_BRDF-Corrected_NTL</td>\n",
              "      <td>12</td>\n",
              "      <td>14</td>\n",
              "      <td>1</td>\n",
              "      <td>3</td>\n",
              "      <td>4</td>\n",
              "      <td>7</td>\n",
              "      <td>13</td>\n",
              "      <td>31</td>\n",
              "      <td>87</td>\n",
              "    </tr>\n",
              "    <tr>\n",
              "      <th>451304</th>\n",
              "      <td>24.925#79.575</td>\n",
              "      <td>9.2021.week4</td>\n",
              "      <td>Gap_Filled_DNB_BRDF-Corrected_NTL</td>\n",
              "      <td>54</td>\n",
              "      <td>53</td>\n",
              "      <td>5</td>\n",
              "      <td>9</td>\n",
              "      <td>19</td>\n",
              "      <td>35</td>\n",
              "      <td>67</td>\n",
              "      <td>125</td>\n",
              "      <td>389</td>\n",
              "    </tr>\n",
              "    <tr>\n",
              "      <th>451305</th>\n",
              "      <td>25.225#77.625</td>\n",
              "      <td>9.2021.week4</td>\n",
              "      <td>Gap_Filled_DNB_BRDF-Corrected_NTL</td>\n",
              "      <td>17</td>\n",
              "      <td>20</td>\n",
              "      <td>1</td>\n",
              "      <td>4</td>\n",
              "      <td>5</td>\n",
              "      <td>9</td>\n",
              "      <td>23</td>\n",
              "      <td>47</td>\n",
              "      <td>99</td>\n",
              "    </tr>\n",
              "    <tr>\n",
              "      <th>451306</th>\n",
              "      <td>28.625#79.825</td>\n",
              "      <td>9.2021.week4</td>\n",
              "      <td>Gap_Filled_DNB_BRDF-Corrected_NTL</td>\n",
              "      <td>75</td>\n",
              "      <td>79</td>\n",
              "      <td>5</td>\n",
              "      <td>10</td>\n",
              "      <td>16</td>\n",
              "      <td>40</td>\n",
              "      <td>117</td>\n",
              "      <td>192</td>\n",
              "      <td>379</td>\n",
              "    </tr>\n",
              "    <tr>\n",
              "      <th>451307</th>\n",
              "      <td>22.225#71.375</td>\n",
              "      <td>9.2021.week4</td>\n",
              "      <td>Gap_Filled_DNB_BRDF-Corrected_NTL</td>\n",
              "      <td>8</td>\n",
              "      <td>10</td>\n",
              "      <td>0</td>\n",
              "      <td>3</td>\n",
              "      <td>4</td>\n",
              "      <td>5</td>\n",
              "      <td>7</td>\n",
              "      <td>19</td>\n",
              "      <td>51</td>\n",
              "    </tr>\n",
              "  </tbody>\n",
              "</table>\n",
              "<p>451308 rows × 12 columns</p>\n",
              "</div>"
            ],
            "text/plain": [
              "             location          week                             metric  mean  \\\n",
              "0       23.475#74.925  1.2019.week1  Gap_Filled_DNB_BRDF-Corrected_NTL    17   \n",
              "1       26.175#78.925  1.2019.week1  Gap_Filled_DNB_BRDF-Corrected_NTL    47   \n",
              "2       22.425#72.875  1.2019.week1  Gap_Filled_DNB_BRDF-Corrected_NTL    27   \n",
              "3       27.875#78.725  1.2019.week1  Gap_Filled_DNB_BRDF-Corrected_NTL    25   \n",
              "4       27.725#77.375  1.2019.week1  Gap_Filled_DNB_BRDF-Corrected_NTL    13   \n",
              "...               ...           ...                                ...   ...   \n",
              "451303  23.375#79.025  9.2021.week4  Gap_Filled_DNB_BRDF-Corrected_NTL    12   \n",
              "451304  24.925#79.575  9.2021.week4  Gap_Filled_DNB_BRDF-Corrected_NTL    54   \n",
              "451305  25.225#77.625  9.2021.week4  Gap_Filled_DNB_BRDF-Corrected_NTL    17   \n",
              "451306  28.625#79.825  9.2021.week4  Gap_Filled_DNB_BRDF-Corrected_NTL    75   \n",
              "451307  22.225#71.375  9.2021.week4  Gap_Filled_DNB_BRDF-Corrected_NTL     8   \n",
              "\n",
              "        sdev  min  10p  25p  median  75p  90p  max  \n",
              "0         16    1    4    6      11   22   38   94  \n",
              "1         66    3    8   13      22   46  117  433  \n",
              "2         43    2    5    8      14   25   62  413  \n",
              "3         34    3    5    8      15   25   49  284  \n",
              "4         16    3    4    5       8   14   33  125  \n",
              "...      ...  ...  ...  ...     ...  ...  ...  ...  \n",
              "451303    14    1    3    4       7   13   31   87  \n",
              "451304    53    5    9   19      35   67  125  389  \n",
              "451305    20    1    4    5       9   23   47   99  \n",
              "451306    79    5   10   16      40  117  192  379  \n",
              "451307    10    0    3    4       5    7   19   51  \n",
              "\n",
              "[451308 rows x 12 columns]"
            ]
          },
          "execution_count": 54,
          "metadata": {},
          "output_type": "execute_result"
        }
      ]
    },
    {
      "cell_type": "markdown",
      "metadata": {
        "id": "112066c6"
      },
      "source": [
        "#**Weekwise average night time lights for 2019 and 2020**<br>\n",
        "The captured data is daily and it is mapped to 8-day. So, 4 weeks a month. For 12 months of 2019 and average of every month (average of 4 weeks) is done. Same for 2020 is done.\n"
      ],
      "id": "112066c6"
    },
    {
      "cell_type": "code",
      "metadata": {
        "scrolled": true,
        "colab": {
          "base_uri": "https://localhost:8080/"
        },
        "id": "538fa576",
        "outputId": "c2f642ee-4d13-4d3b-f5a2-d8b00e87e26e"
      },
      "source": [
        "x=[]\n",
        "values1=[]\n",
        "values2=[]\n",
        "for month in range(1,13):\n",
        "    for week in range(1,5):\n",
        "        week1=str(month)+\".2019.week\"+str(week)\n",
        "        week2=str(month)+\".2020.week\"+str(week)\n",
        "        week1_data=metric_df[metric_df[\"week\"]==week1].set_index(\"location\")[\"mean\"].to_dict()\n",
        "        week2_data=metric_df[metric_df[\"week\"]==week2].set_index(\"location\")[\"mean\"].to_dict()\n",
        "        temp1=[]\n",
        "        temp2=[]\n",
        "        for location in week1_data:\n",
        "            if location in week2_data:\n",
        "                temp1.append(week1_data[location])\n",
        "                temp2.append(week2_data[location])\n",
        "        if len(temp1)>=3400:\n",
        "            x.append((month-1)*4+week)\n",
        "            values1.append(np.mean(temp1))\n",
        "            values2.append(np.mean(temp2))\n",
        "            print(\" month =\",month,\" week =\",week,\"2019 =\",values1[-1],\"2020 =\",values2[-1])"
      ],
      "id": "538fa576",
      "execution_count": 14,
      "outputs": [
        {
          "output_type": "stream",
          "name": "stdout",
          "text": [
            " month = 1  week = 1 2019 = 49.458321146534075 2020 = 48.57853173442527\n",
            " month = 1  week = 2 2019 = 48.03656039777713 2020 = 48.56507750804329\n",
            " month = 1  week = 3 2019 = 50.400701959637324 2020 = 48.22082480257385\n",
            " month = 1  week = 4 2019 = 49.340157940918395 2020 = 48.33284586136297\n",
            " month = 2  week = 1 2019 = 47.78765720971044 2020 = 50.286341035390464\n",
            " month = 2  week = 2 2019 = 51.57092717168763 2020 = 50.72243346007605\n",
            " month = 2  week = 3 2019 = 50.10295408014039 2020 = 52.11436092424685\n",
            " month = 2  week = 4 2019 = 48.97894121088037 2020 = 49.17373501023691\n",
            " month = 3  week = 1 2019 = 50.18426440479672 2020 = 47.42585551330799\n",
            " month = 3  week = 2 2019 = 49.085697572389584 2020 = 49.41942088329921\n",
            " month = 3  week = 3 2019 = 48.541971336648146 2020 = 47.27522667446622\n",
            " month = 3  week = 4 2019 = 47.459198596080725 2020 = 46.420883299210296\n",
            " month = 4  week = 1 2019 = 47.585843813980695 2020 = 44.97338403041825\n",
            " month = 4  week = 2 2019 = 48.22725943258263 2020 = 43.64931266452179\n",
            " month = 4  week = 3 2019 = 46.68938286048552 2020 = 43.36238666276689\n",
            " month = 4  week = 4 2019 = 46.35536706639368 2020 = 42.876572097104415\n",
            " month = 5  week = 1 2019 = 46.92980403626792 2020 = 40.830359754314124\n",
            " month = 5  week = 2 2019 = 47.455396314711905 2020 = 41.9915179877157\n",
            " month = 5  week = 3 2019 = 45.349809885931556 2020 = 41.213512723018425\n",
            " month = 5  week = 4 2019 = 46.203860778005264 2020 = 40.72711319099152\n",
            " month = 6  week = 1 2019 = 45.343960222287215 2020 = 40.661596958174904\n",
            " month = 6  week = 2 2019 = 45.17578239251243 2020 = 40.98742322316467\n",
            " month = 6  week = 3 2019 = 44.83386955250073 2020 = 40.97396899678269\n",
            " month = 6  week = 4 2019 = 45.93623866627669 2020 = 40.553378180754606\n",
            " month = 7  week = 1 2019 = 45.83416203568295 2020 = 40.69844983913425\n",
            " month = 7  week = 2 2019 = 43.83884176659842 2020 = 39.817198011114364\n",
            " month = 7  week = 3 2019 = 42.89587598713074 2020 = 39.715413863702835\n",
            " month = 7  week = 4 2019 = 45.01988885639076 2020 = 39.120210587891194\n",
            " month = 8  week = 1 2019 = 44.415911085112604 2020 = 38.85902310617139\n",
            " month = 8  week = 2 2019 = 42.53378180754606 2020 = 39.35244223457151\n",
            " month = 8  week = 3 2019 = 42.248025738520035 2020 = 38.18338695525007\n",
            " month = 8  week = 4 2019 = 42.3591693477625 2020 = 37.47411523837379\n",
            " month = 9  week = 1 2019 = 42.367943843229014 2020 = 37.10529394559813\n",
            " month = 9  week = 2 2019 = 41.659842059081605 2020 = 38.27581164083065\n",
            " month = 9  week = 3 2019 = 42.07458321146534 2020 = 38.22521205030711\n",
            " month = 9  week = 4 2019 = 42.051477040070196 2020 = 38.65925709271717\n",
            " month = 10  week = 1 2019 = 46.2731792921907 2020 = 38.31558935361217\n",
            " month = 10  week = 2 2019 = 42.60017548990933 2020 = 39.375548405966654\n",
            " month = 10  week = 3 2019 = 46.683825680023396 2020 = 41.240421175782394\n",
            " month = 10  week = 4 2019 = 54.69494004094764 2020 = 42.93448376718339\n",
            " month = 11  week = 1 2019 = 48.28312372038608 2020 = 42.49634396022229\n",
            " month = 11  week = 2 2019 = 48.30155016086575 2020 = 53.52208248025739\n",
            " month = 11  week = 3 2019 = 48.70225212050307 2020 = 51.98215852588476\n",
            " month = 11  week = 4 2019 = 47.50365603977771 2020 = 52.92132202398362\n",
            " month = 12  week = 1 2019 = 47.89616847031296 2020 = 50.739397484644634\n",
            " month = 12  week = 2 2019 = 49.52997952617724 2020 = 50.66715413863703\n",
            " month = 12  week = 3 2019 = 48.74173735010237 2020 = 50.289265867212634\n",
            " month = 12  week = 4 2019 = 49.31529687042995 2020 = 50.99327288680901\n"
          ]
        }
      ]
    },
    {
      "cell_type": "code",
      "metadata": {
        "colab": {
          "base_uri": "https://localhost:8080/",
          "height": 279
        },
        "id": "edb8f2e4",
        "outputId": "98e9e088-23be-4038-ad0c-ab23bd3e3c29"
      },
      "source": [
        "plt.plot(x,values1,label=\"2019\",color=\"red\")\n",
        "plt.plot(x,values2,label=\"2020\",color=\"green\")\n",
        "plt.legend()\n",
        "plt.xlabel(\"week number (4 weeks per month)\")\n",
        "plt.ylabel(\"Total lights during night\")\n",
        "plt.show()"
      ],
      "id": "edb8f2e4",
      "execution_count": 15,
      "outputs": [
        {
          "output_type": "display_data",
          "data": {
            "image/png": "[encoded data removed]",
            "text/plain": [
              "<Figure size 432x288 with 1 Axes>"
            ]
          },
          "metadata": {
            "needs_background": "light"
          }
        }
      ]
    },
    {
      "cell_type": "markdown",
      "metadata": {
        "id": "862fe8c4"
      },
      "source": [
        "**Takeaway**: For both 2019 and 2020, from April, there is clear decline in night time lights. But for 2020, it is clearly higher compared to 2019. Towards the end of the year, the values for 2020 rise up again and become close to their 2019 counter parts.\n",
        "\n",
        "There are two interesting things here:\n",
        "1) The values are higher for colder months (longer nights)\n",
        "\n",
        "2) The lowest point for 2020 coincides with the peak of the first wave in India. There seems to a correlation with covid-19 cases. However, we observe similar curve and lowest point is also at the same time. So, this might have nothing to do with covid-19 cases.\n",
        "\n",
        "3) For both the years, the sudden rise after valley coincides with the Diwali week: 27th October,2019 (4th week of October) and 14th November,2020 (2nd week of November)"
      ],
      "id": "862fe8c4"
    },
    {
      "cell_type": "markdown",
      "metadata": {
        "id": "2cdc0e2e"
      },
      "source": [
        "# **Comparing pre and post lockdown in 2020**<br>\n",
        "The difference of night time light is taken for march 2nd week and april first week. "
      ],
      "id": "2cdc0e2e"
    },
    {
      "cell_type": "code",
      "metadata": {
        "colab": {
          "base_uri": "https://localhost:8080/"
        },
        "id": "6e348171",
        "outputId": "cca1ee20-8ebe-47f0-8b12-fd0634825f11"
      },
      "source": [
        "week1=\"3.2020.week2\"\n",
        "week2=\"4.2020.week1\"\n",
        "week1_df=metric_df[metric_df[\"week\"]==week1][[\"location\",\"week\",\"mean\",\"sdev\"]]\n",
        "week2_df=metric_df[metric_df[\"week\"]==week2][[\"location\",\"week\",\"mean\",\"sdev\"]]\n",
        "week_df=week1_df.merge(week2_df,on=\"location\",how=\"inner\",suffixes=[\"_pre\",\"_post\"])\n",
        "week_df=week_df.merge(cities_df[[\"location\",\"city\",\"population\",\"elevation\"]],on=\"location\",how=\"inner\")\n",
        "week_df[\"diff\"]=(week_df[\"mean_post\"]-week_df[\"mean_pre\"])*100/week_df[\"mean_pre\"]\n",
        "week_df[\"diff\"].describe()"
      ],
      "id": "6e348171",
      "execution_count": 16,
      "outputs": [
        {
          "output_type": "execute_result",
          "data": {
            "text/plain": [
              "count    3418.000000\n",
              "mean       -4.348555\n",
              "std        21.059036\n",
              "min       -65.625000\n",
              "25%       -14.473684\n",
              "50%        -7.605415\n",
              "75%         0.000000\n",
              "max       521.428571\n",
              "Name: diff, dtype: float64"
            ]
          },
          "metadata": {},
          "execution_count": 16
        }
      ]
    },
    {
      "cell_type": "markdown",
      "metadata": {
        "id": "XnVeVl6MbOMJ"
      },
      "source": [
        "Count for cities with population greater or equal to a million."
      ],
      "id": "XnVeVl6MbOMJ"
    },
    {
      "cell_type": "code",
      "metadata": {
        "colab": {
          "base_uri": "https://localhost:8080/"
        },
        "id": "6b19ae1c",
        "outputId": "34ff8b7e-ee85-4346-9f4f-64a777e97a57"
      },
      "source": [
        "week_df[week_df[\"population\"]>=1000000][\"diff\"].describe()"
      ],
      "id": "6b19ae1c",
      "execution_count": 17,
      "outputs": [
        {
          "output_type": "execute_result",
          "data": {
            "text/plain": [
              "count    42.000000\n",
              "mean    -10.856653\n",
              "std       8.184662\n",
              "min     -43.865031\n",
              "25%     -14.627660\n",
              "50%     -11.187145\n",
              "75%      -5.302449\n",
              "max       6.153846\n",
              "Name: diff, dtype: float64"
            ]
          },
          "metadata": {},
          "execution_count": 17
        }
      ]
    },
    {
      "cell_type": "markdown",
      "metadata": {
        "id": "v0mihvR2bXas"
      },
      "source": [
        "Cities with dip of 15% and with population of atleast a million are shown <br>\n",
        "Cities with dip of 10% and with population of atleast a million are shown <br>\n",
        "Cities with atleast a dip of 30%"
      ],
      "id": "v0mihvR2bXas"
    },
    {
      "cell_type": "code",
      "metadata": {
        "colab": {
          "base_uri": "https://localhost:8080/"
        },
        "id": "f11518d9",
        "outputId": "73b7f2ca-c42a-483a-d25e-f042c85e03e2"
      },
      "source": [
        "print(\"--- cities with atleast a million population having atleast a dip of 10% ---\")\n",
        "print(week_df[(week_df[\"population\"]>=1000000)&(week_df[\"diff\"]<=-10)][\"city\"].tolist())\n",
        "print(\"--- cities with atleast a million population having atleast a dip of 15% ---\")\n",
        "print(week_df[(week_df[\"population\"]>=1000000)&(week_df[\"diff\"]<=-15)][\"city\"].tolist())\n",
        "print(\"--- cities having atleast a dip of 30% ---\")\n",
        "print(week_df[(week_df[\"diff\"]<=-30)][\"city\"].tolist())"
      ],
      "id": "f11518d9",
      "execution_count": 18,
      "outputs": [
        {
          "output_type": "stream",
          "name": "stdout",
          "text": [
            "--- cities with atleast a million population having atleast a dip of 10% ---\n",
            "['Allahabad', 'Varanasi', 'Kalyan', 'Pune', 'Aurangabad', 'Nashik', 'Navi Mumbai', 'Thane', 'Dombivli', 'Mumbai', 'Pimpri', 'Faridabad', 'Jabalpur', 'Rajkot', 'Bhopal', 'Ahmedabad', 'Jaipur', 'Nagpur', 'Indore', 'Chennai', 'Nowrangapur', 'Visakhapatnam']\n",
            "--- cities with atleast a million population having atleast a dip of 15% ---\n",
            "['Kalyan', 'Navi Mumbai', 'Thane', 'Mumbai', 'Jabalpur', 'Bhopal', 'Indore', 'Visakhapatnam']\n",
            "--- cities having atleast a dip of 30% ---\n",
            "['Husainabad', 'Garhwa', 'Beniganj', 'Mangan', 'Panna', 'Gondia', 'Bundu', 'Ghoti Budrukh', 'Murud', 'Serula', 'Aurad', 'Nileshwar', 'Saligao', 'Manor', 'Sringeri', 'Vagator', 'Lonavla', 'Harnai', 'Perya', 'Uran', 'Londa', 'Ponnampet', 'Daulatabad', 'Ashta', 'Wadi', 'Cavelossim', 'Jejuri', 'Koppa', 'Navelim', 'Someshwar', 'Igatpuri', 'Addanki', 'V.S.K.Valasai (Dindigul-Dist.)', 'Naduvannur', 'Calangute', 'Kodoli', 'Shirwal', 'Tawang', 'Sibsagar', 'Kamjong', 'Bhadasar', 'Manoharpur', 'Naraina', 'Chaklasi', 'Khanpur', 'Siwana', 'Sayla', 'Mahroni', 'Udpura', 'Kareli', 'Malhargarh', 'Deshnoke', 'Khamaria', 'Patan', 'Thandla', 'Multai', 'Rajgarh', 'Chechat', 'Panagar', 'Betul Bazar', 'Amet', 'Bhawaniganj', 'Mangrul Pir', 'Limbdi', 'Shajapur', 'Ashoknagar', 'Samdari', 'Chotila', 'Anandpur', 'Thang', 'Raikot', 'Daulatpur', 'Kotla', 'Uttarkashi', 'Tiruchchendur', 'Chipurupalle', 'Visakhapatnam']\n"
          ]
        }
      ]
    },
    {
      "cell_type": "markdown",
      "metadata": {
        "id": "7c4f7aa0"
      },
      "source": [
        "**Takeaway**: In first week of April in 2020, compared to before lockdown, on an average 4.5% dip was observed with median dip being 7.5% across cities. \n",
        "Cities with atleast a million population saw 11% dip on an average.\n",
        "Mumbai and Vishakhapatnam were among the populous cities which observed a dip of more than 15%."
      ],
      "id": "7c4f7aa0"
    },
    {
      "cell_type": "markdown",
      "metadata": {
        "id": "JJdLNv19bzSx"
      },
      "source": [
        "The difference of night time light is taken for march 2nd week and may first week. "
      ],
      "id": "JJdLNv19bzSx"
    },
    {
      "cell_type": "code",
      "metadata": {
        "colab": {
          "base_uri": "https://localhost:8080/"
        },
        "id": "688eb978",
        "outputId": "fa50a8b4-f55a-4a33-8b79-69f0392784fd"
      },
      "source": [
        "week1=\"3.2020.week2\"\n",
        "week2=\"5.2020.week1\"\n",
        "week1_df=metric_df[metric_df[\"week\"]==week1][[\"location\",\"week\",\"mean\",\"sdev\"]]\n",
        "week2_df=metric_df[metric_df[\"week\"]==week2][[\"location\",\"week\",\"mean\",\"sdev\"]]\n",
        "week_df=week1_df.merge(week2_df,on=\"location\",how=\"inner\",suffixes=[\"_pre\",\"_post\"])\n",
        "week_df=week_df.merge(cities_df[[\"location\",\"city\",\"population\",\"elevation\"]],on=\"location\",how=\"inner\")\n",
        "week_df[\"diff\"]=(week_df[\"mean_post\"]-week_df[\"mean_pre\"])*100/week_df[\"mean_pre\"]\n",
        "week_df[\"diff\"].describe()"
      ],
      "id": "688eb978",
      "execution_count": 19,
      "outputs": [
        {
          "output_type": "execute_result",
          "data": {
            "text/plain": [
              "count    3418.000000\n",
              "mean      -16.405691\n",
              "std        16.827291\n",
              "min       -83.333333\n",
              "25%       -25.000000\n",
              "50%       -17.391304\n",
              "75%        -9.677419\n",
              "max       200.000000\n",
              "Name: diff, dtype: float64"
            ]
          },
          "metadata": {},
          "execution_count": 19
        }
      ]
    },
    {
      "cell_type": "markdown",
      "metadata": {
        "id": "IVvgISkBb8Cw"
      },
      "source": [
        "Count for cities with population greater or equal to a million."
      ],
      "id": "IVvgISkBb8Cw"
    },
    {
      "cell_type": "code",
      "metadata": {
        "id": "188e46d8",
        "outputId": "4d6a4a7b-bf05-4e37-af77-6f8fba7f5a5d"
      },
      "source": [
        "week_df[week_df[\"population\"]>=1000000][\"diff\"].describe()"
      ],
      "id": "188e46d8",
      "execution_count": null,
      "outputs": [
        {
          "data": {
            "text/plain": [
              "count    42.000000\n",
              "mean    -17.967543\n",
              "std       9.018450\n",
              "min     -47.727273\n",
              "25%     -23.322422\n",
              "50%     -17.705027\n",
              "75%     -13.455469\n",
              "max      11.111111\n",
              "Name: diff, dtype: float64"
            ]
          },
          "execution_count": 144,
          "metadata": {},
          "output_type": "execute_result"
        }
      ]
    },
    {
      "cell_type": "markdown",
      "metadata": {
        "id": "G2OM4SIecANT"
      },
      "source": [
        "Cities with dip of 15% and with population of atleast a million are shown <br>\n",
        "Cities with dip of 20% and with population of atleast a million are shown <br>\n",
        "Cities with atleast a dip of 50%"
      ],
      "id": "G2OM4SIecANT"
    },
    {
      "cell_type": "code",
      "metadata": {
        "id": "65cc1b31",
        "outputId": "c1e34719-6c97-4357-b088-30bcee18ce71"
      },
      "source": [
        "print(\"--- cities with atleast a million population having atleast a dip of 10% ---\")\n",
        "print(week_df[(week_df[\"population\"]>=1000000)&(week_df[\"diff\"]<=-10)][\"city\"].tolist())\n",
        "print(\"--- cities with atleast a million population having atleast a dip of 20% ---\")\n",
        "print(week_df[(week_df[\"population\"]>=1000000)&(week_df[\"diff\"]<=-20)][\"city\"].tolist())\n",
        "print(\"--- cities having atleast a dip of 50% ---\")\n",
        "print(week_df[(week_df[\"diff\"]<=-50)][\"city\"].tolist())"
      ],
      "id": "65cc1b31",
      "execution_count": null,
      "outputs": [
        {
          "name": "stdout",
          "output_type": "stream",
          "text": [
            "--- cities with atleast a million population having atleast a dip of 10% ---\n",
            "['Allahabad', 'Lucknow', 'Patna', 'Haora', 'Kolkata', 'Varanasi', 'Kanpur', 'Kalyan', 'Pune', 'Aurangabad', 'Nashik', 'Navi Mumbai', 'Hyderabad', 'Thane', 'Bengaluru', 'Dombivli', 'Mumbai', 'Pimpri', 'Teni', 'Faridabad', 'Jabalpur', 'Meerut', 'Surat', 'Rajkot', 'Bhopal', 'Ahmedabad', 'Vadodara', 'Ghaziabad', 'Agra', 'Jaipur', 'Najafgarh', 'Nagpur', 'Delhi', 'Indore', 'Ludhiana', 'Amritsar', 'Chennai', 'Nowrangapur', 'Visakhapatnam']\n",
            "--- cities with atleast a million population having atleast a dip of 20% ---\n",
            "['Allahabad', 'Varanasi', 'Kanpur', 'Kalyan', 'Navi Mumbai', 'Thane', 'Mumbai', 'Teni', 'Faridabad', 'Jabalpur', 'Bhopal', 'Ghaziabad', 'Delhi', 'Indore', 'Nowrangapur', 'Visakhapatnam']\n",
            "--- cities having atleast a dip of 50% ---\n",
            "['Musafir-Khana', 'Chandla', 'Bighapur Khurd', 'Mohanpur', 'Baduria', 'Jagdishpur', 'Jarwal', 'Dighwara', 'Murud', 'Vagator', 'Harnai', 'Suntikoppa', 'Kannavam', 'Ramapuram', 'Someshwar', 'Addanki', 'Naduvannur', 'Kamjong', 'Bhadasar', 'Naraina', 'Gohand', 'Dungarpur', 'Khudaganj', 'Umrala', 'Un', 'Meethari Marwar', 'Begun', 'Mirganj', 'Jasrasar', 'Pilibangan', 'Kotra', 'Mandholi Kalan', 'Dhola', 'Indergarh', 'Samdari', 'Daboh', 'Sham Churasi', 'Anandpur', 'Thang', 'Theog', 'Arki', 'Jubbal', 'Yol', 'Rajgarh', 'Hajipur', 'Banjar', 'Kotla', 'Chipurupalle']\n"
          ]
        }
      ]
    },
    {
      "cell_type": "markdown",
      "metadata": {
        "id": "b9c11d68"
      },
      "source": [
        "**Take away** First week of May saw around 17% dip compared to pre-lockdown period. Populous cities with a million people and higher experienced around 18% dip. Some of the populous cities with more than 20% dip were Allahabad, Varanasi, Delhi, Mumbai, Vishakhapatnam, Kanpur, Ghaziabad, Indore, Faridabad and Jabalpur."
      ],
      "id": "b9c11d68"
    }
  ]
}