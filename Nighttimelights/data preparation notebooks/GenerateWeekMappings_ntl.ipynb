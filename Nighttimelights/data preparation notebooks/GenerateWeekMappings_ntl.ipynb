{
  "nbformat": 4,
  "nbformat_minor": 5,
  "metadata": {
    "kernelspec": {
      "display_name": "Python 3 (ipykernel)",
      "language": "python",
      "name": "python3"
    },
    "language_info": {
      "codemirror_mode": {
        "name": "ipython",
        "version": 3
      },
      "file_extension": ".py",
      "mimetype": "text/x-python",
      "name": "python",
      "nbconvert_exporter": "python",
      "pygments_lexer": "ipython3",
      "version": "3.9.7"
    },
    "colab": {
      "name": "GenerateWeekMappings_ntl.ipynb",
      "provenance": [],
      "collapsed_sections": []
    }
  },
  "cells": [
    {
      "cell_type": "code",
      "metadata": {
        "id": "ce3fb491"
      },
      "source": [
        "import datetime as dt\n",
        "import os"
      ],
      "id": "ce3fb491",
      "execution_count": null,
      "outputs": []
    },
    {
      "cell_type": "code",
      "metadata": {
        "id": "f706d96a"
      },
      "source": [
        "DATA_PATH=\"ntl/VNP46A2/\"\n",
        "OUTPUT_PATH=\"data/\""
      ],
      "id": "f706d96a",
      "execution_count": null,
      "outputs": []
    },
    {
      "cell_type": "code",
      "metadata": {
        "id": "9f05e5e8",
        "outputId": "ad11f450-1cdf-433d-c806-4ecc195f36e7"
      },
      "source": [
        "all_files=os.listdir(DATA_PATH)\n",
        "granules=[]\n",
        "for f in all_files:\n",
        "    if f.endswith(\".h5\"):\n",
        "        granules.append(f)\n",
        "print(\"granules =\",len(granules))"
      ],
      "id": "9f05e5e8",
      "execution_count": null,
      "outputs": [
        {
          "name": "stdout",
          "output_type": "stream",
          "text": [
            "granules = 14027\n"
          ]
        }
      ]
    },
    {
      "cell_type": "code",
      "metadata": {
        "id": "089f1735"
      },
      "source": [
        "week_length=8\n",
        "n_weeks_per_month=4"
      ],
      "id": "089f1735",
      "execution_count": null,
      "outputs": []
    },
    {
      "cell_type": "code",
      "metadata": {
        "id": "84a8d695"
      },
      "source": [
        "week_dates={}\n",
        "months=[i+1 for i in range(12)]\n",
        "years=[2019,2020,2021]\n",
        "for year in years:\n",
        "    for month in months:\n",
        "        for week in range(1,n_weeks_per_month+1,1):\n",
        "            date=dt.date(year,month,1)+dt.timedelta(days=week_length*(week-1))\n",
        "            dates=[date]\n",
        "            for i in range(week_length-1):\n",
        "                new_date=date+dt.timedelta(days=1)\n",
        "                if new_date.month==date.month:\n",
        "                    dates.append(new_date)\n",
        "                    date=new_date\n",
        "                else:\n",
        "                    break\n",
        "            week_dates[str(month)+\".\"+str(year)+\".\"+\"week\"+str(week)]=dates                "
      ],
      "id": "84a8d695",
      "execution_count": null,
      "outputs": []
    },
    {
      "cell_type": "code",
      "metadata": {
        "id": "32eaa13b"
      },
      "source": [
        "date_granules={}\n",
        "for granule in granules:\n",
        "    values=granule.split(\".\")\n",
        "    year=int(values[1][1:5])\n",
        "    date=dt.date(year,1,1)+dt.timedelta(days=int(values[1][5:8])-1)\n",
        "    if date not in date_granules:\n",
        "        date_granules[date]=[]\n",
        "    date_granules[date].append(granule)"
      ],
      "id": "32eaa13b",
      "execution_count": null,
      "outputs": []
    },
    {
      "cell_type": "code",
      "metadata": {
        "id": "5cbe8796"
      },
      "source": [
        "week_granules={}\n",
        "for week in week_dates:\n",
        "    week_granules[week]=[]\n",
        "    for date in week_dates[week]:\n",
        "        if date in date_granules:\n",
        "            week_granules[week]+=date_granules[date]"
      ],
      "id": "5cbe8796",
      "execution_count": null,
      "outputs": []
    },
    {
      "cell_type": "code",
      "metadata": {
        "id": "1506bb63"
      },
      "source": [
        "fp=open(OUTPUT_PATH+\"week_mappings_ntl.csv\",\"w\")\n",
        "fp.write(\",\".join([\"week\",\"granules\"])+\"\\n\")\n",
        "for week in week_granules:\n",
        "    if len(week_granules[week])==0:\n",
        "        continue\n",
        "    fp.write(week+\",\"+\"#\".join(week_granules[week])+\"\\n\")\n",
        "fp.close()"
      ],
      "id": "1506bb63",
      "execution_count": null,
      "outputs": []
    }
  ]
}