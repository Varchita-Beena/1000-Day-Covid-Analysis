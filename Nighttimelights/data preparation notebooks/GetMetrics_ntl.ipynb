{
  "nbformat": 4,
  "nbformat_minor": 5,
  "metadata": {
    "kernelspec": {
      "display_name": "Python 3 (ipykernel)",
      "language": "python",
      "name": "python3"
    },
    "language_info": {
      "codemirror_mode": {
        "name": "ipython",
        "version": 3
      },
      "file_extension": ".py",
      "mimetype": "text/x-python",
      "name": "python",
      "nbconvert_exporter": "python",
      "pygments_lexer": "ipython3",
      "version": "3.9.7"
    },
    "colab": {
      "name": "GetMetrics_ntl.ipynb",
      "provenance": [],
      "collapsed_sections": []
    }
  },
  "cells": [
    {
      "cell_type": "code",
      "metadata": {
        "id": "691a266a"
      },
      "source": [
        "import h5py\n",
        "import numpy as np\n",
        "import os"
      ],
      "id": "691a266a",
      "execution_count": null,
      "outputs": []
    },
    {
      "cell_type": "code",
      "metadata": {
        "id": "00a819eb"
      },
      "source": [
        "GRANULES_PATH=\"ntl/VNP46A2/\"\n",
        "OUTPUT_PATH=\"data/\""
      ],
      "id": "00a819eb",
      "execution_count": null,
      "outputs": []
    },
    {
      "cell_type": "code",
      "metadata": {
        "id": "85e2ad57"
      },
      "source": [
        "granules=os.listdir(GRANULES_PATH)"
      ],
      "id": "85e2ad57",
      "execution_count": null,
      "outputs": []
    },
    {
      "cell_type": "code",
      "metadata": {
        "id": "32a7d5bf"
      },
      "source": [
        "def traverse_datasets(hdf_file):\n",
        "\n",
        "    def h5py_dataset_iterator(g, prefix=''):\n",
        "        for key in g.keys():\n",
        "            item = g[key]\n",
        "            path = f'{prefix}/{key}'\n",
        "            if isinstance(item, h5py.Dataset): # test for dataset\n",
        "                yield (path, item)\n",
        "            elif isinstance(item, h5py.Group): # test for group (go down)\n",
        "                yield from h5py_dataset_iterator(item, path)\n",
        "\n",
        "    for path, _ in h5py_dataset_iterator(hdf_file):\n",
        "        yield path"
      ],
      "id": "32a7d5bf",
      "execution_count": null,
      "outputs": []
    },
    {
      "cell_type": "code",
      "metadata": {
        "id": "692fbc4a",
        "outputId": "881d201a-c9eb-4615-d3ab-807abed66946"
      },
      "source": [
        "data=[]\n",
        "with h5py.File(GRANULES_PATH+granules[0], \"r\") as f:\n",
        "    for dset in traverse_datasets(f):\n",
        "        print('Path:', dset)\n",
        "        print('Shape:', f[dset].shape)\n",
        "        print('Data type:', f[dset].dtype)\n",
        "        data.append([dset.split(\"/\")[-1],str(len(f[dset].shape)),\"#\".join([str(i) for i in f[dset].shape]),dset])"
      ],
      "id": "692fbc4a",
      "execution_count": null,
      "outputs": [
        {
          "name": "stdout",
          "output_type": "stream",
          "text": [
            "Path: /HDFEOS/GRIDS/VNP_Grid_DNB/Data Fields/DNB_BRDF-Corrected_NTL\n",
            "Shape: (2400, 2400)\n",
            "Data type: uint16\n",
            "Path: /HDFEOS/GRIDS/VNP_Grid_DNB/Data Fields/DNB_Lunar_Irradiance\n",
            "Shape: (2400, 2400)\n",
            "Data type: uint16\n",
            "Path: /HDFEOS/GRIDS/VNP_Grid_DNB/Data Fields/Gap_Filled_DNB_BRDF-Corrected_NTL\n",
            "Shape: (2400, 2400)\n",
            "Data type: uint16\n",
            "Path: /HDFEOS/GRIDS/VNP_Grid_DNB/Data Fields/Latest_High_Quality_Retrieval\n",
            "Shape: (2400, 2400)\n",
            "Data type: uint8\n",
            "Path: /HDFEOS/GRIDS/VNP_Grid_DNB/Data Fields/Mandatory_Quality_Flag\n",
            "Shape: (2400, 2400)\n",
            "Data type: uint8\n",
            "Path: /HDFEOS/GRIDS/VNP_Grid_DNB/Data Fields/QF_Cloud_Mask\n",
            "Shape: (2400, 2400)\n",
            "Data type: uint16\n",
            "Path: /HDFEOS/GRIDS/VNP_Grid_DNB/Data Fields/Snow_Flag\n",
            "Shape: (2400, 2400)\n",
            "Data type: uint8\n",
            "Path: /HDFEOS INFORMATION/StructMetadata.0\n",
            "Shape: ()\n",
            "Data type: |S32000\n"
          ]
        }
      ]
    },
    {
      "cell_type": "code",
      "metadata": {
        "id": "7d465076"
      },
      "source": [
        "fp=open(OUTPUT_PATH+\"metrics_ntl.csv\",\"w\")\n",
        "fp.write(\",\".join([\"metric\",\"dimensions\",\"shape\",\"path\"])+\"\\n\")\n",
        "fp.write(\"\\n\".join([\",\".join(vector) for vector in data]))\n",
        "fp.close()"
      ],
      "id": "7d465076",
      "execution_count": null,
      "outputs": []
    }
  ]
}