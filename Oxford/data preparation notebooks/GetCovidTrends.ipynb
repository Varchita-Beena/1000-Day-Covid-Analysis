{
  "nbformat": 4,
  "nbformat_minor": 5,
  "metadata": {
    "kernelspec": {
      "display_name": "Python 3 (ipykernel)",
      "language": "python",
      "name": "python3"
    },
    "language_info": {
      "codemirror_mode": {
        "name": "ipython",
        "version": 3
      },
      "file_extension": ".py",
      "mimetype": "text/x-python",
      "name": "python",
      "nbconvert_exporter": "python",
      "pygments_lexer": "ipython3",
      "version": "3.9.7"
    },
    "colab": {
      "name": "GetCovidTrends.ipynb",
      "provenance": [],
      "collapsed_sections": []
    }
  },
  "cells": [
    {
      "cell_type": "code",
      "metadata": {
        "id": "cbec563c"
      },
      "source": [
        "import datetime as dt\n",
        "import numpy\n",
        "import math\n",
        "import pandas as pd"
      ],
      "id": "cbec563c",
      "execution_count": 6,
      "outputs": []
    },
    {
      "cell_type": "markdown",
      "metadata": {
        "id": "zd-js8_N7oaf"
      },
      "source": [
        "# Covid Data\n",
        "\n",
        "The data used regarding covid analysis is downloaded from [Our world in data provided by Oxford](https://ourworldindata.org/covid-google-mobility-trends). <br>\n",
        "To tackle the Coronavirus pandemic, countries across the world have implemented a range of stringent policies, including stay-at-home ‘lockdowns‘; school and workplace closures; cancellation of events and public gatherings; and restrictions on public transport.<br>\n",
        "These measures were implemented to slow the spread of the virus by enforcing physical distance between people. How effective have these policies been in reducing human movement? What impact has it had on how people across the world work; live; and where they visit?\n",
        "<br><br>\n",
        "This new dataset from Google measures visitor numbers to specific categories of location (e.g. grocery stores; parks; train stations) every day and compares this change relative to baseline day before the pandemic outbreak. Baseline days represent a normal value for that day of the week, given as median value over the five‑week period from January 3rd to February 6th 2020. Measuring it relative to a normal value for that day of the week is helpful because people obviously often have different routines on weekends versus weekdays.\n",
        "<br><br>\n",
        "On [Google’s website](https://www.google.com/covid19/mobility/) the data is only visualized in pdfs – one for each country. They present Google’s data in [interactive charts](https://ourworldindata.org/covid-google-mobility-trends) to make it easier to see changes over time in a given country; and how specific policies may have affected (or not) behavior across communities. <br><br>\n",
        "\n",
        "The amount of day-to-day variability in the raw data can make it difficult to understand how overall movements are changing over time. To make this easier to understand they have converted the raw data into the rolling seven-day average.<br><br>\n",
        "From here 'changes-visitors-covid.csv' has been downloaded"
      ],
      "id": "zd-js8_N7oaf"
    },
    {
      "cell_type": "code",
      "metadata": {
        "id": "d643db4b"
      },
      "source": [
        "DATA_PATH=\"covidoxford/data/\"\n",
        "OUTPUT_PATH=\"covidoxford/data/\""
      ],
      "id": "d643db4b",
      "execution_count": 9,
      "outputs": []
    },
    {
      "cell_type": "markdown",
      "metadata": {
        "id": "7lrXFiukAOtP"
      },
      "source": [
        "To provide the week name so that it can be compared with other files. The decided length for a week is 8 and number of weeks per month are 4."
      ],
      "id": "7lrXFiukAOtP"
    },
    {
      "cell_type": "code",
      "metadata": {
        "id": "4d2e484c"
      },
      "source": [
        "week_length=8\n",
        "n_weeks_per_month=4"
      ],
      "id": "4d2e484c",
      "execution_count": 11,
      "outputs": []
    },
    {
      "cell_type": "markdown",
      "metadata": {
        "id": "1Hso8pnyF7Lr"
      },
      "source": [
        "## Making a dictionary with key as week and value as the dates falling that week<br>\n",
        "For loop over 3 years namely 2019, 2020, 2021, over 12 months i.e. 1 to 12 and over 4 weeks (weeks starting from 1) and day starting from 1st. (i.e. starting from 2019-01-01).<br><br>Making a dictionary (named week_dates) with keys as start of week and values as the days falling in that week. Fetching date after every 8 days for 4 times(4 weeks in a month) (say 2019-01-01, 2019-01-09, 2019-01-17, 2019-01-25).<br><br>The innermost loop is running from 0 to 7 as we have found 1 date in the last date. So, for every date extracted in the above step we are appending consecutive 7 more dates. The only one more constraint is all the dates should be of same month, as soon as month changes the innermost loop breaks, giving dates of same month only.<br><br> Finally the dictionary is made as say: Key = 1.2019.week1 and its value is [2019-01-01, 2019-01-02, 2019-01-03, 2019-01-04, 2019-01-05, 2019-01-06, 2019-01-07, 2019-01-08]"
      ],
      "id": "1Hso8pnyF7Lr"
    },
    {
      "cell_type": "code",
      "metadata": {
        "id": "e3892a88"
      },
      "source": [
        "week_dates={}\n",
        "months=[i+1 for i in range(12)]\n",
        "years=[2019,2020,2021]\n",
        "for year in years:\n",
        "    for month in months:\n",
        "        for week in range(1,n_weeks_per_month+1,1):\n",
        "            date=dt.date(year,month,1)+dt.timedelta(days=week_length*(week-1))\n",
        "            dates=[date]\n",
        "            for i in range(week_length-1):\n",
        "                new_date=date+dt.timedelta(days=1)\n",
        "                if new_date.month==date.month:\n",
        "                    dates.append(new_date)\n",
        "                    date=new_date\n",
        "                else:\n",
        "                    break\n",
        "            week_dates[str(month)+\".\"+str(year)+\".\"+\"week\"+str(week)]=dates                "
      ],
      "id": "e3892a88",
      "execution_count": null,
      "outputs": []
    },
    {
      "cell_type": "markdown",
      "metadata": {
        "id": "NdnNWR_sF-OT"
      },
      "source": [
        "Prepare 2 csv files names covid_trends_daily.csv and covid_trends_8days.csv with metric, date and value as fileds."
      ],
      "id": "NdnNWR_sF-OT"
    },
    {
      "cell_type": "code",
      "metadata": {
        "id": "c02ca188"
      },
      "source": [
        "fp_daily=open(OUTPUT_PATH+\"covid_trends_daily.csv\",\"w\")\n",
        "fp_daily.write(\",\".join([\"metric\",\"date\",\"value\"])+\"\\n\")\n",
        "fp_8days=open(OUTPUT_PATH+\"covid_trends_8days.csv\",\"w\")\n",
        "fp_8days.write(\",\".join([\"metric\",\"week\",\"value\"])+\"\\n\")"
      ],
      "id": "c02ca188",
      "execution_count": null,
      "outputs": []
    },
    {
      "cell_type": "markdown",
      "metadata": {
        "id": "E_c4BrtUHDwg"
      },
      "source": [
        "The data is extracted for India only. For every required metric from metrics list, the metric_daily dictionary is made with key as date and value as it's date string. The type of string is changed to date.<br> <br>\n",
        "\n",
        "To store data in daily form run a for loop over metri_daily dictionary and (example) write retail_and_recreation as metric,\t17.2.2020 as date\t0.667 as metric value. <br><br>\n",
        "\n",
        "To store data in 8-day form run a for loop over week_dates dictionary, take balues of particular week (i.e. 8 days) and take value of metric for the last most date common in week_dates and metric daily and write (example) retail_and_recreation as metric,\t17.2.2020 as date\t0.667 as metric value.\n"
      ],
      "id": "E_c4BrtUHDwg"
    },
    {
      "cell_type": "code",
      "metadata": {
        "id": "4cd7b155"
      },
      "source": [
        "df=pd.read_csv(DATA_PATH+\"changes-visitors-covid.csv\")\n",
        "metrics=[\"retail_and_recreation\",\"grocery_and_pharmacy\",\"residential\",\"transit_stations\",\"parks\",\"workplaces\"]\n",
        "def get_daily_metric(df,metric):\n",
        "    temp=df[(df[\"Entity\"]==\"India\")&(~df[metric].isnull())].set_index(\"Day\")[metric].to_dict()\n",
        "    metric_daily={}\n",
        "    for date_str in temp:\n",
        "        values=[int(i) for i in date_str.split(\"-\")]\n",
        "        date=dt.date(values[0],values[1],values[2])\n",
        "        metric_daily[date]=temp[date_str]\n",
        "    return metric_daily\n",
        "for metric in metrics:\n",
        "    metric_daily=get_daily_metric(df,metric)\n",
        "    \n",
        "    for date in metric_daily:\n",
        "        date_str=str(int(date.day))+\".\"+str(int(date.month))+\".\"+str(int(date.year))\n",
        "        fp_daily.write(metric+\",\"+date_str+\",\"+str(metric_daily[date])+\"\\n\")\n",
        "    \n",
        "    for week in week_dates:\n",
        "        value=None\n",
        "        for date in week_dates[week]:\n",
        "            if date in metric_daily:\n",
        "                value=metric_daily[date]\n",
        "        if value is not None:\n",
        "            fp_8days.write(metric+\",\"+week+\",\"+str(value)+\"\\n\")"
      ],
      "id": "4cd7b155",
      "execution_count": null,
      "outputs": []
    },
    {
      "cell_type": "markdown",
      "metadata": {
        "id": "hXWxbgAnKj2F"
      },
      "source": [
        "Few more metrics related to covid cases in terms of deaths and stringency index are added in both the files(daily and 8-day) using the same as described above. The information/data has been taken from 'covid_daily_data.csv' and downloaded from [deaths csv file](https://ourworldindata.org/covid-deaths)"
      ],
      "id": "hXWxbgAnKj2F"
    },
    {
      "cell_type": "code",
      "metadata": {
        "id": "fbda3836"
      },
      "source": [
        "df=pd.read_csv(DATA_PATH+\"covid_daily_data.csv\")\n",
        "metrics=[\"new_cases_smoothed_per_million\",\"new_deaths_smoothed_per_million\",\"stringency_index\"]\n",
        "def get_daily_metric(df,metric):\n",
        "    temp=df[(df[\"location\"]==\"India\")&(~df[metric].isnull())].set_index(\"date\")[metric].to_dict()\n",
        "    metric_daily={}\n",
        "    for date_str in temp:\n",
        "        values=[int(i) for i in date_str.split(\"-\")]\n",
        "        date=dt.date(values[0],values[1],values[2])\n",
        "        metric_daily[date]=temp[date_str]\n",
        "    return metric_daily\n",
        "for metric in metrics:\n",
        "    metric_daily=get_daily_metric(df,metric)\n",
        "    \n",
        "    for date in metric_daily:\n",
        "        date_str=str(int(date.day))+\".\"+str(int(date.month))+\".\"+str(int(date.year))\n",
        "        fp_daily.write(metric+\",\"+date_str+\",\"+str(metric_daily[date])+\"\\n\")\n",
        "    \n",
        "    for week in week_dates:\n",
        "        value=None\n",
        "        for date in week_dates[week]:\n",
        "            if date in metric_daily:\n",
        "                value=metric_daily[date]\n",
        "        if value is not None:\n",
        "            fp_8days.write(metric+\",\"+week+\",\"+str(value)+\"\\n\")"
      ],
      "id": "fbda3836",
      "execution_count": null,
      "outputs": []
    },
    {
      "cell_type": "code",
      "metadata": {
        "id": "d974d0f1"
      },
      "source": [
        "fp_daily.close()\n",
        "fp_8days.close()"
      ],
      "id": "d974d0f1",
      "execution_count": null,
      "outputs": []
    },
    {
      "cell_type": "code",
      "metadata": {
        "id": "d3b387a7"
      },
      "source": [
        ""
      ],
      "id": "d3b387a7",
      "execution_count": null,
      "outputs": []
    }
  ]
}