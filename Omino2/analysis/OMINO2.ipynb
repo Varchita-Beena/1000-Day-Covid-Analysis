{
  "nbformat": 4,
  "nbformat_minor": 5,
  "metadata": {
    "kernelspec": {
      "display_name": "Python 3 (ipykernel)",
      "language": "python",
      "name": "python3"
    },
    "language_info": {
      "codemirror_mode": {
        "name": "ipython",
        "version": 3
      },
      "file_extension": ".py",
      "mimetype": "text/x-python",
      "name": "python",
      "nbconvert_exporter": "python",
      "pygments_lexer": "ipython3",
      "version": "3.9.7"
    },
    "colab": {
      "name": "OMINO2.ipynb",
      "provenance": []
    }
  },
  "cells": [
    {
      "cell_type": "markdown",
      "metadata": {
        "id": "qd1qLTJemj8o"
      },
      "source": [
        "#**Nitrogen Dioxide analysis at 0.25x0.25 degree for Indian cities**"
      ],
      "id": "qd1qLTJemj8o"
    },
    {
      "cell_type": "code",
      "metadata": {
        "id": "644d622a"
      },
      "source": [
        "import pandas as pd\n",
        "pd.set_option('display.max_rows', 500)\n",
        "pd.options.mode.use_inf_as_na = True\n",
        "import numpy as np\n",
        "import os\n",
        "import math\n",
        "from scipy.stats import pearsonr as corr\n",
        "from matplotlib import pyplot as plt\n",
        "#import statsmodels.api as sm\n",
        "import statsmodels.formula.api as sm"
      ],
      "id": "644d622a",
      "execution_count": 30,
      "outputs": []
    },
    {
      "cell_type": "code",
      "metadata": {
        "id": "301cc479"
      },
      "source": [
        "OMINO2_PATH=\"omino2/data/\" #NO2 data path\n",
        "COVID_PATH=\"covidoxford/data/\" #covidoxford path\n",
        "CITIES_PATH=\"cities/data/\" #cities data path"
      ],
      "id": "301cc479",
      "execution_count": 31,
      "outputs": []
    },
    {
      "cell_type": "code",
      "metadata": {
        "colab": {
          "base_uri": "https://localhost:8080/"
        },
        "id": "758372e9",
        "outputId": "9b50d46f-e490-4254-e30e-9d2bec37c239"
      },
      "source": [
        "cities_df=pd.read_csv(CITIES_PATH+\"cities_0.25degx0.25deg.csv\",error_bad_lines=False)"
      ],
      "id": "758372e9",
      "execution_count": 32,
      "outputs": [
        {
          "output_type": "stream",
          "name": "stderr",
          "text": [
            "b'Skipping line 302: expected 5 fields, saw 6\\n'\n"
          ]
        }
      ]
    },
    {
      "cell_type": "code",
      "metadata": {
        "id": "ef8c8383"
      },
      "source": [
        "omino2_df=pd.read_csv(OMINO2_PATH+\"indian_cities_0.25degx0.25deg_omino2.csv\")"
      ],
      "id": "ef8c8383",
      "execution_count": 33,
      "outputs": []
    },
    {
      "cell_type": "markdown",
      "metadata": {
        "id": "Cya4iar0nfx5"
      },
      "source": [
        "**unique parameters**"
      ],
      "id": "Cya4iar0nfx5"
    },
    {
      "cell_type": "code",
      "metadata": {
        "colab": {
          "base_uri": "https://localhost:8080/"
        },
        "id": "119dc7e3",
        "outputId": "b7cad5d9-e528-4347-f8b8-bb3ae8058230"
      },
      "source": [
        "omino2_df[\"metric\"].unique()"
      ],
      "id": "119dc7e3",
      "execution_count": 34,
      "outputs": [
        {
          "output_type": "execute_result",
          "data": {
            "text/plain": [
              "array(['ColumnAmountNO2', 'ColumnAmountNO2CloudScreened',\n",
              "       'ColumnAmountNO2Trop', 'ColumnAmountNO2TropCloudScreened'],\n",
              "      dtype=object)"
            ]
          },
          "metadata": {},
          "execution_count": 34
        }
      ]
    },
    {
      "cell_type": "markdown",
      "metadata": {
        "id": "FEsvq8VKnlEI"
      },
      "source": [
        "**metric use**: ColumnAmountNO2<br>\n",
        "mean value greater tha -9999 and nan removed"
      ],
      "id": "FEsvq8VKnlEI"
    },
    {
      "cell_type": "code",
      "metadata": {
        "id": "3af349dc"
      },
      "source": [
        "metric=\"ColumnAmountNO2\"\n",
        "metric_df=omino2_df[(omino2_df[\"metric\"]==metric)&(omino2_df[\"mean\"]>-9999)&(~omino2_df[\"mean\"].isna())]"
      ],
      "id": "3af349dc",
      "execution_count": 35,
      "outputs": []
    },
    {
      "cell_type": "code",
      "metadata": {
        "colab": {
          "base_uri": "https://localhost:8080/",
          "height": 419
        },
        "id": "f61be052",
        "outputId": "785440f0-b0ee-4adc-b618-09b691b9b28e"
      },
      "source": [
        "metric_df"
      ],
      "id": "f61be052",
      "execution_count": 36,
      "outputs": [
        {
          "output_type": "execute_result",
          "data": {
            "text/html": [
              "<div>\n",
              "<style scoped>\n",
              "    .dataframe tbody tr th:only-of-type {\n",
              "        vertical-align: middle;\n",
              "    }\n",
              "\n",
              "    .dataframe tbody tr th {\n",
              "        vertical-align: top;\n",
              "    }\n",
              "\n",
              "    .dataframe thead th {\n",
              "        text-align: right;\n",
              "    }\n",
              "</style>\n",
              "<table border=\"1\" class=\"dataframe\">\n",
              "  <thead>\n",
              "    <tr style=\"text-align: right;\">\n",
              "      <th></th>\n",
              "      <th>location</th>\n",
              "      <th>week</th>\n",
              "      <th>metric</th>\n",
              "      <th>mean</th>\n",
              "    </tr>\n",
              "  </thead>\n",
              "  <tbody>\n",
              "    <tr>\n",
              "      <th>0</th>\n",
              "      <td>17.375#77.375</td>\n",
              "      <td>1.2019.week1</td>\n",
              "      <td>ColumnAmountNO2</td>\n",
              "      <td>2.207311e+15</td>\n",
              "    </tr>\n",
              "    <tr>\n",
              "      <th>1</th>\n",
              "      <td>17.375#77.875</td>\n",
              "      <td>1.2019.week1</td>\n",
              "      <td>ColumnAmountNO2</td>\n",
              "      <td>2.279101e+15</td>\n",
              "    </tr>\n",
              "    <tr>\n",
              "      <th>2</th>\n",
              "      <td>17.875#76.375</td>\n",
              "      <td>1.2019.week1</td>\n",
              "      <td>ColumnAmountNO2</td>\n",
              "      <td>2.333815e+15</td>\n",
              "    </tr>\n",
              "    <tr>\n",
              "      <th>3</th>\n",
              "      <td>17.875#76.625</td>\n",
              "      <td>1.2019.week1</td>\n",
              "      <td>ColumnAmountNO2</td>\n",
              "      <td>2.187244e+15</td>\n",
              "    </tr>\n",
              "    <tr>\n",
              "      <th>4</th>\n",
              "      <td>17.875#76.875</td>\n",
              "      <td>1.2019.week1</td>\n",
              "      <td>ColumnAmountNO2</td>\n",
              "      <td>2.288642e+15</td>\n",
              "    </tr>\n",
              "    <tr>\n",
              "      <th>...</th>\n",
              "      <td>...</td>\n",
              "      <td>...</td>\n",
              "      <td>...</td>\n",
              "      <td>...</td>\n",
              "    </tr>\n",
              "    <tr>\n",
              "      <th>1176194</th>\n",
              "      <td>19.625#78.625</td>\n",
              "      <td>9.2021.week4</td>\n",
              "      <td>ColumnAmountNO2</td>\n",
              "      <td>3.253517e+15</td>\n",
              "    </tr>\n",
              "    <tr>\n",
              "      <th>1176195</th>\n",
              "      <td>23.625#84.375</td>\n",
              "      <td>9.2021.week4</td>\n",
              "      <td>ColumnAmountNO2</td>\n",
              "      <td>3.137470e+15</td>\n",
              "    </tr>\n",
              "    <tr>\n",
              "      <th>1176196</th>\n",
              "      <td>24.375#81.875</td>\n",
              "      <td>9.2021.week4</td>\n",
              "      <td>ColumnAmountNO2</td>\n",
              "      <td>3.215519e+15</td>\n",
              "    </tr>\n",
              "    <tr>\n",
              "      <th>1176197</th>\n",
              "      <td>24.375#81.375</td>\n",
              "      <td>9.2021.week4</td>\n",
              "      <td>ColumnAmountNO2</td>\n",
              "      <td>3.325812e+15</td>\n",
              "    </tr>\n",
              "    <tr>\n",
              "      <th>1176198</th>\n",
              "      <td>24.375#81.625</td>\n",
              "      <td>9.2021.week4</td>\n",
              "      <td>ColumnAmountNO2</td>\n",
              "      <td>3.246408e+15</td>\n",
              "    </tr>\n",
              "  </tbody>\n",
              "</table>\n",
              "<p>296340 rows × 4 columns</p>\n",
              "</div>"
            ],
            "text/plain": [
              "              location          week           metric          mean\n",
              "0        17.375#77.375  1.2019.week1  ColumnAmountNO2  2.207311e+15\n",
              "1        17.375#77.875  1.2019.week1  ColumnAmountNO2  2.279101e+15\n",
              "2        17.875#76.375  1.2019.week1  ColumnAmountNO2  2.333815e+15\n",
              "3        17.875#76.625  1.2019.week1  ColumnAmountNO2  2.187244e+15\n",
              "4        17.875#76.875  1.2019.week1  ColumnAmountNO2  2.288642e+15\n",
              "...                ...           ...              ...           ...\n",
              "1176194  19.625#78.625  9.2021.week4  ColumnAmountNO2  3.253517e+15\n",
              "1176195  23.625#84.375  9.2021.week4  ColumnAmountNO2  3.137470e+15\n",
              "1176196  24.375#81.875  9.2021.week4  ColumnAmountNO2  3.215519e+15\n",
              "1176197  24.375#81.375  9.2021.week4  ColumnAmountNO2  3.325812e+15\n",
              "1176198  24.375#81.625  9.2021.week4  ColumnAmountNO2  3.246408e+15\n",
              "\n",
              "[296340 rows x 4 columns]"
            ]
          },
          "metadata": {},
          "execution_count": 36
        }
      ]
    },
    {
      "cell_type": "markdown",
      "metadata": {
        "id": "67939cc9"
      },
      "source": [
        "# **Weekwise NO2 average of all cities of 2019 and 2020**\n",
        "The data downloaded was on daily interval. While extracting data the data was also mapped to 4 weeks a month and each week consists of 8 days. So for all 12 months and 4 weeks data is taken making around 48 points for both years. "
      ],
      "id": "67939cc9"
    },
    {
      "cell_type": "code",
      "metadata": {
        "scrolled": true,
        "colab": {
          "base_uri": "https://localhost:8080/"
        },
        "id": "3e7b03bc",
        "outputId": "e5e05b7b-324a-4df3-9c14-1ad47da99252"
      },
      "source": [
        "x=[]\n",
        "values1=[]\n",
        "values2=[]\n",
        "for month in range(1,13):\n",
        "    for week in range(1,5):\n",
        "        week1=str(month)+\".2019.week\"+str(week)\n",
        "        week2=str(month)+\".2020.week\"+str(week)\n",
        "        week1_data=metric_df[metric_df[\"week\"]==week1].set_index(\"location\")[\"mean\"].to_dict()\n",
        "        week2_data=metric_df[metric_df[\"week\"]==week2].set_index(\"location\")[\"mean\"].to_dict()\n",
        "        temp1=[]\n",
        "        temp2=[]\n",
        "        for location in week1_data:\n",
        "            if location in week2_data:\n",
        "                temp1.append(week1_data[location])\n",
        "                temp2.append(week2_data[location])\n",
        "        if len(temp1)>=100:\n",
        "            x.append((month-1)*4+week)\n",
        "            values1.append(np.mean(temp1))\n",
        "            values2.append(np.mean(temp2))\n",
        "            print(\" month =\",month,\" week =\",week,\"2019 =\",temp1[-1],\"2020 =\",temp2[-1])"
      ],
      "id": "3e7b03bc",
      "execution_count": 37,
      "outputs": [
        {
          "output_type": "stream",
          "name": "stdout",
          "text": [
            " month = 1  week = 1 2019 = 2287539260282447.0 2020 = 2721262988890023.0\n",
            " month = 1  week = 2 2019 = 2213463951465260.8 2020 = 2726958387233373.0\n",
            " month = 1  week = 3 2019 = 2233759032007278.5 2020 = 2644070854139952.5\n",
            " month = 1  week = 4 2019 = 1772616562714720.8 2020 = 2665475817139103.0\n",
            " month = 2  week = 1 2019 = 2365654912919116.0 2020 = 2625638904436756.5\n",
            " month = 2  week = 2 2019 = 2264135342331924.0 2020 = 2660266059339206.5\n",
            " month = 2  week = 3 2019 = 2276537158953427.5 2020 = 2568638848451016.0\n",
            " month = 2  week = 4 2019 = 2683346273828060.0 2020 = 2238297112678459.2\n",
            " month = 3  week = 1 2019 = 2464461492994095.5 2020 = 2749922976231317.0\n",
            " month = 3  week = 2 2019 = 2444866696873712.5 2020 = 2795415389171671.5\n",
            " month = 3  week = 3 2019 = 1940009232066491.2 2020 = 1867946707588082.5\n",
            " month = 3  week = 4 2019 = 2842591445772346.0 2020 = 2686161088640491.5\n",
            " month = 4  week = 1 2019 = 2305967234397408.5 2020 = 2299949466455863.5\n",
            " month = 4  week = 2 2019 = 1842908845119640.8 2020 = 1769453592442575.0\n",
            " month = 4  week = 3 2019 = 2463562589841190.0 2020 = 1962054559608608.8\n",
            " month = 4  week = 4 2019 = 1913992998307932.8 2020 = 1834367601395305.2\n",
            " month = 5  week = 1 2019 = 2517298100913976.0 2020 = 2436450523155527.0\n",
            " month = 5  week = 2 2019 = 2714011852859457.0 2020 = 2280462895159441.0\n",
            " month = 5  week = 3 2019 = 2208741764807636.5 2020 = 2701953136253939.5\n",
            " month = 5  week = 4 2019 = 2126905493943218.0 2020 = 2238473731654321.2\n",
            " month = 6  week = 1 2019 = 2497390194715294.5 2020 = 2525682520693075.5\n",
            " month = 6  week = 2 2019 = 2541878880430335.5 2020 = 2425831780269261.0\n",
            " month = 6  week = 3 2019 = 2257598682777483.0 2020 = 2414348664444877.0\n",
            " month = 6  week = 4 2019 = 2495606806074894.5 2020 = 2744225254323548.0\n",
            " month = 7  week = 1 2019 = 2641572573401020.5 2020 = 2372042562832860.0\n",
            " month = 7  week = 2 2019 = 2698894506447256.0 2020 = 2328502313535129.0\n",
            " month = 7  week = 3 2019 = 2596690719067739.5 2020 = 2493931564908316.5\n",
            " month = 7  week = 4 2019 = 2542657055235093.0 2020 = 2468338461027125.0\n",
            " month = 8  week = 1 2019 = 2839538068468115.5 2020 = 2366996168514436.0\n",
            " month = 8  week = 2 2019 = 2643203491468698.5 2020 = 2681553792657587.0\n",
            " month = 8  week = 3 2019 = 2804549605761244.0 2020 = 2761771291941089.0\n",
            " month = 8  week = 4 2019 = 3157378899706287.5 2020 = 2400595150044700.5\n",
            " month = 9  week = 1 2019 = 2818553831626227.5 2020 = 2644752076552030.0\n",
            " month = 9  week = 2 2019 = 2886549066680857.0 2020 = 2995517766045660.5\n",
            " month = 9  week = 3 2019 = 2832739817384119.5 2020 = 2946304044108338.0\n",
            " month = 9  week = 4 2019 = 2935967955678952.5 2020 = 2301771645292805.0\n",
            " month = 10  week = 1 2019 = 2999066241549765.0 2020 = 3333655021068144.0\n",
            " month = 10  week = 2 2019 = 3071253493711389.0 2020 = 3255520727786001.0\n",
            " month = 10  week = 3 2019 = 2953129875308588.5 2020 = 3203563580041998.5\n",
            " month = 10  week = 4 2019 = 3280606038438723.0 2020 = 3230259620567740.0\n",
            " month = 11  week = 1 2019 = 2997079901928098.5 2020 = 3277432151011413.0\n",
            " month = 11  week = 2 2019 = 3411051798907810.0 2020 = 2898991921062405.0\n",
            " month = 11  week = 3 2019 = 2863328309382485.0 2020 = 2635320679132359.5\n",
            " month = 11  week = 4 2019 = 3218167077571472.5 2020 = 3061019051298398.0\n",
            " month = 12  week = 1 2019 = 3032920586994705.0 2020 = 3141936620312153.0\n",
            " month = 12  week = 2 2019 = 3111304769177321.0 2020 = 3014037932099445.0\n",
            " month = 12  week = 3 2019 = 2763858790438467.0 2020 = 2858198107959509.0\n",
            " month = 12  week = 4 2019 = 2911085718405916.5 2020 = 2884404751536740.5\n"
          ]
        }
      ]
    },
    {
      "cell_type": "code",
      "metadata": {
        "colab": {
          "base_uri": "https://localhost:8080/",
          "height": 290
        },
        "id": "21872180",
        "outputId": "a9ce9f0e-4292-4cf7-ff2c-f6bbac13b805"
      },
      "source": [
        "plt.plot(x,values1,label=\"2019\",color=\"red\")\n",
        "plt.plot(x,values2,label=\"2020\",color=\"green\")\n",
        "plt.legend()\n",
        "plt.xlabel(\"week number (4 weeks per month)\")\n",
        "plt.ylabel(\"Total NO2\")\n",
        "plt.show()"
      ],
      "id": "21872180",
      "execution_count": 38,
      "outputs": [
        {
          "output_type": "display_data",
          "data": {
            "image/png": "[encoded data removed]",
            "text/plain": [
              "<Figure size 432x288 with 1 Axes>"
            ]
          },
          "metadata": {
            "needs_background": "light"
          }
        }
      ]
    },
    {
      "cell_type": "markdown",
      "metadata": {
        "id": "49f1b213"
      },
      "source": [
        "# **Pre and Post lockdown in 2020**<br>\n",
        "Pre lockdown for 2020: march first week<br>\n",
        "Post lockdown for 2020: april first week<br>\n",
        "Difference of post and pre is taken"
      ],
      "id": "49f1b213"
    },
    {
      "cell_type": "code",
      "metadata": {
        "colab": {
          "base_uri": "https://localhost:8080/"
        },
        "id": "97db5de9",
        "outputId": "7574ae04-f786-4ca9-9f83-2e6fc50c3a98"
      },
      "source": [
        "week1=\"3.2020.week1\"\n",
        "week2=\"4.2020.week1\"\n",
        "week1_df=metric_df[metric_df[\"week\"]==week1][[\"location\",\"week\",\"mean\"]]\n",
        "week2_df=metric_df[metric_df[\"week\"]==week2][[\"location\",\"week\",\"mean\"]]\n",
        "week_df=week1_df.merge(week2_df,on=\"location\",how=\"inner\",suffixes=[\"_pre\",\"_post\"])\n",
        "week_df=week_df.merge(cities_df[[\"location\",\"city\",\"population\",\"elevation\"]],on=\"location\",how=\"inner\")\n",
        "week_df[\"diff\"]=(week_df[\"mean_post\"]-week_df[\"mean_pre\"])*100/week_df[\"mean_pre\"]\n",
        "week_df[\"diff\"].describe()"
      ],
      "id": "97db5de9",
      "execution_count": 39,
      "outputs": [
        {
          "output_type": "execute_result",
          "data": {
            "text/plain": [
              "count    2244.000000\n",
              "mean       -5.022833\n",
              "std         8.261542\n",
              "min       -35.765178\n",
              "25%       -10.752447\n",
              "50%        -5.517916\n",
              "75%         0.100299\n",
              "max        31.053538\n",
              "Name: diff, dtype: float64"
            ]
          },
          "metadata": {},
          "execution_count": 39
        }
      ]
    },
    {
      "cell_type": "markdown",
      "metadata": {
        "id": "Pwy5Dd1_qKOP"
      },
      "source": [
        "mean of difference where population is atleast a million"
      ],
      "id": "Pwy5Dd1_qKOP"
    },
    {
      "cell_type": "code",
      "metadata": {
        "colab": {
          "base_uri": "https://localhost:8080/"
        },
        "id": "2037e294",
        "outputId": "ba33b159-d904-410e-f1aa-97e299b3d196"
      },
      "source": [
        "week_df[week_df[\"population\"]>=1000000][\"diff\"].describe()"
      ],
      "id": "2037e294",
      "execution_count": 40,
      "outputs": [
        {
          "output_type": "execute_result",
          "data": {
            "text/plain": [
              "count    43.000000\n",
              "mean     -3.637403\n",
              "std       6.516088\n",
              "min     -16.483047\n",
              "25%      -7.196102\n",
              "50%      -2.943240\n",
              "75%       0.163234\n",
              "max      11.005797\n",
              "Name: diff, dtype: float64"
            ]
          },
          "metadata": {},
          "execution_count": 40
        }
      ]
    },
    {
      "cell_type": "code",
      "metadata": {
        "colab": {
          "base_uri": "https://localhost:8080/",
          "height": 514
        },
        "id": "e4903110",
        "outputId": "bb25cb52-32f9-44bd-9482-3fa559f7ef8b"
      },
      "source": [
        "week_df[week_df[\"population\"]>=2000000]"
      ],
      "id": "e4903110",
      "execution_count": 41,
      "outputs": [
        {
          "output_type": "execute_result",
          "data": {
            "text/html": [
              "<div>\n",
              "<style scoped>\n",
              "    .dataframe tbody tr th:only-of-type {\n",
              "        vertical-align: middle;\n",
              "    }\n",
              "\n",
              "    .dataframe tbody tr th {\n",
              "        vertical-align: top;\n",
              "    }\n",
              "\n",
              "    .dataframe thead th {\n",
              "        text-align: right;\n",
              "    }\n",
              "</style>\n",
              "<table border=\"1\" class=\"dataframe\">\n",
              "  <thead>\n",
              "    <tr style=\"text-align: right;\">\n",
              "      <th></th>\n",
              "      <th>location</th>\n",
              "      <th>week_pre</th>\n",
              "      <th>mean_pre</th>\n",
              "      <th>week_post</th>\n",
              "      <th>mean_post</th>\n",
              "      <th>city</th>\n",
              "      <th>population</th>\n",
              "      <th>elevation</th>\n",
              "      <th>diff</th>\n",
              "    </tr>\n",
              "  </thead>\n",
              "  <tbody>\n",
              "    <tr>\n",
              "      <th>6</th>\n",
              "      <td>21.125#79.125</td>\n",
              "      <td>3.2020.week1</td>\n",
              "      <td>2.243551e+15</td>\n",
              "      <td>4.2020.week1</td>\n",
              "      <td>2.371004e+15</td>\n",
              "      <td>Nagpur</td>\n",
              "      <td>2317456</td>\n",
              "      <td>304</td>\n",
              "      <td>5.680866</td>\n",
              "    </tr>\n",
              "    <tr>\n",
              "      <th>333</th>\n",
              "      <td>17.375#78.375</td>\n",
              "      <td>3.2020.week1</td>\n",
              "      <td>2.258891e+15</td>\n",
              "      <td>4.2020.week1</td>\n",
              "      <td>2.235621e+15</td>\n",
              "      <td>Hyderabad</td>\n",
              "      <td>4117880</td>\n",
              "      <td>551</td>\n",
              "      <td>-1.030161</td>\n",
              "    </tr>\n",
              "    <tr>\n",
              "      <th>879</th>\n",
              "      <td>26.875#80.875</td>\n",
              "      <td>3.2020.week1</td>\n",
              "      <td>2.804243e+15</td>\n",
              "      <td>4.2020.week1</td>\n",
              "      <td>2.372520e+15</td>\n",
              "      <td>Lucknow</td>\n",
              "      <td>2490343</td>\n",
              "      <td>127</td>\n",
              "      <td>-15.395360</td>\n",
              "    </tr>\n",
              "    <tr>\n",
              "      <th>1014</th>\n",
              "      <td>13.125#80.375</td>\n",
              "      <td>3.2020.week1</td>\n",
              "      <td>2.086350e+15</td>\n",
              "      <td>4.2020.week1</td>\n",
              "      <td>2.017585e+15</td>\n",
              "      <td>Chennai</td>\n",
              "      <td>4663073</td>\n",
              "      <td>9</td>\n",
              "      <td>-3.295945</td>\n",
              "    </tr>\n",
              "    <tr>\n",
              "      <th>1025</th>\n",
              "      <td>26.375#80.375</td>\n",
              "      <td>3.2020.week1</td>\n",
              "      <td>2.701722e+15</td>\n",
              "      <td>4.2020.week1</td>\n",
              "      <td>2.481120e+15</td>\n",
              "      <td>Kanpur</td>\n",
              "      <td>2834007</td>\n",
              "      <td>134</td>\n",
              "      <td>-8.165236</td>\n",
              "    </tr>\n",
              "    <tr>\n",
              "      <th>1134</th>\n",
              "      <td>22.625#88.375</td>\n",
              "      <td>3.2020.week1</td>\n",
              "      <td>2.372811e+15</td>\n",
              "      <td>4.2020.week1</td>\n",
              "      <td>2.362462e+15</td>\n",
              "      <td>Kolkata</td>\n",
              "      <td>8539531</td>\n",
              "      <td>9</td>\n",
              "      <td>-0.436137</td>\n",
              "    </tr>\n",
              "    <tr>\n",
              "      <th>1232</th>\n",
              "      <td>22.875#88.375</td>\n",
              "      <td>3.2020.week1</td>\n",
              "      <td>2.431235e+15</td>\n",
              "      <td>4.2020.week1</td>\n",
              "      <td>2.365088e+15</td>\n",
              "      <td>Bhatpara</td>\n",
              "      <td>2641204</td>\n",
              "      <td>13</td>\n",
              "      <td>-2.720720</td>\n",
              "    </tr>\n",
              "    <tr>\n",
              "      <th>1552</th>\n",
              "      <td>28.625#77.125</td>\n",
              "      <td>3.2020.week1</td>\n",
              "      <td>2.571778e+15</td>\n",
              "      <td>4.2020.week1</td>\n",
              "      <td>2.644810e+15</td>\n",
              "      <td>Delhi</td>\n",
              "      <td>12927387</td>\n",
              "      <td>222</td>\n",
              "      <td>2.839751</td>\n",
              "    </tr>\n",
              "    <tr>\n",
              "      <th>1560</th>\n",
              "      <td>26.875#75.875</td>\n",
              "      <td>3.2020.week1</td>\n",
              "      <td>2.604393e+15</td>\n",
              "      <td>4.2020.week1</td>\n",
              "      <td>2.522211e+15</td>\n",
              "      <td>Jaipur</td>\n",
              "      <td>2711758</td>\n",
              "      <td>435</td>\n",
              "      <td>-3.155503</td>\n",
              "    </tr>\n",
              "    <tr>\n",
              "      <th>1627</th>\n",
              "      <td>18.625#73.875</td>\n",
              "      <td>3.2020.week1</td>\n",
              "      <td>2.263108e+15</td>\n",
              "      <td>4.2020.week1</td>\n",
              "      <td>2.299042e+15</td>\n",
              "      <td>Pune</td>\n",
              "      <td>5336520</td>\n",
              "      <td>571</td>\n",
              "      <td>1.587800</td>\n",
              "    </tr>\n",
              "    <tr>\n",
              "      <th>1653</th>\n",
              "      <td>12.875#77.625</td>\n",
              "      <td>3.2020.week1</td>\n",
              "      <td>2.146913e+15</td>\n",
              "      <td>4.2020.week1</td>\n",
              "      <td>1.793037e+15</td>\n",
              "      <td>Bengaluru</td>\n",
              "      <td>5104047</td>\n",
              "      <td>914</td>\n",
              "      <td>-16.483047</td>\n",
              "    </tr>\n",
              "    <tr>\n",
              "      <th>1774</th>\n",
              "      <td>23.125#72.625</td>\n",
              "      <td>3.2020.week1</td>\n",
              "      <td>2.126055e+15</td>\n",
              "      <td>4.2020.week1</td>\n",
              "      <td>2.229641e+15</td>\n",
              "      <td>Ahmedabad</td>\n",
              "      <td>6569467</td>\n",
              "      <td>59</td>\n",
              "      <td>4.872224</td>\n",
              "    </tr>\n",
              "    <tr>\n",
              "      <th>1845</th>\n",
              "      <td>21.125#72.875</td>\n",
              "      <td>3.2020.week1</td>\n",
              "      <td>2.342843e+15</td>\n",
              "      <td>4.2020.week1</td>\n",
              "      <td>2.467659e+15</td>\n",
              "      <td>Surat</td>\n",
              "      <td>4618763</td>\n",
              "      <td>16</td>\n",
              "      <td>5.327546</td>\n",
              "    </tr>\n",
              "    <tr>\n",
              "      <th>2001</th>\n",
              "      <td>19.125#73.125</td>\n",
              "      <td>3.2020.week1</td>\n",
              "      <td>2.395228e+15</td>\n",
              "      <td>4.2020.week1</td>\n",
              "      <td>2.369412e+15</td>\n",
              "      <td>Navi Mumbai</td>\n",
              "      <td>5795619</td>\n",
              "      <td>17</td>\n",
              "      <td>-1.077810</td>\n",
              "    </tr>\n",
              "    <tr>\n",
              "      <th>2051</th>\n",
              "      <td>19.125#72.875</td>\n",
              "      <td>3.2020.week1</td>\n",
              "      <td>2.461729e+15</td>\n",
              "      <td>4.2020.week1</td>\n",
              "      <td>2.427903e+15</td>\n",
              "      <td>Mumbai</td>\n",
              "      <td>14682970</td>\n",
              "      <td>22</td>\n",
              "      <td>-1.374054</td>\n",
              "    </tr>\n",
              "  </tbody>\n",
              "</table>\n",
              "</div>"
            ],
            "text/plain": [
              "           location      week_pre  ...  elevation       diff\n",
              "6     21.125#79.125  3.2020.week1  ...        304   5.680866\n",
              "333   17.375#78.375  3.2020.week1  ...        551  -1.030161\n",
              "879   26.875#80.875  3.2020.week1  ...        127 -15.395360\n",
              "1014  13.125#80.375  3.2020.week1  ...          9  -3.295945\n",
              "1025  26.375#80.375  3.2020.week1  ...        134  -8.165236\n",
              "1134  22.625#88.375  3.2020.week1  ...          9  -0.436137\n",
              "1232  22.875#88.375  3.2020.week1  ...         13  -2.720720\n",
              "1552  28.625#77.125  3.2020.week1  ...        222   2.839751\n",
              "1560  26.875#75.875  3.2020.week1  ...        435  -3.155503\n",
              "1627  18.625#73.875  3.2020.week1  ...        571   1.587800\n",
              "1653  12.875#77.625  3.2020.week1  ...        914 -16.483047\n",
              "1774  23.125#72.625  3.2020.week1  ...         59   4.872224\n",
              "1845  21.125#72.875  3.2020.week1  ...         16   5.327546\n",
              "2001  19.125#73.125  3.2020.week1  ...         17  -1.077810\n",
              "2051  19.125#72.875  3.2020.week1  ...         22  -1.374054\n",
              "\n",
              "[15 rows x 9 columns]"
            ]
          },
          "metadata": {},
          "execution_count": 41
        }
      ]
    },
    {
      "cell_type": "markdown",
      "metadata": {
        "id": "dIn0W7tQqiqO"
      },
      "source": [
        "cities with atleast 15% dip and with atleast 1 lakh population<br>\n",
        "cities with atleast 20% dip"
      ],
      "id": "dIn0W7tQqiqO"
    },
    {
      "cell_type": "code",
      "metadata": {
        "colab": {
          "base_uri": "https://localhost:8080/"
        },
        "id": "11ab2a58",
        "outputId": "a95f31fb-f80e-42fd-b54e-287d94335a98"
      },
      "source": [
        "print(\"--- cities with atleast 15% dip and with atleast 1 lakh population ---\")\n",
        "print(week_df[(week_df[\"diff\"]<=-15)&(week_df[\"population\"]>=100000)][\"city\"].tolist())\n",
        "print(\"--- cities with atleast 20% dip ---\")\n",
        "print(week_df[(week_df[\"diff\"]<=-20)][\"city\"].tolist())"
      ],
      "id": "11ab2a58",
      "execution_count": 42,
      "outputs": [
        {
          "output_type": "stream",
          "name": "stdout",
          "text": [
            "--- cities with atleast 15% dip and with atleast 1 lakh population ---\n",
            "['Purnia', 'Moradabad', 'Orai', 'Forbesganj', 'Rampur', 'Puruliya', 'Bhind', 'Robertsonpet', 'Nandyal', 'Bankura', 'Jharia', 'Asansol', 'Chas', 'Kashipur', 'Unnao', 'Teni', 'Tambaram', 'Hoshangabad', 'Murwara', 'Lucknow', 'Parli Vaijnath', 'Latur', 'Solapur', 'Fyzabad', 'Bahraigh', 'Raebareli', 'Sitapur', 'Deoria', 'Pathankot', 'Karimnagar', 'Amroha', 'Hanumangarh', 'Bengaluru', 'Yamunanagar', 'Gangoh', 'Kayankulam', 'Tiruvalla', 'Gangapur', 'Chandpur', 'Bijnor', 'Nagina', 'Moga', 'Dewas', 'Batala', 'Ahmadnagar', 'Abohar', 'Khanna']\n",
            "--- cities with atleast 20% dip ---\n",
            "['Mankapur', 'Mandvi', 'Churachandpur', 'Jammalamadugu', 'Moradabad', 'Usilampatti', 'Saiha', 'Araria', 'Forbesganj', 'Bahadurganj', 'Samthar', 'Puruliya', 'Lakhyabad', 'Chas', 'Bah', 'Kashipur', 'Pakala', 'Ahmadpur', 'Vattalkundu', 'Neelankarai', 'Tisaiyanvilai', 'Fyzabad', 'Talikota', 'Kati', 'Chandbali', 'Biswan', 'Raebareli', 'Bachhrawan', 'Utraula', 'Ramanuj Ganj', 'Mudgal', 'Itaunja', 'Khamgaon', 'Leh', 'Anekal', 'Rudraprayag', 'Gorantla', 'Kayankulam', 'Rawatsar', 'Tiruvalla', 'Najibabad', 'Kiratpur', 'Pithampur', 'Gangapur', 'Hastinapur', 'Bijnor', 'Ahmadnagar', 'Doraha']\n"
          ]
        }
      ]
    },
    {
      "cell_type": "markdown",
      "metadata": {
        "id": "4cb8d97b"
      },
      "source": [
        "**Takeaway**: Bangalore and Lucknow observed around 16% decrease in NO2 in second week of lockdown compared to first week of march. Cities with more than 1 million population observed around 3.5 decrease."
      ],
      "id": "4cb8d97b"
    },
    {
      "cell_type": "markdown",
      "metadata": {
        "id": "mFGyhwUiq28q"
      },
      "source": [
        "\n",
        "Pre lockdown for 2020: march first week<br>\n",
        "Post lockdown for 2020: april second week<br>\n",
        "Difference of post and pre is taken"
      ],
      "id": "mFGyhwUiq28q"
    },
    {
      "cell_type": "code",
      "metadata": {
        "colab": {
          "base_uri": "https://localhost:8080/"
        },
        "id": "5eded48d",
        "outputId": "05559c99-d94c-415a-d3a5-2a26bfcac4d7"
      },
      "source": [
        "week1=\"3.2020.week1\"\n",
        "week2=\"4.2020.week4\"\n",
        "week1_df=metric_df[metric_df[\"week\"]==week1][[\"location\",\"week\",\"mean\"]]\n",
        "week2_df=metric_df[metric_df[\"week\"]==week2][[\"location\",\"week\",\"mean\"]]\n",
        "week_df=week1_df.merge(week2_df,on=\"location\",how=\"inner\",suffixes=[\"_pre\",\"_post\"])\n",
        "week_df=week_df.merge(cities_df[[\"location\",\"city\",\"population\",\"elevation\"]],on=\"location\",how=\"inner\")\n",
        "week_df[\"diff\"]=(week_df[\"mean_post\"]-week_df[\"mean_pre\"])*100/week_df[\"mean_pre\"]\n",
        "week_df[\"diff\"].describe()"
      ],
      "id": "5eded48d",
      "execution_count": 43,
      "outputs": [
        {
          "output_type": "execute_result",
          "data": {
            "text/plain": [
              "count    2244.000000\n",
              "mean       -8.102878\n",
              "std         8.042025\n",
              "min       -36.563538\n",
              "25%       -13.401219\n",
              "50%        -8.509844\n",
              "75%        -3.523893\n",
              "max        35.353886\n",
              "Name: diff, dtype: float64"
            ]
          },
          "metadata": {},
          "execution_count": 43
        }
      ]
    },
    {
      "cell_type": "markdown",
      "metadata": {
        "id": "50c95c0b"
      },
      "source": [
        "**Takeaway**: In fourth week of April, we see more than 8% dip in NO2 levels compared to first week of march. For populous also, the dip is around 9%."
      ],
      "id": "50c95c0b"
    },
    {
      "cell_type": "code",
      "metadata": {
        "colab": {
          "base_uri": "https://localhost:8080/"
        },
        "id": "aafc2eab",
        "outputId": "02a3e0eb-bdf3-4b4b-80ca-60d51c8d5f97"
      },
      "source": [
        "week_df[week_df[\"population\"]>=1000000][\"diff\"].describe()"
      ],
      "id": "aafc2eab",
      "execution_count": 44,
      "outputs": [
        {
          "output_type": "execute_result",
          "data": {
            "text/plain": [
              "count    43.000000\n",
              "mean     -9.335782\n",
              "std       7.583696\n",
              "min     -28.619618\n",
              "25%     -12.948560\n",
              "50%      -9.329527\n",
              "75%      -5.820225\n",
              "max      15.889363\n",
              "Name: diff, dtype: float64"
            ]
          },
          "metadata": {},
          "execution_count": 44
        }
      ]
    },
    {
      "cell_type": "code",
      "metadata": {
        "colab": {
          "base_uri": "https://localhost:8080/",
          "height": 514
        },
        "id": "e43e37f2",
        "outputId": "aec972ce-db79-497d-aca1-1fe950d37b11"
      },
      "source": [
        "week_df[week_df[\"population\"]>=2000000]"
      ],
      "id": "e43e37f2",
      "execution_count": 45,
      "outputs": [
        {
          "output_type": "execute_result",
          "data": {
            "text/html": [
              "<div>\n",
              "<style scoped>\n",
              "    .dataframe tbody tr th:only-of-type {\n",
              "        vertical-align: middle;\n",
              "    }\n",
              "\n",
              "    .dataframe tbody tr th {\n",
              "        vertical-align: top;\n",
              "    }\n",
              "\n",
              "    .dataframe thead th {\n",
              "        text-align: right;\n",
              "    }\n",
              "</style>\n",
              "<table border=\"1\" class=\"dataframe\">\n",
              "  <thead>\n",
              "    <tr style=\"text-align: right;\">\n",
              "      <th></th>\n",
              "      <th>location</th>\n",
              "      <th>week_pre</th>\n",
              "      <th>mean_pre</th>\n",
              "      <th>week_post</th>\n",
              "      <th>mean_post</th>\n",
              "      <th>city</th>\n",
              "      <th>population</th>\n",
              "      <th>elevation</th>\n",
              "      <th>diff</th>\n",
              "    </tr>\n",
              "  </thead>\n",
              "  <tbody>\n",
              "    <tr>\n",
              "      <th>6</th>\n",
              "      <td>21.125#79.125</td>\n",
              "      <td>3.2020.week1</td>\n",
              "      <td>2.243551e+15</td>\n",
              "      <td>4.2020.week4</td>\n",
              "      <td>1.995465e+15</td>\n",
              "      <td>Nagpur</td>\n",
              "      <td>2317456</td>\n",
              "      <td>304</td>\n",
              "      <td>-11.057735</td>\n",
              "    </tr>\n",
              "    <tr>\n",
              "      <th>333</th>\n",
              "      <td>17.375#78.375</td>\n",
              "      <td>3.2020.week1</td>\n",
              "      <td>2.258891e+15</td>\n",
              "      <td>4.2020.week4</td>\n",
              "      <td>1.934390e+15</td>\n",
              "      <td>Hyderabad</td>\n",
              "      <td>4117880</td>\n",
              "      <td>551</td>\n",
              "      <td>-14.365478</td>\n",
              "    </tr>\n",
              "    <tr>\n",
              "      <th>879</th>\n",
              "      <td>26.875#80.875</td>\n",
              "      <td>3.2020.week1</td>\n",
              "      <td>2.804243e+15</td>\n",
              "      <td>4.2020.week4</td>\n",
              "      <td>2.311837e+15</td>\n",
              "      <td>Lucknow</td>\n",
              "      <td>2490343</td>\n",
              "      <td>127</td>\n",
              "      <td>-17.559316</td>\n",
              "    </tr>\n",
              "    <tr>\n",
              "      <th>1014</th>\n",
              "      <td>13.125#80.375</td>\n",
              "      <td>3.2020.week1</td>\n",
              "      <td>2.086350e+15</td>\n",
              "      <td>4.2020.week4</td>\n",
              "      <td>1.863067e+15</td>\n",
              "      <td>Chennai</td>\n",
              "      <td>4663073</td>\n",
              "      <td>9</td>\n",
              "      <td>-10.702078</td>\n",
              "    </tr>\n",
              "    <tr>\n",
              "      <th>1025</th>\n",
              "      <td>26.375#80.375</td>\n",
              "      <td>3.2020.week1</td>\n",
              "      <td>2.701722e+15</td>\n",
              "      <td>4.2020.week4</td>\n",
              "      <td>2.319998e+15</td>\n",
              "      <td>Kanpur</td>\n",
              "      <td>2834007</td>\n",
              "      <td>134</td>\n",
              "      <td>-14.128933</td>\n",
              "    </tr>\n",
              "    <tr>\n",
              "      <th>1134</th>\n",
              "      <td>22.625#88.375</td>\n",
              "      <td>3.2020.week1</td>\n",
              "      <td>2.372811e+15</td>\n",
              "      <td>4.2020.week4</td>\n",
              "      <td>2.148988e+15</td>\n",
              "      <td>Kolkata</td>\n",
              "      <td>8539531</td>\n",
              "      <td>9</td>\n",
              "      <td>-9.432796</td>\n",
              "    </tr>\n",
              "    <tr>\n",
              "      <th>1232</th>\n",
              "      <td>22.875#88.375</td>\n",
              "      <td>3.2020.week1</td>\n",
              "      <td>2.431235e+15</td>\n",
              "      <td>4.2020.week4</td>\n",
              "      <td>2.232356e+15</td>\n",
              "      <td>Bhatpara</td>\n",
              "      <td>2641204</td>\n",
              "      <td>13</td>\n",
              "      <td>-8.180170</td>\n",
              "    </tr>\n",
              "    <tr>\n",
              "      <th>1552</th>\n",
              "      <td>28.625#77.125</td>\n",
              "      <td>3.2020.week1</td>\n",
              "      <td>2.571778e+15</td>\n",
              "      <td>4.2020.week4</td>\n",
              "      <td>2.589009e+15</td>\n",
              "      <td>Delhi</td>\n",
              "      <td>12927387</td>\n",
              "      <td>222</td>\n",
              "      <td>0.669974</td>\n",
              "    </tr>\n",
              "    <tr>\n",
              "      <th>1560</th>\n",
              "      <td>26.875#75.875</td>\n",
              "      <td>3.2020.week1</td>\n",
              "      <td>2.604393e+15</td>\n",
              "      <td>4.2020.week4</td>\n",
              "      <td>2.312064e+15</td>\n",
              "      <td>Jaipur</td>\n",
              "      <td>2711758</td>\n",
              "      <td>435</td>\n",
              "      <td>-11.224472</td>\n",
              "    </tr>\n",
              "    <tr>\n",
              "      <th>1627</th>\n",
              "      <td>18.625#73.875</td>\n",
              "      <td>3.2020.week1</td>\n",
              "      <td>2.263108e+15</td>\n",
              "      <td>4.2020.week4</td>\n",
              "      <td>2.075230e+15</td>\n",
              "      <td>Pune</td>\n",
              "      <td>5336520</td>\n",
              "      <td>571</td>\n",
              "      <td>-8.301784</td>\n",
              "    </tr>\n",
              "    <tr>\n",
              "      <th>1653</th>\n",
              "      <td>12.875#77.625</td>\n",
              "      <td>3.2020.week1</td>\n",
              "      <td>2.146913e+15</td>\n",
              "      <td>4.2020.week4</td>\n",
              "      <td>1.920016e+15</td>\n",
              "      <td>Bengaluru</td>\n",
              "      <td>5104047</td>\n",
              "      <td>914</td>\n",
              "      <td>-10.568552</td>\n",
              "    </tr>\n",
              "    <tr>\n",
              "      <th>1774</th>\n",
              "      <td>23.125#72.625</td>\n",
              "      <td>3.2020.week1</td>\n",
              "      <td>2.126055e+15</td>\n",
              "      <td>4.2020.week4</td>\n",
              "      <td>2.463872e+15</td>\n",
              "      <td>Ahmedabad</td>\n",
              "      <td>6569467</td>\n",
              "      <td>59</td>\n",
              "      <td>15.889363</td>\n",
              "    </tr>\n",
              "    <tr>\n",
              "      <th>1845</th>\n",
              "      <td>21.125#72.875</td>\n",
              "      <td>3.2020.week1</td>\n",
              "      <td>2.342843e+15</td>\n",
              "      <td>4.2020.week4</td>\n",
              "      <td>2.149937e+15</td>\n",
              "      <td>Surat</td>\n",
              "      <td>4618763</td>\n",
              "      <td>16</td>\n",
              "      <td>-8.233866</td>\n",
              "    </tr>\n",
              "    <tr>\n",
              "      <th>2001</th>\n",
              "      <td>19.125#73.125</td>\n",
              "      <td>3.2020.week1</td>\n",
              "      <td>2.395228e+15</td>\n",
              "      <td>4.2020.week4</td>\n",
              "      <td>1.764872e+15</td>\n",
              "      <td>Navi Mumbai</td>\n",
              "      <td>5795619</td>\n",
              "      <td>17</td>\n",
              "      <td>-26.317157</td>\n",
              "    </tr>\n",
              "    <tr>\n",
              "      <th>2051</th>\n",
              "      <td>19.125#72.875</td>\n",
              "      <td>3.2020.week1</td>\n",
              "      <td>2.461729e+15</td>\n",
              "      <td>4.2020.week4</td>\n",
              "      <td>1.965986e+15</td>\n",
              "      <td>Mumbai</td>\n",
              "      <td>14682970</td>\n",
              "      <td>22</td>\n",
              "      <td>-20.137997</td>\n",
              "    </tr>\n",
              "  </tbody>\n",
              "</table>\n",
              "</div>"
            ],
            "text/plain": [
              "           location      week_pre  ...  elevation       diff\n",
              "6     21.125#79.125  3.2020.week1  ...        304 -11.057735\n",
              "333   17.375#78.375  3.2020.week1  ...        551 -14.365478\n",
              "879   26.875#80.875  3.2020.week1  ...        127 -17.559316\n",
              "1014  13.125#80.375  3.2020.week1  ...          9 -10.702078\n",
              "1025  26.375#80.375  3.2020.week1  ...        134 -14.128933\n",
              "1134  22.625#88.375  3.2020.week1  ...          9  -9.432796\n",
              "1232  22.875#88.375  3.2020.week1  ...         13  -8.180170\n",
              "1552  28.625#77.125  3.2020.week1  ...        222   0.669974\n",
              "1560  26.875#75.875  3.2020.week1  ...        435 -11.224472\n",
              "1627  18.625#73.875  3.2020.week1  ...        571  -8.301784\n",
              "1653  12.875#77.625  3.2020.week1  ...        914 -10.568552\n",
              "1774  23.125#72.625  3.2020.week1  ...         59  15.889363\n",
              "1845  21.125#72.875  3.2020.week1  ...         16  -8.233866\n",
              "2001  19.125#73.125  3.2020.week1  ...         17 -26.317157\n",
              "2051  19.125#72.875  3.2020.week1  ...         22 -20.137997\n",
              "\n",
              "[15 rows x 9 columns]"
            ]
          },
          "metadata": {},
          "execution_count": 45
        }
      ]
    },
    {
      "cell_type": "markdown",
      "metadata": {
        "id": "34d2dd89"
      },
      "source": [
        "# **Comparison of percentage change between pre and post lockdown dates of 2019 and 2020**\n",
        "Difference of march 1st week in 2019 and march 4th week in 2019 is taken<br>\n",
        "Difference of march 1st week in 2020 and march 4th week in 2020 is taken<br>"
      ],
      "id": "34d2dd89"
    },
    {
      "cell_type": "code",
      "metadata": {
        "colab": {
          "base_uri": "https://localhost:8080/",
          "height": 434
        },
        "id": "5daca79f",
        "outputId": "aff80781-5125-4a26-e553-d461b462252c"
      },
      "source": [
        "week1=\"3.2019.week1\"\n",
        "week2=\"3.2019.week4\"\n",
        "week1_df=metric_df[metric_df[\"week\"]==week1][[\"location\",\"week\",\"mean\"]]\n",
        "week2_df=metric_df[metric_df[\"week\"]==week2][[\"location\",\"week\",\"mean\"]]\n",
        "week_df_2019=week1_df.merge(week2_df,on=\"location\",how=\"inner\",suffixes=[\"_pre\",\"_post\"])\n",
        "week_df_2019[\"diff\"]=(week_df_2019[\"mean_post\"]-week_df_2019[\"mean_pre\"])*100/week_df_2019[\"mean_pre\"]\n",
        "week_df_2019=week_df_2019[[\"location\",\"diff\"]]\n",
        "week1=\"3.2020.week1\"\n",
        "week2=\"3.2020.week4\"\n",
        "week1_df=metric_df[metric_df[\"week\"]==week1][[\"location\",\"week\",\"mean\"]]\n",
        "week2_df=metric_df[metric_df[\"week\"]==week2][[\"location\",\"week\",\"mean\"]]\n",
        "week_df_2020=week1_df.merge(week2_df,on=\"location\",how=\"inner\",suffixes=[\"_pre\",\"_post\"])\n",
        "week_df_2020[\"diff\"]=(week_df_2020[\"mean_post\"]-week_df_2020[\"mean_pre\"])*100/week_df_2020[\"mean_pre\"]\n",
        "week_df_2020=week_df_2020[[\"location\",\"diff\"]]\n",
        "\n",
        "week_df=week_df_2019.merge(week_df_2020,on=\"location\",how=\"inner\",suffixes=[\"_2019\",\"_2020\"])\n",
        "week_df=week_df.merge(cities_df[[\"location\",\"city\",\"population\",\"elevation\"]],on=\"location\",how=\"inner\")\n",
        "\n",
        "print(week_df.describe())\n",
        "\n",
        "plt.hist(week_df[\"diff_2019\"].tolist(),bins=100,label=\"%change in 2019\",color=\"red\",alpha=0.7)\n",
        "plt.hist(week_df[\"diff_2020\"].tolist(),bins=100,label=\"%change in 2020\",color=\"green\",alpha=0.7)\n",
        "plt.legend()\n",
        "plt.title(\"Before vs first week of lockdown\")\n",
        "plt.show()"
      ],
      "id": "5daca79f",
      "execution_count": 46,
      "outputs": [
        {
          "output_type": "stream",
          "name": "stdout",
          "text": [
            "         diff_2019    diff_2020    population    elevation\n",
            "count  2244.000000  2244.000000  2.244000e+03  2244.000000\n",
            "mean      1.029678    -4.090275  1.304085e+05   322.541889\n",
            "std      10.369425     8.823731  5.754583e+05   378.337938\n",
            "min     -29.388298   -31.802118  0.000000e+00 -4990.000000\n",
            "25%      -5.880157   -10.027731  1.905825e+04    91.000000\n",
            "50%       0.243744    -4.676023  3.785200e+04   226.000000\n",
            "75%       7.208050     1.200369  8.350550e+04   440.000000\n",
            "max      51.981130    38.929617  1.468297e+07  3560.000000\n"
          ]
        },
        {
          "output_type": "display_data",
          "data": {
            "image/png": "[encoded data removed]",
            "text/plain": [
              "<Figure size 432x288 with 1 Axes>"
            ]
          },
          "metadata": {
            "needs_background": "light"
          }
        }
      ]
    },
    {
      "cell_type": "markdown",
      "metadata": {
        "id": "NSOVM7etr2xO"
      },
      "source": [
        "Difference of march 1st week in 2019 and april 4th week in 2019 is taken<br>\n",
        "Difference of march 1st week in 2020 and april 4th week in 2020 is taken<br>"
      ],
      "id": "NSOVM7etr2xO"
    },
    {
      "cell_type": "code",
      "metadata": {
        "colab": {
          "base_uri": "https://localhost:8080/",
          "height": 434
        },
        "id": "7f669c06",
        "outputId": "79dcfd30-03ef-4fbe-e643-b92ab3663eb2"
      },
      "source": [
        "week1=\"3.2019.week1\"\n",
        "week2=\"4.2019.week4\"\n",
        "week1_df=metric_df[metric_df[\"week\"]==week1][[\"location\",\"week\",\"mean\"]]\n",
        "week2_df=metric_df[metric_df[\"week\"]==week2][[\"location\",\"week\",\"mean\"]]\n",
        "week_df_2019=week1_df.merge(week2_df,on=\"location\",how=\"inner\",suffixes=[\"_pre\",\"_post\"])\n",
        "week_df_2019[\"diff\"]=(week_df_2019[\"mean_post\"]-week_df_2019[\"mean_pre\"])*100/week_df_2019[\"mean_pre\"]\n",
        "week_df_2019=week_df_2019[[\"location\",\"diff\"]]\n",
        "week1=\"3.2020.week1\"\n",
        "week2=\"4.2020.week4\"\n",
        "week1_df=metric_df[metric_df[\"week\"]==week1][[\"location\",\"week\",\"mean\"]]\n",
        "week2_df=metric_df[metric_df[\"week\"]==week2][[\"location\",\"week\",\"mean\"]]\n",
        "week_df_2020=week1_df.merge(week2_df,on=\"location\",how=\"inner\",suffixes=[\"_pre\",\"_post\"])\n",
        "week_df_2020[\"diff\"]=(week_df_2020[\"mean_post\"]-week_df_2020[\"mean_pre\"])*100/week_df_2020[\"mean_pre\"]\n",
        "week_df_2020=week_df_2020[[\"location\",\"diff\"]]\n",
        "\n",
        "week_df=week_df_2019.merge(week_df_2020,on=\"location\",how=\"inner\",suffixes=[\"_2019\",\"_2020\"])\n",
        "week_df=week_df.merge(cities_df[[\"location\",\"city\",\"population\",\"elevation\"]],on=\"location\",how=\"inner\")\n",
        "\n",
        "print(week_df.describe())\n",
        "\n",
        "plt.hist(week_df[\"diff_2019\"].tolist(),bins=100,label=\"%change in 2019\",color=\"red\",alpha=0.7)\n",
        "plt.hist(week_df[\"diff_2020\"].tolist(),bins=100,label=\"%change in 2020\",color=\"green\",alpha=0.7)\n",
        "plt.legend()\n",
        "plt.title(\"Before vs first week of lockdown\")\n",
        "plt.show()"
      ],
      "id": "7f669c06",
      "execution_count": 47,
      "outputs": [
        {
          "output_type": "stream",
          "name": "stdout",
          "text": [
            "         diff_2019    diff_2020    population    elevation\n",
            "count  2244.000000  2244.000000  2.244000e+03  2244.000000\n",
            "mean      1.922678    -8.102878  1.304085e+05   322.541889\n",
            "std      11.230830     8.042025  5.754583e+05   378.337938\n",
            "min     -29.778396   -36.563538  0.000000e+00 -4990.000000\n",
            "25%      -5.745101   -13.401219  1.905825e+04    91.000000\n",
            "50%       2.241892    -8.509844  3.785200e+04   226.000000\n",
            "75%       9.289722    -3.523893  8.350550e+04   440.000000\n",
            "max      56.326067    35.353886  1.468297e+07  3560.000000\n"
          ]
        },
        {
          "output_type": "display_data",
          "data": {
            "image/png": "[encoded data removed]",
            "text/plain": [
              "<Figure size 432x288 with 1 Axes>"
            ]
          },
          "metadata": {
            "needs_background": "light"
          }
        }
      ]
    },
    {
      "cell_type": "markdown",
      "metadata": {
        "id": "YZTqGNfYr9pH"
      },
      "source": [
        "Difference of march 1st week in 2019 and may 4th week in 2019 is taken<br>\n",
        "Difference of march 1st week in 2020 and may 4th week in 2020 is taken<br>"
      ],
      "id": "YZTqGNfYr9pH"
    },
    {
      "cell_type": "code",
      "metadata": {
        "colab": {
          "base_uri": "https://localhost:8080/",
          "height": 434
        },
        "id": "f771a301",
        "outputId": "1bcc0c94-4824-46f7-be34-b45e820560f4"
      },
      "source": [
        "week1=\"3.2019.week1\"\n",
        "week2=\"5.2019.week4\"\n",
        "week1_df=metric_df[metric_df[\"week\"]==week1][[\"location\",\"week\",\"mean\"]]\n",
        "week2_df=metric_df[metric_df[\"week\"]==week2][[\"location\",\"week\",\"mean\"]]\n",
        "week_df_2019=week1_df.merge(week2_df,on=\"location\",how=\"inner\",suffixes=[\"_pre\",\"_post\"])\n",
        "week_df_2019[\"diff\"]=(week_df_2019[\"mean_post\"]-week_df_2019[\"mean_pre\"])*100/week_df_2019[\"mean_pre\"]\n",
        "week_df_2019=week_df_2019[[\"location\",\"diff\"]]\n",
        "week1=\"3.2020.week1\"\n",
        "week2=\"5.2020.week4\"\n",
        "week1_df=metric_df[metric_df[\"week\"]==week1][[\"location\",\"week\",\"mean\"]]\n",
        "week2_df=metric_df[metric_df[\"week\"]==week2][[\"location\",\"week\",\"mean\"]]\n",
        "week_df_2020=week1_df.merge(week2_df,on=\"location\",how=\"inner\",suffixes=[\"_pre\",\"_post\"])\n",
        "week_df_2020[\"diff\"]=(week_df_2020[\"mean_post\"]-week_df_2020[\"mean_pre\"])*100/week_df_2020[\"mean_pre\"]\n",
        "week_df_2020=week_df_2020[[\"location\",\"diff\"]]\n",
        "\n",
        "week_df=week_df_2019.merge(week_df_2020,on=\"location\",how=\"inner\",suffixes=[\"_2019\",\"_2020\"])\n",
        "week_df=week_df.merge(cities_df[[\"location\",\"city\",\"population\",\"elevation\"]],on=\"location\",how=\"inner\")\n",
        "\n",
        "print(week_df.describe())\n",
        "\n",
        "plt.hist(week_df[\"diff_2019\"].tolist(),bins=100,label=\"%change in 2019\",color=\"red\",alpha=0.7)\n",
        "plt.hist(week_df[\"diff_2020\"].tolist(),bins=100,label=\"%change in 2020\",color=\"green\",alpha=0.7)\n",
        "plt.legend()\n",
        "plt.title(\"Before vs first week of lockdown\")\n",
        "plt.show()"
      ],
      "id": "f771a301",
      "execution_count": 48,
      "outputs": [
        {
          "output_type": "stream",
          "name": "stdout",
          "text": [
            "         diff_2019    diff_2020    population    elevation\n",
            "count  2244.000000  2244.000000  2.244000e+03  2244.000000\n",
            "mean      1.566502    -9.148376  1.304085e+05   322.541889\n",
            "std       9.843238     7.986534  5.754583e+05   378.337938\n",
            "min     -30.375828   -31.286724  0.000000e+00 -4990.000000\n",
            "25%      -5.059591   -14.520222  1.905825e+04    91.000000\n",
            "50%       0.591578    -9.750754  3.785200e+04   226.000000\n",
            "75%       7.244936    -4.141781  8.350550e+04   440.000000\n",
            "max      59.531814    28.250550  1.468297e+07  3560.000000\n"
          ]
        },
        {
          "output_type": "display_data",
          "data": {
            "image/png": "[encoded data removed]",
            "text/plain": [
              "<Figure size 432x288 with 1 Axes>"
            ]
          },
          "metadata": {
            "needs_background": "light"
          }
        }
      ]
    },
    {
      "cell_type": "markdown",
      "metadata": {
        "id": "fefbdf3d"
      },
      "source": [
        "**Takeaway**: The changes in 2019 are positive (although average is 2% maximum). In 2020, the changes are negative, and the average percentage change is more negative when we are deep in the lockdown. It shows that in the lockdown period, in 2020 the NO2 levels decreased by 10% compared to pre-pandemic levels compared to 1-2% increase in 2019."
      ],
      "id": "fefbdf3d"
    },
    {
      "cell_type": "markdown",
      "metadata": {
        "id": "77710fd7"
      },
      "source": [
        "# **Impact of covid-19 on O3 compared to pre-lockdown dates' values** "
      ],
      "id": "77710fd7"
    },
    {
      "cell_type": "markdown",
      "metadata": {
        "id": "ISf9n7dTskea"
      },
      "source": [
        "march 1st week in 2019 and march 4th week in 2019 are taken (non covid year)<br>\n",
        "march 1st week in 2020 and march 4th week in 2020 are taken (covid year)<br>"
      ],
      "id": "ISf9n7dTskea"
    },
    {
      "cell_type": "markdown",
      "metadata": {
        "id": "6069b4ee"
      },
      "source": [
        "The NO2 levels are scaled down by 1.0e+15"
      ],
      "id": "6069b4ee"
    },
    {
      "cell_type": "code",
      "metadata": {
        "colab": {
          "base_uri": "https://localhost:8080/"
        },
        "id": "76bd1874",
        "outputId": "bd38cb20-7764-4122-833a-909e98c2a0b0"
      },
      "source": [
        "week1=\"3.2019.week1\"\n",
        "week2=\"3.2019.week4\"\n",
        "week1_df=metric_df[metric_df[\"week\"]==week1][[\"location\",\"week\",\"mean\"]]\n",
        "week2_df=metric_df[metric_df[\"week\"]==week2][[\"location\",\"week\",\"mean\"]]\n",
        "week_df_2019=week1_df.merge(week2_df,on=\"location\",how=\"inner\",suffixes=[\"_pre\",\"_post\"])\n",
        "week_df_2019=week_df_2019[[\"mean_pre\",\"mean_post\"]]\n",
        "week_df_2019[\"covid\"]=0\n",
        "week1=\"3.2020.week1\"\n",
        "week2=\"3.2020.week4\"\n",
        "week1_df=metric_df[metric_df[\"week\"]==week1][[\"location\",\"week\",\"mean\"]]\n",
        "week2_df=metric_df[metric_df[\"week\"]==week2][[\"location\",\"week\",\"mean\"]]\n",
        "week_df_2020=week1_df.merge(week2_df,on=\"location\",how=\"inner\",suffixes=[\"_pre\",\"_post\"])\n",
        "week_df_2020=week_df_2020[[\"mean_pre\",\"mean_post\"]]\n",
        "week_df_2020[\"covid\"]=1\n",
        "\n",
        "week_df=week_df_2019.append(week_df_2020)\n",
        "week_df[\"mean_pre\"]=round(week_df[\"mean_pre\"]/1.0e+15,2)\n",
        "week_df[\"mean_post\"]=round(week_df[\"mean_post\"]/1.0e+15,2)\n",
        "result = sm.ols(formula=\"mean_post ~ mean_pre + covid\", data=week_df).fit()\n",
        "print(result.summary())"
      ],
      "id": "76bd1874",
      "execution_count": 49,
      "outputs": [
        {
          "output_type": "stream",
          "name": "stdout",
          "text": [
            "                            OLS Regression Results                            \n",
            "==============================================================================\n",
            "Dep. Variable:              mean_post   R-squared:                       0.497\n",
            "Model:                            OLS   Adj. R-squared:                  0.497\n",
            "Method:                 Least Squares   F-statistic:                     2219.\n",
            "Date:                Wed, 03 Nov 2021   Prob (F-statistic):               0.00\n",
            "Time:                        09:50:35   Log-Likelihood:                 1055.4\n",
            "No. Observations:                4490   AIC:                            -2105.\n",
            "Df Residuals:                    4487   BIC:                            -2086.\n",
            "Df Model:                           2                                         \n",
            "Covariance Type:            nonrobust                                         \n",
            "==============================================================================\n",
            "                 coef    std err          t      P>|t|      [0.025      0.975]\n",
            "------------------------------------------------------------------------------\n",
            "Intercept      0.8767      0.022     39.489      0.000       0.833       0.920\n",
            "mean_pre       0.6236      0.009     66.007      0.000       0.605       0.642\n",
            "covid         -0.0560      0.006     -9.432      0.000      -0.068      -0.044\n",
            "==============================================================================\n",
            "Omnibus:                       15.674   Durbin-Watson:                   1.476\n",
            "Prob(Omnibus):                  0.000   Jarque-Bera (JB):               16.784\n",
            "Skew:                          -0.108   Prob(JB):                     0.000227\n",
            "Kurtosis:                       3.207   Cond. No.                         22.5\n",
            "==============================================================================\n",
            "\n",
            "Warnings:\n",
            "[1] Standard Errors assume that the covariance matrix of the errors is correctly specified.\n"
          ]
        }
      ]
    },
    {
      "cell_type": "markdown",
      "metadata": {
        "id": "SUu-vPvmsxjS"
      },
      "source": [
        "march 1st week in 2019 and april 4th week in 2019 are taken (non covid year)<br>\n",
        "march 1st week in 2020 and april 4th week in 2020 are taken (covid year)<br>"
      ],
      "id": "SUu-vPvmsxjS"
    },
    {
      "cell_type": "code",
      "metadata": {
        "colab": {
          "base_uri": "https://localhost:8080/"
        },
        "id": "c1662189",
        "outputId": "2d921303-e354-488f-c568-370d98b53f52"
      },
      "source": [
        "week1=\"3.2019.week1\"\n",
        "week2=\"4.2019.week4\"\n",
        "week1_df=metric_df[metric_df[\"week\"]==week1][[\"location\",\"week\",\"mean\"]]\n",
        "week2_df=metric_df[metric_df[\"week\"]==week2][[\"location\",\"week\",\"mean\"]]\n",
        "week_df_2019=week1_df.merge(week2_df,on=\"location\",how=\"inner\",suffixes=[\"_pre\",\"_post\"])\n",
        "week_df_2019=week_df_2019[[\"mean_pre\",\"mean_post\"]]\n",
        "week_df_2019[\"covid\"]=0\n",
        "week1=\"3.2020.week1\"\n",
        "week2=\"4.2020.week4\"\n",
        "week1_df=metric_df[metric_df[\"week\"]==week1][[\"location\",\"week\",\"mean\"]]\n",
        "week2_df=metric_df[metric_df[\"week\"]==week2][[\"location\",\"week\",\"mean\"]]\n",
        "week_df_2020=week1_df.merge(week2_df,on=\"location\",how=\"inner\",suffixes=[\"_pre\",\"_post\"])\n",
        "week_df_2020=week_df_2020[[\"mean_pre\",\"mean_post\"]]\n",
        "week_df_2020[\"covid\"]=1\n",
        "\n",
        "week_df=week_df_2019.append(week_df_2020)\n",
        "week_df[\"mean_pre\"]=round(week_df[\"mean_pre\"]/1.0e+15,2)\n",
        "week_df[\"mean_post\"]=round(week_df[\"mean_post\"]/1.0e+15,2)\n",
        "result = sm.ols(formula=\"mean_post ~ mean_pre + covid\", data=week_df).fit()\n",
        "print(result.summary())"
      ],
      "id": "c1662189",
      "execution_count": 50,
      "outputs": [
        {
          "output_type": "stream",
          "name": "stdout",
          "text": [
            "                            OLS Regression Results                            \n",
            "==============================================================================\n",
            "Dep. Variable:              mean_post   R-squared:                       0.465\n",
            "Model:                            OLS   Adj. R-squared:                  0.465\n",
            "Method:                 Least Squares   F-statistic:                     1953.\n",
            "Date:                Wed, 03 Nov 2021   Prob (F-statistic):               0.00\n",
            "Time:                        09:50:35   Log-Likelihood:                 972.51\n",
            "No. Observations:                4490   AIC:                            -1939.\n",
            "Df Residuals:                    4487   BIC:                            -1920.\n",
            "Df Model:                           2                                         \n",
            "Covariance Type:            nonrobust                                         \n",
            "==============================================================================\n",
            "                 coef    std err          t      P>|t|      [0.025      0.975]\n",
            "------------------------------------------------------------------------------\n",
            "Intercept      0.9621      0.023     42.545      0.000       0.918       1.006\n",
            "mean_pre       0.5934      0.010     61.652      0.000       0.574       0.612\n",
            "covid         -0.1617      0.006    -26.729      0.000      -0.174      -0.150\n",
            "==============================================================================\n",
            "Omnibus:                        5.043   Durbin-Watson:                   1.470\n",
            "Prob(Omnibus):                  0.080   Jarque-Bera (JB):                5.196\n",
            "Skew:                          -0.053   Prob(JB):                       0.0744\n",
            "Kurtosis:                       3.128   Cond. No.                         22.5\n",
            "==============================================================================\n",
            "\n",
            "Warnings:\n",
            "[1] Standard Errors assume that the covariance matrix of the errors is correctly specified.\n"
          ]
        }
      ]
    },
    {
      "cell_type": "markdown",
      "metadata": {
        "id": "FXMZJFZQs3E9"
      },
      "source": [
        "march 1st week in 2019 and may 4th week in 2019 are taken (non covid year)<br>\n",
        "march 1st week in 2020 and may 4th week in 2020 are taken (covid year)<br>"
      ],
      "id": "FXMZJFZQs3E9"
    },
    {
      "cell_type": "code",
      "metadata": {
        "scrolled": true,
        "colab": {
          "base_uri": "https://localhost:8080/"
        },
        "id": "afd3b778",
        "outputId": "81d9a7f3-b5bb-42df-ccdc-77ac35d34d6c"
      },
      "source": [
        "week1=\"3.2019.week1\"\n",
        "week2=\"5.2019.week4\"\n",
        "week1_df=metric_df[metric_df[\"week\"]==week1][[\"location\",\"week\",\"mean\"]]\n",
        "week2_df=metric_df[metric_df[\"week\"]==week2][[\"location\",\"week\",\"mean\"]]\n",
        "week_df_2019=week1_df.merge(week2_df,on=\"location\",how=\"inner\",suffixes=[\"_pre\",\"_post\"])\n",
        "week_df_2019=week_df_2019[[\"mean_pre\",\"mean_post\"]]\n",
        "week_df_2019[\"covid\"]=0\n",
        "week1=\"3.2020.week1\"\n",
        "week2=\"5.2020.week4\"\n",
        "week1_df=metric_df[metric_df[\"week\"]==week1][[\"location\",\"week\",\"mean\"]]\n",
        "week2_df=metric_df[metric_df[\"week\"]==week2][[\"location\",\"week\",\"mean\"]]\n",
        "week_df_2020=week1_df.merge(week2_df,on=\"location\",how=\"inner\",suffixes=[\"_pre\",\"_post\"])\n",
        "week_df_2020=week_df_2020[[\"mean_pre\",\"mean_post\"]]\n",
        "week_df_2020[\"covid\"]=1\n",
        "\n",
        "week_df=week_df_2019.append(week_df_2020)\n",
        "week_df[\"mean_pre\"]=round(week_df[\"mean_pre\"]/1.0e+15,2)\n",
        "week_df[\"mean_post\"]=round(week_df[\"mean_post\"]/1.0e+15,2)\n",
        "result = sm.ols(formula=\"mean_post ~ mean_pre + covid\", data=week_df).fit()\n",
        "print(result.summary())"
      ],
      "id": "afd3b778",
      "execution_count": 51,
      "outputs": [
        {
          "output_type": "stream",
          "name": "stdout",
          "text": [
            "                            OLS Regression Results                            \n",
            "==============================================================================\n",
            "Dep. Variable:              mean_post   R-squared:                       0.532\n",
            "Model:                            OLS   Adj. R-squared:                  0.532\n",
            "Method:                 Least Squares   F-statistic:                     2552.\n",
            "Date:                Wed, 03 Nov 2021   Prob (F-statistic):               0.00\n",
            "Time:                        09:50:36   Log-Likelihood:                 1823.4\n",
            "No. Observations:                4490   AIC:                            -3641.\n",
            "Df Residuals:                    4487   BIC:                            -3622.\n",
            "Df Model:                           2                                         \n",
            "Covariance Type:            nonrobust                                         \n",
            "==============================================================================\n",
            "                 coef    std err          t      P>|t|      [0.025      0.975]\n",
            "------------------------------------------------------------------------------\n",
            "Intercept      1.0544      0.019     56.355      0.000       1.018       1.091\n",
            "mean_pre       0.5509      0.008     69.189      0.000       0.535       0.567\n",
            "covid         -0.1805      0.005    -36.067      0.000      -0.190      -0.171\n",
            "==============================================================================\n",
            "Omnibus:                       27.555   Durbin-Watson:                   1.549\n",
            "Prob(Omnibus):                  0.000   Jarque-Bera (JB):               39.182\n",
            "Skew:                           0.041   Prob(JB):                     3.10e-09\n",
            "Kurtosis:                       3.450   Cond. No.                         22.5\n",
            "==============================================================================\n",
            "\n",
            "Warnings:\n",
            "[1] Standard Errors assume that the covariance matrix of the errors is correctly specified.\n"
          ]
        }
      ]
    },
    {
      "cell_type": "markdown",
      "metadata": {
        "id": "2f0c76f4"
      },
      "source": [
        "**Takeaway**: *The negative coefficient of covid indicator variable shows that in the covid-year the NO2 levels declined during lockdowns compared to pre-lockdown levels. As the lockdown progresses, the dip even got bigger and increased by 3-4 times. Clearly, covid-19 related lockdowns lead to reduction in NO2 levels.*"
      ],
      "id": "2f0c76f4"
    },
    {
      "cell_type": "code",
      "metadata": {
        "id": "8973d93f"
      },
      "source": [
        ""
      ],
      "id": "8973d93f",
      "execution_count": 51,
      "outputs": []
    }
  ]
}