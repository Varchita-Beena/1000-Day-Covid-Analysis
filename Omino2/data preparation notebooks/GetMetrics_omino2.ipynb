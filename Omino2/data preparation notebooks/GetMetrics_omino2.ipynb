{
  "nbformat": 4,
  "nbformat_minor": 5,
  "metadata": {
    "kernelspec": {
      "display_name": "Python 3 (ipykernel)",
      "language": "python",
      "name": "python3"
    },
    "language_info": {
      "codemirror_mode": {
        "name": "ipython",
        "version": 3
      },
      "file_extension": ".py",
      "mimetype": "text/x-python",
      "name": "python",
      "nbconvert_exporter": "python",
      "pygments_lexer": "ipython3",
      "version": "3.9.7"
    },
    "colab": {
      "name": "GetMetrics_omino2.ipynb",
      "provenance": []
    }
  },
  "cells": [
    {
      "cell_type": "code",
      "metadata": {
        "id": "691a266a"
      },
      "source": [
        "import h5py\n",
        "import numpy as np\n",
        "import os"
      ],
      "id": "691a266a",
      "execution_count": null,
      "outputs": []
    },
    {
      "cell_type": "code",
      "metadata": {
        "id": "00a819eb"
      },
      "source": [
        "GRANULES_PATH=\"omino2/OMNO2dv003/\"# path for OMNO2dv003 data\n",
        "OUTPUT_PATH=\"data/\" # path to store csv files"
      ],
      "id": "00a819eb",
      "execution_count": null,
      "outputs": []
    },
    {
      "cell_type": "code",
      "metadata": {
        "id": "85e2ad57"
      },
      "source": [
        "granules=os.listdir(GRANULES_PATH)"
      ],
      "id": "85e2ad57",
      "execution_count": null,
      "outputs": []
    },
    {
      "cell_type": "code",
      "metadata": {
        "id": "32a7d5bf"
      },
      "source": [
        "def traverse_datasets(hdf_file):\n",
        "\n",
        "    def h5py_dataset_iterator(g, prefix=''):\n",
        "        for key in g.keys():\n",
        "            item = g[key]\n",
        "            path = f'{prefix}/{key}'\n",
        "            if isinstance(item, h5py.Dataset): # test for dataset\n",
        "                yield (path, item)\n",
        "            elif isinstance(item, h5py.Group): # test for group (go down)\n",
        "                yield from h5py_dataset_iterator(item, path)\n",
        "\n",
        "    for path, _ in h5py_dataset_iterator(hdf_file):\n",
        "        yield path"
      ],
      "id": "32a7d5bf",
      "execution_count": null,
      "outputs": []
    },
    {
      "cell_type": "code",
      "metadata": {
        "id": "692fbc4a",
        "outputId": "805b89cc-88da-4b6a-8e8b-a0e4d5d6bf88"
      },
      "source": [
        "data=[]\n",
        "with h5py.File(GRANULES_PATH+granules[0], \"r\") as f:\n",
        "    for dset in traverse_datasets(f):\n",
        "        print('Path:', dset)\n",
        "        print('Shape:', f[dset].shape)\n",
        "        print('Data type:', f[dset].dtype)\n",
        "        data.append([dset.split(\"/\")[-1],str(len(f[dset].shape)),\"#\".join([str(i) for i in f[dset].shape]),dset])"
      ],
      "id": "692fbc4a",
      "execution_count": null,
      "outputs": [
        {
          "name": "stdout",
          "output_type": "stream",
          "text": [
            "Path: /HDFEOS/GRIDS/ColumnAmountNO2/Data Fields/ColumnAmountNO2\n",
            "Shape: (720, 1440)\n",
            "Data type: float32\n",
            "Path: /HDFEOS/GRIDS/ColumnAmountNO2/Data Fields/ColumnAmountNO2CloudScreened\n",
            "Shape: (720, 1440)\n",
            "Data type: float32\n",
            "Path: /HDFEOS/GRIDS/ColumnAmountNO2/Data Fields/ColumnAmountNO2Trop\n",
            "Shape: (720, 1440)\n",
            "Data type: float32\n",
            "Path: /HDFEOS/GRIDS/ColumnAmountNO2/Data Fields/ColumnAmountNO2TropCloudScreened\n",
            "Shape: (720, 1440)\n",
            "Data type: float32\n",
            "Path: /HDFEOS/GRIDS/ColumnAmountNO2/Data Fields/Weight\n",
            "Shape: (720, 1440)\n",
            "Data type: float32\n",
            "Path: /HDFEOS INFORMATION/StructMetadata.0\n",
            "Shape: ()\n",
            "Data type: |S32000\n"
          ]
        }
      ]
    },
    {
      "cell_type": "code",
      "metadata": {
        "id": "7d465076"
      },
      "source": [
        "fp=open(OUTPUT_PATH+\"metrics_omino2.csv\",\"w\")\n",
        "fp.write(\",\".join([\"metric\",\"dimensions\",\"shape\",\"path\"])+\"\\n\")\n",
        "fp.write(\"\\n\".join([\",\".join(vector) for vector in data]))\n",
        "fp.close()"
      ],
      "id": "7d465076",
      "execution_count": null,
      "outputs": []
    },
    {
      "cell_type": "code",
      "metadata": {
        "id": "a6e44274",
        "outputId": "84dabbf5-132d-4a32-f9a3-54d3f496c20b"
      },
      "source": [
        "f=h5py.File(GRANULES_PATH+granules[0], \"r\")\n",
        "f[\"/HDFEOS INFORMATION/StructMetadata.0\"][()]"
      ],
      "id": "a6e44274",
      "execution_count": null,
      "outputs": [
        {
          "data": {
            "text/plain": [
              "b'GROUP=SwathStructure\\nEND_GROUP=SwathStructure\\nGROUP=GridStructure\\n\\tGROUP=GRID_1\\n\\t\\tGridName=\"ColumnAmountNO2\"\\n\\t\\tXDim=1440\\n\\t\\tYDim=720\\n\\t\\tUpperLeftPointMtrs=(-180000000.000000,-90000000.000000)\\n\\t\\tLowerRightMtrs=(180000000.000000,90000000.000000)\\n\\t\\tPixelRegistration=HE5_HDFE_CENTER\\n\\t\\tProjection=HE5_GCTP_GEO\\n\\t\\tGROUP=Dimension\\n\\t\\t\\tOBJECT=Dimension_1\\n\\t\\t\\t\\tDimensionName=\"XDim\"\\n\\t\\t\\t\\tSize=1440\\n\\t\\t\\tEND_OBJECT=Dimension_1\\n\\t\\t\\tOBJECT=Dimension_2\\n\\t\\t\\t\\tDimensionName=\"YDim\"\\n\\t\\t\\t\\tSize=720\\n\\t\\t\\tEND_OBJECT=Dimension_2\\n\\t\\tEND_GROUP=Dimension\\n\\t\\tGROUP=DataField\\n\\t\\t\\tOBJECT=DataField_1\\n\\t\\t\\t\\tDataFieldName=\"ColumnAmountNO2\"\\n\\t\\t\\t\\tDataType=H5T_NATIVE_FLOAT\\n\\t\\t\\t\\tDimList=(\"YDim\",\"XDim\")\\n\\t\\t\\t\\tMaxdimList=(\"YDim\",\"XDim\")\\n\\t\\t\\t\\tCompressionType=HE5_HDFE_COMP_DEFLATE\\n\\t\\t\\t\\tDeflateLevel=9\\n\\t\\t\\tEND_OBJECT=DataField_1\\n\\t\\t\\tOBJECT=DataField_2\\n\\t\\t\\t\\tDataFieldName=\"ColumnAmountNO2CloudScreened\"\\n\\t\\t\\t\\tDataType=H5T_NATIVE_FLOAT\\n\\t\\t\\t\\tDimList=(\"YDim\",\"XDim\")\\n\\t\\t\\t\\tMaxdimList=(\"YDim\",\"XDim\")\\n\\t\\t\\t\\tCompressionType=HE5_HDFE_COMP_DEFLATE\\n\\t\\t\\t\\tDeflateLevel=9\\n\\t\\t\\tEND_OBJECT=DataField_2\\n\\t\\t\\tOBJECT=DataField_3\\n\\t\\t\\t\\tDataFieldName=\"ColumnAmountNO2Trop\"\\n\\t\\t\\t\\tDataType=H5T_NATIVE_FLOAT\\n\\t\\t\\t\\tDimList=(\"YDim\",\"XDim\")\\n\\t\\t\\t\\tMaxdimList=(\"YDim\",\"XDim\")\\n\\t\\t\\t\\tCompressionType=HE5_HDFE_COMP_DEFLATE\\n\\t\\t\\t\\tDeflateLevel=9\\n\\t\\t\\tEND_OBJECT=DataField_3\\n\\t\\t\\tOBJECT=DataField_4\\n\\t\\t\\t\\tDataFieldName=\"ColumnAmountNO2TropCloudScreened\"\\n\\t\\t\\t\\tDataType=H5T_NATIVE_FLOAT\\n\\t\\t\\t\\tDimList=(\"YDim\",\"XDim\")\\n\\t\\t\\t\\tMaxdimList=(\"YDim\",\"XDim\")\\n\\t\\t\\t\\tCompressionType=HE5_HDFE_COMP_DEFLATE\\n\\t\\t\\t\\tDeflateLevel=9\\n\\t\\t\\tEND_OBJECT=DataField_4\\n\\t\\t\\tOBJECT=DataField_5\\n\\t\\t\\t\\tDataFieldName=\"Weight\"\\n\\t\\t\\t\\tDataType=H5T_NATIVE_INT\\n\\t\\t\\t\\tDimList=(\"YDim\",\"XDim\")\\n\\t\\t\\t\\tMaxdimList=(\"YDim\",\"XDim\")\\n\\t\\t\\t\\tCompressionType=HE5_HDFE_COMP_DEFLATE\\n\\t\\t\\t\\tDeflateLevel=9\\n\\t\\t\\tEND_OBJECT=DataField_5\\n\\t\\tEND_GROUP=DataField\\n\\t\\tGROUP=MergedFields\\n\\t\\tEND_GROUP=MergedFields\\n\\tEND_GROUP=GRID_1\\nEND_GROUP=GridStructure\\nGROUP=PointStructure\\nEND_GROUP=PointStructure\\nGROUP=ZaStructure\\nEND_GROUP=ZaStructure\\nEND'"
            ]
          },
          "execution_count": 7,
          "metadata": {},
          "output_type": "execute_result"
        }
      ]
    },
    {
      "cell_type": "code",
      "metadata": {
        "id": "2042e854",
        "outputId": "dfbda3c2-de07-48b1-872d-39c1bd6572c2"
      },
      "source": [
        "list(f[\"HDFEOS\"][\"ADDITIONAL\"][\"FILE_ATTRIBUTES\"].keys())"
      ],
      "id": "2042e854",
      "execution_count": null,
      "outputs": [
        {
          "data": {
            "text/plain": [
              "[]"
            ]
          },
          "execution_count": 8,
          "metadata": {},
          "output_type": "execute_result"
        }
      ]
    },
    {
      "cell_type": "code",
      "metadata": {
        "id": "9b0af572"
      },
      "source": [
        "a=np.array(f[\"/HDFEOS/GRIDS/ColumnAmountNO2/Data Fields/ColumnAmountNO2\"])"
      ],
      "id": "9b0af572",
      "execution_count": null,
      "outputs": []
    },
    {
      "cell_type": "code",
      "metadata": {
        "id": "0c214883",
        "outputId": "567b7460-36ff-433f-e408-8d06f15203a3"
      },
      "source": [
        "f=h5py.File(GRANULES_PATH+granules[5], \"r\")\n",
        "a=np.array(f[\"/HDFEOS/GRIDS/ColumnAmountNO2/Data Fields/ColumnAmountNO2\"])\n",
        "b=a[np.where(a>-9999)]\n",
        "#b=a\n",
        "print(np.min(b),np.percentile(b,10),np.mean(b),np.max(b),np.percentile(b,90))"
      ],
      "id": "0c214883",
      "execution_count": null,
      "outputs": [
        {
          "name": "stdout",
          "output_type": "stream",
          "text": [
            "873871050000.0 1769413085128294.5 3288760300000000.0 7.274978e+16 4758997924891853.0\n"
          ]
        }
      ]
    },
    {
      "cell_type": "code",
      "metadata": {
        "id": "962fe616"
      },
      "source": [
        ""
      ],
      "id": "962fe616",
      "execution_count": null,
      "outputs": []
    }
  ]
}